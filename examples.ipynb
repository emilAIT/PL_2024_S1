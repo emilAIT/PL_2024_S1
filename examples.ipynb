{
  "cells": [
    {
      "cell_type": "code",
      "execution_count": 2,
      "metadata": {},
      "outputs": [
        {
          "name": "stdout",
          "output_type": "stream",
          "text": [
            "a =  10\n"
          ]
        }
      ],
      "source": [
        "a = 10\n",
        "print('a = ', a)"
      ]
    },
    {
      "cell_type": "code",
      "execution_count": 3,
      "metadata": {},
      "outputs": [
        {
          "name": "stdout",
          "output_type": "stream",
          "text": [
            "emilemilemilemilemilemilemilemilemilemil\n"
          ]
        }
      ],
      "source": [
        "a = 'emil'\n",
        "b = 10\n",
        "print(a * b)"
      ]
    },
    {
      "cell_type": "code",
      "execution_count": 4,
      "metadata": {},
      "outputs": [
        {
          "name": "stdout",
          "output_type": "stream",
          "text": [
            "emilemilemilemilemilemilemilemilemilemil\n"
          ]
        }
      ],
      "source": [
        "print(b * a)"
      ]
    },
    {
      "cell_type": "code",
      "execution_count": 5,
      "metadata": {},
      "outputs": [],
      "source": [
        "emil = 10\n",
        "emil0 = 20"
      ]
    },
    {
      "cell_type": "code",
      "execution_count": 6,
      "metadata": {},
      "outputs": [
        {
          "name": "stdout",
          "output_type": "stream",
          "text": [
            "emil\n"
          ]
        }
      ],
      "source": [
        "print('emil')\n",
        "#print(emil + emil2)"
      ]
    },
    {
      "cell_type": "code",
      "execution_count": 7,
      "metadata": {},
      "outputs": [
        {
          "ename": "NameError",
          "evalue": "name 'emil2' is not defined",
          "output_type": "error",
          "traceback": [
            "\u001b[1;31m---------------------------------------------------------------------------\u001b[0m",
            "\u001b[1;31mNameError\u001b[0m                                 Traceback (most recent call last)",
            "Cell \u001b[1;32mIn[7], line 1\u001b[0m\n\u001b[1;32m----> 1\u001b[0m \u001b[38;5;28mprint\u001b[39m(emil \u001b[38;5;241m+\u001b[39m \u001b[43memil2\u001b[49m)\n",
            "\u001b[1;31mNameError\u001b[0m: name 'emil2' is not defined"
          ]
        }
      ],
      "source": [
        "print(emil + emil2)"
      ]
    },
    {
      "cell_type": "code",
      "execution_count": 8,
      "metadata": {},
      "outputs": [
        {
          "name": "stdout",
          "output_type": "stream",
          "text": [
            "20\n"
          ]
        }
      ],
      "source": [
        "print(b + emil)"
      ]
    },
    {
      "cell_type": "code",
      "execution_count": 9,
      "metadata": {},
      "outputs": [
        {
          "data": {
            "text/plain": [
              "'emil'"
            ]
          },
          "execution_count": 9,
          "metadata": {},
          "output_type": "execute_result"
        }
      ],
      "source": [
        "a"
      ]
    },
    {
      "cell_type": "code",
      "execution_count": 10,
      "metadata": {},
      "outputs": [
        {
          "data": {
            "text/plain": [
              "10"
            ]
          },
          "execution_count": 10,
          "metadata": {},
          "output_type": "execute_result"
        }
      ],
      "source": [
        "emil"
      ]
    },
    {
      "cell_type": "code",
      "execution_count": 11,
      "metadata": {},
      "outputs": [
        {
          "ename": "TypeError",
          "evalue": "can only concatenate str (not \"int\") to str",
          "output_type": "error",
          "traceback": [
            "\u001b[1;31m---------------------------------------------------------------------------\u001b[0m",
            "\u001b[1;31mTypeError\u001b[0m                                 Traceback (most recent call last)",
            "Cell \u001b[1;32mIn[11], line 1\u001b[0m\n\u001b[1;32m----> 1\u001b[0m \u001b[38;5;28mprint\u001b[39m(a, emil, \u001b[43ma\u001b[49m\u001b[43m \u001b[49m\u001b[38;5;241;43m+\u001b[39;49m\u001b[43m \u001b[49m\u001b[43memil\u001b[49m)\n",
            "\u001b[1;31mTypeError\u001b[0m: can only concatenate str (not \"int\") to str"
          ]
        }
      ],
      "source": [
        "print(a, emil, a + emil)"
      ]
    },
    {
      "cell_type": "code",
      "execution_count": 91,
      "metadata": {},
      "outputs": [
        {
          "name": "stdout",
          "output_type": "stream",
          "text": [
            "10 <class 'int'>\n",
            "emil <class 'str'>\n"
          ]
        }
      ],
      "source": [
        "#print(sm, type(sm))\n",
        "sm = 10\n",
        "print(sm, type(sm))\n",
        "sm = 'emil'\n",
        "print(sm, type(sm))"
      ]
    },
    {
      "cell_type": "code",
      "execution_count": 16,
      "metadata": {},
      "outputs": [
        {
          "name": "stdout",
          "output_type": "stream",
          "text": [
            "c\n"
          ]
        }
      ],
      "source": [
        "print(a[-1])"
      ]
    },
    {
      "cell_type": "code",
      "execution_count": 17,
      "metadata": {},
      "outputs": [
        {
          "name": "stdout",
          "output_type": "stream",
          "text": [
            "7\n"
          ]
        }
      ],
      "source": [
        "a = 'student'\n",
        "print(len(a))"
      ]
    },
    {
      "cell_type": "code",
      "execution_count": 18,
      "metadata": {},
      "outputs": [
        {
          "ename": "IndexError",
          "evalue": "string index out of range",
          "output_type": "error",
          "traceback": [
            "\u001b[1;31m---------------------------------------------------------------------------\u001b[0m",
            "\u001b[1;31mIndexError\u001b[0m                                Traceback (most recent call last)",
            "Cell \u001b[1;32mIn[18], line 1\u001b[0m\n\u001b[1;32m----> 1\u001b[0m \u001b[38;5;28mprint\u001b[39m(\u001b[43ma\u001b[49m\u001b[43m[\u001b[49m\u001b[38;5;241;43m7\u001b[39;49m\u001b[43m]\u001b[49m)\n",
            "\u001b[1;31mIndexError\u001b[0m: string index out of range"
          ]
        }
      ],
      "source": [
        "print(a[7])"
      ]
    },
    {
      "cell_type": "code",
      "execution_count": 28,
      "metadata": {},
      "outputs": [
        {
          "ename": "TypeError",
          "evalue": "string indices must be integers, not 'float'",
          "output_type": "error",
          "traceback": [
            "\u001b[1;31m---------------------------------------------------------------------------\u001b[0m",
            "\u001b[1;31mTypeError\u001b[0m                                 Traceback (most recent call last)",
            "Cell \u001b[1;32mIn[28], line 2\u001b[0m\n\u001b[0;32m      1\u001b[0m a \u001b[38;5;241m=\u001b[39m \u001b[38;5;124m'\u001b[39m\u001b[38;5;124mstudentbek\u001b[39m\u001b[38;5;124m'\u001b[39m\n\u001b[1;32m----> 2\u001b[0m \u001b[38;5;28mprint\u001b[39m(\u001b[43ma\u001b[49m\u001b[43m[\u001b[49m\u001b[38;5;28;43mlen\u001b[39;49m\u001b[43m(\u001b[49m\u001b[43ma\u001b[49m\u001b[43m)\u001b[49m\u001b[38;5;241;43m/\u001b[39;49m\u001b[38;5;241;43m2\u001b[39;49m\u001b[43m]\u001b[49m)\n\u001b[0;32m      3\u001b[0m \u001b[38;5;66;03m#print('last character = ', a[len(a) - 1])\u001b[39;00m\n",
            "\u001b[1;31mTypeError\u001b[0m: string indices must be integers, not 'float'"
          ]
        }
      ],
      "source": [
        "a = 'studentbek'\n",
        "print(a[len(a)/2])\n",
        "#print('last character = ', a[len(a) - 1])"
      ]
    },
    {
      "cell_type": "code",
      "execution_count": 31,
      "metadata": {},
      "outputs": [
        {
          "name": "stdout",
          "output_type": "stream",
          "text": [
            "5.5 5 5\n"
          ]
        }
      ],
      "source": [
        "print( 11 / 2, 11 // 2, int(11 / 2))"
      ]
    },
    {
      "cell_type": "code",
      "execution_count": 35,
      "metadata": {},
      "outputs": [
        {
          "name": "stdout",
          "output_type": "stream",
          "text": [
            "10\n"
          ]
        }
      ],
      "source": [
        "print(round(10.50))"
      ]
    },
    {
      "cell_type": "code",
      "execution_count": 39,
      "metadata": {},
      "outputs": [
        {
          "name": "stdout",
          "output_type": "stream",
          "text": [
            "xxxxxxxxxx\n"
          ]
        }
      ],
      "source": [
        "if 10 < 2:\n",
        " print('pravilno')\n",
        "else:\n",
        "    a = 10\n",
        "    print('x' * 10)"
      ]
    },
    {
      "cell_type": "code",
      "execution_count": 44,
      "metadata": {},
      "outputs": [
        {
          "name": "stdout",
          "output_type": "stream",
          "text": [
            "ploho\n",
            "40.0\n"
          ]
        }
      ],
      "source": [
        "student1 = 10\n",
        "student2 = 10\n",
        "student3 = 100\n",
        "\n",
        "r = (student1 + student2 + student3) / 3\n",
        "\n",
        "if r >= 70:\n",
        "    print('horosho')\n",
        "else:\n",
        "    print('ploho')\n",
        "\n",
        "print(r)\n"
      ]
    },
    {
      "cell_type": "code",
      "execution_count": 81,
      "metadata": {},
      "outputs": [],
      "source": []
    },
    {
      "cell_type": "code",
      "execution_count": 84,
      "metadata": {},
      "outputs": [
        {
          "name": "stdout",
          "output_type": "stream",
          "text": [
            "summa =  -3\n",
            "exam is today\n"
          ]
        }
      ],
      "source": [
        "# proveryayem summu studentov\n",
        "s1, s2, s3, s4, s5, s6, s7, s8, s9, s10 = 1, 1, 1, 1, 1, 1, 1, -10, 0, 0\n",
        "summa = s1 + s2 + s3 + s4 + s5 + s6 + s7 + s8 + s9 + s10\n",
        "print('summa = ', summa)\n",
        "if s1 > 1 or s2 > 1 or s3 > 1 or s4 > 1 or s5 > 1 or s6 > 1 or s7 > 1 or s8 > 1 or s9 > 1 or s10 > 1:\n",
        "    print('julnichuyut odin ili bolshe studentov pdnyal(i) dve ruki')\n",
        "elif summa > 10:\n",
        "    print('julnichuyut')\n",
        "elif summa == 10:\n",
        "    print('No exam')\n",
        "elif summa < 10 and summa >= 8:\n",
        "    print('exam is tomorrow')\n",
        "elif summa >= 5 and summa < 8:\n",
        "    print('exam is day after tomorrow')\n",
        "else: \n",
        "    print('exam is today') "
      ]
    },
    {
      "cell_type": "code",
      "execution_count": 92,
      "metadata": {},
      "outputs": [
        {
          "name": "stdout",
          "output_type": "stream",
          "text": [
            "not normal\n",
            "not normal\n"
          ]
        }
      ],
      "source": [
        "# napishi programmu kotoriy proverit s odin ili nol\n",
        "s = -1\n",
        "if s >= 0 and s <= 1:\n",
        "    print('normal')\n",
        "elif s < 0:\n",
        "    print('not normal')\n",
        "\n",
        "\n",
        "## secon version\n",
        "if s == 1 or s == 0:\n",
        "    print('normal')\n",
        "else:\n",
        "    print('not normal')"
      ]
    },
    {
      "cell_type": "code",
      "execution_count": 102,
      "metadata": {},
      "outputs": [],
      "source": [
        "def y(p, x): \n",
        "    return p * p + 5 - p*x"
      ]
    },
    {
      "cell_type": "code",
      "execution_count": 103,
      "metadata": {},
      "outputs": [
        {
          "name": "stdout",
          "output_type": "stream",
          "text": [
            "11\n",
            "95\n",
            "39805\n"
          ]
        }
      ],
      "source": [
        "print( 3 * 3 + 5 - 3)\n",
        "print( 10 * 10 + 5 - 10)\n",
        "print( 200 * 200 + 5 - 200)\n"
      ]
    },
    {
      "cell_type": "code",
      "execution_count": 107,
      "metadata": {},
      "outputs": [],
      "source": [
        "def isFirstMinimum(s1, s2, s3, s4):\n",
        "    if s1 <= s2 and s1 <= s3 and s1 <= s4:\n",
        "        return True\n",
        "    else:\n",
        "        return False\n",
        "\n",
        "\n",
        "def getMin2(s1, s2, s3, s4):\n",
        "    if s1 >= s2 and s1 >= s3 and s1 >= s4:\n",
        "        print(s1)\n",
        "    elif s2 > s1 and s2 > s3 and s2 > s4:\n",
        "        print(s2)\n",
        "    elif s3 > s1 and s3 > s2 and s3 > s4:\n",
        "        print(s3)\n",
        "    else:\n",
        "        print(s4)\n",
        "\n",
        "\n",
        "def getMinValue(s1, s2, s3, s4):\n",
        "    if isFirstMinimum(s1, s2, s3, s4):\n",
        "        print(s1)\n",
        "    elif isFirstMinimum(s2, s1, s3, s4):\n",
        "        print(s2)\n",
        "    elif isFirstMinimum(s3, s1, s4, s2):\n",
        "        print(s3)\n",
        "    else:\n",
        "        print(s4)\n",
        "\n"
      ]
    },
    {
      "cell_type": "code",
      "execution_count": 108,
      "metadata": {},
      "outputs": [
        {
          "name": "stdout",
          "output_type": "stream",
          "text": [
            "1\n",
            "None\n"
          ]
        }
      ],
      "source": [
        "print(getMinValue(5, 7, 13, 1))"
      ]
    },
    {
      "cell_type": "code",
      "execution_count": 115,
      "metadata": {},
      "outputs": [
        {
          "name": "stdout",
          "output_type": "stream",
          "text": [
            "s1 type = <class 'str'>, 10, s2 type = <class 'str'>, 20.2, s1 + s2 =  1020.2\n",
            "s1 type = <class 'float'>, 10.0, s2 type = <class 'float'>, 20.2, s1 + s2 =  30.2\n"
          ]
        }
      ],
      "source": [
        "def myprint(s1, s2):\n",
        "    print(f's1 type = {type(s1)}, {s1}, s2 type = {type(s2)}, {s2}, s1 + s2 = ', s1 + s2)\n",
        "\n",
        "s1 = \"10\"\n",
        "s2 = \"20.2\"\n",
        "myprint(s1, s2)\n",
        "s1 = float(s1)\n",
        "s2 = float(s2)\n",
        "myprint(s1, s2)\n"
      ]
    },
    {
      "cell_type": "code",
      "execution_count": 120,
      "metadata": {},
      "outputs": [
        {
          "name": "stdout",
          "output_type": "stream",
          "text": [
            "50\n"
          ]
        }
      ],
      "source": [
        "def abcd(a, b):\n",
        "    if a > b:\n",
        "        return a\n",
        "    else:\n",
        "        return b\n"
      ]
    },
    {
      "cell_type": "code",
      "execution_count": 126,
      "metadata": {},
      "outputs": [
        {
          "name": "stdout",
          "output_type": "stream",
          "text": [
            "[1, 2, 3, 5, 100, 6, 2]\n",
            "min value is :  1\n"
          ]
        }
      ],
      "source": [
        "arr = [1, 2, 3, 5, 0, 6, 2]\n",
        "arr[4] = 100\n",
        "m = arr[0]\n",
        "for i in arr: \n",
        "    if i < m:\n",
        "        m = i\n",
        "print(arr)\n",
        "print('min value is : ', m)"
      ]
    },
    {
      "cell_type": "code",
      "execution_count": 130,
      "metadata": {},
      "outputs": [
        {
          "name": "stdout",
          "output_type": "stream",
          "text": [
            "emil\n",
            "['x', 'm', 'i', 'l']\n",
            "x\n",
            "m\n",
            "i\n",
            "l\n"
          ]
        }
      ],
      "source": [
        "s = 'emil'\n",
        "print(s)\n",
        "s = list(s)\n",
        "s[0] = 'x'\n",
        "print(s)\n",
        "for i in s:\n",
        "    print(i)"
      ]
    },
    {
      "cell_type": "code",
      "execution_count": 134,
      "metadata": {},
      "outputs": [
        {
          "name": "stdout",
          "output_type": "stream",
          "text": [
            "sum =  14\n",
            "count =  6\n",
            "average =  2.3333333333333335\n"
          ]
        }
      ],
      "source": [
        "arr = [1, 3, 4, 9, 0, -3]\n",
        "n = 0; \n",
        "c = 0\n",
        "for i in arr:\n",
        "    n += i\n",
        "    c += 1\n",
        "print('sum = ', n)\n",
        "print('count = ', c)\n",
        "print(\"average = \", n / c)  "
      ]
    },
    {
      "cell_type": "code",
      "execution_count": 141,
      "metadata": {},
      "outputs": [
        {
          "name": "stdout",
          "output_type": "stream",
          "text": [
            "True\n"
          ]
        }
      ],
      "source": [
        "arr = [1, 3, 4, 5, 9, 0, -3]\n",
        "x = False\n",
        "for p in arr:\n",
        "    x = x or p == 5\n",
        "print(x)"
      ]
    },
    {
      "cell_type": "code",
      "execution_count": 149,
      "metadata": {},
      "outputs": [
        {
          "name": "stdout",
          "output_type": "stream",
          "text": [
            "False\n"
          ]
        }
      ],
      "source": [
        "def exist(arr, t):\n",
        "    for i in arr:\n",
        "        if i == t:\n",
        "            return True\n",
        "    return False\n",
        "\n",
        "print(exist(arr, 5))"
      ]
    },
    {
      "cell_type": "code",
      "execution_count": 151,
      "metadata": {},
      "outputs": [
        {
          "name": "stdout",
          "output_type": "stream",
          "text": [
            "0\n"
          ]
        }
      ],
      "source": [
        "p = 0\n",
        "for i in arr:\n",
        "    if i == 5:\n",
        "        p += 1\n",
        "if p > 0:\n",
        "    print(p)\n",
        "else:\n",
        "    print(p)"
      ]
    },
    {
      "cell_type": "code",
      "execution_count": 155,
      "metadata": {},
      "outputs": [
        {
          "name": "stdout",
          "output_type": "stream",
          "text": [
            "0 1 0 1\n",
            "0 1 1 1\n",
            "0 1 2 1\n",
            "0 1 3 1\n",
            "0 1 4 1\n",
            "0 1 5 1\n",
            "1 9 0 9\n",
            "1 9 1 9\n",
            "1 9 2 9\n",
            "1 9 3 9\n",
            "1 9 4 9\n",
            "1 9 5 9\n",
            "2 0 0 0\n",
            "2 0 1 0\n",
            "2 0 2 0\n",
            "2 0 3 0\n",
            "2 0 4 0\n",
            "2 0 5 0\n",
            "3 2 0 2\n",
            "3 2 1 2\n",
            "3 2 2 2\n",
            "3 2 3 2\n",
            "3 2 4 2\n",
            "3 2 5 2\n",
            "4 3 0 3\n",
            "4 3 1 3\n",
            "4 3 2 3\n",
            "4 3 3 3\n",
            "4 3 4 3\n",
            "4 3 5 3\n",
            "5 6 0 6\n",
            "5 6 1 6\n",
            "5 6 2 6\n",
            "5 6 3 6\n",
            "5 6 4 6\n",
            "5 6 5 6\n"
          ]
        }
      ],
      "source": [
        " arr = [1, 9, 0, 2, 3, 6] \n",
        "\n",
        " for index1, i in enumerate(arr):\n",
        "    for index2, j in enumerate(arr):\n",
        "        print(index1, i, index2, i)\n",
        "        # if i + j == 18 and index1 != index2:\n",
        "        #     print(i, j, True)"
      ]
    },
    {
      "cell_type": "code",
      "execution_count": 157,
      "metadata": {},
      "outputs": [
        {
          "name": "stdout",
          "output_type": "stream",
          "text": [
            "[1, 9, 0, 2, 3, 6]\n",
            "0 1\n",
            "1 9\n",
            "2 0\n",
            "3 2\n",
            "4 3\n",
            "5 6\n"
          ]
        }
      ],
      "source": [
        "print(arr)\n",
        "for x, i in enumerate(arr):\n",
        "    print(x, i)"
      ]
    },
    {
      "cell_type": "code",
      "execution_count": 2,
      "metadata": {},
      "outputs": [],
      "source": [
        "### 11 / 09 / 2024"
      ]
    },
    {
      "cell_type": "code",
      "execution_count": 4,
      "metadata": {},
      "outputs": [
        {
          "name": "stdout",
          "output_type": "stream",
          "text": [
            "[1, 2, 0, 7, 2, 1]\n",
            "summa =  13\n"
          ]
        }
      ],
      "source": [
        "arr = [1, 2, 0, 7, 2, 1]\n",
        "\n",
        "s = 0\n",
        "for i in arr:\n",
        "    s += i\n",
        "print(arr)\n",
        "print('summa = ', s)"
      ]
    },
    {
      "cell_type": "code",
      "execution_count": 5,
      "metadata": {},
      "outputs": [
        {
          "name": "stdout",
          "output_type": "stream",
          "text": [
            "[1, 2, 0, 7, 2, 1]\n",
            "minimum value in an array =  0\n"
          ]
        }
      ],
      "source": [
        "m = arr[0]\n",
        "for i in arr:\n",
        "    if m > i:\n",
        "        m = i\n",
        "print(arr)\n",
        "print('minimum value in an array = ', m)"
      ]
    },
    {
      "cell_type": "code",
      "execution_count": 9,
      "metadata": {},
      "outputs": [
        {
          "name": "stdout",
          "output_type": "stream",
          "text": [
            "n =  0  ->  Atai\n",
            "after n =  1\n",
            "n =  1  ->  Alim\n",
            "after n =  2\n",
            "n =  2  ->  Tynchtyk\n",
            "after n =  3\n",
            "n =  3  ->  Nur\n",
            "after n =  4\n",
            "n =  4  ->  Samat\n",
            "after n =  5\n",
            "n =  5  ->  Atabek\n",
            "after n =  6\n",
            "['Atai', 'Alim', 'Tynchtyk', 'Nur', 'Samat', 'Atabek'] 7\n",
            "ne vse tut, missin =  1\n"
          ]
        }
      ],
      "source": [
        "arr = ['Atai', 'Alim', 'Tynchtyk', 'Nur', 'Samat', 'Atabek']\n",
        "N = 7\n",
        "\n",
        "n = 0\n",
        "for i in arr:\n",
        "    print('n = ', n, ' -> ', i)\n",
        "    n += 1\n",
        "    print('after n = ', n)\n",
        "\n",
        "print(arr, N)\n",
        "if n == N:\n",
        "    print('vse tut')\n",
        "elif n < N:\n",
        "    print('ne vse tut, missin = ', N - n)\n",
        "elif n > N:\n",
        "    print('bolshe ludey na = ', n - N)\n"
      ]
    },
    {
      "cell_type": "code",
      "execution_count": 45,
      "metadata": {},
      "outputs": [
        {
          "name": "stdout",
          "output_type": "stream",
          "text": [
            "1  random number =  8\n",
            "2  random number =  58\n",
            "3  random number =  32\n"
          ]
        }
      ],
      "source": [
        "from random import randint\n",
        "for i in range(3):\n",
        "    print(i+1, ' random number = ', randint(1, 60))\n"
      ]
    },
    {
      "cell_type": "code",
      "execution_count": 15,
      "metadata": {},
      "outputs": [
        {
          "name": "stdout",
          "output_type": "stream",
          "text": [
            "Nurbek  est v massive =  False\n",
            "Nurbek  bar massivde =  False\n"
          ]
        }
      ],
      "source": [
        "arr = ['Atai', 'Alim', 'Tynchtyk', 'Nur', 'Samat', 'Atabek']\n",
        "name = 'Nurbek'\n",
        "jokeyy = False\n",
        "\n",
        "for imya in arr:\n",
        "    jokeyy = jokeyy or name == imya\n",
        "\n",
        "print(name, ' est v massive = ', jokeyy)\n",
        "\n",
        "result = False\n",
        "for imya in arr:\n",
        "    if imya == name:\n",
        "        result = True\n",
        "print(name, ' bar massivde = ', result)"
      ]
    },
    {
      "cell_type": "code",
      "execution_count": 17,
      "metadata": {},
      "outputs": [
        {
          "name": "stdout",
          "output_type": "stream",
          "text": [
            "['Atai', 'Alim', 'Tynchtyk', 'Nur', 'Samat', 'Atabek']\n",
            "Tynchtyk\n"
          ]
        }
      ],
      "source": [
        "arr = ['Atai', 'Alim', 'Tynchtyk', 'Nur', 'Samat', 'Atabek']\n",
        "n = arr[0]\n",
        "for i in arr:\n",
        "    if i > n:\n",
        "        n = i\n",
        "print(arr)\n",
        "print(n)"
      ]
    },
    {
      "cell_type": "code",
      "execution_count": 19,
      "metadata": {},
      "outputs": [
        {
          "name": "stdout",
          "output_type": "stream",
          "text": [
            "Atabek\n"
          ]
        }
      ],
      "source": [
        "arr = ['Atai', 'Atalim', 'Tynchtyk', 'Nur', 'Samat', 'Atabek']\n",
        "\n",
        "n = arr[0]\n",
        "for i in arr:\n",
        "    if i < n:\n",
        "        n = i\n",
        "print(n)"
      ]
    },
    {
      "cell_type": "code",
      "execution_count": 25,
      "metadata": {},
      "outputs": [
        {
          "name": "stdout",
          "output_type": "stream",
          "text": [
            "longest name =  Atabekov\n",
            "Atalimba\n",
            "Tynchtyk\n",
            "Atabekov\n"
          ]
        }
      ],
      "source": [
        "arr = ['Atai', 'Atalimba', 'Tynchtyk', 'Nur', 'Samat', 'Atabekov']\n",
        "n = arr[0]\n",
        "for i in arr:\n",
        "    if len(i) >= len(n):\n",
        "        n = i\n",
        "print('longest name = ', n)\n",
        "\n",
        "for i in arr:\n",
        "    if len(i) == len(n):\n",
        "        print(i)\n",
        "\n"
      ]
    },
    {
      "cell_type": "code",
      "execution_count": 26,
      "metadata": {},
      "outputs": [
        {
          "name": "stdout",
          "output_type": "stream",
          "text": [
            "['Atalimba', 'Tynchtyk', 'Atabekov']\n"
          ]
        }
      ],
      "source": [
        "print([i for i in arr if len(i) == max([len(j) for j in arr])])"
      ]
    },
    {
      "cell_type": "code",
      "execution_count": 40,
      "metadata": {},
      "outputs": [
        {
          "name": "stdout",
          "output_type": "stream",
          "text": [
            "[9, 8, 5, 3, 2, 1]\n"
          ]
        }
      ],
      "source": [
        "arr = [1, 2, 3, 5, 8, 9]\n",
        "\n",
        "print(arr[len(arr) - 1 : :-1])"
      ]
    },
    {
      "cell_type": "code",
      "execution_count": 41,
      "metadata": {},
      "outputs": [
        {
          "name": "stdout",
          "output_type": "stream",
          "text": [
            "[5, 8, 9]\n"
          ]
        }
      ],
      "source": [
        "print(arr[3:])"
      ]
    },
    {
      "cell_type": "code",
      "execution_count": 42,
      "metadata": {},
      "outputs": [
        {
          "name": "stdout",
          "output_type": "stream",
          "text": [
            "[1, 2, 3, 5]\n"
          ]
        }
      ],
      "source": [
        "print(arr[:4])"
      ]
    },
    {
      "cell_type": "code",
      "execution_count": 49,
      "metadata": {},
      "outputs": [
        {
          "name": "stdout",
          "output_type": "stream",
          "text": [
            "min = -10, max = -1, difference = 9\n"
          ]
        }
      ],
      "source": [
        "arr = [-1, -2, -3, -5, -10, -8, -2]\n",
        "min = arr[0]\n",
        "max = arr[0]\n",
        "for i in arr:\n",
        "    if min > i:\n",
        "        min = i\n",
        "    if max < i:\n",
        "        max = i\n",
        "\n",
        "print(f'min = {min}, max = {max}, difference = {max - min}')"
      ]
    },
    {
      "cell_type": "code",
      "execution_count": 51,
      "metadata": {},
      "outputs": [
        {
          "name": "stdout",
          "output_type": "stream",
          "text": [
            "[1, 2, 3, 5, 5, 6, 7]\n",
            "[1, 2, 3]\n",
            "[5, 5, 6, 7]\n"
          ]
        }
      ],
      "source": [
        "arr = [1, 2, 3, 5, 5, 6, 7]\n",
        "print(arr)\n",
        "print(arr[:3])\n",
        "print(arr[3:])"
      ]
    },
    {
      "cell_type": "code",
      "execution_count": 58,
      "metadata": {},
      "outputs": [
        {
          "name": "stdout",
          "output_type": "stream",
          "text": [
            "[1, 2, 3, 5, 4, 2]\n",
            "[1, 2, 3, 'abc', 'def']\n"
          ]
        }
      ],
      "source": [
        "arr1 = [1, 2, 3]\n",
        "arr2 = [5, 4, 2]\n",
        "print(arr1 + arr2)\n",
        "print(arr1 + ['abc', 'def'])"
      ]
    },
    {
      "cell_type": "code",
      "execution_count": 61,
      "metadata": {},
      "outputs": [
        {
          "name": "stdout",
          "output_type": "stream",
          "text": [
            "['emil', 'bil', 'ait', 'kg', 1]\n"
          ]
        },
        {
          "ename": "TypeError",
          "evalue": "sequence item 4: expected str instance, int found",
          "output_type": "error",
          "traceback": [
            "\u001b[1;31m---------------------------------------------------------------------------\u001b[0m",
            "\u001b[1;31mTypeError\u001b[0m                                 Traceback (most recent call last)",
            "Cell \u001b[1;32mIn[61], line 4\u001b[0m\n\u001b[0;32m      1\u001b[0m arr \u001b[38;5;241m=\u001b[39m [\u001b[38;5;124m'\u001b[39m\u001b[38;5;124memil\u001b[39m\u001b[38;5;124m'\u001b[39m, \u001b[38;5;124m'\u001b[39m\u001b[38;5;124mbil\u001b[39m\u001b[38;5;124m'\u001b[39m, \u001b[38;5;124m'\u001b[39m\u001b[38;5;124mait\u001b[39m\u001b[38;5;124m'\u001b[39m, \u001b[38;5;124m'\u001b[39m\u001b[38;5;124mkg\u001b[39m\u001b[38;5;124m'\u001b[39m, \u001b[38;5;241m1\u001b[39m]\n\u001b[0;32m      3\u001b[0m \u001b[38;5;28mprint\u001b[39m(arr)\n\u001b[1;32m----> 4\u001b[0m \u001b[38;5;28mprint\u001b[39m(\u001b[38;5;124;43m'\u001b[39;49m\u001b[38;5;124;43m->\u001b[39;49m\u001b[38;5;124;43m'\u001b[39;49m\u001b[38;5;241;43m.\u001b[39;49m\u001b[43mjoin\u001b[49m\u001b[43m(\u001b[49m\u001b[43marr\u001b[49m\u001b[43m)\u001b[49m)\n",
            "\u001b[1;31mTypeError\u001b[0m: sequence item 4: expected str instance, int found"
          ]
        }
      ],
      "source": [
        "arr = ['emil', 'bil', 'ait', 'kg', 1]\n",
        "\n",
        "print(arr)\n",
        "print('->'.join(arr))\n",
        "\n",
        "\n",
        "1 + 5 * 2 - 3"
      ]
    },
    {
      "cell_type": "code",
      "execution_count": 28,
      "metadata": {},
      "outputs": [
        {
          "name": "stdout",
          "output_type": "stream",
          "text": [
            "i =  0 -> i =  1 -> i =  3 -> i =  8 -> Even number\n",
            "i =  10 -> i =  0 -> i =  1 -> i =  3 -> i =  8 -> Even number\n",
            "i =  10 -> v massive est chetniy sifra?  ATAI\n"
          ]
        }
      ],
      "source": [
        "def check(arr):\n",
        "    for i in arr:\n",
        "        print(\"i = \", i, end = ' -> ')\n",
        "        if i % 2 == 0 and i % 2 == 1 or i % 3 == 2:\n",
        "            print('Even number')\n",
        "    return \"ATAI\"\n",
        "arr = [0, 65, 86, 55, 63, 46, 87, 18, 12, 33]\n",
        "target = 55\n",
        "\n",
        "result = '0, 55'\n",
        "\n",
        "print('v massive est chetniy sifra? ', check(arr) if check(arr) else '')\n",
        "#print('v massive est chetniy sifra? ', check(arr))\n",
        "\n",
        "res = '''\n",
        "0 -> 1 -> 3 -> 8 -> Even number\n",
        "10 -> v massive est chetniy sifra? ATAI\n",
        "'''\n",
        "\n"
      ]
    },
    {
      "cell_type": "code",
      "execution_count": 29,
      "metadata": {},
      "outputs": [
        {
          "name": "stdout",
          "output_type": "stream",
          "text": [
            "[0, 65, 86, 55, 63, 46, 87, 18, 12, 33]\n"
          ]
        }
      ],
      "source": [
        "from random import randint\n",
        "print([randint(0, 100) for i in range(10)])"
      ]
    },
    {
      "cell_type": "code",
      "execution_count": null,
      "metadata": {},
      "outputs": [],
      "source": []
    },
    {
      "cell_type": "code",
      "execution_count": 24,
      "metadata": {},
      "outputs": [
        {
          "name": "stdout",
          "output_type": "stream",
          "text": [
            "27 57 13\n"
          ]
        }
      ],
      "source": [
        "from random import randint\n",
        "print(randint(1, 62), randint(1, 62), randint(1, 62))"
      ]
    },
    {
      "cell_type": "code",
      "execution_count": 33,
      "metadata": {},
      "outputs": [
        {
          "name": "stdout",
          "output_type": "stream",
          "text": [
            "12 + 18 = 30\n"
          ]
        },
        {
          "data": {
            "text/plain": [
              "False"
            ]
          },
          "execution_count": 33,
          "metadata": {},
          "output_type": "execute_result"
        }
      ],
      "source": [
        "def check(arr, target):\n",
        "    for x1, i in enumerate(arr):\n",
        "        for x2, j in enumerate(arr):\n",
        "            if i + j == target and i < j and x1 < x2:\n",
        "                print(f'{i} + {j} = {target}')\n",
        "    return False\n",
        "\n",
        "arr = [0, 65, 86, 55, 63, 46, 87, 12, 18, 12, 33]\n",
        "target = 30\n",
        "\n",
        "check(arr, target)"
      ]
    },
    {
      "cell_type": "code",
      "execution_count": 34,
      "metadata": {},
      "outputs": [
        {
          "name": "stdout",
          "output_type": "stream",
          "text": [
            "55\n",
            "63\n",
            "46\n",
            "12\n",
            "18\n",
            "12\n"
          ]
        }
      ],
      "source": [
        "def check2(arr):\n",
        "    for i, v in enumerate(arr):\n",
        "        if i > 0 and i < len(arr)-1 and max(arr[:i]) > v < max(arr[i+1:]):\n",
        "            print(v)\n",
        "\n",
        "arr = [0, 65, 86, 55, 63, 46, 87, 12, 18, 12, 33]\n",
        "check2(arr)"
      ]
    },
    {
      "cell_type": "code",
      "execution_count": 38,
      "metadata": {},
      "outputs": [
        {
          "name": "stdout",
          "output_type": "stream",
          "text": [
            "(0, 6)\n",
            "(1, 2)\n",
            "(2, 1)\n",
            "(3, 0)\n",
            "(4, 4)\n"
          ]
        }
      ],
      "source": [
        "arr = [6, 2, 1, 0, 4]\n",
        "for i in enumerate(arr):\n",
        "    print(i)"
      ]
    },
    {
      "cell_type": "code",
      "execution_count": 44,
      "metadata": {},
      "outputs": [
        {
          "name": "stdout",
          "output_type": "stream",
          "text": [
            "81\n",
            "3.0\n"
          ]
        }
      ],
      "source": [
        "def fun(x):\n",
        "    return x ** 2, x ** 0.5\n",
        "\n",
        "z, y = fun(9)\n",
        "\n",
        "print(z)\n",
        "print(y)"
      ]
    },
    {
      "cell_type": "code",
      "execution_count": 33,
      "metadata": {},
      "outputs": [
        {
          "name": "stdout",
          "output_type": "stream",
          "text": [
            "RESULT =  2\n"
          ]
        }
      ],
      "source": [
        "arr = [1, 3, 5, 6, 0, 2, 6, 6, -1, 8, 8]\n",
        "f = arr[0]\n",
        "c = 0\n",
        "for i in arr:\n",
        "    if f < i:\n",
        "        f = i\n",
        "        c = 0+1\n",
        "    elif f == i:\n",
        "        c += 1\n",
        "\n",
        "print('RESULT = ', c)"
      ]
    },
    {
      "cell_type": "code",
      "execution_count": 34,
      "metadata": {},
      "outputs": [
        {
          "name": "stdout",
          "output_type": "stream",
          "text": [
            "2\n"
          ]
        }
      ],
      "source": [
        "arr = [1, 3, 5, 6, 0, 2, 6, 6, -1, 8, 8]\n",
        "max = arr[0]\n",
        "for i in arr:\n",
        "    if max < i:\n",
        "        max = i\n",
        "count = 0\n",
        "for i in arr:\n",
        "    if max == i:\n",
        "        count += 1\n",
        "print(count)"
      ]
    },
    {
      "cell_type": "code",
      "execution_count": 36,
      "metadata": {},
      "outputs": [
        {
          "name": "stdout",
          "output_type": "stream",
          "text": [
            "[1, 3, 5, 6, 0, 2, 6, 6, -1, 8, 8]\n",
            "44\n",
            "15\n",
            "27\n"
          ]
        }
      ],
      "source": [
        "print(arr)\n",
        "s = 0\n",
        "for i in arr:\n",
        "    s += i\n",
        "print(s)\n",
        "\n",
        "s = 0\n",
        "for i in arr[:5]:\n",
        "    s += i\n",
        "print(s)\n",
        "\n",
        "s = 0\n",
        "for i in arr[-5:]:\n",
        "    s += i\n",
        "print(s)"
      ]
    },
    {
      "cell_type": "code",
      "execution_count": 38,
      "metadata": {},
      "outputs": [
        {
          "name": "stdout",
          "output_type": "stream",
          "text": [
            "[1, 3, 5, 6, 0, 2, 6, 6, -1, 8, 8]\n",
            "negative count =  1\n"
          ]
        }
      ],
      "source": [
        "c = 0\n",
        "for i in arr:\n",
        "    if i < 0:\n",
        "        c += 1\n",
        "print(arr)\n",
        "print('negative count = ', c)"
      ]
    },
    {
      "cell_type": "code",
      "execution_count": 43,
      "metadata": {},
      "outputs": [
        {
          "name": "stdout",
          "output_type": "stream",
          "text": [
            "moloko x 1 -> 90\n",
            "bread x 2 -> 50\n",
            "kolbasa x 1 -> 200\n",
            "____________________\n",
            "Total : 340\n"
          ]
        }
      ],
      "source": [
        "names = ['twix', 'sandwich', 'moloko', 'bread', 'cola', 'kolbasa']\n",
        "prices = [40, 75, 90, 25, 90, 200]\n",
        "kolichestvo = [10, 15, 40, 60, 20, 10]\n",
        "\n",
        "def tsena_tovara(names, prices, tovar):\n",
        "    for index, name in enumerate(names):\n",
        "        if name == tovar:\n",
        "            return prices[index] \n",
        "\n",
        "def kancha_boldu(moi_tovari, moi_kolichestvo):\n",
        "    s = 0\n",
        "    text = ''\n",
        "    for ati, shtuk in zip(moi_tovari, moi_kolichestvo):\n",
        "        x = tsena_tovara(names, prices, ati) * shtuk\n",
        "        text += f'{ati} x {shtuk} -> {x}\\n'\n",
        "        s += x\n",
        "    text += '_'*20\n",
        "    return text + f'\\nTotal : {s}'\n",
        "\n",
        "\n",
        "moi_tovari = [\"moloko\", \"bread\", \"kolbasa\"]\n",
        "moi_kolichestvo = [1, 2, 1]\n",
        "\n",
        "check = kancha_boldu(moi_tovari, moi_kolichestvo)\n",
        "print(check)\n"
      ]
    },
    {
      "cell_type": "code",
      "execution_count": 57,
      "metadata": {},
      "outputs": [
        {
          "name": "stdout",
          "output_type": "stream",
          "text": [
            "ketken ubakit =  0.009049177169799805\n",
            "200000\n"
          ]
        }
      ],
      "source": [
        "from time import time\n",
        "arr = [52, 8, 7, 72, 8, 6, 3, 1, 9, 0]*20000\n",
        "res = []\n",
        "\n",
        "def mysort(arr):\n",
        "    # for i in range(len(arr)):\n",
        "    #     max = arr[0]\n",
        "    #     for j in arr:\n",
        "    #         if max > j:\n",
        "    #             max = j\n",
        "    #     res.append(max)\n",
        "    #     arr.remove(max)\n",
        "    return sorted(arr)\n",
        "\n",
        "basinda = time()\n",
        "x = mysort(arr)\n",
        "ayagi = time()\n",
        "print('ketken ubakit = ', ayagi - basinda)\n",
        "print(len(x))\n"
      ]
    },
    {
      "cell_type": "code",
      "execution_count": 62,
      "metadata": {},
      "outputs": [
        {
          "name": "stdout",
          "output_type": "stream",
          "text": [
            "max amount person is =  gazi\n"
          ]
        }
      ],
      "source": [
        "names = [\"atai\", 'sultan', 'emir', 'gazi']\n",
        "amount = [1000, 2000, 3000, 4000]\n",
        "\n",
        "def max_amount_person():\n",
        "    max = arr[0]\n",
        "    name = None\n",
        "    for x, i in enumerate(amount):\n",
        "        if i > max:\n",
        "            max = i\n",
        "            name = names[x]\n",
        "    return name\n",
        "\n",
        "print('max amount person is = ', max_amount_person())"
      ]
    },
    {
      "cell_type": "code",
      "execution_count": 74,
      "metadata": {},
      "outputs": [
        {
          "name": "stdout",
          "output_type": "stream",
          "text": [
            "x =  0\n"
          ]
        }
      ],
      "source": [
        "x = 0\n",
        "print('x = ', x)"
      ]
    },
    {
      "cell_type": "code",
      "execution_count": 73,
      "metadata": {},
      "outputs": [
        {
          "name": "stdout",
          "output_type": "stream",
          "text": [
            "[1000, 2000, 3000, 4000]\n",
            "sum =  20000\n"
          ]
        }
      ],
      "source": [
        "def mysum():\n",
        "    x = 0\n",
        "    for i in amount:\n",
        "        x += i\n",
        "    return x\n",
        "print(amount)\n",
        "print('sum = ', mysum())"
      ]
    },
    {
      "cell_type": "code",
      "execution_count": 75,
      "metadata": {},
      "outputs": [
        {
          "name": "stdout",
          "output_type": "stream",
          "text": [
            "['atai', 'sultan', 'emir', 'gazi']\n",
            "[1000, 2000, 3000, 4000]\n",
            "['emir', 'gazi']\n"
          ]
        }
      ],
      "source": [
        "def high_amount_clients(threshold):\n",
        "    res = []\n",
        "    \n",
        "    for x, name in zip(amount, names):\n",
        "        if x >= threshold: # > -> -5\n",
        "            res.append(name)\n",
        "    return res\n",
        "\n",
        "names = [\"atai\", 'sultan', 'emir', 'gazi', 'bars', 'aziz', 'ulan']\n",
        "amount = [1000,  2000,      3000,  4000,    1000,   2000,   5000]\n",
        "\n",
        "print(names)\n",
        "print(amount)\n",
        "print(high_amount_clients(3000))"
      ]
    },
    {
      "cell_type": "code",
      "execution_count": 78,
      "metadata": {},
      "outputs": [
        {
          "name": "stdout",
          "output_type": "stream",
          "text": [
            "['atai', 'sultan', 'emir', 'gazi', 'bars', 'aziz', 'ulan']\n",
            "[1000, 2000, 3000, 4000, 1000, 2000, 5000]\n",
            "['sultan', 'emir', 'gazi', 'aziz', 'ulan']\n"
          ]
        }
      ],
      "source": [
        "names = [\"atai\", 'sultan', 'emir', 'gazi', 'bars', 'aziz', 'ulan']\n",
        "amount = [1000,  2000,      3000,  4000,    1000,   2000,   5000]\n",
        "\n",
        "def get_higher_amount(higher_amount):\n",
        "    for i, n in enumerate(amount):\n",
        "        if n < higher_amount:\n",
        "            names.pop(i)\n",
        "            amount.pop(i)\n",
        "    return names\n",
        "\n",
        "print(names)\n",
        "print(amount)\n",
        "print(get_higher_amount(3000))"
      ]
    },
    {
      "cell_type": "code",
      "execution_count": 87,
      "metadata": {},
      "outputs": [
        {
          "name": "stdout",
          "output_type": "stream",
          "text": [
            "Before\n",
            "[('atai', 1000), ('sultan', 2000), ('gazi', 3000), ('bars', 4000)]\n",
            "Transfering from \"gazi\" to \"bars\" amount of 200\n",
            "Transfering from \"gazi\" to \"bars\" amount of 200\n",
            "Transfering from \"gazi\" to \"bars\" amount of 200\n",
            "Transfering from \"gazi\" to \"bars\" amount of 200\n",
            "Transfering from \"gazi\" to \"bars\" amount of 200\n",
            "Transfering from \"gazi\" to \"bars\" amount of 200\n",
            "Transfering from \"gazi\" to \"bars\" amount of 200\n",
            "Transfering from \"gazi\" to \"bars\" amount of 200\n",
            "Transfering from \"gazi\" to \"bars\" amount of 200\n",
            "Transfering from \"gazi\" to \"bars\" amount of 200\n",
            "\n",
            "Latest\n",
            "[('atai', 1000), ('sultan', 2000), ('gazi', 1000), ('bars', 6000)]\n",
            "History\n",
            "[('gazi', 'bars', 200), ('gazi', 'bars', 200), ('gazi', 'bars', 200), ('gazi', 'bars', 200), ('gazi', 'bars', 200), ('gazi', 'bars', 200), ('gazi', 'bars', 200), ('gazi', 'bars', 200), ('gazi', 'bars', 200), ('gazi', 'bars', 200)]\n"
          ]
        }
      ],
      "source": [
        "names = [\"atai\", 'sultan',  'gazi', 'bars']\n",
        "amount = [1000,  2000,       3000,  4000]\n",
        "print('Before')\n",
        "print(list(zip(names, amount)))\n",
        "\n",
        "\n",
        "def findindex(name):\n",
        "    for i, v in enumerate(names):\n",
        "        if v == name:\n",
        "            return i\n",
        "        \n",
        "def transfer(a, b, x, h):\n",
        "    print(f'Transfering from \"{a}\" to \"{b}\" amount of {x}')\n",
        "    h.append((a, b, x))\n",
        "    ai, bi = findindex(a), findindex(b)\n",
        "    amount[ai], amount[bi] = amount[ai] - x, amount[bi] + x\n",
        "\n",
        "history = []\n",
        "for i in range(10):\n",
        "    transfer(\"gazi\", \"bars\", 200, history)\n",
        "print('\\nLatest')\n",
        "print(list(zip(names, amount)))\n",
        "print('History')\n",
        "print(history)\n",
        "\n"
      ]
    },
    {
      "cell_type": "code",
      "execution_count": 88,
      "metadata": {},
      "outputs": [
        {
          "data": {
            "text/plain": [
              "[('gazi', 'bars', 200),\n",
              " ('gazi', 'bars', 200),\n",
              " ('gazi', 'bars', 200),\n",
              " ('gazi', 'bars', 200),\n",
              " ('gazi', 'bars', 200),\n",
              " ('gazi', 'bars', 200),\n",
              " ('gazi', 'bars', 200),\n",
              " ('gazi', 'bars', 200),\n",
              " ('gazi', 'bars', 200),\n",
              " ('gazi', 'bars', 200)]"
            ]
          },
          "execution_count": 88,
          "metadata": {},
          "output_type": "execute_result"
        }
      ],
      "source": [
        "history"
      ]
    },
    {
      "cell_type": "code",
      "execution_count": 89,
      "metadata": {},
      "outputs": [
        {
          "name": "stdout",
          "output_type": "stream",
          "text": [
            "Transfering from \"bars\" to \"gazi\" amount of 200\n",
            "Transfering from \"bars\" to \"gazi\" amount of 200\n",
            "Transfering from \"bars\" to \"gazi\" amount of 200\n",
            "Transfering from \"bars\" to \"gazi\" amount of 200\n",
            "Transfering from \"bars\" to \"gazi\" amount of 200\n",
            "Transfering from \"bars\" to \"gazi\" amount of 200\n",
            "Transfering from \"bars\" to \"gazi\" amount of 200\n",
            "Transfering from \"bars\" to \"gazi\" amount of 200\n",
            "Transfering from \"bars\" to \"gazi\" amount of 200\n",
            "Transfering from \"bars\" to \"gazi\" amount of 200\n"
          ]
        }
      ],
      "source": [
        "for a, b, x in history:\n",
        "    transfer(b, a, x, [])\n",
        "history = []"
      ]
    },
    {
      "cell_type": "code",
      "execution_count": 85,
      "metadata": {},
      "outputs": [
        {
          "name": "stdout",
          "output_type": "stream",
          "text": [
            "[('atai', 1000), ('sultan', 2000), ('gazi', 3000), ('bars', 4000)]\n"
          ]
        }
      ],
      "source": [
        "print(list(zip(names, amount)))"
      ]
    },
    {
      "cell_type": "code",
      "execution_count": 86,
      "metadata": {},
      "outputs": [
        {
          "data": {
            "text/plain": [
              "[]"
            ]
          },
          "execution_count": 86,
          "metadata": {},
          "output_type": "execute_result"
        }
      ],
      "source": [
        "    "
      ]
    },
    {
      "cell_type": "code",
      "execution_count": 106,
      "metadata": {},
      "outputs": [
        {
          "ename": "ValueError",
          "evalue": "list.remove(x): x not in list",
          "output_type": "error",
          "traceback": [
            "\u001b[1;31m---------------------------------------------------------------------------\u001b[0m",
            "\u001b[1;31mValueError\u001b[0m                                Traceback (most recent call last)",
            "Cell \u001b[1;32mIn[106], line 25\u001b[0m\n\u001b[0;32m     22\u001b[0m                 quantity[i] \u001b[38;5;241m+\u001b[39m\u001b[38;5;241m=\u001b[39m \u001b[38;5;241m1\u001b[39m\n\u001b[0;32m     24\u001b[0m adjustBook(\u001b[38;5;124m'\u001b[39m\u001b[38;5;124memil\u001b[39m\u001b[38;5;124m'\u001b[39m, \u001b[38;5;124m'\u001b[39m\u001b[38;5;124msemetey\u001b[39m\u001b[38;5;124m'\u001b[39m, \u001b[38;5;124m'\u001b[39m\u001b[38;5;124mochur\u001b[39m\u001b[38;5;124m'\u001b[39m)\n\u001b[1;32m---> 25\u001b[0m \u001b[43madjustBook\u001b[49m\u001b[43m(\u001b[49m\u001b[38;5;124;43m'\u001b[39;49m\u001b[38;5;124;43matai\u001b[39;49m\u001b[38;5;124;43m'\u001b[39;49m\u001b[43m,\u001b[49m\u001b[43m \u001b[49m\u001b[38;5;124;43m'\u001b[39;49m\u001b[38;5;124;43msemetey\u001b[39;49m\u001b[38;5;124;43m'\u001b[39;49m\u001b[43m,\u001b[49m\u001b[43m \u001b[49m\u001b[38;5;124;43m'\u001b[39;49m\u001b[38;5;124;43mochur\u001b[39;49m\u001b[38;5;124;43m'\u001b[39;49m\u001b[43m)\u001b[49m\n\u001b[0;32m     26\u001b[0m adjustBook(\u001b[38;5;124m'\u001b[39m\u001b[38;5;124maman\u001b[39m\u001b[38;5;124m'\u001b[39m, \u001b[38;5;124m'\u001b[39m\u001b[38;5;124msemetey\u001b[39m\u001b[38;5;124m'\u001b[39m, \u001b[38;5;124m'\u001b[39m\u001b[38;5;124mochur\u001b[39m\u001b[38;5;124m'\u001b[39m)\n\u001b[0;32m     28\u001b[0m \u001b[38;5;66;03m# skolko u Amana\u001b[39;00m\n",
            "Cell \u001b[1;32mIn[106], line 21\u001b[0m, in \u001b[0;36madjustBook\u001b[1;34m(name, book, flag)\u001b[0m\n\u001b[0;32m     19\u001b[0m     quantity[i] \u001b[38;5;241m-\u001b[39m\u001b[38;5;241m=\u001b[39m \u001b[38;5;241m1\u001b[39m\n\u001b[0;32m     20\u001b[0m \u001b[38;5;28;01melif\u001b[39;00m flag \u001b[38;5;241m==\u001b[39m \u001b[38;5;124m'\u001b[39m\u001b[38;5;124mochur\u001b[39m\u001b[38;5;124m'\u001b[39m:\n\u001b[1;32m---> 21\u001b[0m     \u001b[43mknigi\u001b[49m\u001b[43m[\u001b[49m\u001b[43mi\u001b[49m\u001b[43m]\u001b[49m\u001b[38;5;241;43m.\u001b[39;49m\u001b[43mremove\u001b[49m\u001b[43m(\u001b[49m\u001b[43mbook\u001b[49m\u001b[43m)\u001b[49m\n\u001b[0;32m     22\u001b[0m     quantity[i] \u001b[38;5;241m+\u001b[39m\u001b[38;5;241m=\u001b[39m \u001b[38;5;241m1\u001b[39m\n",
            "\u001b[1;31mValueError\u001b[0m: list.remove(x): x not in list"
          ]
        }
      ],
      "source": [
        "student = [\"atai\", \"emil\", \"aman\", \"gulnur\"]\n",
        "knigi = [\n",
        "    [], \n",
        "    [\"potter\", \"jamilia\", \"semetey\"],\n",
        "    [\"sary\", 'mary', 'semetey'],\n",
        "    ['manas', 'semetey', 'seytek']\n",
        "]\n",
        "books = ['potter', 'jamilia', 'semetey', 'sary', 'mary', 'manas', 'seytek']\n",
        "author = ['emil',  'aytmatov', 'aytmatov', 'emil', 'ulan', 'ulan', 'aytmatov']\n",
        "quantity = [5,       6,          7,         8,     3,      8,       2]\n",
        "history = []\n",
        "\n",
        "def adjustBook(name, book, flag):\n",
        "    history.append((name, book, flag))\n",
        "    for i, n in enumerate(student):\n",
        "        if n == name:\n",
        "            if flag == 'kosh':\n",
        "                knigi[i].append(book)\n",
        "                quantity[i] -= 1\n",
        "            elif flag == 'ochur':\n",
        "                knigi[i].remove(book)\n",
        "                quantity[i] += 1\n",
        "\n",
        "adjustBook('emil', 'semetey', 'ochur')\n",
        "adjustBook('atai', 'semetey', 'ochur')\n",
        "adjustBook('aman', 'semetey', 'ochur')\n",
        "\n",
        "# skolko u Amana\n",
        "print('Skolko = ', [len(knigi[i]) for i, name in enumerate(student) if name == 'gulnur'])\n",
        "print('Kakie knigi = ', [knigi[i] for i, name in enumerate(student) if name == 'gulnur'])\n",
        "print('skolko studentov = ', sum([1 for x in knigi for kniga in x if kniga == 'semetey']))\n",
        "print('skolko knig u avtora = ', sum([q for q, a in zip(quantity, author) if a == 'aytmatov']))\n",
        "print('kto vzyal = ', [n for n, k in zip(student, knigi) if 'semetey' in k])\n",
        "\n"
      ]
    },
    {
      "cell_type": "code",
      "execution_count": 108,
      "metadata": {},
      "outputs": [
        {
          "name": "stdout",
          "output_type": "stream",
          "text": [
            "Skolko1 =  [3]\n",
            "skolko2 =  [3]\n"
          ]
        }
      ],
      "source": [
        "print('Skolko1 = ', [len(knigi[i]) for i, name in enumerate(student) if name == 'gulnur'])\n",
        "\n",
        "def skolko(param):\n",
        "    v = []\n",
        "    for i, name in enumerate(student):\n",
        "        if name == param:\n",
        "            v.append(len(knigi[i]))\n",
        "    return v\n",
        "\n",
        "print('skolko2 = ', skolko('gulnur'))\n",
        "\n"
      ]
    },
    {
      "cell_type": "code",
      "execution_count": 121,
      "metadata": {},
      "outputs": [
        {
          "name": "stdout",
          "output_type": "stream",
          "text": [
            "Kakie knigi =  [['manas', 'semetey', 'seytek']]\n",
            "kakie knigi2 =  ['manas', 'semetey', 'seytek']\n"
          ]
        }
      ],
      "source": [
        "print('Kakie knigi = ', [i for i, name in zip(knigi, student) if name == 'gulnur'])\n",
        "\n",
        "def kakie(param):\n",
        "    v = []\n",
        "    for k, name in zip(knigi, student):\n",
        "        if name == param:\n",
        "            v += k\n",
        "    return v\n",
        "\n",
        "print('kakie knigi2 = ', kakie('gulnur'))\n"
      ]
    },
    {
      "cell_type": "code",
      "execution_count": 114,
      "metadata": {},
      "outputs": [
        {
          "name": "stdout",
          "output_type": "stream",
          "text": [
            "skolko studentov =  2\n",
            "skolko studentov2 =  2\n",
            "skolko studentov3 =  2\n"
          ]
        }
      ],
      "source": [
        "param = 'semetey'\n",
        "\n",
        "print('skolko studentov = ', sum([1 for x in knigi for kniga in x if kniga == param]))\n",
        "def summa(param):\n",
        "    v = 0\n",
        "    for x in knigi:\n",
        "        for kniga in x:\n",
        "            if kniga == param:\n",
        "                v += 1\n",
        "    return v\n",
        "\n",
        "print('skolko studentov2 = ', summa(param))\n",
        "\n",
        "\n",
        "count = 0\n",
        "for i in knigi:\n",
        "    count += param in i\n",
        "print('skolko studentov3 = ', count)\n",
        "\n",
        "\n"
      ]
    },
    {
      "cell_type": "code",
      "execution_count": 124,
      "metadata": {},
      "outputs": [
        {
          "name": "stdout",
          "output_type": "stream",
          "text": [
            "['emil', 'aytmatov', 'aytmatov', 'emil', 'ulan', 'ulan', 'aytmatov']\n",
            "[5, 7, 7, 8, 3, 8, 2]\n",
            "[(5, 'emil'), (7, 'aytmatov'), (7, 'aytmatov'), (8, 'emil'), (3, 'ulan'), (8, 'ulan'), (2, 'aytmatov')]\n"
          ]
        }
      ],
      "source": [
        "print(author)\n",
        "print(quantity)\n",
        "print(list(zip(quantity, author)))"
      ]
    },
    {
      "cell_type": "code",
      "execution_count": 133,
      "metadata": {},
      "outputs": [
        {
          "name": "stdout",
          "output_type": "stream",
          "text": [
            "skolko knig u avtora =  16\n",
            "skolko knig u avtora2 =  0\n"
          ]
        }
      ],
      "source": [
        "print('skolko knig u avtora = ', sum([q for q, a in zip(quantity, author) if a == 'aytmatov']))\n",
        "\n",
        "\n",
        "def skolko_knig_u_avtora(param):\n",
        "    s = 0\n",
        "    for quant, auth in zip(quantity, author):\n",
        "        if auth == param:\n",
        "            s += quant\n",
        "    return s\n",
        "\n",
        "print('skolko knig u avtora2 = ', skolko_knig_u_avtora('aytmato'))\n"
      ]
    },
    {
      "cell_type": "code",
      "execution_count": 137,
      "metadata": {},
      "outputs": [
        {
          "name": "stdout",
          "output_type": "stream",
          "text": [
            "KASSOVIY CHECK\n",
            "_______________\n",
            "ruchka -> 50\n",
            "chay -> 50\n",
            "laptop -> 20000\n",
            "\n",
            "___________\n",
            "TOTAL : 20100\n"
          ]
        }
      ],
      "source": [
        "shtrih = ['0225', '1116', '9394', '3218', '9678', '6869']\n",
        "tovar = ['ruchka', 'laptop', 'chay', 'majito', 'sprite', 'rezinka']\n",
        "tsena = [50, 20000, 50, 65, 55, 20]\n",
        "\n",
        "\n",
        "def kassoviy_check(karzinka):\n",
        "    total = 0\n",
        "    result = 'KASSOVIY CHECK\\n_______________\\n'\n",
        "    for k in karzinka.split(','):\n",
        "        for sh, to, ts in zip(shtrih, tovar, tsena):\n",
        "            if k == sh:\n",
        "                result += to + ' -> ' + str(ts) + '\\n'\n",
        "                total += ts\n",
        "    return result + '\\n___________\\nTOTAL : ' + str(total)\n",
        " \n",
        "\n",
        "\n",
        "karzinka = '0225,9394,1116'\n",
        "print(kassoviy_check(karzinka))\n",
        "\n"
      ]
    },
    {
      "cell_type": "code",
      "execution_count": null,
      "metadata": {},
      "outputs": [],
      "source": []
    }
  ],
  "metadata": {
    "kernelspec": {
      "display_name": "Python 3",
      "language": "python",
      "name": "python3"
    },
    "language_info": {
      "codemirror_mode": {
        "name": "ipython",
        "version": 3
      },
      "file_extension": ".py",
      "mimetype": "text/x-python",
      "name": "python",
      "nbconvert_exporter": "python",
      "pygments_lexer": "ipython3",
      "version": "3.11.9"
    }
  },
  "nbformat": 4,
  "nbformat_minor": 4
}
