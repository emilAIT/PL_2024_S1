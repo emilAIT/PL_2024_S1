{
  "cells": [
    {
      "cell_type": "code",
      "execution_count": 2,
      "metadata": {},
      "outputs": [
        {
          "name": "stdout",
          "output_type": "stream",
          "text": [
            "a =  10\n"
          ]
        }
      ],
      "source": [
        "a = 10\n",
        "print('a = ', a)"
      ]
    },
    {
      "cell_type": "code",
      "execution_count": 3,
      "metadata": {},
      "outputs": [
        {
          "name": "stdout",
          "output_type": "stream",
          "text": [
            "emilemilemilemilemilemilemilemilemilemil\n"
          ]
        }
      ],
      "source": [
        "a = 'emil'\n",
        "b = 10\n",
        "print(a * b)"
      ]
    },
    {
      "cell_type": "code",
      "execution_count": 4,
      "metadata": {},
      "outputs": [
        {
          "name": "stdout",
          "output_type": "stream",
          "text": [
            "emilemilemilemilemilemilemilemilemilemil\n"
          ]
        }
      ],
      "source": [
        "print(b * a)"
      ]
    },
    {
      "cell_type": "code",
      "execution_count": 5,
      "metadata": {},
      "outputs": [],
      "source": [
        "emil = 10\n",
        "emil0 = 20"
      ]
    },
    {
      "cell_type": "code",
      "execution_count": 6,
      "metadata": {},
      "outputs": [
        {
          "name": "stdout",
          "output_type": "stream",
          "text": [
            "emil\n"
          ]
        }
      ],
      "source": [
        "print('emil')\n",
        "#print(emil + emil2)"
      ]
    },
    {
      "cell_type": "code",
      "execution_count": 7,
      "metadata": {},
      "outputs": [
        {
          "ename": "NameError",
          "evalue": "name 'emil2' is not defined",
          "output_type": "error",
          "traceback": [
            "\u001b[1;31m---------------------------------------------------------------------------\u001b[0m",
            "\u001b[1;31mNameError\u001b[0m                                 Traceback (most recent call last)",
            "Cell \u001b[1;32mIn[7], line 1\u001b[0m\n\u001b[1;32m----> 1\u001b[0m \u001b[38;5;28mprint\u001b[39m(emil \u001b[38;5;241m+\u001b[39m \u001b[43memil2\u001b[49m)\n",
            "\u001b[1;31mNameError\u001b[0m: name 'emil2' is not defined"
          ]
        }
      ],
      "source": [
        "print(emil + emil2)"
      ]
    },
    {
      "cell_type": "code",
      "execution_count": 8,
      "metadata": {},
      "outputs": [
        {
          "name": "stdout",
          "output_type": "stream",
          "text": [
            "20\n"
          ]
        }
      ],
      "source": [
        "print(b + emil)"
      ]
    },
    {
      "cell_type": "code",
      "execution_count": 9,
      "metadata": {},
      "outputs": [
        {
          "data": {
            "text/plain": [
              "'emil'"
            ]
          },
          "execution_count": 9,
          "metadata": {},
          "output_type": "execute_result"
        }
      ],
      "source": [
        "a"
      ]
    },
    {
      "cell_type": "code",
      "execution_count": 10,
      "metadata": {},
      "outputs": [
        {
          "data": {
            "text/plain": [
              "10"
            ]
          },
          "execution_count": 10,
          "metadata": {},
          "output_type": "execute_result"
        }
      ],
      "source": [
        "emil"
      ]
    },
    {
      "cell_type": "code",
      "execution_count": 11,
      "metadata": {},
      "outputs": [
        {
          "ename": "TypeError",
          "evalue": "can only concatenate str (not \"int\") to str",
          "output_type": "error",
          "traceback": [
            "\u001b[1;31m---------------------------------------------------------------------------\u001b[0m",
            "\u001b[1;31mTypeError\u001b[0m                                 Traceback (most recent call last)",
            "Cell \u001b[1;32mIn[11], line 1\u001b[0m\n\u001b[1;32m----> 1\u001b[0m \u001b[38;5;28mprint\u001b[39m(a, emil, \u001b[43ma\u001b[49m\u001b[43m \u001b[49m\u001b[38;5;241;43m+\u001b[39;49m\u001b[43m \u001b[49m\u001b[43memil\u001b[49m)\n",
            "\u001b[1;31mTypeError\u001b[0m: can only concatenate str (not \"int\") to str"
          ]
        }
      ],
      "source": [
        "print(a, emil, a + emil)"
      ]
    },
    {
      "cell_type": "code",
      "execution_count": 91,
      "metadata": {},
      "outputs": [
        {
          "name": "stdout",
          "output_type": "stream",
          "text": [
            "10 <class 'int'>\n",
            "emil <class 'str'>\n"
          ]
        }
      ],
      "source": [
        "#print(sm, type(sm))\n",
        "sm = 10\n",
        "print(sm, type(sm))\n",
        "sm = 'emil'\n",
        "print(sm, type(sm))"
      ]
    },
    {
      "cell_type": "code",
      "execution_count": 16,
      "metadata": {},
      "outputs": [
        {
          "name": "stdout",
          "output_type": "stream",
          "text": [
            "c\n"
          ]
        }
      ],
      "source": [
        "print(a[-1])"
      ]
    },
    {
      "cell_type": "code",
      "execution_count": 17,
      "metadata": {},
      "outputs": [
        {
          "name": "stdout",
          "output_type": "stream",
          "text": [
            "7\n"
          ]
        }
      ],
      "source": [
        "a = 'student'\n",
        "print(len(a))"
      ]
    },
    {
      "cell_type": "code",
      "execution_count": 18,
      "metadata": {},
      "outputs": [
        {
          "ename": "IndexError",
          "evalue": "string index out of range",
          "output_type": "error",
          "traceback": [
            "\u001b[1;31m---------------------------------------------------------------------------\u001b[0m",
            "\u001b[1;31mIndexError\u001b[0m                                Traceback (most recent call last)",
            "Cell \u001b[1;32mIn[18], line 1\u001b[0m\n\u001b[1;32m----> 1\u001b[0m \u001b[38;5;28mprint\u001b[39m(\u001b[43ma\u001b[49m\u001b[43m[\u001b[49m\u001b[38;5;241;43m7\u001b[39;49m\u001b[43m]\u001b[49m)\n",
            "\u001b[1;31mIndexError\u001b[0m: string index out of range"
          ]
        }
      ],
      "source": [
        "print(a[7])"
      ]
    },
    {
      "cell_type": "code",
      "execution_count": 28,
      "metadata": {},
      "outputs": [
        {
          "ename": "TypeError",
          "evalue": "string indices must be integers, not 'float'",
          "output_type": "error",
          "traceback": [
            "\u001b[1;31m---------------------------------------------------------------------------\u001b[0m",
            "\u001b[1;31mTypeError\u001b[0m                                 Traceback (most recent call last)",
            "Cell \u001b[1;32mIn[28], line 2\u001b[0m\n\u001b[0;32m      1\u001b[0m a \u001b[38;5;241m=\u001b[39m \u001b[38;5;124m'\u001b[39m\u001b[38;5;124mstudentbek\u001b[39m\u001b[38;5;124m'\u001b[39m\n\u001b[1;32m----> 2\u001b[0m \u001b[38;5;28mprint\u001b[39m(\u001b[43ma\u001b[49m\u001b[43m[\u001b[49m\u001b[38;5;28;43mlen\u001b[39;49m\u001b[43m(\u001b[49m\u001b[43ma\u001b[49m\u001b[43m)\u001b[49m\u001b[38;5;241;43m/\u001b[39;49m\u001b[38;5;241;43m2\u001b[39;49m\u001b[43m]\u001b[49m)\n\u001b[0;32m      3\u001b[0m \u001b[38;5;66;03m#print('last character = ', a[len(a) - 1])\u001b[39;00m\n",
            "\u001b[1;31mTypeError\u001b[0m: string indices must be integers, not 'float'"
          ]
        }
      ],
      "source": [
        "a = 'studentbek'\n",
        "print(a[len(a)/2])\n",
        "#print('last character = ', a[len(a) - 1])"
      ]
    },
    {
      "cell_type": "code",
      "execution_count": 31,
      "metadata": {},
      "outputs": [
        {
          "name": "stdout",
          "output_type": "stream",
          "text": [
            "5.5 5 5\n"
          ]
        }
      ],
      "source": [
        "print( 11 / 2, 11 // 2, int(11 / 2))"
      ]
    },
    {
      "cell_type": "code",
      "execution_count": 35,
      "metadata": {},
      "outputs": [
        {
          "name": "stdout",
          "output_type": "stream",
          "text": [
            "10\n"
          ]
        }
      ],
      "source": [
        "print(round(10.50))"
      ]
    },
    {
      "cell_type": "code",
      "execution_count": 39,
      "metadata": {},
      "outputs": [
        {
          "name": "stdout",
          "output_type": "stream",
          "text": [
            "xxxxxxxxxx\n"
          ]
        }
      ],
      "source": [
        "if 10 < 2:\n",
        " print('pravilno')\n",
        "else:\n",
        "    a = 10\n",
        "    print('x' * 10)"
      ]
    },
    {
      "cell_type": "code",
      "execution_count": 44,
      "metadata": {},
      "outputs": [
        {
          "name": "stdout",
          "output_type": "stream",
          "text": [
            "ploho\n",
            "40.0\n"
          ]
        }
      ],
      "source": [
        "student1 = 10\n",
        "student2 = 10\n",
        "student3 = 100\n",
        "\n",
        "r = (student1 + student2 + student3) / 3\n",
        "\n",
        "if r >= 70:\n",
        "    print('horosho')\n",
        "else:\n",
        "    print('ploho')\n",
        "\n",
        "print(r)\n"
      ]
    },
    {
      "cell_type": "code",
      "execution_count": 81,
      "metadata": {},
      "outputs": [],
      "source": []
    },
    {
      "cell_type": "code",
      "execution_count": 84,
      "metadata": {},
      "outputs": [
        {
          "name": "stdout",
          "output_type": "stream",
          "text": [
            "summa =  -3\n",
            "exam is today\n"
          ]
        }
      ],
      "source": [
        "# proveryayem summu studentov\n",
        "s1, s2, s3, s4, s5, s6, s7, s8, s9, s10 = 1, 1, 1, 1, 1, 1, 1, -10, 0, 0\n",
        "summa = s1 + s2 + s3 + s4 + s5 + s6 + s7 + s8 + s9 + s10\n",
        "print('summa = ', summa)\n",
        "if s1 > 1 or s2 > 1 or s3 > 1 or s4 > 1 or s5 > 1 or s6 > 1 or s7 > 1 or s8 > 1 or s9 > 1 or s10 > 1:\n",
        "    print('julnichuyut odin ili bolshe studentov pdnyal(i) dve ruki')\n",
        "elif summa > 10:\n",
        "    print('julnichuyut')\n",
        "elif summa == 10:\n",
        "    print('No exam')\n",
        "elif summa < 10 and summa >= 8:\n",
        "    print('exam is tomorrow')\n",
        "elif summa >= 5 and summa < 8:\n",
        "    print('exam is day after tomorrow')\n",
        "else: \n",
        "    print('exam is today') "
      ]
    },
    {
      "cell_type": "code",
      "execution_count": 92,
      "metadata": {},
      "outputs": [
        {
          "name": "stdout",
          "output_type": "stream",
          "text": [
            "not normal\n",
            "not normal\n"
          ]
        }
      ],
      "source": [
        "# napishi programmu kotoriy proverit s odin ili nol\n",
        "s = -1\n",
        "if s >= 0 and s <= 1:\n",
        "    print('normal')\n",
        "elif s < 0:\n",
        "    print('not normal')\n",
        "\n",
        "\n",
        "## secon version\n",
        "if s == 1 or s == 0:\n",
        "    print('normal')\n",
        "else:\n",
        "    print('not normal')"
      ]
    },
    {
      "cell_type": "code",
      "execution_count": 102,
      "metadata": {},
      "outputs": [],
      "source": [
        "def y(p, x): \n",
        "    return p * p + 5 - p*x"
      ]
    },
    {
      "cell_type": "code",
      "execution_count": 103,
      "metadata": {},
      "outputs": [
        {
          "name": "stdout",
          "output_type": "stream",
          "text": [
            "11\n",
            "95\n",
            "39805\n"
          ]
        }
      ],
      "source": [
        "print( 3 * 3 + 5 - 3)\n",
        "print( 10 * 10 + 5 - 10)\n",
        "print( 200 * 200 + 5 - 200)\n"
      ]
    },
    {
      "cell_type": "code",
      "execution_count": 107,
      "metadata": {},
      "outputs": [],
      "source": [
        "def isFirstMinimum(s1, s2, s3, s4):\n",
        "    if s1 <= s2 and s1 <= s3 and s1 <= s4:\n",
        "        return True\n",
        "    else:\n",
        "        return False\n",
        "\n",
        "\n",
        "def getMin2(s1, s2, s3, s4):\n",
        "    if s1 >= s2 and s1 >= s3 and s1 >= s4:\n",
        "        print(s1)\n",
        "    elif s2 > s1 and s2 > s3 and s2 > s4:\n",
        "        print(s2)\n",
        "    elif s3 > s1 and s3 > s2 and s3 > s4:\n",
        "        print(s3)\n",
        "    else:\n",
        "        print(s4)\n",
        "\n",
        "\n",
        "def getMinValue(s1, s2, s3, s4):\n",
        "    if isFirstMinimum(s1, s2, s3, s4):\n",
        "        print(s1)\n",
        "    elif isFirstMinimum(s2, s1, s3, s4):\n",
        "        print(s2)\n",
        "    elif isFirstMinimum(s3, s1, s4, s2):\n",
        "        print(s3)\n",
        "    else:\n",
        "        print(s4)\n",
        "\n"
      ]
    },
    {
      "cell_type": "code",
      "execution_count": 108,
      "metadata": {},
      "outputs": [
        {
          "name": "stdout",
          "output_type": "stream",
          "text": [
            "1\n",
            "None\n"
          ]
        }
      ],
      "source": [
        "print(getMinValue(5, 7, 13, 1))"
      ]
    },
    {
      "cell_type": "code",
      "execution_count": 115,
      "metadata": {},
      "outputs": [
        {
          "name": "stdout",
          "output_type": "stream",
          "text": [
            "s1 type = <class 'str'>, 10, s2 type = <class 'str'>, 20.2, s1 + s2 =  1020.2\n",
            "s1 type = <class 'float'>, 10.0, s2 type = <class 'float'>, 20.2, s1 + s2 =  30.2\n"
          ]
        }
      ],
      "source": [
        "def myprint(s1, s2):\n",
        "    print(f's1 type = {type(s1)}, {s1}, s2 type = {type(s2)}, {s2}, s1 + s2 = ', s1 + s2)\n",
        "\n",
        "s1 = \"10\"\n",
        "s2 = \"20.2\"\n",
        "myprint(s1, s2)\n",
        "s1 = float(s1)\n",
        "s2 = float(s2)\n",
        "myprint(s1, s2)\n"
      ]
    },
    {
      "cell_type": "code",
      "execution_count": 120,
      "metadata": {},
      "outputs": [
        {
          "name": "stdout",
          "output_type": "stream",
          "text": [
            "50\n"
          ]
        }
      ],
      "source": [
        "def abcd(a, b):\n",
        "    if a > b:\n",
        "        return a\n",
        "    else:\n",
        "        return b\n"
      ]
    },
    {
      "cell_type": "code",
      "execution_count": 126,
      "metadata": {},
      "outputs": [
        {
          "name": "stdout",
          "output_type": "stream",
          "text": [
            "[1, 2, 3, 5, 100, 6, 2]\n",
            "min value is :  1\n"
          ]
        }
      ],
      "source": [
        "arr = [1, 2, 3, 5, 0, 6, 2]\n",
        "arr[4] = 100\n",
        "m = arr[0]\n",
        "for i in arr: \n",
        "    if i < m:\n",
        "        m = i\n",
        "print(arr)\n",
        "print('min value is : ', m)"
      ]
    },
    {
      "cell_type": "code",
      "execution_count": 130,
      "metadata": {},
      "outputs": [
        {
          "name": "stdout",
          "output_type": "stream",
          "text": [
            "emil\n",
            "['x', 'm', 'i', 'l']\n",
            "x\n",
            "m\n",
            "i\n",
            "l\n"
          ]
        }
      ],
      "source": [
        "s = 'emil'\n",
        "print(s)\n",
        "s = list(s)\n",
        "s[0] = 'x'\n",
        "print(s)\n",
        "for i in s:\n",
        "    print(i)"
      ]
    },
    {
      "cell_type": "code",
      "execution_count": 134,
      "metadata": {},
      "outputs": [
        {
          "name": "stdout",
          "output_type": "stream",
          "text": [
            "sum =  14\n",
            "count =  6\n",
            "average =  2.3333333333333335\n"
          ]
        }
      ],
      "source": [
        "arr = [1, 3, 4, 9, 0, -3]\n",
        "n = 0; \n",
        "c = 0\n",
        "for i in arr:\n",
        "    n += i\n",
        "    c += 1\n",
        "print('sum = ', n)\n",
        "print('count = ', c)\n",
        "print(\"average = \", n / c)  "
      ]
    },
    {
      "cell_type": "code",
      "execution_count": 141,
      "metadata": {},
      "outputs": [
        {
          "name": "stdout",
          "output_type": "stream",
          "text": [
            "True\n"
          ]
        }
      ],
      "source": [
        "arr = [1, 3, 4, 5, 9, 0, -3]\n",
        "x = False\n",
        "for p in arr:\n",
        "    x = x or p == 5\n",
        "print(x)"
      ]
    },
    {
      "cell_type": "code",
      "execution_count": 149,
      "metadata": {},
      "outputs": [
        {
          "name": "stdout",
          "output_type": "stream",
          "text": [
            "False\n"
          ]
        }
      ],
      "source": [
        "def exist(arr, t):\n",
        "    for i in arr:\n",
        "        if i == t:\n",
        "            return True\n",
        "    return False\n",
        "\n",
        "print(exist(arr, 5))"
      ]
    },
    {
      "cell_type": "code",
      "execution_count": 151,
      "metadata": {},
      "outputs": [
        {
          "name": "stdout",
          "output_type": "stream",
          "text": [
            "0\n"
          ]
        }
      ],
      "source": [
        "p = 0\n",
        "for i in arr:\n",
        "    if i == 5:\n",
        "        p += 1\n",
        "if p > 0:\n",
        "    print(p)\n",
        "else:\n",
        "    print(p)"
      ]
    },
    {
      "cell_type": "code",
      "execution_count": 155,
      "metadata": {},
      "outputs": [
        {
          "name": "stdout",
          "output_type": "stream",
          "text": [
            "0 1 0 1\n",
            "0 1 1 1\n",
            "0 1 2 1\n",
            "0 1 3 1\n",
            "0 1 4 1\n",
            "0 1 5 1\n",
            "1 9 0 9\n",
            "1 9 1 9\n",
            "1 9 2 9\n",
            "1 9 3 9\n",
            "1 9 4 9\n",
            "1 9 5 9\n",
            "2 0 0 0\n",
            "2 0 1 0\n",
            "2 0 2 0\n",
            "2 0 3 0\n",
            "2 0 4 0\n",
            "2 0 5 0\n",
            "3 2 0 2\n",
            "3 2 1 2\n",
            "3 2 2 2\n",
            "3 2 3 2\n",
            "3 2 4 2\n",
            "3 2 5 2\n",
            "4 3 0 3\n",
            "4 3 1 3\n",
            "4 3 2 3\n",
            "4 3 3 3\n",
            "4 3 4 3\n",
            "4 3 5 3\n",
            "5 6 0 6\n",
            "5 6 1 6\n",
            "5 6 2 6\n",
            "5 6 3 6\n",
            "5 6 4 6\n",
            "5 6 5 6\n"
          ]
        }
      ],
      "source": [
        " arr = [1, 9, 0, 2, 3, 6] \n",
        "\n",
        " for index1, i in enumerate(arr):\n",
        "    for index2, j in enumerate(arr):\n",
        "        print(index1, i, index2, i)\n",
        "        # if i + j == 18 and index1 != index2:\n",
        "        #     print(i, j, True)"
      ]
    },
    {
      "cell_type": "code",
      "execution_count": 157,
      "metadata": {},
      "outputs": [
        {
          "name": "stdout",
          "output_type": "stream",
          "text": [
            "[1, 9, 0, 2, 3, 6]\n",
            "0 1\n",
            "1 9\n",
            "2 0\n",
            "3 2\n",
            "4 3\n",
            "5 6\n"
          ]
        }
      ],
      "source": [
        "print(arr)\n",
        "for x, i in enumerate(arr):\n",
        "    print(x, i)"
      ]
    },
    {
      "cell_type": "code",
      "execution_count": 2,
      "metadata": {},
      "outputs": [],
      "source": [
        "### 11 / 09 / 2024"
      ]
    },
    {
      "cell_type": "code",
      "execution_count": 4,
      "metadata": {},
      "outputs": [
        {
          "name": "stdout",
          "output_type": "stream",
          "text": [
            "[1, 2, 0, 7, 2, 1]\n",
            "summa =  13\n"
          ]
        }
      ],
      "source": [
        "arr = [1, 2, 0, 7, 2, 1]\n",
        "\n",
        "s = 0\n",
        "for i in arr:\n",
        "    s += i\n",
        "print(arr)\n",
        "print('summa = ', s)"
      ]
    },
    {
      "cell_type": "code",
      "execution_count": 5,
      "metadata": {},
      "outputs": [
        {
          "name": "stdout",
          "output_type": "stream",
          "text": [
            "[1, 2, 0, 7, 2, 1]\n",
            "minimum value in an array =  0\n"
          ]
        }
      ],
      "source": [
        "m = arr[0]\n",
        "for i in arr:\n",
        "    if m > i:\n",
        "        m = i\n",
        "print(arr)\n",
        "print('minimum value in an array = ', m)"
      ]
    },
    {
      "cell_type": "code",
      "execution_count": 9,
      "metadata": {},
      "outputs": [
        {
          "name": "stdout",
          "output_type": "stream",
          "text": [
            "n =  0  ->  Atai\n",
            "after n =  1\n",
            "n =  1  ->  Alim\n",
            "after n =  2\n",
            "n =  2  ->  Tynchtyk\n",
            "after n =  3\n",
            "n =  3  ->  Nur\n",
            "after n =  4\n",
            "n =  4  ->  Samat\n",
            "after n =  5\n",
            "n =  5  ->  Atabek\n",
            "after n =  6\n",
            "['Atai', 'Alim', 'Tynchtyk', 'Nur', 'Samat', 'Atabek'] 7\n",
            "ne vse tut, missin =  1\n"
          ]
        }
      ],
      "source": [
        "arr = ['Atai', 'Alim', 'Tynchtyk', 'Nur', 'Samat', 'Atabek']\n",
        "N = 7\n",
        "\n",
        "n = 0\n",
        "for i in arr:\n",
        "    print('n = ', n, ' -> ', i)\n",
        "    n += 1\n",
        "    print('after n = ', n)\n",
        "\n",
        "print(arr, N)\n",
        "if n == N:\n",
        "    print('vse tut')\n",
        "elif n < N:\n",
        "    print('ne vse tut, missin = ', N - n)\n",
        "elif n > N:\n",
        "    print('bolshe ludey na = ', n - N)\n"
      ]
    },
    {
      "cell_type": "code",
      "execution_count": 45,
      "metadata": {},
      "outputs": [
        {
          "name": "stdout",
          "output_type": "stream",
          "text": [
            "1  random number =  8\n",
            "2  random number =  58\n",
            "3  random number =  32\n"
          ]
        }
      ],
      "source": [
        "from random import randint\n",
        "for i in range(3):\n",
        "    print(i+1, ' random number = ', randint(1, 60))\n"
      ]
    },
    {
      "cell_type": "code",
      "execution_count": 15,
      "metadata": {},
      "outputs": [
        {
          "name": "stdout",
          "output_type": "stream",
          "text": [
            "Nurbek  est v massive =  False\n",
            "Nurbek  bar massivde =  False\n"
          ]
        }
      ],
      "source": [
        "arr = ['Atai', 'Alim', 'Tynchtyk', 'Nur', 'Samat', 'Atabek']\n",
        "name = 'Nurbek'\n",
        "jokeyy = False\n",
        "\n",
        "for imya in arr:\n",
        "    jokeyy = jokeyy or name == imya\n",
        "\n",
        "print(name, ' est v massive = ', jokeyy)\n",
        "\n",
        "result = False\n",
        "for imya in arr:\n",
        "    if imya == name:\n",
        "        result = True\n",
        "print(name, ' bar massivde = ', result)"
      ]
    },
    {
      "cell_type": "code",
      "execution_count": 17,
      "metadata": {},
      "outputs": [
        {
          "name": "stdout",
          "output_type": "stream",
          "text": [
            "['Atai', 'Alim', 'Tynchtyk', 'Nur', 'Samat', 'Atabek']\n",
            "Tynchtyk\n"
          ]
        }
      ],
      "source": [
        "arr = ['Atai', 'Alim', 'Tynchtyk', 'Nur', 'Samat', 'Atabek']\n",
        "n = arr[0]\n",
        "for i in arr:\n",
        "    if i > n:\n",
        "        n = i\n",
        "print(arr)\n",
        "print(n)"
      ]
    },
    {
      "cell_type": "code",
      "execution_count": 19,
      "metadata": {},
      "outputs": [
        {
          "name": "stdout",
          "output_type": "stream",
          "text": [
            "Atabek\n"
          ]
        }
      ],
      "source": [
        "arr = ['Atai', 'Atalim', 'Tynchtyk', 'Nur', 'Samat', 'Atabek']\n",
        "\n",
        "n = arr[0]\n",
        "for i in arr:\n",
        "    if i < n:\n",
        "        n = i\n",
        "print(n)"
      ]
    },
    {
      "cell_type": "code",
      "execution_count": 25,
      "metadata": {},
      "outputs": [
        {
          "name": "stdout",
          "output_type": "stream",
          "text": [
            "longest name =  Atabekov\n",
            "Atalimba\n",
            "Tynchtyk\n",
            "Atabekov\n"
          ]
        }
      ],
      "source": [
        "arr = ['Atai', 'Atalimba', 'Tynchtyk', 'Nur', 'Samat', 'Atabekov']\n",
        "n = arr[0]\n",
        "for i in arr:\n",
        "    if len(i) >= len(n):\n",
        "        n = i\n",
        "print('longest name = ', n)\n",
        "\n",
        "for i in arr:\n",
        "    if len(i) == len(n):\n",
        "        print(i)\n",
        "\n"
      ]
    },
    {
      "cell_type": "code",
      "execution_count": 26,
      "metadata": {},
      "outputs": [
        {
          "name": "stdout",
          "output_type": "stream",
          "text": [
            "['Atalimba', 'Tynchtyk', 'Atabekov']\n"
          ]
        }
      ],
      "source": [
        "print([i for i in arr if len(i) == max([len(j) for j in arr])])"
      ]
    },
    {
      "cell_type": "code",
      "execution_count": 40,
      "metadata": {},
      "outputs": [
        {
          "name": "stdout",
          "output_type": "stream",
          "text": [
            "[9, 8, 5, 3, 2, 1]\n"
          ]
        }
      ],
      "source": [
        "arr = [1, 2, 3, 5, 8, 9]\n",
        "\n",
        "print(arr[len(arr) - 1 : :-1])"
      ]
    },
    {
      "cell_type": "code",
      "execution_count": 41,
      "metadata": {},
      "outputs": [
        {
          "name": "stdout",
          "output_type": "stream",
          "text": [
            "[5, 8, 9]\n"
          ]
        }
      ],
      "source": [
        "print(arr[3:])"
      ]
    },
    {
      "cell_type": "code",
      "execution_count": 42,
      "metadata": {},
      "outputs": [
        {
          "name": "stdout",
          "output_type": "stream",
          "text": [
            "[1, 2, 3, 5]\n"
          ]
        }
      ],
      "source": [
        "print(arr[:4])"
      ]
    },
    {
      "cell_type": "code",
      "execution_count": 49,
      "metadata": {},
      "outputs": [
        {
          "name": "stdout",
          "output_type": "stream",
          "text": [
            "min = -10, max = -1, difference = 9\n"
          ]
        }
      ],
      "source": [
        "arr = [-1, -2, -3, -5, -10, -8, -2]\n",
        "min = arr[0]\n",
        "max = arr[0]\n",
        "for i in arr:\n",
        "    if min > i:\n",
        "        min = i\n",
        "    if max < i:\n",
        "        max = i\n",
        "\n",
        "print(f'min = {min}, max = {max}, difference = {max - min}')"
      ]
    },
    {
      "cell_type": "code",
      "execution_count": 51,
      "metadata": {},
      "outputs": [
        {
          "name": "stdout",
          "output_type": "stream",
          "text": [
            "[1, 2, 3, 5, 5, 6, 7]\n",
            "[1, 2, 3]\n",
            "[5, 5, 6, 7]\n"
          ]
        }
      ],
      "source": [
        "arr = [1, 2, 3, 5, 5, 6, 7]\n",
        "print(arr)\n",
        "print(arr[:3])\n",
        "print(arr[3:])"
      ]
    },
    {
      "cell_type": "code",
      "execution_count": 58,
      "metadata": {},
      "outputs": [
        {
          "name": "stdout",
          "output_type": "stream",
          "text": [
            "[1, 2, 3, 5, 4, 2]\n",
            "[1, 2, 3, 'abc', 'def']\n"
          ]
        }
      ],
      "source": [
        "arr1 = [1, 2, 3]\n",
        "arr2 = [5, 4, 2]\n",
        "print(arr1 + arr2)\n",
        "print(arr1 + ['abc', 'def'])"
      ]
    },
    {
      "cell_type": "code",
      "execution_count": 61,
      "metadata": {},
      "outputs": [
        {
          "name": "stdout",
          "output_type": "stream",
          "text": [
            "['emil', 'bil', 'ait', 'kg', 1]\n"
          ]
        },
        {
          "ename": "TypeError",
          "evalue": "sequence item 4: expected str instance, int found",
          "output_type": "error",
          "traceback": [
            "\u001b[1;31m---------------------------------------------------------------------------\u001b[0m",
            "\u001b[1;31mTypeError\u001b[0m                                 Traceback (most recent call last)",
            "Cell \u001b[1;32mIn[61], line 4\u001b[0m\n\u001b[0;32m      1\u001b[0m arr \u001b[38;5;241m=\u001b[39m [\u001b[38;5;124m'\u001b[39m\u001b[38;5;124memil\u001b[39m\u001b[38;5;124m'\u001b[39m, \u001b[38;5;124m'\u001b[39m\u001b[38;5;124mbil\u001b[39m\u001b[38;5;124m'\u001b[39m, \u001b[38;5;124m'\u001b[39m\u001b[38;5;124mait\u001b[39m\u001b[38;5;124m'\u001b[39m, \u001b[38;5;124m'\u001b[39m\u001b[38;5;124mkg\u001b[39m\u001b[38;5;124m'\u001b[39m, \u001b[38;5;241m1\u001b[39m]\n\u001b[0;32m      3\u001b[0m \u001b[38;5;28mprint\u001b[39m(arr)\n\u001b[1;32m----> 4\u001b[0m \u001b[38;5;28mprint\u001b[39m(\u001b[38;5;124;43m'\u001b[39;49m\u001b[38;5;124;43m->\u001b[39;49m\u001b[38;5;124;43m'\u001b[39;49m\u001b[38;5;241;43m.\u001b[39;49m\u001b[43mjoin\u001b[49m\u001b[43m(\u001b[49m\u001b[43marr\u001b[49m\u001b[43m)\u001b[49m)\n",
            "\u001b[1;31mTypeError\u001b[0m: sequence item 4: expected str instance, int found"
          ]
        }
      ],
      "source": [
        "arr = ['emil', 'bil', 'ait', 'kg', 1]\n",
        "\n",
        "print(arr)\n",
        "print('->'.join(arr))"
      ]
    },
    {
      "cell_type": "code",
      "execution_count": null,
      "metadata": {},
      "outputs": [],
      "source": []
    }
  ],
  "metadata": {
    "kernelspec": {
      "display_name": "Python 3",
      "language": "python",
      "name": "python3"
    },
    "language_info": {
      "codemirror_mode": {
        "name": "ipython",
        "version": 3
      },
      "file_extension": ".py",
      "mimetype": "text/x-python",
      "name": "python",
      "nbconvert_exporter": "python",
      "pygments_lexer": "ipython3",
      "version": "3.11.9"
    }
  },
  "nbformat": 4,
  "nbformat_minor": 4
}
