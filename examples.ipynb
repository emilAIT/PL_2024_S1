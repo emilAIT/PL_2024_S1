{
  "cells": [
    {
      "cell_type": "code",
      "execution_count": 2,
      "metadata": {},
      "outputs": [
        {
          "name": "stdout",
          "output_type": "stream",
          "text": [
            "a =  10\n"
          ]
        }
      ],
      "source": [
        "a = 10\n",
        "print('a = ', a)"
      ]
    },
    {
      "cell_type": "code",
      "execution_count": 3,
      "metadata": {},
      "outputs": [
        {
          "name": "stdout",
          "output_type": "stream",
          "text": [
            "emilemilemilemilemilemilemilemilemilemil\n"
          ]
        }
      ],
      "source": [
        "a = 'emil'\n",
        "b = 10\n",
        "print(a * b)"
      ]
    },
    {
      "cell_type": "code",
      "execution_count": 4,
      "metadata": {},
      "outputs": [
        {
          "name": "stdout",
          "output_type": "stream",
          "text": [
            "emilemilemilemilemilemilemilemilemilemil\n"
          ]
        }
      ],
      "source": [
        "print(b * a)"
      ]
    },
    {
      "cell_type": "code",
      "execution_count": 5,
      "metadata": {},
      "outputs": [],
      "source": [
        "emil = 10\n",
        "emil0 = 20"
      ]
    },
    {
      "cell_type": "code",
      "execution_count": 6,
      "metadata": {},
      "outputs": [
        {
          "name": "stdout",
          "output_type": "stream",
          "text": [
            "emil\n"
          ]
        }
      ],
      "source": [
        "print('emil')\n",
        "#print(emil + emil2)"
      ]
    },
    {
      "cell_type": "code",
      "execution_count": 7,
      "metadata": {},
      "outputs": [
        {
          "ename": "NameError",
          "evalue": "name 'emil2' is not defined",
          "output_type": "error",
          "traceback": [
            "\u001b[1;31m---------------------------------------------------------------------------\u001b[0m",
            "\u001b[1;31mNameError\u001b[0m                                 Traceback (most recent call last)",
            "Cell \u001b[1;32mIn[7], line 1\u001b[0m\n\u001b[1;32m----> 1\u001b[0m \u001b[38;5;28mprint\u001b[39m(emil \u001b[38;5;241m+\u001b[39m \u001b[43memil2\u001b[49m)\n",
            "\u001b[1;31mNameError\u001b[0m: name 'emil2' is not defined"
          ]
        }
      ],
      "source": [
        "print(emil + emil2)"
      ]
    },
    {
      "cell_type": "code",
      "execution_count": 8,
      "metadata": {},
      "outputs": [
        {
          "name": "stdout",
          "output_type": "stream",
          "text": [
            "20\n"
          ]
        }
      ],
      "source": [
        "print(b + emil)"
      ]
    },
    {
      "cell_type": "code",
      "execution_count": 9,
      "metadata": {},
      "outputs": [
        {
          "data": {
            "text/plain": [
              "'emil'"
            ]
          },
          "execution_count": 9,
          "metadata": {},
          "output_type": "execute_result"
        }
      ],
      "source": [
        "a"
      ]
    },
    {
      "cell_type": "code",
      "execution_count": 10,
      "metadata": {},
      "outputs": [
        {
          "data": {
            "text/plain": [
              "10"
            ]
          },
          "execution_count": 10,
          "metadata": {},
          "output_type": "execute_result"
        }
      ],
      "source": [
        "emil"
      ]
    },
    {
      "cell_type": "code",
      "execution_count": 11,
      "metadata": {},
      "outputs": [
        {
          "ename": "TypeError",
          "evalue": "can only concatenate str (not \"int\") to str",
          "output_type": "error",
          "traceback": [
            "\u001b[1;31m---------------------------------------------------------------------------\u001b[0m",
            "\u001b[1;31mTypeError\u001b[0m                                 Traceback (most recent call last)",
            "Cell \u001b[1;32mIn[11], line 1\u001b[0m\n\u001b[1;32m----> 1\u001b[0m \u001b[38;5;28mprint\u001b[39m(a, emil, \u001b[43ma\u001b[49m\u001b[43m \u001b[49m\u001b[38;5;241;43m+\u001b[39;49m\u001b[43m \u001b[49m\u001b[43memil\u001b[49m)\n",
            "\u001b[1;31mTypeError\u001b[0m: can only concatenate str (not \"int\") to str"
          ]
        }
      ],
      "source": [
        "print(a, emil, a + emil)"
      ]
    },
    {
      "cell_type": "code",
      "execution_count": 91,
      "metadata": {},
      "outputs": [
        {
          "name": "stdout",
          "output_type": "stream",
          "text": [
            "10 <class 'int'>\n",
            "emil <class 'str'>\n"
          ]
        }
      ],
      "source": [
        "#print(sm, type(sm))\n",
        "sm = 10\n",
        "print(sm, type(sm))\n",
        "sm = 'emil'\n",
        "print(sm, type(sm))"
      ]
    },
    {
      "cell_type": "code",
      "execution_count": 16,
      "metadata": {},
      "outputs": [
        {
          "name": "stdout",
          "output_type": "stream",
          "text": [
            "c\n"
          ]
        }
      ],
      "source": [
        "print(a[-1])"
      ]
    },
    {
      "cell_type": "code",
      "execution_count": 17,
      "metadata": {},
      "outputs": [
        {
          "name": "stdout",
          "output_type": "stream",
          "text": [
            "7\n"
          ]
        }
      ],
      "source": [
        "a = 'student'\n",
        "print(len(a))"
      ]
    },
    {
      "cell_type": "code",
      "execution_count": 18,
      "metadata": {},
      "outputs": [
        {
          "ename": "IndexError",
          "evalue": "string index out of range",
          "output_type": "error",
          "traceback": [
            "\u001b[1;31m---------------------------------------------------------------------------\u001b[0m",
            "\u001b[1;31mIndexError\u001b[0m                                Traceback (most recent call last)",
            "Cell \u001b[1;32mIn[18], line 1\u001b[0m\n\u001b[1;32m----> 1\u001b[0m \u001b[38;5;28mprint\u001b[39m(\u001b[43ma\u001b[49m\u001b[43m[\u001b[49m\u001b[38;5;241;43m7\u001b[39;49m\u001b[43m]\u001b[49m)\n",
            "\u001b[1;31mIndexError\u001b[0m: string index out of range"
          ]
        }
      ],
      "source": [
        "print(a[7])"
      ]
    },
    {
      "cell_type": "code",
      "execution_count": 28,
      "metadata": {},
      "outputs": [
        {
          "ename": "TypeError",
          "evalue": "string indices must be integers, not 'float'",
          "output_type": "error",
          "traceback": [
            "\u001b[1;31m---------------------------------------------------------------------------\u001b[0m",
            "\u001b[1;31mTypeError\u001b[0m                                 Traceback (most recent call last)",
            "Cell \u001b[1;32mIn[28], line 2\u001b[0m\n\u001b[0;32m      1\u001b[0m a \u001b[38;5;241m=\u001b[39m \u001b[38;5;124m'\u001b[39m\u001b[38;5;124mstudentbek\u001b[39m\u001b[38;5;124m'\u001b[39m\n\u001b[1;32m----> 2\u001b[0m \u001b[38;5;28mprint\u001b[39m(\u001b[43ma\u001b[49m\u001b[43m[\u001b[49m\u001b[38;5;28;43mlen\u001b[39;49m\u001b[43m(\u001b[49m\u001b[43ma\u001b[49m\u001b[43m)\u001b[49m\u001b[38;5;241;43m/\u001b[39;49m\u001b[38;5;241;43m2\u001b[39;49m\u001b[43m]\u001b[49m)\n\u001b[0;32m      3\u001b[0m \u001b[38;5;66;03m#print('last character = ', a[len(a) - 1])\u001b[39;00m\n",
            "\u001b[1;31mTypeError\u001b[0m: string indices must be integers, not 'float'"
          ]
        }
      ],
      "source": [
        "a = 'studentbek'\n",
        "print(a[len(a)/2])\n",
        "#print('last character = ', a[len(a) - 1])"
      ]
    },
    {
      "cell_type": "code",
      "execution_count": 31,
      "metadata": {},
      "outputs": [
        {
          "name": "stdout",
          "output_type": "stream",
          "text": [
            "5.5 5 5\n"
          ]
        }
      ],
      "source": [
        "print( 11 / 2, 11 // 2, int(11 / 2))"
      ]
    },
    {
      "cell_type": "code",
      "execution_count": 35,
      "metadata": {},
      "outputs": [
        {
          "name": "stdout",
          "output_type": "stream",
          "text": [
            "10\n"
          ]
        }
      ],
      "source": [
        "print(round(10.50))"
      ]
    },
    {
      "cell_type": "code",
      "execution_count": 39,
      "metadata": {},
      "outputs": [
        {
          "name": "stdout",
          "output_type": "stream",
          "text": [
            "xxxxxxxxxx\n"
          ]
        }
      ],
      "source": [
        "if 10 < 2:\n",
        " print('pravilno')\n",
        "else:\n",
        "    a = 10\n",
        "    print('x' * 10)"
      ]
    },
    {
      "cell_type": "code",
      "execution_count": 44,
      "metadata": {},
      "outputs": [
        {
          "name": "stdout",
          "output_type": "stream",
          "text": [
            "ploho\n",
            "40.0\n"
          ]
        }
      ],
      "source": [
        "student1 = 10\n",
        "student2 = 10\n",
        "student3 = 100\n",
        "\n",
        "r = (student1 + student2 + student3) / 3\n",
        "\n",
        "if r >= 70:\n",
        "    print('horosho')\n",
        "else:\n",
        "    print('ploho')\n",
        "\n",
        "print(r)\n"
      ]
    },
    {
      "cell_type": "code",
      "execution_count": 81,
      "metadata": {},
      "outputs": [],
      "source": []
    },
    {
      "cell_type": "code",
      "execution_count": 84,
      "metadata": {},
      "outputs": [
        {
          "name": "stdout",
          "output_type": "stream",
          "text": [
            "summa =  -3\n",
            "exam is today\n"
          ]
        }
      ],
      "source": [
        "# proveryayem summu studentov\n",
        "s1, s2, s3, s4, s5, s6, s7, s8, s9, s10 = 1, 1, 1, 1, 1, 1, 1, -10, 0, 0\n",
        "summa = s1 + s2 + s3 + s4 + s5 + s6 + s7 + s8 + s9 + s10\n",
        "print('summa = ', summa)\n",
        "if s1 > 1 or s2 > 1 or s3 > 1 or s4 > 1 or s5 > 1 or s6 > 1 or s7 > 1 or s8 > 1 or s9 > 1 or s10 > 1:\n",
        "    print('julnichuyut odin ili bolshe studentov pdnyal(i) dve ruki')\n",
        "elif summa > 10:\n",
        "    print('julnichuyut')\n",
        "elif summa == 10:\n",
        "    print('No exam')\n",
        "elif summa < 10 and summa >= 8:\n",
        "    print('exam is tomorrow')\n",
        "elif summa >= 5 and summa < 8:\n",
        "    print('exam is day after tomorrow')\n",
        "else: \n",
        "    print('exam is today') "
      ]
    },
    {
      "cell_type": "code",
      "execution_count": 92,
      "metadata": {},
      "outputs": [
        {
          "name": "stdout",
          "output_type": "stream",
          "text": [
            "not normal\n",
            "not normal\n"
          ]
        }
      ],
      "source": [
        "# napishi programmu kotoriy proverit s odin ili nol\n",
        "s = -1\n",
        "if s >= 0 and s <= 1:\n",
        "    print('normal')\n",
        "elif s < 0:\n",
        "    print('not normal')\n",
        "\n",
        "\n",
        "## secon version\n",
        "if s == 1 or s == 0:\n",
        "    print('normal')\n",
        "else:\n",
        "    print('not normal')"
      ]
    },
    {
      "cell_type": "code",
      "execution_count": 102,
      "metadata": {},
      "outputs": [],
      "source": [
        "def y(p, x): \n",
        "    return p * p + 5 - p*x"
      ]
    },
    {
      "cell_type": "code",
      "execution_count": 103,
      "metadata": {},
      "outputs": [
        {
          "name": "stdout",
          "output_type": "stream",
          "text": [
            "11\n",
            "95\n",
            "39805\n"
          ]
        }
      ],
      "source": [
        "print( 3 * 3 + 5 - 3)\n",
        "print( 10 * 10 + 5 - 10)\n",
        "print( 200 * 200 + 5 - 200)\n"
      ]
    },
    {
      "cell_type": "code",
      "execution_count": 107,
      "metadata": {},
      "outputs": [],
      "source": [
        "def isFirstMinimum(s1, s2, s3, s4):\n",
        "    if s1 <= s2 and s1 <= s3 and s1 <= s4:\n",
        "        return True\n",
        "    else:\n",
        "        return False\n",
        "\n",
        "\n",
        "def getMin2(s1, s2, s3, s4):\n",
        "    if s1 >= s2 and s1 >= s3 and s1 >= s4:\n",
        "        print(s1)\n",
        "    elif s2 > s1 and s2 > s3 and s2 > s4:\n",
        "        print(s2)\n",
        "    elif s3 > s1 and s3 > s2 and s3 > s4:\n",
        "        print(s3)\n",
        "    else:\n",
        "        print(s4)\n",
        "\n",
        "\n",
        "def getMinValue(s1, s2, s3, s4):\n",
        "    if isFirstMinimum(s1, s2, s3, s4):\n",
        "        print(s1)\n",
        "    elif isFirstMinimum(s2, s1, s3, s4):\n",
        "        print(s2)\n",
        "    elif isFirstMinimum(s3, s1, s4, s2):\n",
        "        print(s3)\n",
        "    else:\n",
        "        print(s4)\n",
        "\n"
      ]
    },
    {
      "cell_type": "code",
      "execution_count": 108,
      "metadata": {},
      "outputs": [
        {
          "name": "stdout",
          "output_type": "stream",
          "text": [
            "1\n",
            "None\n"
          ]
        }
      ],
      "source": [
        "print(getMinValue(5, 7, 13, 1))"
      ]
    },
    {
      "cell_type": "code",
      "execution_count": 115,
      "metadata": {},
      "outputs": [
        {
          "name": "stdout",
          "output_type": "stream",
          "text": [
            "s1 type = <class 'str'>, 10, s2 type = <class 'str'>, 20.2, s1 + s2 =  1020.2\n",
            "s1 type = <class 'float'>, 10.0, s2 type = <class 'float'>, 20.2, s1 + s2 =  30.2\n"
          ]
        }
      ],
      "source": [
        "def myprint(s1, s2):\n",
        "    print(f's1 type = {type(s1)}, {s1}, s2 type = {type(s2)}, {s2}, s1 + s2 = ', s1 + s2)\n",
        "\n",
        "s1 = \"10\"\n",
        "s2 = \"20.2\"\n",
        "myprint(s1, s2)\n",
        "s1 = float(s1)\n",
        "s2 = float(s2)\n",
        "myprint(s1, s2)\n"
      ]
    },
    {
      "cell_type": "code",
      "execution_count": 120,
      "metadata": {},
      "outputs": [
        {
          "name": "stdout",
          "output_type": "stream",
          "text": [
            "50\n"
          ]
        }
      ],
      "source": [
        "def abcd(a, b):\n",
        "    if a > b:\n",
        "        return a\n",
        "    else:\n",
        "        return b\n"
      ]
    },
    {
      "cell_type": "code",
      "execution_count": 126,
      "metadata": {},
      "outputs": [
        {
          "name": "stdout",
          "output_type": "stream",
          "text": [
            "[1, 2, 3, 5, 100, 6, 2]\n",
            "min value is :  1\n"
          ]
        }
      ],
      "source": [
        "arr = [1, 2, 3, 5, 0, 6, 2]\n",
        "arr[4] = 100\n",
        "m = arr[0]\n",
        "for i in arr: \n",
        "    if i < m:\n",
        "        m = i\n",
        "print(arr)\n",
        "print('min value is : ', m)"
      ]
    },
    {
      "cell_type": "code",
      "execution_count": 130,
      "metadata": {},
      "outputs": [
        {
          "name": "stdout",
          "output_type": "stream",
          "text": [
            "emil\n",
            "['x', 'm', 'i', 'l']\n",
            "x\n",
            "m\n",
            "i\n",
            "l\n"
          ]
        }
      ],
      "source": [
        "s = 'emil'\n",
        "print(s)\n",
        "s = list(s)\n",
        "s[0] = 'x'\n",
        "print(s)\n",
        "for i in s:\n",
        "    print(i)"
      ]
    },
    {
      "cell_type": "code",
      "execution_count": 134,
      "metadata": {},
      "outputs": [
        {
          "name": "stdout",
          "output_type": "stream",
          "text": [
            "sum =  14\n",
            "count =  6\n",
            "average =  2.3333333333333335\n"
          ]
        }
      ],
      "source": [
        "arr = [1, 3, 4, 9, 0, -3]\n",
        "n = 0; \n",
        "c = 0\n",
        "for i in arr:\n",
        "    n += i\n",
        "    c += 1\n",
        "print('sum = ', n)\n",
        "print('count = ', c)\n",
        "print(\"average = \", n / c)  "
      ]
    },
    {
      "cell_type": "code",
      "execution_count": 141,
      "metadata": {},
      "outputs": [
        {
          "name": "stdout",
          "output_type": "stream",
          "text": [
            "True\n"
          ]
        }
      ],
      "source": [
        "arr = [1, 3, 4, 5, 9, 0, -3]\n",
        "x = False\n",
        "for p in arr:\n",
        "    x = x or p == 5\n",
        "print(x)"
      ]
    },
    {
      "cell_type": "code",
      "execution_count": 149,
      "metadata": {},
      "outputs": [
        {
          "name": "stdout",
          "output_type": "stream",
          "text": [
            "False\n"
          ]
        }
      ],
      "source": [
        "def exist(arr, t):\n",
        "    for i in arr:\n",
        "        if i == t:\n",
        "            return True\n",
        "    return False\n",
        "\n",
        "print(exist(arr, 5))"
      ]
    },
    {
      "cell_type": "code",
      "execution_count": 151,
      "metadata": {},
      "outputs": [
        {
          "name": "stdout",
          "output_type": "stream",
          "text": [
            "0\n"
          ]
        }
      ],
      "source": [
        "p = 0\n",
        "for i in arr:\n",
        "    if i == 5:\n",
        "        p += 1\n",
        "if p > 0:\n",
        "    print(p)\n",
        "else:\n",
        "    print(p)"
      ]
    },
    {
      "cell_type": "code",
      "execution_count": 155,
      "metadata": {},
      "outputs": [
        {
          "name": "stdout",
          "output_type": "stream",
          "text": [
            "0 1 0 1\n",
            "0 1 1 1\n",
            "0 1 2 1\n",
            "0 1 3 1\n",
            "0 1 4 1\n",
            "0 1 5 1\n",
            "1 9 0 9\n",
            "1 9 1 9\n",
            "1 9 2 9\n",
            "1 9 3 9\n",
            "1 9 4 9\n",
            "1 9 5 9\n",
            "2 0 0 0\n",
            "2 0 1 0\n",
            "2 0 2 0\n",
            "2 0 3 0\n",
            "2 0 4 0\n",
            "2 0 5 0\n",
            "3 2 0 2\n",
            "3 2 1 2\n",
            "3 2 2 2\n",
            "3 2 3 2\n",
            "3 2 4 2\n",
            "3 2 5 2\n",
            "4 3 0 3\n",
            "4 3 1 3\n",
            "4 3 2 3\n",
            "4 3 3 3\n",
            "4 3 4 3\n",
            "4 3 5 3\n",
            "5 6 0 6\n",
            "5 6 1 6\n",
            "5 6 2 6\n",
            "5 6 3 6\n",
            "5 6 4 6\n",
            "5 6 5 6\n"
          ]
        }
      ],
      "source": [
        " arr = [1, 9, 0, 2, 3, 6] \n",
        "\n",
        " for index1, i in enumerate(arr):\n",
        "    for index2, j in enumerate(arr):\n",
        "        print(index1, i, index2, i)\n",
        "        # if i + j == 18 and index1 != index2:\n",
        "        #     print(i, j, True)"
      ]
    },
    {
      "cell_type": "code",
      "execution_count": 157,
      "metadata": {},
      "outputs": [
        {
          "name": "stdout",
          "output_type": "stream",
          "text": [
            "[1, 9, 0, 2, 3, 6]\n",
            "0 1\n",
            "1 9\n",
            "2 0\n",
            "3 2\n",
            "4 3\n",
            "5 6\n"
          ]
        }
      ],
      "source": [
        "print(arr)\n",
        "for x, i in enumerate(arr):\n",
        "    print(x, i)"
      ]
    },
    {
      "cell_type": "code",
      "execution_count": 2,
      "metadata": {},
      "outputs": [],
      "source": [
        "### 11 / 09 / 2024"
      ]
    },
    {
      "cell_type": "code",
      "execution_count": 4,
      "metadata": {},
      "outputs": [
        {
          "name": "stdout",
          "output_type": "stream",
          "text": [
            "[1, 2, 0, 7, 2, 1]\n",
            "summa =  13\n"
          ]
        }
      ],
      "source": [
        "arr = [1, 2, 0, 7, 2, 1]\n",
        "\n",
        "s = 0\n",
        "for i in arr:\n",
        "    s += i\n",
        "print(arr)\n",
        "print('summa = ', s)"
      ]
    },
    {
      "cell_type": "code",
      "execution_count": 5,
      "metadata": {},
      "outputs": [
        {
          "name": "stdout",
          "output_type": "stream",
          "text": [
            "[1, 2, 0, 7, 2, 1]\n",
            "minimum value in an array =  0\n"
          ]
        }
      ],
      "source": [
        "m = arr[0]\n",
        "for i in arr:\n",
        "    if m > i:\n",
        "        m = i\n",
        "print(arr)\n",
        "print('minimum value in an array = ', m)"
      ]
    },
    {
      "cell_type": "code",
      "execution_count": 9,
      "metadata": {},
      "outputs": [
        {
          "name": "stdout",
          "output_type": "stream",
          "text": [
            "n =  0  ->  Atai\n",
            "after n =  1\n",
            "n =  1  ->  Alim\n",
            "after n =  2\n",
            "n =  2  ->  Tynchtyk\n",
            "after n =  3\n",
            "n =  3  ->  Nur\n",
            "after n =  4\n",
            "n =  4  ->  Samat\n",
            "after n =  5\n",
            "n =  5  ->  Atabek\n",
            "after n =  6\n",
            "['Atai', 'Alim', 'Tynchtyk', 'Nur', 'Samat', 'Atabek'] 7\n",
            "ne vse tut, missin =  1\n"
          ]
        }
      ],
      "source": [
        "arr = ['Atai', 'Alim', 'Tynchtyk', 'Nur', 'Samat', 'Atabek']\n",
        "N = 7\n",
        "\n",
        "n = 0\n",
        "for i in arr:\n",
        "    print('n = ', n, ' -> ', i)\n",
        "    n += 1\n",
        "    print('after n = ', n)\n",
        "\n",
        "print(arr, N)\n",
        "if n == N:\n",
        "    print('vse tut')\n",
        "elif n < N:\n",
        "    print('ne vse tut, missin = ', N - n)\n",
        "elif n > N:\n",
        "    print('bolshe ludey na = ', n - N)\n"
      ]
    },
    {
      "cell_type": "code",
      "execution_count": 45,
      "metadata": {},
      "outputs": [
        {
          "name": "stdout",
          "output_type": "stream",
          "text": [
            "1  random number =  8\n",
            "2  random number =  58\n",
            "3  random number =  32\n"
          ]
        }
      ],
      "source": [
        "from random import randint\n",
        "for i in range(3):\n",
        "    print(i+1, ' random number = ', randint(1, 60))\n"
      ]
    },
    {
      "cell_type": "code",
      "execution_count": 15,
      "metadata": {},
      "outputs": [
        {
          "name": "stdout",
          "output_type": "stream",
          "text": [
            "Nurbek  est v massive =  False\n",
            "Nurbek  bar massivde =  False\n"
          ]
        }
      ],
      "source": [
        "arr = ['Atai', 'Alim', 'Tynchtyk', 'Nur', 'Samat', 'Atabek']\n",
        "name = 'Nurbek'\n",
        "jokeyy = False\n",
        "\n",
        "for imya in arr:\n",
        "    jokeyy = jokeyy or name == imya\n",
        "\n",
        "print(name, ' est v massive = ', jokeyy)\n",
        "\n",
        "result = False\n",
        "for imya in arr:\n",
        "    if imya == name:\n",
        "        result = True\n",
        "print(name, ' bar massivde = ', result)"
      ]
    },
    {
      "cell_type": "code",
      "execution_count": 17,
      "metadata": {},
      "outputs": [
        {
          "name": "stdout",
          "output_type": "stream",
          "text": [
            "['Atai', 'Alim', 'Tynchtyk', 'Nur', 'Samat', 'Atabek']\n",
            "Tynchtyk\n"
          ]
        }
      ],
      "source": [
        "arr = ['Atai', 'Alim', 'Tynchtyk', 'Nur', 'Samat', 'Atabek']\n",
        "n = arr[0]\n",
        "for i in arr:\n",
        "    if i > n:\n",
        "        n = i\n",
        "print(arr)\n",
        "print(n)"
      ]
    },
    {
      "cell_type": "code",
      "execution_count": 19,
      "metadata": {},
      "outputs": [
        {
          "name": "stdout",
          "output_type": "stream",
          "text": [
            "Atabek\n"
          ]
        }
      ],
      "source": [
        "arr = ['Atai', 'Atalim', 'Tynchtyk', 'Nur', 'Samat', 'Atabek']\n",
        "\n",
        "n = arr[0]\n",
        "for i in arr:\n",
        "    if i < n:\n",
        "        n = i\n",
        "print(n)"
      ]
    },
    {
      "cell_type": "code",
      "execution_count": 25,
      "metadata": {},
      "outputs": [
        {
          "name": "stdout",
          "output_type": "stream",
          "text": [
            "longest name =  Atabekov\n",
            "Atalimba\n",
            "Tynchtyk\n",
            "Atabekov\n"
          ]
        }
      ],
      "source": [
        "arr = ['Atai', 'Atalimba', 'Tynchtyk', 'Nur', 'Samat', 'Atabekov']\n",
        "n = arr[0]\n",
        "for i in arr:\n",
        "    if len(i) >= len(n):\n",
        "        n = i\n",
        "print('longest name = ', n)\n",
        "\n",
        "for i in arr:\n",
        "    if len(i) == len(n):\n",
        "        print(i)\n",
        "\n"
      ]
    },
    {
      "cell_type": "code",
      "execution_count": 26,
      "metadata": {},
      "outputs": [
        {
          "name": "stdout",
          "output_type": "stream",
          "text": [
            "['Atalimba', 'Tynchtyk', 'Atabekov']\n"
          ]
        }
      ],
      "source": [
        "print([i for i in arr if len(i) == max([len(j) for j in arr])])"
      ]
    },
    {
      "cell_type": "code",
      "execution_count": 40,
      "metadata": {},
      "outputs": [
        {
          "name": "stdout",
          "output_type": "stream",
          "text": [
            "[9, 8, 5, 3, 2, 1]\n"
          ]
        }
      ],
      "source": [
        "arr = [1, 2, 3, 5, 8, 9]\n",
        "\n",
        "print(arr[len(arr) - 1 : :-1])"
      ]
    },
    {
      "cell_type": "code",
      "execution_count": 41,
      "metadata": {},
      "outputs": [
        {
          "name": "stdout",
          "output_type": "stream",
          "text": [
            "[5, 8, 9]\n"
          ]
        }
      ],
      "source": [
        "print(arr[3:])"
      ]
    },
    {
      "cell_type": "code",
      "execution_count": 42,
      "metadata": {},
      "outputs": [
        {
          "name": "stdout",
          "output_type": "stream",
          "text": [
            "[1, 2, 3, 5]\n"
          ]
        }
      ],
      "source": [
        "print(arr[:4])"
      ]
    },
    {
      "cell_type": "code",
      "execution_count": 49,
      "metadata": {},
      "outputs": [
        {
          "name": "stdout",
          "output_type": "stream",
          "text": [
            "min = -10, max = -1, difference = 9\n"
          ]
        }
      ],
      "source": [
        "arr = [-1, -2, -3, -5, -10, -8, -2]\n",
        "min = arr[0]\n",
        "max = arr[0]\n",
        "for i in arr:\n",
        "    if min > i:\n",
        "        min = i\n",
        "    if max < i:\n",
        "        max = i\n",
        "\n",
        "print(f'min = {min}, max = {max}, difference = {max - min}')"
      ]
    },
    {
      "cell_type": "code",
      "execution_count": 51,
      "metadata": {},
      "outputs": [
        {
          "name": "stdout",
          "output_type": "stream",
          "text": [
            "[1, 2, 3, 5, 5, 6, 7]\n",
            "[1, 2, 3]\n",
            "[5, 5, 6, 7]\n"
          ]
        }
      ],
      "source": [
        "arr = [1, 2, 3, 5, 5, 6, 7]\n",
        "print(arr)\n",
        "print(arr[:3])\n",
        "print(arr[3:])"
      ]
    },
    {
      "cell_type": "code",
      "execution_count": 58,
      "metadata": {},
      "outputs": [
        {
          "name": "stdout",
          "output_type": "stream",
          "text": [
            "[1, 2, 3, 5, 4, 2]\n",
            "[1, 2, 3, 'abc', 'def']\n"
          ]
        }
      ],
      "source": [
        "arr1 = [1, 2, 3]\n",
        "arr2 = [5, 4, 2]\n",
        "print(arr1 + arr2)\n",
        "print(arr1 + ['abc', 'def'])"
      ]
    },
    {
      "cell_type": "code",
      "execution_count": 61,
      "metadata": {},
      "outputs": [
        {
          "name": "stdout",
          "output_type": "stream",
          "text": [
            "['emil', 'bil', 'ait', 'kg', 1]\n"
          ]
        },
        {
          "ename": "TypeError",
          "evalue": "sequence item 4: expected str instance, int found",
          "output_type": "error",
          "traceback": [
            "\u001b[1;31m---------------------------------------------------------------------------\u001b[0m",
            "\u001b[1;31mTypeError\u001b[0m                                 Traceback (most recent call last)",
            "Cell \u001b[1;32mIn[61], line 4\u001b[0m\n\u001b[0;32m      1\u001b[0m arr \u001b[38;5;241m=\u001b[39m [\u001b[38;5;124m'\u001b[39m\u001b[38;5;124memil\u001b[39m\u001b[38;5;124m'\u001b[39m, \u001b[38;5;124m'\u001b[39m\u001b[38;5;124mbil\u001b[39m\u001b[38;5;124m'\u001b[39m, \u001b[38;5;124m'\u001b[39m\u001b[38;5;124mait\u001b[39m\u001b[38;5;124m'\u001b[39m, \u001b[38;5;124m'\u001b[39m\u001b[38;5;124mkg\u001b[39m\u001b[38;5;124m'\u001b[39m, \u001b[38;5;241m1\u001b[39m]\n\u001b[0;32m      3\u001b[0m \u001b[38;5;28mprint\u001b[39m(arr)\n\u001b[1;32m----> 4\u001b[0m \u001b[38;5;28mprint\u001b[39m(\u001b[38;5;124;43m'\u001b[39;49m\u001b[38;5;124;43m->\u001b[39;49m\u001b[38;5;124;43m'\u001b[39;49m\u001b[38;5;241;43m.\u001b[39;49m\u001b[43mjoin\u001b[49m\u001b[43m(\u001b[49m\u001b[43marr\u001b[49m\u001b[43m)\u001b[49m)\n",
            "\u001b[1;31mTypeError\u001b[0m: sequence item 4: expected str instance, int found"
          ]
        }
      ],
      "source": [
        "arr = ['emil', 'bil', 'ait', 'kg', 1]\n",
        "\n",
        "print(arr)\n",
        "print('->'.join(arr))\n",
        "\n",
        "\n",
        "1 + 5 * 2 - 3"
      ]
    },
    {
      "cell_type": "code",
      "execution_count": 28,
      "metadata": {},
      "outputs": [
        {
          "name": "stdout",
          "output_type": "stream",
          "text": [
            "i =  0 -> i =  1 -> i =  3 -> i =  8 -> Even number\n",
            "i =  10 -> i =  0 -> i =  1 -> i =  3 -> i =  8 -> Even number\n",
            "i =  10 -> v massive est chetniy sifra?  ATAI\n"
          ]
        }
      ],
      "source": [
        "def check(arr):\n",
        "    for i in arr:\n",
        "        print(\"i = \", i, end = ' -> ')\n",
        "        if i % 2 == 0 and i % 2 == 1 or i % 3 == 2:\n",
        "            print('Even number')\n",
        "    return \"ATAI\"\n",
        "arr = [0, 65, 86, 55, 63, 46, 87, 18, 12, 33]\n",
        "target = 55\n",
        "\n",
        "result = '0, 55'\n",
        "\n",
        "print('v massive est chetniy sifra? ', check(arr) if check(arr) else '')\n",
        "#print('v massive est chetniy sifra? ', check(arr))\n",
        "\n",
        "res = '''\n",
        "0 -> 1 -> 3 -> 8 -> Even number\n",
        "10 -> v massive est chetniy sifra? ATAI\n",
        "'''\n",
        "\n"
      ]
    },
    {
      "cell_type": "code",
      "execution_count": 29,
      "metadata": {},
      "outputs": [
        {
          "name": "stdout",
          "output_type": "stream",
          "text": [
            "[0, 65, 86, 55, 63, 46, 87, 18, 12, 33]\n"
          ]
        }
      ],
      "source": [
        "from random import randint\n",
        "print([randint(0, 100) for i in range(10)])"
      ]
    },
    {
      "cell_type": "code",
      "execution_count": null,
      "metadata": {},
      "outputs": [],
      "source": []
    },
    {
      "cell_type": "code",
      "execution_count": 24,
      "metadata": {},
      "outputs": [
        {
          "name": "stdout",
          "output_type": "stream",
          "text": [
            "27 57 13\n"
          ]
        }
      ],
      "source": [
        "from random import randint\n",
        "print(randint(1, 62), randint(1, 62), randint(1, 62))"
      ]
    },
    {
      "cell_type": "code",
      "execution_count": 33,
      "metadata": {},
      "outputs": [
        {
          "name": "stdout",
          "output_type": "stream",
          "text": [
            "12 + 18 = 30\n"
          ]
        },
        {
          "data": {
            "text/plain": [
              "False"
            ]
          },
          "execution_count": 33,
          "metadata": {},
          "output_type": "execute_result"
        }
      ],
      "source": [
        "def check(arr, target):\n",
        "    for x1, i in enumerate(arr):\n",
        "        for x2, j in enumerate(arr):\n",
        "            if i + j == target and i < j and x1 < x2:\n",
        "                print(f'{i} + {j} = {target}')\n",
        "    return False\n",
        "\n",
        "arr = [0, 65, 86, 55, 63, 46, 87, 12, 18, 12, 33]\n",
        "target = 30\n",
        "\n",
        "check(arr, target)"
      ]
    },
    {
      "cell_type": "code",
      "execution_count": 34,
      "metadata": {},
      "outputs": [
        {
          "name": "stdout",
          "output_type": "stream",
          "text": [
            "55\n",
            "63\n",
            "46\n",
            "12\n",
            "18\n",
            "12\n"
          ]
        }
      ],
      "source": [
        "def check2(arr):\n",
        "    for i, v in enumerate(arr):\n",
        "        if i > 0 and i < len(arr)-1 and max(arr[:i]) > v < max(arr[i+1:]):\n",
        "            print(v)\n",
        "\n",
        "arr = [0, 65, 86, 55, 63, 46, 87, 12, 18, 12, 33]\n",
        "check2(arr)"
      ]
    },
    {
      "cell_type": "code",
      "execution_count": 38,
      "metadata": {},
      "outputs": [
        {
          "name": "stdout",
          "output_type": "stream",
          "text": [
            "(0, 6)\n",
            "(1, 2)\n",
            "(2, 1)\n",
            "(3, 0)\n",
            "(4, 4)\n"
          ]
        }
      ],
      "source": [
        "arr = [6, 2, 1, 0, 4]\n",
        "for i in enumerate(arr):\n",
        "    print(i)"
      ]
    },
    {
      "cell_type": "code",
      "execution_count": 44,
      "metadata": {},
      "outputs": [
        {
          "name": "stdout",
          "output_type": "stream",
          "text": [
            "81\n",
            "3.0\n"
          ]
        }
      ],
      "source": [
        "def fun(x):\n",
        "    return x ** 2, x ** 0.5\n",
        "\n",
        "z, y = fun(9)\n",
        "\n",
        "print(z)\n",
        "print(y)"
      ]
    },
    {
      "cell_type": "code",
      "execution_count": 33,
      "metadata": {},
      "outputs": [
        {
          "name": "stdout",
          "output_type": "stream",
          "text": [
            "RESULT =  2\n"
          ]
        }
      ],
      "source": [
        "arr = [1, 3, 5, 6, 0, 2, 6, 6, -1, 8, 8]\n",
        "f = arr[0]\n",
        "c = 0\n",
        "for i in arr:\n",
        "    if f < i:\n",
        "        f = i\n",
        "        c = 0+1\n",
        "    elif f == i:\n",
        "        c += 1\n",
        "\n",
        "print('RESULT = ', c)"
      ]
    },
    {
      "cell_type": "code",
      "execution_count": 34,
      "metadata": {},
      "outputs": [
        {
          "name": "stdout",
          "output_type": "stream",
          "text": [
            "2\n"
          ]
        }
      ],
      "source": [
        "arr = [1, 3, 5, 6, 0, 2, 6, 6, -1, 8, 8]\n",
        "max = arr[0]\n",
        "for i in arr:\n",
        "    if max < i:\n",
        "        max = i\n",
        "count = 0\n",
        "for i in arr:\n",
        "    if max == i:\n",
        "        count += 1\n",
        "print(count)"
      ]
    },
    {
      "cell_type": "code",
      "execution_count": 36,
      "metadata": {},
      "outputs": [
        {
          "name": "stdout",
          "output_type": "stream",
          "text": [
            "[1, 3, 5, 6, 0, 2, 6, 6, -1, 8, 8]\n",
            "44\n",
            "15\n",
            "27\n"
          ]
        }
      ],
      "source": [
        "print(arr)\n",
        "s = 0\n",
        "for i in arr:\n",
        "    s += i\n",
        "print(s)\n",
        "\n",
        "s = 0\n",
        "for i in arr[:5]:\n",
        "    s += i\n",
        "print(s)\n",
        "\n",
        "s = 0\n",
        "for i in arr[-5:]:\n",
        "    s += i\n",
        "print(s)"
      ]
    },
    {
      "cell_type": "code",
      "execution_count": 38,
      "metadata": {},
      "outputs": [
        {
          "name": "stdout",
          "output_type": "stream",
          "text": [
            "[1, 3, 5, 6, 0, 2, 6, 6, -1, 8, 8]\n",
            "negative count =  1\n"
          ]
        }
      ],
      "source": [
        "c = 0\n",
        "for i in arr:\n",
        "    if i < 0:\n",
        "        c += 1\n",
        "print(arr)\n",
        "print('negative count = ', c)"
      ]
    },
    {
      "cell_type": "code",
      "execution_count": 43,
      "metadata": {},
      "outputs": [
        {
          "name": "stdout",
          "output_type": "stream",
          "text": [
            "moloko x 1 -> 90\n",
            "bread x 2 -> 50\n",
            "kolbasa x 1 -> 200\n",
            "____________________\n",
            "Total : 340\n"
          ]
        }
      ],
      "source": [
        "names = ['twix', 'sandwich', 'moloko', 'bread', 'cola', 'kolbasa']\n",
        "prices = [40, 75, 90, 25, 90, 200]\n",
        "kolichestvo = [10, 15, 40, 60, 20, 10]\n",
        "\n",
        "def tsena_tovara(names, prices, tovar):\n",
        "    for index, name in enumerate(names):\n",
        "        if name == tovar:\n",
        "            return prices[index] \n",
        "\n",
        "def kancha_boldu(moi_tovari, moi_kolichestvo):\n",
        "    s = 0\n",
        "    text = ''\n",
        "    for ati, shtuk in zip(moi_tovari, moi_kolichestvo):\n",
        "        x = tsena_tovara(names, prices, ati) * shtuk\n",
        "        text += f'{ati} x {shtuk} -> {x}\\n'\n",
        "        s += x\n",
        "    text += '_'*20\n",
        "    return text + f'\\nTotal : {s}'\n",
        "\n",
        "\n",
        "moi_tovari = [\"moloko\", \"bread\", \"kolbasa\"]\n",
        "moi_kolichestvo = [1, 2, 1]\n",
        "\n",
        "check = kancha_boldu(moi_tovari, moi_kolichestvo)\n",
        "print(check)\n"
      ]
    },
    {
      "cell_type": "code",
      "execution_count": 57,
      "metadata": {},
      "outputs": [
        {
          "name": "stdout",
          "output_type": "stream",
          "text": [
            "ketken ubakit =  0.009049177169799805\n",
            "200000\n"
          ]
        }
      ],
      "source": [
        "from time import time\n",
        "arr = [52, 8, 7, 72, 8, 6, 3, 1, 9, 0]*20000\n",
        "res = []\n",
        "\n",
        "def mysort(arr):\n",
        "    # for i in range(len(arr)):\n",
        "    #     max = arr[0]\n",
        "    #     for j in arr:\n",
        "    #         if max > j:\n",
        "    #             max = j\n",
        "    #     res.append(max)\n",
        "    #     arr.remove(max)\n",
        "    return sorted(arr)\n",
        "\n",
        "basinda = time()\n",
        "x = mysort(arr)\n",
        "ayagi = time()\n",
        "print('ketken ubakit = ', ayagi - basinda)\n",
        "print(len(x))\n"
      ]
    },
    {
      "cell_type": "code",
      "execution_count": 62,
      "metadata": {},
      "outputs": [
        {
          "name": "stdout",
          "output_type": "stream",
          "text": [
            "max amount person is =  gazi\n"
          ]
        }
      ],
      "source": [
        "names = [\"atai\", 'sultan', 'emir', 'gazi']\n",
        "amount = [1000, 2000, 3000, 4000]\n",
        "\n",
        "def max_amount_person():\n",
        "    max = arr[0]\n",
        "    name = None\n",
        "    for x, i in enumerate(amount):\n",
        "        if i > max:\n",
        "            max = i\n",
        "            name = names[x]\n",
        "    return name\n",
        "\n",
        "print('max amount person is = ', max_amount_person())"
      ]
    },
    {
      "cell_type": "code",
      "execution_count": 74,
      "metadata": {},
      "outputs": [
        {
          "name": "stdout",
          "output_type": "stream",
          "text": [
            "x =  0\n"
          ]
        }
      ],
      "source": [
        "x = 0\n",
        "print('x = ', x)"
      ]
    },
    {
      "cell_type": "code",
      "execution_count": 73,
      "metadata": {},
      "outputs": [
        {
          "name": "stdout",
          "output_type": "stream",
          "text": [
            "[1000, 2000, 3000, 4000]\n",
            "sum =  20000\n"
          ]
        }
      ],
      "source": [
        "def mysum():\n",
        "    x = 0\n",
        "    for i in amount:\n",
        "        x += i\n",
        "    return x\n",
        "print(amount)\n",
        "print('sum = ', mysum())"
      ]
    },
    {
      "cell_type": "code",
      "execution_count": 75,
      "metadata": {},
      "outputs": [
        {
          "name": "stdout",
          "output_type": "stream",
          "text": [
            "['atai', 'sultan', 'emir', 'gazi']\n",
            "[1000, 2000, 3000, 4000]\n",
            "['emir', 'gazi']\n"
          ]
        }
      ],
      "source": [
        "def high_amount_clients(threshold):\n",
        "    res = []\n",
        "    \n",
        "    for x, name in zip(amount, names):\n",
        "        if x >= threshold: # > -> -5\n",
        "            res.append(name)\n",
        "    return res\n",
        "\n",
        "names = [\"atai\", 'sultan', 'emir', 'gazi', 'bars', 'aziz', 'ulan']\n",
        "amount = [1000,  2000,      3000,  4000,    1000,   2000,   5000]\n",
        "\n",
        "print(names)\n",
        "print(amount)\n",
        "print(high_amount_clients(3000))"
      ]
    },
    {
      "cell_type": "code",
      "execution_count": 78,
      "metadata": {},
      "outputs": [
        {
          "name": "stdout",
          "output_type": "stream",
          "text": [
            "['atai', 'sultan', 'emir', 'gazi', 'bars', 'aziz', 'ulan']\n",
            "[1000, 2000, 3000, 4000, 1000, 2000, 5000]\n",
            "['sultan', 'emir', 'gazi', 'aziz', 'ulan']\n"
          ]
        }
      ],
      "source": [
        "names = [\"atai\", 'sultan', 'emir', 'gazi', 'bars', 'aziz', 'ulan']\n",
        "amount = [1000,  2000,      3000,  4000,    1000,   2000,   5000]\n",
        "\n",
        "def get_higher_amount(higher_amount):\n",
        "    for i, n in enumerate(amount):\n",
        "        if n < higher_amount:\n",
        "            names.pop(i)\n",
        "            amount.pop(i)\n",
        "    return names\n",
        "\n",
        "print(names)\n",
        "print(amount)\n",
        "print(get_higher_amount(3000))"
      ]
    },
    {
      "cell_type": "code",
      "execution_count": 87,
      "metadata": {},
      "outputs": [
        {
          "name": "stdout",
          "output_type": "stream",
          "text": [
            "Before\n",
            "[('atai', 1000), ('sultan', 2000), ('gazi', 3000), ('bars', 4000)]\n",
            "Transfering from \"gazi\" to \"bars\" amount of 200\n",
            "Transfering from \"gazi\" to \"bars\" amount of 200\n",
            "Transfering from \"gazi\" to \"bars\" amount of 200\n",
            "Transfering from \"gazi\" to \"bars\" amount of 200\n",
            "Transfering from \"gazi\" to \"bars\" amount of 200\n",
            "Transfering from \"gazi\" to \"bars\" amount of 200\n",
            "Transfering from \"gazi\" to \"bars\" amount of 200\n",
            "Transfering from \"gazi\" to \"bars\" amount of 200\n",
            "Transfering from \"gazi\" to \"bars\" amount of 200\n",
            "Transfering from \"gazi\" to \"bars\" amount of 200\n",
            "\n",
            "Latest\n",
            "[('atai', 1000), ('sultan', 2000), ('gazi', 1000), ('bars', 6000)]\n",
            "History\n",
            "[('gazi', 'bars', 200), ('gazi', 'bars', 200), ('gazi', 'bars', 200), ('gazi', 'bars', 200), ('gazi', 'bars', 200), ('gazi', 'bars', 200), ('gazi', 'bars', 200), ('gazi', 'bars', 200), ('gazi', 'bars', 200), ('gazi', 'bars', 200)]\n"
          ]
        }
      ],
      "source": [
        "names = [\"atai\", 'sultan',  'gazi', 'bars']\n",
        "amount = [1000,  2000,       3000,  4000]\n",
        "print('Before')\n",
        "print(list(zip(names, amount)))\n",
        "\n",
        "\n",
        "def findindex(name):\n",
        "    for i, v in enumerate(names):\n",
        "        if v == name:\n",
        "            return i\n",
        "        \n",
        "def transfer(a, b, x, h):\n",
        "    print(f'Transfering from \"{a}\" to \"{b}\" amount of {x}')\n",
        "    h.append((a, b, x))\n",
        "    ai, bi = findindex(a), findindex(b)\n",
        "    amount[ai], amount[bi] = amount[ai] - x, amount[bi] + x\n",
        "\n",
        "history = []\n",
        "for i in range(10):\n",
        "    transfer(\"gazi\", \"bars\", 200, history)\n",
        "print('\\nLatest')\n",
        "print(list(zip(names, amount)))\n",
        "print('History')\n",
        "print(history)\n",
        "\n"
      ]
    },
    {
      "cell_type": "code",
      "execution_count": 88,
      "metadata": {},
      "outputs": [
        {
          "data": {
            "text/plain": [
              "[('gazi', 'bars', 200),\n",
              " ('gazi', 'bars', 200),\n",
              " ('gazi', 'bars', 200),\n",
              " ('gazi', 'bars', 200),\n",
              " ('gazi', 'bars', 200),\n",
              " ('gazi', 'bars', 200),\n",
              " ('gazi', 'bars', 200),\n",
              " ('gazi', 'bars', 200),\n",
              " ('gazi', 'bars', 200),\n",
              " ('gazi', 'bars', 200)]"
            ]
          },
          "execution_count": 88,
          "metadata": {},
          "output_type": "execute_result"
        }
      ],
      "source": [
        "history"
      ]
    },
    {
      "cell_type": "code",
      "execution_count": 89,
      "metadata": {},
      "outputs": [
        {
          "name": "stdout",
          "output_type": "stream",
          "text": [
            "Transfering from \"bars\" to \"gazi\" amount of 200\n",
            "Transfering from \"bars\" to \"gazi\" amount of 200\n",
            "Transfering from \"bars\" to \"gazi\" amount of 200\n",
            "Transfering from \"bars\" to \"gazi\" amount of 200\n",
            "Transfering from \"bars\" to \"gazi\" amount of 200\n",
            "Transfering from \"bars\" to \"gazi\" amount of 200\n",
            "Transfering from \"bars\" to \"gazi\" amount of 200\n",
            "Transfering from \"bars\" to \"gazi\" amount of 200\n",
            "Transfering from \"bars\" to \"gazi\" amount of 200\n",
            "Transfering from \"bars\" to \"gazi\" amount of 200\n"
          ]
        }
      ],
      "source": [
        "for a, b, x in history:\n",
        "    transfer(b, a, x, [])\n",
        "history = []"
      ]
    },
    {
      "cell_type": "code",
      "execution_count": 85,
      "metadata": {},
      "outputs": [
        {
          "name": "stdout",
          "output_type": "stream",
          "text": [
            "[('atai', 1000), ('sultan', 2000), ('gazi', 3000), ('bars', 4000)]\n"
          ]
        }
      ],
      "source": [
        "print(list(zip(names, amount)))"
      ]
    },
    {
      "cell_type": "code",
      "execution_count": 86,
      "metadata": {},
      "outputs": [
        {
          "data": {
            "text/plain": [
              "[]"
            ]
          },
          "execution_count": 86,
          "metadata": {},
          "output_type": "execute_result"
        }
      ],
      "source": [
        "    "
      ]
    },
    {
      "cell_type": "code",
      "execution_count": 106,
      "metadata": {},
      "outputs": [
        {
          "ename": "ValueError",
          "evalue": "list.remove(x): x not in list",
          "output_type": "error",
          "traceback": [
            "\u001b[1;31m---------------------------------------------------------------------------\u001b[0m",
            "\u001b[1;31mValueError\u001b[0m                                Traceback (most recent call last)",
            "Cell \u001b[1;32mIn[106], line 25\u001b[0m\n\u001b[0;32m     22\u001b[0m                 quantity[i] \u001b[38;5;241m+\u001b[39m\u001b[38;5;241m=\u001b[39m \u001b[38;5;241m1\u001b[39m\n\u001b[0;32m     24\u001b[0m adjustBook(\u001b[38;5;124m'\u001b[39m\u001b[38;5;124memil\u001b[39m\u001b[38;5;124m'\u001b[39m, \u001b[38;5;124m'\u001b[39m\u001b[38;5;124msemetey\u001b[39m\u001b[38;5;124m'\u001b[39m, \u001b[38;5;124m'\u001b[39m\u001b[38;5;124mochur\u001b[39m\u001b[38;5;124m'\u001b[39m)\n\u001b[1;32m---> 25\u001b[0m \u001b[43madjustBook\u001b[49m\u001b[43m(\u001b[49m\u001b[38;5;124;43m'\u001b[39;49m\u001b[38;5;124;43matai\u001b[39;49m\u001b[38;5;124;43m'\u001b[39;49m\u001b[43m,\u001b[49m\u001b[43m \u001b[49m\u001b[38;5;124;43m'\u001b[39;49m\u001b[38;5;124;43msemetey\u001b[39;49m\u001b[38;5;124;43m'\u001b[39;49m\u001b[43m,\u001b[49m\u001b[43m \u001b[49m\u001b[38;5;124;43m'\u001b[39;49m\u001b[38;5;124;43mochur\u001b[39;49m\u001b[38;5;124;43m'\u001b[39;49m\u001b[43m)\u001b[49m\n\u001b[0;32m     26\u001b[0m adjustBook(\u001b[38;5;124m'\u001b[39m\u001b[38;5;124maman\u001b[39m\u001b[38;5;124m'\u001b[39m, \u001b[38;5;124m'\u001b[39m\u001b[38;5;124msemetey\u001b[39m\u001b[38;5;124m'\u001b[39m, \u001b[38;5;124m'\u001b[39m\u001b[38;5;124mochur\u001b[39m\u001b[38;5;124m'\u001b[39m)\n\u001b[0;32m     28\u001b[0m \u001b[38;5;66;03m# skolko u Amana\u001b[39;00m\n",
            "Cell \u001b[1;32mIn[106], line 21\u001b[0m, in \u001b[0;36madjustBook\u001b[1;34m(name, book, flag)\u001b[0m\n\u001b[0;32m     19\u001b[0m     quantity[i] \u001b[38;5;241m-\u001b[39m\u001b[38;5;241m=\u001b[39m \u001b[38;5;241m1\u001b[39m\n\u001b[0;32m     20\u001b[0m \u001b[38;5;28;01melif\u001b[39;00m flag \u001b[38;5;241m==\u001b[39m \u001b[38;5;124m'\u001b[39m\u001b[38;5;124mochur\u001b[39m\u001b[38;5;124m'\u001b[39m:\n\u001b[1;32m---> 21\u001b[0m     \u001b[43mknigi\u001b[49m\u001b[43m[\u001b[49m\u001b[43mi\u001b[49m\u001b[43m]\u001b[49m\u001b[38;5;241;43m.\u001b[39;49m\u001b[43mremove\u001b[49m\u001b[43m(\u001b[49m\u001b[43mbook\u001b[49m\u001b[43m)\u001b[49m\n\u001b[0;32m     22\u001b[0m     quantity[i] \u001b[38;5;241m+\u001b[39m\u001b[38;5;241m=\u001b[39m \u001b[38;5;241m1\u001b[39m\n",
            "\u001b[1;31mValueError\u001b[0m: list.remove(x): x not in list"
          ]
        }
      ],
      "source": [
        "student = [\"atai\", \"emil\", \"aman\", \"gulnur\"]\n",
        "knigi = [\n",
        "    [], \n",
        "    [\"potter\", \"jamilia\", \"semetey\"],\n",
        "    [\"sary\", 'mary', 'semetey'],\n",
        "    ['manas', 'semetey', 'seytek']\n",
        "]\n",
        "books = ['potter', 'jamilia', 'semetey', 'sary', 'mary', 'manas', 'seytek']\n",
        "author = ['emil',  'aytmatov', 'aytmatov', 'emil', 'ulan', 'ulan', 'aytmatov']\n",
        "quantity = [5,       6,          7,         8,     3,      8,       2]\n",
        "history = []\n",
        "\n",
        "def adjustBook(name, book, flag):\n",
        "    history.append((name, book, flag))\n",
        "    for i, n in enumerate(student):\n",
        "        if n == name:\n",
        "            if flag == 'kosh':\n",
        "                knigi[i].append(book)\n",
        "                quantity[i] -= 1\n",
        "            elif flag == 'ochur':\n",
        "                knigi[i].remove(book)\n",
        "                quantity[i] += 1\n",
        "\n",
        "adjustBook('emil', 'semetey', 'ochur')\n",
        "adjustBook('atai', 'semetey', 'ochur')\n",
        "adjustBook('aman', 'semetey', 'ochur')\n",
        "\n",
        "# skolko u Amana\n",
        "print('Skolko = ', [len(knigi[i]) for i, name in enumerate(student) if name == 'gulnur'])\n",
        "print('Kakie knigi = ', [knigi[i] for i, name in enumerate(student) if name == 'gulnur'])\n",
        "print('skolko studentov = ', sum([1 for x in knigi for kniga in x if kniga == 'semetey']))\n",
        "print('skolko knig u avtora = ', sum([q for q, a in zip(quantity, author) if a == 'aytmatov']))\n",
        "print('kto vzyal = ', [n for n, k in zip(student, knigi) if 'semetey' in k])\n",
        "\n"
      ]
    },
    {
      "cell_type": "code",
      "execution_count": 108,
      "metadata": {},
      "outputs": [
        {
          "name": "stdout",
          "output_type": "stream",
          "text": [
            "Skolko1 =  [3]\n",
            "skolko2 =  [3]\n"
          ]
        }
      ],
      "source": [
        "print('Skolko1 = ', [len(knigi[i]) for i, name in enumerate(student) if name == 'gulnur'])\n",
        "\n",
        "def skolko(param):\n",
        "    v = []\n",
        "    for i, name in enumerate(student):\n",
        "        if name == param:\n",
        "            v.append(len(knigi[i]))\n",
        "    return v\n",
        "\n",
        "print('skolko2 = ', skolko('gulnur'))\n",
        "\n"
      ]
    },
    {
      "cell_type": "code",
      "execution_count": 121,
      "metadata": {},
      "outputs": [
        {
          "name": "stdout",
          "output_type": "stream",
          "text": [
            "Kakie knigi =  [['manas', 'semetey', 'seytek']]\n",
            "kakie knigi2 =  ['manas', 'semetey', 'seytek']\n"
          ]
        }
      ],
      "source": [
        "print('Kakie knigi = ', [i for i, name in zip(knigi, student) if name == 'gulnur'])\n",
        "\n",
        "def kakie(param):\n",
        "    v = []\n",
        "    for k, name in zip(knigi, student):\n",
        "        if name == param:\n",
        "            v += k\n",
        "    return v\n",
        "\n",
        "print('kakie knigi2 = ', kakie('gulnur'))\n"
      ]
    },
    {
      "cell_type": "code",
      "execution_count": 114,
      "metadata": {},
      "outputs": [
        {
          "name": "stdout",
          "output_type": "stream",
          "text": [
            "skolko studentov =  2\n",
            "skolko studentov2 =  2\n",
            "skolko studentov3 =  2\n"
          ]
        }
      ],
      "source": [
        "param = 'semetey'\n",
        "\n",
        "print('skolko studentov = ', sum([1 for x in knigi for kniga in x if kniga == param]))\n",
        "def summa(param):\n",
        "    v = 0\n",
        "    for x in knigi:\n",
        "        for kniga in x:\n",
        "            if kniga == param:\n",
        "                v += 1\n",
        "    return v\n",
        "\n",
        "print('skolko studentov2 = ', summa(param))\n",
        "\n",
        "\n",
        "count = 0\n",
        "for i in knigi:\n",
        "    count += param in i\n",
        "print('skolko studentov3 = ', count)\n",
        "\n",
        "\n"
      ]
    },
    {
      "cell_type": "code",
      "execution_count": 124,
      "metadata": {},
      "outputs": [
        {
          "name": "stdout",
          "output_type": "stream",
          "text": [
            "['emil', 'aytmatov', 'aytmatov', 'emil', 'ulan', 'ulan', 'aytmatov']\n",
            "[5, 7, 7, 8, 3, 8, 2]\n",
            "[(5, 'emil'), (7, 'aytmatov'), (7, 'aytmatov'), (8, 'emil'), (3, 'ulan'), (8, 'ulan'), (2, 'aytmatov')]\n"
          ]
        }
      ],
      "source": [
        "print(author)\n",
        "print(quantity)\n",
        "print(list(zip(quantity, author)))"
      ]
    },
    {
      "cell_type": "code",
      "execution_count": 133,
      "metadata": {},
      "outputs": [
        {
          "name": "stdout",
          "output_type": "stream",
          "text": [
            "skolko knig u avtora =  16\n",
            "skolko knig u avtora2 =  0\n"
          ]
        }
      ],
      "source": [
        "print('skolko knig u avtora = ', sum([q for q, a in zip(quantity, author) if a == 'aytmatov']))\n",
        "\n",
        "\n",
        "def skolko_knig_u_avtora(param):\n",
        "    s = 0\n",
        "    for quant, auth in zip(quantity, author):\n",
        "        if auth == param:\n",
        "            s += quant\n",
        "    return s\n",
        "\n",
        "print('skolko knig u avtora2 = ', skolko_knig_u_avtora('aytmato'))\n"
      ]
    },
    {
      "cell_type": "code",
      "execution_count": 137,
      "metadata": {},
      "outputs": [
        {
          "name": "stdout",
          "output_type": "stream",
          "text": [
            "KASSOVIY CHECK\n",
            "_______________\n",
            "ruchka -> 50\n",
            "chay -> 50\n",
            "laptop -> 20000\n",
            "\n",
            "___________\n",
            "TOTAL : 20100\n"
          ]
        }
      ],
      "source": [
        "shtrih = ['0225', '1116', '9394', '3218', '9678', '6869']\n",
        "tovar = ['ruchka', 'laptop', 'chay', 'majito', 'sprite', 'rezinka']\n",
        "tsena = [50, 20000, 50, 65, 55, 20]\n",
        "\n",
        "\n",
        "def kassoviy_check(karzinka):\n",
        "    total = 0\n",
        "    result = 'KASSOVIY CHECK\\n_______________\\n'\n",
        "    for k in karzinka.split(','):\n",
        "        for sh, to, ts in zip(shtrih, tovar, tsena):\n",
        "            if k == sh:\n",
        "                result += to + ' -> ' + str(ts) + '\\n'\n",
        "                total += ts\n",
        "    return result + '\\n___________\\nTOTAL : ' + str(total)\n",
        " \n",
        "\n",
        "\n",
        "karzinka = '0225,9394,1116'\n",
        "print(kassoviy_check(karzinka))\n",
        "\n"
      ]
    },
    {
      "cell_type": "code",
      "execution_count": 1,
      "metadata": {},
      "outputs": [],
      "source": [
        "students = '''\n",
        "Абдырайымова Насипа Нурбековна\n",
        "Айдралиева Сальма Данияровна\n",
        "Алмазбек уулу Ынтымак\n",
        "Арстаналиева Бермет Кубанычбековна\n",
        "Асаналиев Актан Алмазович\n",
        "Асанова Элеонора Маратовна\n",
        "Аттокуров Зарылбек Замирбекович\n",
        "Ва-ахунов Данияль Юнусович\n",
        "Дилдебекова Назима Максатбековна\n",
        "Исаков Умар Таалайбекович\n",
        "Ишенбаев Азим Адылбекович\n",
        "Калыбаев Жумабек Мунарбекович\n",
        "Кеңешов Актанбек Урустамбекович\n",
        "Курбанбекова Алиенора Замирбековна\n",
        "Маматжанов Алымбек Амангелдиевич\n",
        "Мамбетов Атай Бакытович\n",
        "Русланов Эрбол Русланович\n",
        "Рысбеков Аламан Сагындыкович\n",
        "Таштанов Алтынбек Абдиллаевич\n",
        "Тологонова Аяна Кубатбековна\n",
        "Туратбаев Аятулла Мидинович\n",
        "Черикова Аяна Мирлановна\n",
        "Шарипов Акбар Эрнисович\n",
        "Ысманов Бекболсун Асылбекович\n",
        "Абдыбеков Төлөнбек Асанакунович\n",
        "Абдыманапов Алмаз Чынгызович\n",
        "Абибиллаев Нуртилек Алтынбекович\n",
        "Анарбеков Аман Уланович\n",
        "Балабеков Ерлан Рахымович\n",
        "Дуйшенов Кутман Эгембердиевич\n",
        "Ералиев Шергазы Өткүрбекович\n",
        "Жоодонбек кызы Жайнагул\n",
        "Исмаилов Нурдин Рысбекович\n",
        "Калмаматов Нурмухаммед Калмаматович\n",
        "Капаров Кубаныч Капарович\n",
        "Каримов Данияр Гуламидинович\n",
        "Кенжетаев Дияз Нуралыевич\n",
        "Матаев Талант Бактыбекович\n",
        "Мелисов Кутман Жыргалбекович\n",
        "Нурджанов Исмаилбек Бакытович\n",
        "Оңолбекова Гүлнура Октябровна\n",
        "Тагаева Адина Нарынбековна\n",
        "Туташбаев Алмаз Адылбекович\n",
        "Тыныбеков Жанышбек Нурбекович\n",
        "Уметбаев Барсбек Мирланбекович\n",
        "Жылдызбеков Байстан Жылдызбекович\n",
        "Керимов Бекболсун Орозалиевич\n",
        "Умаров Азамжан Азизбекович\n",
        "Бактыгулова Элина Исламбековна\n",
        "Рахматулин Тынчтыкбек Жамилович\n",
        "Айнакулов Даир\n",
        "Бейшалиев Акназар\n",
        "Сейдакматов Алимхан\n",
        "Айтиев Атабек\n",
        "Нургалиев Нуржигит Уланович\n",
        "Сейитбеков Омурбек\n",
        "Маматжанов Актан\n",
        "Насиридинова Сумая Дастанбековна\n",
        "Мухаммад'''"
      ]
    },
    {
      "cell_type": "code",
      "execution_count": 7,
      "metadata": {},
      "outputs": [
        {
          "name": "stdout",
          "output_type": "stream",
          "text": [
            "1 Мамбетов Атай Бакытович\n",
            "2 Рысбеков Аламан Сагындыкович\n",
            "3 Ералиев Шергазы Өткүрбекович\n",
            "4 Мелисов Кутман Жыргалбекович\n",
            "5 Тыныбеков Жанышбек Нурбекович\n",
            "6 Ва-ахунов Данияль Юнусович\n",
            "7 Дуйшенов Кутман Эгембердиевич\n",
            "8 Жылдызбеков Байстан Жылдызбекович\n",
            "9 Абдыбеков Төлөнбек Асанакунович\n",
            "10 Оңолбекова Гүлнура Октябровна\n",
            "11 Туташбаев Алмаз Адылбекович\n",
            "12 Алмазбек уулу Ынтымак\n",
            "13 Шарипов Акбар Эрнисович\n",
            "14 Айдралиева Сальма Данияровна\n",
            "15 Айтиев Атабек\n",
            "16 Рахматулин Тынчтыкбек Жамилович\n",
            "17 Маматжанов Алымбек Амангелдиевич\n",
            "18 Тологонова Аяна Кубатбековна\n",
            "19 Ысманов Бекболсун Асылбекович\n",
            "20 Кенжетаев Дияз Нуралыевич\n",
            "21 Абибиллаев Нуртилек Алтынбекович\n",
            "22 Балабеков Ерлан Рахымович\n",
            "23 Таштанов Алтынбек Абдиллаевич\n",
            "24 Керимов Бекболсун Орозалиевич\n",
            "25 Туратбаев Аятулла Мидинович\n",
            "26 Капаров Кубаныч Капарович\n",
            "27 Тагаева Адина Нарынбековна\n",
            "28 Жоодонбек кызы Жайнагул\n",
            "29 Маматжанов Актан\n",
            "30 Абдыманапов Алмаз Чынгызович\n",
            "31 Умаров Азамжан Азизбекович\n",
            "32 Калмаматов Нурмухаммед Калмаматович\n",
            "33 Абдырайымова Насипа Нурбековна\n",
            "34 Калыбаев Жумабек Мунарбекович\n",
            "35 Сейитбеков Омурбек\n",
            "36 \n",
            "37 Нурджанов Исмаилбек Бакытович\n",
            "38 Асаналиев Актан Алмазович\n",
            "39 Курбанбекова Алиенора Замирбековна\n",
            "40 Дилдебекова Назима Максатбековна\n",
            "41 Каримов Данияр Гуламидинович\n",
            "42 Арстаналиева Бермет Кубанычбековна\n",
            "43 Кеңешов Актанбек Урустамбекович\n",
            "44 Айнакулов Даир\n",
            "45 Бейшалиев Акназар\n",
            "46 Матаев Талант Бактыбекович\n",
            "47 Аттокуров Зарылбек Замирбекович\n",
            "48 Асанова Элеонора Маратовна\n",
            "49 Мухаммад\n",
            "50 Ишенбаев Азим Адылбекович\n",
            "51 Анарбеков Аман Уланович\n",
            "52 Бактыгулова Элина Исламбековна\n",
            "53 Русланов Эрбол Русланович\n",
            "54 Уметбаев Барсбек Мирланбекович\n",
            "55 Насиридинова Сумая Дастанбековна\n",
            "56 Сейдакматов Алимхан\n",
            "57 Исмаилов Нурдин Рысбекович\n",
            "58 Исаков Умар Таалайбекович\n",
            "59 Нургалиев Нуржигит Уланович\n",
            "60 Черикова Аяна Мирлановна\n"
          ]
        }
      ],
      "source": [
        "from random import shuffle\n",
        "arr = students.split('\\n')\n",
        "shuffle(arr)\n",
        "for i, s in enumerate(arr):\n",
        "    print(i+1, s)"
      ]
    },
    {
      "cell_type": "code",
      "execution_count": 61,
      "metadata": {},
      "outputs": [
        {
          "name": "stdout",
          "output_type": "stream",
          "text": [
            "['1A', '1B', '1C', '1D', '1E', '1F', '2A', '2B', '2C', '2D', '2E', '2F', '3A', '3B', '3C', '3D', '3E', '3F', '4A', '4B', '4C', '4D', '4E', '4F', '5A', '5B', '5C', '5D', '5E', '5F', '6A', '6B', '6C', '6D', '6E', '6F', '7A', '7B', '7C', '7D', '7E', '7F', '8A', '8B', '8C', '8D', '8E', '8F', '9A', '9B', '9C', '9D', '9E', '9F', '10A', '10B', '10C', '10D', '10E', '10F', '11A', '11B', '11C', '11D', '11E', '11F', '12A', '12B', '12C', '12D', '12E', '12F', '13A', '13B', '13C', '13D', '13E', '13F', '14A', '14B', '14C', '14D', '14E', '14F', '15A', '15B', '15C', '15D', '15E', '15F', '16A', '16B', '16C', '16D', '16E', '16F', '17A', '17B', '17C', '17D', '17E', '17F', '18A', '18B', '18C', '18D', '18E', '18F', '19A', '19B', '19C', '19D', '19E', '19F', '20A', '20B', '20C', '20D', '20E', '20F', '21A', '21B', '21C', '21D', '21E', '21F', '22A', '22B', '22C', '22D', '22E', '22F', '23A', '23B', '23C', '23D', '23E', '23F', '24A', '24B', '24C', '24D', '24E', '24F', '25A', '25B', '25C', '25D', '25E', '25F', '26A', '26B', '26C', '26D', '26E', '26F', '27A', '27B', '27C', '27D', '27E', '27F', '28A', '28B', '28C', '28D', '28E', '28F', '29A', '29B', '29C', '29D', '29E', '29F', '30A', '30B', '30C', '30D', '30E', '30F', '31A', '31B', '31C', '31D', '31E', '31F', '32A', '32B', '32C', '32D', '32E', '32F']\n",
            "[None, None, None, None, None, None, None, None, None, None, None, None, None, None, None, None, None, None, None, None, None, None, None, None, None, None, None, None, None, None, None, None, None, None, None, None, None, None, None, None, None, None, None, None, None, None, None, None, None, None, None, None, None, None, None, None, None, None, None, None, None, None, None, None, None, None, None, None, None, None, None, None, None, None, None, None, None, None, None, None, None, None, None, None, None, None, None, None, None, None, None, None, None, None, None, None, None, None, None, None, None, None, None, None, None, None, None, None, None, None, None, None, None, None, None, None, None, None, None, None, None, None, None, None, None, None, None, None, None, None, None, None, None, None, None, None, None, None, None, None, None, None, None, None, None, None, None, None, None, None, None, None, None, None, None, None, None, None, None, None, None, None, None, None, None, None, None, None, None, None, None, None, None, None, None, None, None, None, None, None, None, None, None, None, None, None, None, None, None, None, None, None]\n",
            "[4000, 3500, 3500, 3500, 3500, 4000, 4000, 3500, 3500, 3500, 3500, 4000, 4000, 3500, 3500, 3500, 3500, 4000, 4000, 3500, 3500, 3500, 3500, 4000, 5000, 5000, 5000, 5000, 5000, 5000, 5000, 5000, 5000, 5000, 5000, 5000, 4000, 3500, 3500, 3500, 3500, 4000, 4000, 3500, 3500, 3500, 3500, 4000, 4000, 3500, 3500, 3500, 3500, 4000, 4000, 3500, 3500, 3500, 3500, 4000, 4000, 3500, 3500, 3500, 3500, 4000, 4000, 3500, 3500, 3500, 3500, 4000, 4000, 3500, 3500, 3500, 3500, 4000, 4000, 3500, 3500, 3500, 3500, 4000, 4000, 3500, 3500, 3500, 3500, 4000, 4000, 3500, 3500, 3500, 3500, 4000, 4000, 3500, 3500, 3500, 3500, 4000, 4000, 3500, 3500, 3500, 3500, 4000, 4000, 3500, 3500, 3500, 3500, 4000, 4000, 3500, 3500, 3500, 3500, 4000, 4000, 3500, 3500, 3500, 3500, 4000, 4000, 3500, 3500, 3500, 3500, 4000, 4000, 3500, 3500, 3500, 3500, 4000, 4000, 3500, 3500, 3500, 3500, 4000, 4000, 3500, 3500, 3500, 3500, 4000, 4000, 3500, 3500, 3500, 3500, 4000, 4000, 3500, 3500, 3500, 3500, 4000, 4000, 3500, 3500, 3500, 3500, 4000, 4000, 3500, 3500, 3500, 3500, 4000, 4000, 3500, 3500, 3500, 3500, 4000, 4000, 3500, 3500, 3500, 3500, 4000, 4000, 3500, 3500, 3500, 3500, 4000]\n"
          ]
        }
      ],
      "source": [
        "seat = []\n",
        "price = []\n",
        "names = []\n",
        "\n",
        "for i in range(1, 33):\n",
        "    for c in 'ABCDEF':\n",
        "        seat.append(str(i) + c)\n",
        "        if i in [5, 6]:\n",
        "            price.append(5000)\n",
        "        elif c in 'AF':\n",
        "            price.append(4000)\n",
        "        else:\n",
        "            price.append(3500)\n",
        "        names.append(None)\n",
        "\n",
        "print(seat)\n",
        "print(names)\n",
        "print(price)"
      ]
    },
    {
      "cell_type": "code",
      "execution_count": 60,
      "metadata": {},
      "outputs": [],
      "source": [
        "def print_seats():\n",
        "    for s, p, n in zip(seat, price, names):\n",
        "        print(s, p, n)"
      ]
    },
    {
      "cell_type": "code",
      "execution_count": 53,
      "metadata": {},
      "outputs": [],
      "source": [
        "def sell_ticket(name, seat_number = None):\n",
        "    if seat_number == None:\n",
        "        for i in range(len(names)):\n",
        "            if names[i] == None:\n",
        "                names[i] = name\n",
        "                return price[i]\n",
        "    else:\n",
        "        for i in range(len(seat)):\n",
        "            if seat[i] == seat_number and names[i] == None:\n",
        "                names[i] = name\n",
        "                return price[i]\n",
        "    return 'No available seats'"
      ]
    },
    {
      "cell_type": "code",
      "execution_count": 46,
      "metadata": {},
      "outputs": [
        {
          "data": {
            "text/plain": [
              "3500"
            ]
          },
          "execution_count": 46,
          "metadata": {},
          "output_type": "execute_result"
        }
      ],
      "source": [
        "sell_ticket('Gulnur')\n",
        "sell_ticket('Atai')\n",
        "sell_ticket('Bek')"
      ]
    },
    {
      "cell_type": "code",
      "execution_count": 50,
      "metadata": {},
      "outputs": [
        {
          "name": "stdout",
          "output_type": "stream",
          "text": [
            "1A 3500 Emil\n",
            "1B 3500 Gulnur\n",
            "1C 3500 Bek\n",
            "1D 3500 Atai\n",
            "1E 3500 Bek\n",
            "1F 3500 Gulnur\n",
            "2A 3500 Atai\n",
            "2B 3500 Bek\n",
            "2C 3500 Ali\n",
            "2D 3500 Ali K\n",
            "2E 3500 None\n",
            "2F 3500 None\n",
            "3A 3500 None\n",
            "3B 3500 None\n",
            "3C 3500 None\n",
            "3D 3500 None\n",
            "3E 3500 None\n",
            "3F 3500 None\n",
            "4A 3500 None\n",
            "4B 3500 None\n",
            "4C 3500 None\n",
            "4D 3500 None\n",
            "4E 3500 None\n",
            "4F 3500 None\n",
            "5A 3500 None\n",
            "5B 3500 None\n",
            "5C 3500 None\n",
            "5D 3500 None\n",
            "5E 3500 None\n",
            "5F 3500 None\n",
            "6A 3500 None\n",
            "6B 3500 None\n",
            "6C 3500 None\n",
            "6D 3500 None\n",
            "6E 3500 None\n",
            "6F 3500 None\n",
            "7A 3500 None\n",
            "7B 3500 None\n",
            "7C 3500 None\n",
            "7D 3500 None\n",
            "7E 3500 None\n",
            "7F 3500 None\n",
            "8A 3500 None\n",
            "8B 3500 None\n",
            "8C 3500 None\n",
            "8D 3500 None\n",
            "8E 3500 None\n",
            "8F 3500 None\n",
            "9A 3500 None\n",
            "9B 3500 None\n",
            "9C 3500 None\n",
            "9D 3500 None\n",
            "9E 3500 None\n",
            "9F 3500 None\n",
            "10A 3500 None\n",
            "10B 3500 None\n",
            "10C 3500 None\n",
            "10D 3500 None\n",
            "10E 3500 None\n",
            "10F 3500 None\n",
            "11A 3500 None\n",
            "11B 3500 None\n",
            "11C 3500 None\n",
            "11D 3500 None\n",
            "11E 3500 None\n",
            "11F 3500 None\n",
            "12A 3500 None\n",
            "12B 3500 None\n",
            "12C 3500 None\n",
            "12D 3500 None\n",
            "12E 3500 None\n",
            "12F 3500 None\n",
            "13A 3500 None\n",
            "13B 3500 None\n",
            "13C 3500 None\n",
            "13D 3500 None\n",
            "13E 3500 None\n",
            "13F 3500 None\n",
            "14A 3500 None\n",
            "14B 3500 None\n",
            "14C 3500 None\n",
            "14D 3500 None\n",
            "14E 3500 None\n",
            "14F 3500 None\n",
            "15A 3500 None\n",
            "15B 3500 None\n",
            "15C 3500 None\n",
            "15D 3500 None\n",
            "15E 3500 None\n",
            "15F 3500 None\n",
            "16A 3500 None\n",
            "16B 3500 None\n",
            "16C 3500 None\n",
            "16D 3500 None\n",
            "16E 3500 None\n",
            "16F 3500 None\n",
            "17A 3500 None\n",
            "17B 3500 None\n",
            "17C 3500 None\n",
            "17D 3500 None\n",
            "17E 3500 None\n",
            "17F 3500 None\n",
            "18A 3500 None\n",
            "18B 3500 None\n",
            "18C 3500 None\n",
            "18D 3500 None\n",
            "18E 3500 None\n",
            "18F 3500 None\n",
            "19A 3500 None\n",
            "19B 3500 None\n",
            "19C 3500 None\n",
            "19D 3500 None\n",
            "19E 3500 None\n",
            "19F 3500 None\n",
            "20A 3500 None\n",
            "20B 3500 None\n",
            "20C 3500 None\n",
            "20D 3500 None\n",
            "20E 3500 None\n",
            "20F 3500 None\n",
            "21A 3500 None\n",
            "21B 3500 None\n",
            "21C 3500 None\n",
            "21D 3500 None\n",
            "21E 3500 None\n",
            "21F 3500 None\n",
            "22A 3500 None\n",
            "22B 3500 None\n",
            "22C 3500 None\n",
            "22D 3500 None\n",
            "22E 3500 Sultan\n",
            "22F 3500 None\n",
            "23A 3500 None\n",
            "23B 3500 None\n",
            "23C 3500 None\n",
            "23D 3500 None\n",
            "23E 3500 None\n",
            "23F 3500 None\n",
            "24A 3500 None\n",
            "24B 3500 None\n",
            "24C 3500 None\n",
            "24D 3500 None\n",
            "24E 3500 None\n",
            "24F 3500 None\n",
            "25A 3500 None\n",
            "25B 3500 None\n",
            "25C 3500 None\n",
            "25D 3500 None\n",
            "25E 3500 None\n",
            "25F 3500 None\n",
            "26A 3500 None\n",
            "26B 3500 None\n",
            "26C 3500 None\n",
            "26D 3500 None\n",
            "26E 3500 None\n",
            "26F 3500 None\n",
            "27A 3500 None\n",
            "27B 3500 None\n",
            "27C 3500 None\n",
            "27D 3500 None\n",
            "27E 3500 None\n",
            "27F 3500 None\n",
            "28A 3500 None\n",
            "28B 3500 None\n",
            "28C 3500 None\n",
            "28D 3500 None\n",
            "28E 3500 None\n",
            "28F 3500 None\n",
            "29A 3500 None\n",
            "29B 3500 None\n",
            "29C 3500 None\n",
            "29D 3500 None\n",
            "29E 3500 None\n",
            "29F 3500 None\n",
            "30A 3500 None\n",
            "30B 3500 None\n",
            "30C 3500 None\n",
            "30D 3500 None\n",
            "30E 3500 None\n",
            "30F 3500 None\n",
            "31A 3500 None\n",
            "31B 3500 None\n",
            "31C 3500 None\n",
            "31D 3500 None\n",
            "31E 3500 None\n",
            "31F 3500 None\n",
            "32A 3500 None\n",
            "32B 3500 None\n",
            "32C 3500 None\n",
            "32D 3500 None\n",
            "32E 3500 None\n",
            "32F 3500 None\n"
          ]
        }
      ],
      "source": [
        "sell_ticket('Ali K')\n",
        "sell_ticket('Sultan', '22E')\n",
        "print_seats()"
      ]
    },
    {
      "cell_type": "code",
      "execution_count": 54,
      "metadata": {},
      "outputs": [
        {
          "data": {
            "text/plain": [
              "'No available seats'"
            ]
          },
          "execution_count": 54,
          "metadata": {},
          "output_type": "execute_result"
        }
      ],
      "source": [
        "sell_ticket('Aidai', '22E')"
      ]
    },
    {
      "cell_type": "code",
      "execution_count": 21,
      "metadata": {},
      "outputs": [],
      "source": [
        "def find_name(name):\n",
        "    for i, n in enumerate(names):\n",
        "        if n == name:\n",
        "            return seat[i]\n",
        "    return 'adnay adam jok'"
      ]
    },
    {
      "cell_type": "code",
      "execution_count": 26,
      "metadata": {},
      "outputs": [
        {
          "name": "stdout",
          "output_type": "stream",
          "text": [
            "Seat number =  adnay adam jok\n"
          ]
        }
      ],
      "source": [
        "print('Seat number = ', find_name('Emil'))"
      ]
    },
    {
      "cell_type": "code",
      "execution_count": 31,
      "metadata": {},
      "outputs": [],
      "source": [
        "def remove_passenger(name):\n",
        "    for i, n in enumerate(names):\n",
        "        if n == name:\n",
        "            names[i] = None\n",
        "            return seat[i]\n",
        "    return 'Minday adam jok eken eyyy'"
      ]
    },
    {
      "cell_type": "code",
      "execution_count": 32,
      "metadata": {},
      "outputs": [
        {
          "name": "stdout",
          "output_type": "stream",
          "text": [
            "Removing Atai from seat =  1B\n",
            "Removing Gulnur from seat =  1A\n"
          ]
        }
      ],
      "source": [
        "print('Removing Atai from seat = ', remove_passenger('Atai'))\n",
        "print('Removing Gulnur from seat = ', remove_passenger('Gulnur'))"
      ]
    },
    {
      "cell_type": "code",
      "execution_count": 33,
      "metadata": {},
      "outputs": [
        {
          "name": "stdout",
          "output_type": "stream",
          "text": [
            "Removing Emil from seat =  Minday adam jok eken eyyy\n"
          ]
        }
      ],
      "source": [
        "print('Removing Emil from seat = ',remove_passenger('Emil'))"
      ]
    },
    {
      "cell_type": "code",
      "execution_count": 41,
      "metadata": {},
      "outputs": [],
      "source": [
        "def print_seats():\n",
        "    for s, p, n in zip(seat, price, names):\n",
        "        print(s, p, n)\n",
        "\n",
        "def availabe_seats():\n",
        "    count = 0\n",
        "    for s, n, p in zip(seat, names, price):\n",
        "        if n == None:\n",
        "            print(s, n, p)\n",
        "            count += 1\n",
        "    print('Total available seats = ', count)\n"
      ]
    },
    {
      "cell_type": "code",
      "execution_count": 42,
      "metadata": {},
      "outputs": [
        {
          "name": "stdout",
          "output_type": "stream",
          "text": [
            "1B None 3500\n",
            "1D None 3500\n",
            "1E None 3500\n",
            "1F None 3500\n",
            "2A None 3500\n",
            "2B None 3500\n",
            "2C None 3500\n",
            "2D None 3500\n",
            "2E None 3500\n",
            "2F None 3500\n",
            "3A None 3500\n",
            "3B None 3500\n",
            "3C None 3500\n",
            "3D None 3500\n",
            "3E None 3500\n",
            "3F None 3500\n",
            "4A None 3500\n",
            "4B None 3500\n",
            "4C None 3500\n",
            "4D None 3500\n",
            "4E None 3500\n",
            "4F None 3500\n",
            "5A None 3500\n",
            "5B None 3500\n",
            "5C None 3500\n",
            "5D None 3500\n",
            "5E None 3500\n",
            "5F None 3500\n",
            "6A None 3500\n",
            "6B None 3500\n",
            "6C None 3500\n",
            "6D None 3500\n",
            "6E None 3500\n",
            "6F None 3500\n",
            "7A None 3500\n",
            "7B None 3500\n",
            "7C None 3500\n",
            "7D None 3500\n",
            "7E None 3500\n",
            "7F None 3500\n",
            "8A None 3500\n",
            "8B None 3500\n",
            "8C None 3500\n",
            "8D None 3500\n",
            "8E None 3500\n",
            "8F None 3500\n",
            "9A None 3500\n",
            "9B None 3500\n",
            "9C None 3500\n",
            "9D None 3500\n",
            "9E None 3500\n",
            "9F None 3500\n",
            "10A None 3500\n",
            "10B None 3500\n",
            "10C None 3500\n",
            "10D None 3500\n",
            "10E None 3500\n",
            "10F None 3500\n",
            "11A None 3500\n",
            "11B None 3500\n",
            "11C None 3500\n",
            "11D None 3500\n",
            "11E None 3500\n",
            "11F None 3500\n",
            "12A None 3500\n",
            "12B None 3500\n",
            "12C None 3500\n",
            "12D None 3500\n",
            "12E None 3500\n",
            "12F None 3500\n",
            "13A None 3500\n",
            "13B None 3500\n",
            "13C None 3500\n",
            "13D None 3500\n",
            "13E None 3500\n",
            "13F None 3500\n",
            "14A None 3500\n",
            "14B None 3500\n",
            "14C None 3500\n",
            "14D None 3500\n",
            "14E None 3500\n",
            "14F None 3500\n",
            "15A None 3500\n",
            "15B None 3500\n",
            "15C None 3500\n",
            "15D None 3500\n",
            "15E None 3500\n",
            "15F None 3500\n",
            "16A None 3500\n",
            "16B None 3500\n",
            "16C None 3500\n",
            "16D None 3500\n",
            "16E None 3500\n",
            "16F None 3500\n",
            "17A None 3500\n",
            "17B None 3500\n",
            "17C None 3500\n",
            "17D None 3500\n",
            "17E None 3500\n",
            "17F None 3500\n",
            "18A None 3500\n",
            "18B None 3500\n",
            "18C None 3500\n",
            "18D None 3500\n",
            "18E None 3500\n",
            "18F None 3500\n",
            "19A None 3500\n",
            "19B None 3500\n",
            "19C None 3500\n",
            "19D None 3500\n",
            "19E None 3500\n",
            "19F None 3500\n",
            "20A None 3500\n",
            "20B None 3500\n",
            "20C None 3500\n",
            "20D None 3500\n",
            "20E None 3500\n",
            "20F None 3500\n",
            "21A None 3500\n",
            "21B None 3500\n",
            "21C None 3500\n",
            "21D None 3500\n",
            "21E None 3500\n",
            "21F None 3500\n",
            "22A None 3500\n",
            "22B None 3500\n",
            "22C None 3500\n",
            "22D None 3500\n",
            "22E None 3500\n",
            "22F None 3500\n",
            "23A None 3500\n",
            "23B None 3500\n",
            "23C None 3500\n",
            "23D None 3500\n",
            "23E None 3500\n",
            "23F None 3500\n",
            "24A None 3500\n",
            "24B None 3500\n",
            "24C None 3500\n",
            "24D None 3500\n",
            "24E None 3500\n",
            "24F None 3500\n",
            "25A None 3500\n",
            "25B None 3500\n",
            "25C None 3500\n",
            "25D None 3500\n",
            "25E None 3500\n",
            "25F None 3500\n",
            "26A None 3500\n",
            "26B None 3500\n",
            "26C None 3500\n",
            "26D None 3500\n",
            "26E None 3500\n",
            "26F None 3500\n",
            "27A None 3500\n",
            "27B None 3500\n",
            "27C None 3500\n",
            "27D None 3500\n",
            "27E None 3500\n",
            "27F None 3500\n",
            "28A None 3500\n",
            "28B None 3500\n",
            "28C None 3500\n",
            "28D None 3500\n",
            "28E None 3500\n",
            "28F None 3500\n",
            "29A None 3500\n",
            "29B None 3500\n",
            "29C None 3500\n",
            "29D None 3500\n",
            "29E None 3500\n",
            "29F None 3500\n",
            "30A None 3500\n",
            "30B None 3500\n",
            "30C None 3500\n",
            "30D None 3500\n",
            "30E None 3500\n",
            "30F None 3500\n",
            "31A None 3500\n",
            "31B None 3500\n",
            "31C None 3500\n",
            "31D None 3500\n",
            "31E None 3500\n",
            "31F None 3500\n",
            "32A None 3500\n",
            "32B None 3500\n",
            "32C None 3500\n",
            "32D None 3500\n",
            "32E None 3500\n",
            "32F None 3500\n",
            "Total available seats =  190\n"
          ]
        }
      ],
      "source": [
        "availabe_seats()"
      ]
    },
    {
      "cell_type": "code",
      "execution_count": 55,
      "metadata": {},
      "outputs": [],
      "source": [
        "def power(x, n = 2):\n",
        "    return x ** n"
      ]
    },
    {
      "cell_type": "code",
      "execution_count": 58,
      "metadata": {},
      "outputs": [
        {
          "name": "stdout",
          "output_type": "stream",
          "text": [
            "9\n",
            "81\n"
          ]
        }
      ],
      "source": [
        "print(power(3))\n",
        "print(power(3, 4))"
      ]
    },
    {
      "cell_type": "code",
      "execution_count": 65,
      "metadata": {},
      "outputs": [],
      "source": [
        "def calculate(b, n, s):\n",
        "    b = [b]\n",
        "    m = []\n",
        "    for i in range(12):\n",
        "        b.append(b[-1]*(100+n)/100*(s/100) + sum(m))\n",
        "        m.append(b[-2]*(100+n)/100*(100-s)/100//12)\n",
        "    final = b[-1]+sum([(i+1)*s for i, s in enumerate(m)])\n",
        "    final = int(final)\n",
        "    print('Beginning = ', b[0])\n",
        "    print('End = ', final)\n",
        "    print('Difference = ', final - b[0])\n"
      ]
    },
    {
      "cell_type": "code",
      "execution_count": 69,
      "metadata": {},
      "outputs": [
        {
          "name": "stdout",
          "output_type": "stream",
          "text": [
            "Beginning =  100000\n",
            "End =  291167\n",
            "Difference =  191167\n"
          ]
        }
      ],
      "source": [
        "calculate(100000, 25, 60)"
      ]
    },
    {
      "cell_type": "code",
      "execution_count": 70,
      "metadata": {},
      "outputs": [
        {
          "name": "stdout",
          "output_type": "stream",
          "text": [
            "Beginning =  100000\n",
            "End =  273012\n",
            "Difference =  173012\n"
          ]
        }
      ],
      "source": [
        "calculate(100000, 50, 10)"
      ]
    },
    {
      "cell_type": "code",
      "execution_count": 79,
      "metadata": {},
      "outputs": [],
      "source": [
        "arr = [1, 2, 3, 5]\n",
        "\n",
        "d = {\"emil\": 55556, 'xyz':782, 55:'ulan', (66,-11):9999, -22:['emil', 'bilgazyev', 66]}"
      ]
    },
    {
      "cell_type": "code",
      "execution_count": 80,
      "metadata": {},
      "outputs": [
        {
          "name": "stdout",
          "output_type": "stream",
          "text": [
            "9999\n",
            "['emil', 'bilgazyev', 66]\n"
          ]
        }
      ],
      "source": [
        "print(d[(66,-11)])\n",
        "print(d[-22])"
      ]
    },
    {
      "cell_type": "code",
      "execution_count": 85,
      "metadata": {},
      "outputs": [
        {
          "data": {
            "text/plain": [
              "'wazzup2'"
            ]
          },
          "execution_count": 85,
          "metadata": {},
          "output_type": "execute_result"
        }
      ],
      "source": [
        "d = {\n",
        "     1: 5, 7: 99, \n",
        "     ('emil', 44, 55):'wazzup2'\n",
        "     }\n",
        "d[('emil', 44, 55)]"
      ]
    },
    {
      "cell_type": "code",
      "execution_count": 86,
      "metadata": {},
      "outputs": [],
      "source": [
        "\n",
        "arr = list(range(1000000))"
      ]
    },
    {
      "cell_type": "code",
      "execution_count": 98,
      "metadata": {},
      "outputs": [],
      "source": [
        "\n",
        "from random import shuffle\n",
        "shuffle(arr)\n",
        "d = {}\n",
        "for i in arr:\n",
        "    d[i] = True"
      ]
    },
    {
      "cell_type": "code",
      "execution_count": 97,
      "metadata": {},
      "outputs": [
        {
          "name": "stdout",
          "output_type": "stream",
          "text": [
            "[777777, 15, 17, 902875, 771075, 997497, 0, 78642, 72071, 665, 19, 9999, 777777, 15, 17, 902875, 771075, 997497, 0, 78642, 72071, 665, 19, 9999, 777777, 15, 17, 902875, 771075, 997497, 0, 78642, 72071, 665, 19, 9999, 777777, 15, 17, 902875, 771075, 997497, 0, 78642, 72071, 665, 19, 9999, 777777, 15, 17, 902875, 771075, 997497, 0, 78642, 72071, 665, 19, 9999, 777777, 15, 17, 902875, 771075, 997497, 0, 78642, 72071, 665, 19, 9999, 777777, 15, 17, 902875, 771075, 997497, 0, 78642, 72071, 665, 19, 9999, 777777, 15, 17, 902875, 771075, 997497, 0, 78642, 72071, 665, 19, 9999, 777777, 15, 17, 902875, 771075, 997497, 0, 78642, 72071, 665, 19, 9999, 777777, 15, 17, 902875, 771075, 997497, 0, 78642, 72071, 665, 19, 9999]\n",
            "skolko vremnya ushlo =  5.662917613983154\n"
          ]
        }
      ],
      "source": [
        "from time import time\n",
        "\n",
        "def find(arr, n):\n",
        "    for i in arr:\n",
        "        if i == n:\n",
        "            return True\n",
        "    return False\n",
        "\n",
        "\n",
        "n = [777777, 15, 17, 902875, 771075, 997497, 0, 78642, 72071, 665, 19, 9999]*10\n",
        "print(n)\n",
        "\n",
        "start = time()\n",
        "for x in n:\n",
        "    find(arr, x)\n",
        "end = time()\n",
        "\n",
        "print('skolko vremnya ushlo = ', end - start)"
      ]
    },
    {
      "cell_type": "code",
      "execution_count": 101,
      "metadata": {},
      "outputs": [
        {
          "ename": "KeyError",
          "evalue": "99999999",
          "output_type": "error",
          "traceback": [
            "\u001b[1;31m---------------------------------------------------------------------------\u001b[0m",
            "\u001b[1;31mKeyError\u001b[0m                                  Traceback (most recent call last)",
            "Cell \u001b[1;32mIn[101], line 1\u001b[0m\n\u001b[1;32m----> 1\u001b[0m \u001b[43md\u001b[49m\u001b[43m[\u001b[49m\u001b[38;5;241;43m99999999\u001b[39;49m\u001b[43m]\u001b[49m\n",
            "\u001b[1;31mKeyError\u001b[0m: 99999999"
          ]
        }
      ],
      "source": [
        "d[99999999]"
      ]
    },
    {
      "cell_type": "code",
      "execution_count": 103,
      "metadata": {},
      "outputs": [
        {
          "name": "stdout",
          "output_type": "stream",
          "text": [
            "[777777, 15, 17, 902875, 771075, 997497, 0, 78642, 72071, 665, 19, 9999, 777777, 15, 17, 902875, 771075, 997497, 0, 78642, 72071, 665, 19, 9999, 777777, 15, 17, 902875, 771075, 997497, 0, 78642, 72071, 665, 19, 9999, 777777, 15, 17, 902875, 771075, 997497, 0, 78642, 72071, 665, 19, 9999, 777777, 15, 17, 902875, 771075, 997497, 0, 78642, 72071, 665, 19, 9999, 777777, 15, 17, 902875, 771075, 997497, 0, 78642, 72071, 665, 19, 9999, 777777, 15, 17, 902875, 771075, 997497, 0, 78642, 72071, 665, 19, 9999, 777777, 15, 17, 902875, 771075, 997497, 0, 78642, 72071, 665, 19, 9999, 777777, 15, 17, 902875, 771075, 997497, 0, 78642, 72071, 665, 19, 9999, 777777, 15, 17, 902875, 771075, 997497, 0, 78642, 72071, 665, 19, 9999]\n",
            "skolko vremnya ushlo =  0.0\n"
          ]
        }
      ],
      "source": [
        "n = [777777, 15, 17, 902875, 771075, 997497, 0, 78642, 72071, 665, 19, 9999]*10\n",
        "print(n)\n",
        "\n",
        "start = time()\n",
        "for x in n:\n",
        "    res = x in d\n",
        "end = time()\n",
        "\n",
        "print('skolko vremnya ushlo = ', end - start)"
      ]
    },
    {
      "cell_type": "code",
      "execution_count": 104,
      "metadata": {},
      "outputs": [],
      "source": [
        "d ={'0vU96xu3-3U': {\n",
        "    'url': 'my link',\n",
        "    'age':56,\n",
        "    'creator':'emil', \n",
        "    'thumbsup': 50, \n",
        "    'thumbsdown': 90\n",
        "}}"
      ]
    },
    {
      "cell_type": "code",
      "execution_count": 106,
      "metadata": {},
      "outputs": [],
      "source": [
        "d['0vU96xu3-3U']['thumbsup'] += 1000"
      ]
    },
    {
      "cell_type": "code",
      "execution_count": 107,
      "metadata": {},
      "outputs": [
        {
          "data": {
            "text/plain": [
              "1050"
            ]
          },
          "execution_count": 107,
          "metadata": {},
          "output_type": "execute_result"
        }
      ],
      "source": [
        "d['0vU96xu3-3U']['thumbsup']"
      ]
    },
    {
      "cell_type": "code",
      "execution_count": 115,
      "metadata": {},
      "outputs": [
        {
          "name": "stdout",
          "output_type": "stream",
          "text": [
            "[2, 3, 9, 7, 3, 3, 6, 9, 5, 3]\n"
          ]
        }
      ],
      "source": [
        "from random import randint\n",
        "\n",
        "arr = [randint(0, 10) for i in range(10)]\n",
        "\n",
        "print(arr)"
      ]
    },
    {
      "cell_type": "code",
      "execution_count": 110,
      "metadata": {},
      "outputs": [
        {
          "name": "stdout",
          "output_type": "stream",
          "text": [
            "16\n"
          ]
        }
      ],
      "source": [
        "xarr = [78, 78, 78, 78]\n",
        "count = 0\n",
        "for i in xarr:\n",
        "    for j in xarr:\n",
        "        if i == j:\n",
        "            count += 1\n",
        "\n",
        "print(count)"
      ]
    },
    {
      "cell_type": "code",
      "execution_count": 116,
      "metadata": {},
      "outputs": [
        {
          "name": "stdout",
          "output_type": "stream",
          "text": [
            "[2, 3, 9, 7, 3, 3, 6, 9, 5, 3]\n",
            "key = 3 , value =  4\n",
            "key = 9 , value =  2\n"
          ]
        }
      ],
      "source": [
        "print(arr)\n",
        "d = {}\n",
        "for i in arr:\n",
        "    if i not in d:\n",
        "        d[i] = 1\n",
        "    else:\n",
        "        d[i] += 1\n",
        "\n",
        "for k, v in d.items():\n",
        "    if v > 1:\n",
        "        print('key =',  k, ', value = ', v)\n"
      ]
    },
    {
      "cell_type": "code",
      "execution_count": 124,
      "metadata": {},
      "outputs": [
        {
          "name": "stdout",
          "output_type": "stream",
          "text": [
            "[2, 3, 9, 7, 3, 3, 6, 9, 5, 3]\n",
            "[(3, 4), (9, 2)]\n"
          ]
        }
      ],
      "source": [
        "d = {}\n",
        "for i in arr:\n",
        "    d[i] = d.get(i, 0)+1\n",
        "\n",
        "print(arr)\n",
        "print([(k,v) for k, v in d.items() if v > 1])\n",
        "    "
      ]
    },
    {
      "cell_type": "code",
      "execution_count": 120,
      "metadata": {},
      "outputs": [
        {
          "data": {
            "text/plain": [
              "4"
            ]
          },
          "execution_count": 120,
          "metadata": {},
          "output_type": "execute_result"
        }
      ],
      "source": [
        "d.get(3, 'netu')"
      ]
    },
    {
      "cell_type": "code",
      "execution_count": 139,
      "metadata": {},
      "outputs": [
        {
          "name": "stdout",
          "output_type": "stream",
          "text": [
            "{'imena': {'Bek': ['cola']}, 'summa': {'Bek': 50}}\n",
            "{'imena': {'Bek': ['cola', 'shoro']}, 'summa': {'Bek': 135}}\n",
            "{'imena': {'Bek': ['cola', 'shoro'], 'emil': ['shoro']}, 'summa': {'Bek': 135, 'emil': 85}}\n",
            "Bek  kancha kariz =  135\n",
            "Bek  emnelerdi aldi =  ['cola', 'shoro']\n"
          ]
        }
      ],
      "source": [
        "items = {\"cola\": 50, \"shoro\":85, \"mars\":40, \"sprite\":60, \"nan\":25, \"burger\":150, \"ruchka\":40}\n",
        "names = {\n",
        "    \"imena\":{},\n",
        "    \"summa\":{}\n",
        "}\n",
        "\n",
        "def kariz(name, item):\n",
        "    if item in items:\n",
        "        names['imena'][name] = names['imena'].get(name, []) + [item] \n",
        "        names['summa'][name] = names['summa'].get(name, 0) + items[item]\n",
        "    print(names)\n",
        "\n",
        "def emneler_aldi(name):\n",
        "    return names[\"imena\"].get(name, 'netu tokogo klienta v baze')\n",
        "\n",
        "def kancha_kariz(name):\n",
        "    return names['summa'].get(name, 'netu tokogo klienta v baze')\n",
        "\n",
        "kariz(\"Bek\", \"cola\")\n",
        "kariz(\"Bek\", \"shoro\")\n",
        "kariz(\"emil\", \"shoro\")\n",
        "\n",
        "name = 'Bek'\n",
        "print(name, ' kancha kariz = ', kancha_kariz(name))\n",
        "print(name, ' emnelerdi aldi = ', emneler_aldi(name))\n"
      ]
    },
    {
      "cell_type": "code",
      "execution_count": 128,
      "metadata": {},
      "outputs": [
        {
          "name": "stdout",
          "output_type": "stream",
          "text": [
            "tokogo netu\n"
          ]
        }
      ],
      "source": [
        "names = {\n",
        "    \"tovari\": {\n",
        "        \"emil\":[\"cola\", 'shoro'], \n",
        "        \"bek\":[\"mars\"]\n",
        "    }, \n",
        "    'summa':{\n",
        "        'emil':135,\n",
        "        'bek':40\n",
        "    }\n",
        "}\n",
        "\n",
        "if 'sultan' in names['summa']:\n",
        "    print(names['summa']['sultan'])\n",
        "else:\n",
        "    print('tokogo netu')"
      ]
    },
    {
      "cell_type": "code",
      "execution_count": 7,
      "metadata": {},
      "outputs": [],
      "source": [
        "names = {\n",
        "    \"emil\":{\n",
        "        \"quizes\":['q1', 'q2', 'm'],\n",
        "        \"grades\":[60, 70, 80]\n",
        "    },\n",
        "    \"aziz\":{\n",
        "        \"quizes\":['q1', 'final'],\n",
        "        \"grades\":[80, 20]\n",
        "    }\n",
        "}\n",
        "\n",
        "def addGrade(name, grade, quiz):\n",
        "    if name not in names:\n",
        "        names[name] = {\n",
        "            \"quizes\":[], \n",
        "            \"grades\":[]\n",
        "        }\n",
        "    names[name]['quizes'].append(quiz)\n",
        "    names[name]['grades'].append(grade)\n",
        "\n",
        "\n",
        "def getGrades(name):\n",
        "    if name in names:\n",
        "        return list(zip(names[name]['quizes'], names[name]['grades']))\n",
        "    else:\n",
        "        return name + \" does not exist in the database\"\n",
        "\n",
        "def getAll():\n",
        "    arr2 = []\n",
        "    for i in names:\n",
        "        arr = names[i]['grades']\n",
        "        avg = sum(arr) / len(arr)\n",
        "        arr2.append((i, avg))\n",
        "    return arr2"
      ]
    },
    {
      "cell_type": "code",
      "execution_count": 8,
      "metadata": {},
      "outputs": [
        {
          "name": "stdout",
          "output_type": "stream",
          "text": [
            "[(1, 8), (2, 4), (3, 2)]\n"
          ]
        }
      ],
      "source": [
        "arr1 = [1, 2, 3]\n",
        "arr2 = [8, 4, 2]\n",
        "\n",
        "print(list(zip(arr1, arr2)))"
      ]
    },
    {
      "cell_type": "code",
      "execution_count": 9,
      "metadata": {},
      "outputs": [
        {
          "data": {
            "text/plain": [
              "[('emil', 70.0), ('aziz', 50.0)]"
            ]
          },
          "execution_count": 9,
          "metadata": {},
          "output_type": "execute_result"
        }
      ],
      "source": [
        "getAll()"
      ]
    },
    {
      "cell_type": "code",
      "execution_count": 10,
      "metadata": {},
      "outputs": [
        {
          "data": {
            "text/plain": [
              "[('q1', 80), ('final', 20)]"
            ]
          },
          "execution_count": 10,
          "metadata": {},
          "output_type": "execute_result"
        }
      ],
      "source": [
        "getGrades('aziz')"
      ]
    },
    {
      "cell_type": "code",
      "execution_count": 13,
      "metadata": {},
      "outputs": [
        {
          "data": {
            "text/plain": [
              "[('nurti', 46.666666666666664), ('alym', 56.666666666666664)]"
            ]
          },
          "execution_count": 13,
          "metadata": {},
          "output_type": "execute_result"
        }
      ],
      "source": [
        "names = {\n",
        "}\n",
        "\n",
        "def addGrade(name, quiz, grade):\n",
        "    if name not in names:\n",
        "        names[name] = {'quizes':[], 'grades':[]}\n",
        "    names[name]['grades'].append(grade)\n",
        "    names[name]['quizes'].append(quiz)\n",
        "\n",
        "def getGrades(name):\n",
        "    if name in names:\n",
        "        return list(zip(names[name]['grades'], names[name]['quizes']))\n",
        "    else:\n",
        "        return name + 'netu takogo uchenika'\n",
        "\n",
        "def getAverage(name):\n",
        "    text = f'Grades for {name} \\n\\n'\n",
        "    x = getGrades(name)\n",
        "    sm, cnt = 0, 0\n",
        "    for i, j in x:\n",
        "        text += f'{i} -> {j}\\n'\n",
        "        sm += int(j)\n",
        "        cnt += 1\n",
        "    text += f'\\n\\n Average: {sm / cnt}'\n",
        "\n",
        "\n",
        "def getAll():\n",
        "    arr2 = []\n",
        "    for i in names:\n",
        "        arr = names[i]['grades']\n",
        "        avg = sum(arr) / len(arr)\n",
        "        arr2.append((i,avg))\n",
        "    return arr2\n",
        "\n",
        "\n",
        "addGrade('nurti','quiz1', 60)\n",
        "addGrade('alym','quiz1', 40)\n",
        "addGrade('nurti','quiz2', 50)\n",
        "addGrade('alym','quiz2', 60)\n",
        "addGrade('nurti','quiz3', 30)\n",
        "addGrade('alym','quiz3', 70)\n",
        "\n",
        "# getGrades('nurti')\n",
        "# getAverage('nurti')\n",
        "getAll()"
      ]
    },
    {
      "cell_type": "code",
      "execution_count": null,
      "metadata": {},
      "outputs": [],
      "source": [
        "names = {\n",
        "    \"name\" : [],\n",
        "    \"sid\" : []\n",
        "}\n",
        "\n",
        "class_names = {\n",
        "    \"cid\" : [],\n",
        "    \"class_name\": []\n",
        "}\n",
        "\n",
        "grades = {\n",
        "    \"sid\": [],\n",
        "    \"cid\": [],\n",
        "    \"grade\": []\n",
        "}\n",
        "\n",
        "def get_by_id(table, id, field_from, field_val):\n",
        "    for inx, value in enumerate(table[field_from]):\n",
        "        if value == id:\n",
        "            return table[field_val][inx]\n",
        "\n",
        "from collections import defaultdict\n",
        "taken_table = defaultdict(int)\n",
        "for sid, cid, grade in zip(grades[\"sid\"], grades[\"cid\"], grades[\"grade\"]):\n",
        "    taken_table[(sid, cid)] += 1\n",
        "\n",
        "arr =  []\n",
        "for (sid, cid), taken_count in taken_table.items():\n",
        "    student_name = get_by_id(names, sid, \"sid\", \"name\")\n",
        "    class_name = get_by_id(class_names, cid, \"cid\", \"class_name\")\n",
        "    arr.append((taken_count, student_name, class_name))\n",
        "\n",
        "print(arr)\n",
        "print(max(arr))\n",
        "\n",
        "\n"
      ]
    },
    {
      "cell_type": "code",
      "execution_count": 1,
      "metadata": {},
      "outputs": [],
      "source": [
        "def find_clients_by_date_range(salon, start_date, end_date):\n",
        "    result = []\n",
        "    for d in salon:\n",
        "        if start_date <= d['date'] <= end_date:\n",
        "            result.append(d)\n",
        "    return result"
      ]
    },
    {
      "cell_type": "code",
      "execution_count": 2,
      "metadata": {},
      "outputs": [],
      "source": [
        "salon = [\n",
        "    {'date': '2024-01-08'},\n",
        "    {'date': '2022-03-15'},\n",
        "    {'date': '2023-08-23'},\n",
        "    {'date': '2024-07-08'},\n",
        "    {'date': '2022-06-30'},\n",
        "    {'date': '2023-04-23'},\n",
        "    {'date': '2024-01-15'},\n",
        "    {'date': '2024-02-16'},\n",
        "    {'date': '2022-03-17'},\n",
        "    {'date': '2022-04-01'},\n",
        "    {'date': '2023-06-08'}\n",
        "]\n"
      ]
    },
    {
      "cell_type": "code",
      "execution_count": 3,
      "metadata": {},
      "outputs": [
        {
          "data": {
            "text/plain": [
              "[{'date': '2024-01-08'},\n",
              " {'date': '2023-08-23'},\n",
              " {'date': '2024-07-08'},\n",
              " {'date': '2023-04-23'},\n",
              " {'date': '2024-01-15'},\n",
              " {'date': '2024-02-16'},\n",
              " {'date': '2023-06-08'}]"
            ]
          },
          "execution_count": 3,
          "metadata": {},
          "output_type": "execute_result"
        }
      ],
      "source": [
        "find_clients_by_date_range(salon, '2023-01-01', '2024-12-30')"
      ]
    },
    {
      "cell_type": "code",
      "execution_count": null,
      "metadata": {},
      "outputs": [],
      "source": []
    }
  ],
  "metadata": {
    "kernelspec": {
      "display_name": "Python 3",
      "language": "python",
      "name": "python3"
    },
    "language_info": {
      "codemirror_mode": {
        "name": "ipython",
        "version": 3
      },
      "file_extension": ".py",
      "mimetype": "text/x-python",
      "name": "python",
      "nbconvert_exporter": "python",
      "pygments_lexer": "ipython3",
      "version": "3.11.9"
    }
  },
  "nbformat": 4,
  "nbformat_minor": 4
}
