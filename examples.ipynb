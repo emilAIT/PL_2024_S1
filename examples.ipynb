{
  "cells": [
    {
      "cell_type": "code",
      "execution_count": 14,
      "metadata": {},
      "outputs": [
        {
          "name": "stdout",
          "output_type": "stream",
          "text": [
            "a =  10\n"
          ]
        }
      ],
      "source": [
        "a = 10\n",
        "print('a = ', a)"
      ]
    },
    {
      "cell_type": "code",
      "execution_count": 15,
      "metadata": {},
      "outputs": [
        {
          "name": "stdout",
          "output_type": "stream",
          "text": [
            "emilemilemilemilemilemilemilemilemilemil\n"
          ]
        }
      ],
      "source": [
        "a = 'emil'\n",
        "b = 10\n",
        "print(a * b)"
      ]
    },
    {
      "cell_type": "code",
      "execution_count": 16,
      "metadata": {},
      "outputs": [
        {
          "name": "stdout",
          "output_type": "stream",
          "text": [
            "emilemilemilemilemilemilemilemilemilemil\n"
          ]
        }
      ],
      "source": [
        "print(b * a)"
      ]
    },
    {
      "cell_type": "code",
      "execution_count": 17,
      "metadata": {},
      "outputs": [],
      "source": [
        "emil = 10\n",
        "emil0 = 20"
      ]
    },
    {
      "cell_type": "code",
      "execution_count": 18,
      "metadata": {},
      "outputs": [
        {
          "name": "stdout",
          "output_type": "stream",
          "text": [
            "emil\n"
          ]
        }
      ],
      "source": [
        "print('emil')\n",
        "#print(emil + emil2)"
      ]
    },
    {
      "cell_type": "code",
      "execution_count": 19,
      "metadata": {},
      "outputs": [
        {
          "ename": "NameError",
          "evalue": "name 'emil2' is not defined",
          "output_type": "error",
          "traceback": [
            "\u001b[1;31m---------------------------------------------------------------------------\u001b[0m",
            "\u001b[1;31mNameError\u001b[0m                                 Traceback (most recent call last)",
            "Cell \u001b[1;32mIn[19], line 1\u001b[0m\n\u001b[1;32m----> 1\u001b[0m \u001b[38;5;28mprint\u001b[39m(emil \u001b[38;5;241m+\u001b[39m \u001b[43memil2\u001b[49m)\n",
            "\u001b[1;31mNameError\u001b[0m: name 'emil2' is not defined"
          ]
        }
      ],
      "source": [
        "print(emil + emil2)"
      ]
    },
    {
      "cell_type": "code",
      "execution_count": 8,
      "metadata": {},
      "outputs": [
        {
          "name": "stdout",
          "output_type": "stream",
          "text": [
            "20\n"
          ]
        }
      ],
      "source": [
        "print(b + emil)"
      ]
    },
    {
      "cell_type": "code",
      "execution_count": 9,
      "metadata": {},
      "outputs": [
        {
          "data": {
            "text/plain": [
              "'emil'"
            ]
          },
          "execution_count": 9,
          "metadata": {},
          "output_type": "execute_result"
        }
      ],
      "source": [
        "a"
      ]
    },
    {
      "cell_type": "code",
      "execution_count": 10,
      "metadata": {},
      "outputs": [
        {
          "data": {
            "text/plain": [
              "10"
            ]
          },
          "execution_count": 10,
          "metadata": {},
          "output_type": "execute_result"
        }
      ],
      "source": [
        "emil"
      ]
    },
    {
      "cell_type": "code",
      "execution_count": 11,
      "metadata": {},
      "outputs": [
        {
          "ename": "TypeError",
          "evalue": "can only concatenate str (not \"int\") to str",
          "output_type": "error",
          "traceback": [
            "\u001b[1;31m---------------------------------------------------------------------------\u001b[0m",
            "\u001b[1;31mTypeError\u001b[0m                                 Traceback (most recent call last)",
            "Cell \u001b[1;32mIn[11], line 1\u001b[0m\n\u001b[1;32m----> 1\u001b[0m \u001b[38;5;28mprint\u001b[39m(a, emil, \u001b[43ma\u001b[49m\u001b[43m \u001b[49m\u001b[38;5;241;43m+\u001b[39;49m\u001b[43m \u001b[49m\u001b[43memil\u001b[49m)\n",
            "\u001b[1;31mTypeError\u001b[0m: can only concatenate str (not \"int\") to str"
          ]
        }
      ],
      "source": [
        "print(a, emil, a + emil)"
      ]
    },
    {
      "cell_type": "code",
      "execution_count": 91,
      "metadata": {},
      "outputs": [
        {
          "name": "stdout",
          "output_type": "stream",
          "text": [
            "10 <class 'int'>\n",
            "emil <class 'str'>\n"
          ]
        }
      ],
      "source": [
        "#print(sm, type(sm))\n",
        "sm = 10\n",
        "print(sm, type(sm))\n",
        "sm = 'emil'\n",
        "print(sm, type(sm))"
      ]
    },
    {
      "cell_type": "code",
      "execution_count": 16,
      "metadata": {},
      "outputs": [
        {
          "name": "stdout",
          "output_type": "stream",
          "text": [
            "c\n"
          ]
        }
      ],
      "source": [
        "print(a[-1])"
      ]
    },
    {
      "cell_type": "code",
      "execution_count": 17,
      "metadata": {},
      "outputs": [
        {
          "name": "stdout",
          "output_type": "stream",
          "text": [
            "7\n"
          ]
        }
      ],
      "source": [
        "a = 'student'\n",
        "print(len(a))"
      ]
    },
    {
      "cell_type": "code",
      "execution_count": 18,
      "metadata": {},
      "outputs": [
        {
          "ename": "IndexError",
          "evalue": "string index out of range",
          "output_type": "error",
          "traceback": [
            "\u001b[1;31m---------------------------------------------------------------------------\u001b[0m",
            "\u001b[1;31mIndexError\u001b[0m                                Traceback (most recent call last)",
            "Cell \u001b[1;32mIn[18], line 1\u001b[0m\n\u001b[1;32m----> 1\u001b[0m \u001b[38;5;28mprint\u001b[39m(\u001b[43ma\u001b[49m\u001b[43m[\u001b[49m\u001b[38;5;241;43m7\u001b[39;49m\u001b[43m]\u001b[49m)\n",
            "\u001b[1;31mIndexError\u001b[0m: string index out of range"
          ]
        }
      ],
      "source": [
        "print(a[7])"
      ]
    },
    {
      "cell_type": "code",
      "execution_count": 28,
      "metadata": {},
      "outputs": [
        {
          "ename": "TypeError",
          "evalue": "string indices must be integers, not 'float'",
          "output_type": "error",
          "traceback": [
            "\u001b[1;31m---------------------------------------------------------------------------\u001b[0m",
            "\u001b[1;31mTypeError\u001b[0m                                 Traceback (most recent call last)",
            "Cell \u001b[1;32mIn[28], line 2\u001b[0m\n\u001b[0;32m      1\u001b[0m a \u001b[38;5;241m=\u001b[39m \u001b[38;5;124m'\u001b[39m\u001b[38;5;124mstudentbek\u001b[39m\u001b[38;5;124m'\u001b[39m\n\u001b[1;32m----> 2\u001b[0m \u001b[38;5;28mprint\u001b[39m(\u001b[43ma\u001b[49m\u001b[43m[\u001b[49m\u001b[38;5;28;43mlen\u001b[39;49m\u001b[43m(\u001b[49m\u001b[43ma\u001b[49m\u001b[43m)\u001b[49m\u001b[38;5;241;43m/\u001b[39;49m\u001b[38;5;241;43m2\u001b[39;49m\u001b[43m]\u001b[49m)\n\u001b[0;32m      3\u001b[0m \u001b[38;5;66;03m#print('last character = ', a[len(a) - 1])\u001b[39;00m\n",
            "\u001b[1;31mTypeError\u001b[0m: string indices must be integers, not 'float'"
          ]
        }
      ],
      "source": [
        "a = 'studentbek'\n",
        "print(a[len(a)/2])\n",
        "#print('last character = ', a[len(a) - 1])"
      ]
    },
    {
      "cell_type": "code",
      "execution_count": 31,
      "metadata": {},
      "outputs": [
        {
          "name": "stdout",
          "output_type": "stream",
          "text": [
            "5.5 5 5\n"
          ]
        }
      ],
      "source": [
        "print( 11 / 2, 11 // 2, int(11 / 2))"
      ]
    },
    {
      "cell_type": "code",
      "execution_count": 35,
      "metadata": {},
      "outputs": [
        {
          "name": "stdout",
          "output_type": "stream",
          "text": [
            "10\n"
          ]
        }
      ],
      "source": [
        "print(round(10.50))"
      ]
    },
    {
      "cell_type": "code",
      "execution_count": 39,
      "metadata": {},
      "outputs": [
        {
          "name": "stdout",
          "output_type": "stream",
          "text": [
            "xxxxxxxxxx\n"
          ]
        }
      ],
      "source": [
        "if 10 < 2:\n",
        " print('pravilno')\n",
        "else:\n",
        "    a = 10\n",
        "    print('x' * 10)"
      ]
    },
    {
      "cell_type": "code",
      "execution_count": 44,
      "metadata": {},
      "outputs": [
        {
          "name": "stdout",
          "output_type": "stream",
          "text": [
            "ploho\n",
            "40.0\n"
          ]
        }
      ],
      "source": [
        "student1 = 10\n",
        "student2 = 10\n",
        "student3 = 100\n",
        "\n",
        "r = (student1 + student2 + student3) / 3\n",
        "\n",
        "if r >= 70:\n",
        "    print('horosho')\n",
        "else:\n",
        "    print('ploho')\n",
        "\n",
        "print(r)\n"
      ]
    },
    {
      "cell_type": "code",
      "execution_count": 81,
      "metadata": {},
      "outputs": [],
      "source": []
    },
    {
      "cell_type": "code",
      "execution_count": 84,
      "metadata": {},
      "outputs": [
        {
          "name": "stdout",
          "output_type": "stream",
          "text": [
            "summa =  -3\n",
            "exam is today\n"
          ]
        }
      ],
      "source": [
        "# proveryayem summu studentov\n",
        "s1, s2, s3, s4, s5, s6, s7, s8, s9, s10 = 1, 1, 1, 1, 1, 1, 1, -10, 0, 0\n",
        "summa = s1 + s2 + s3 + s4 + s5 + s6 + s7 + s8 + s9 + s10\n",
        "print('summa = ', summa)\n",
        "if s1 > 1 or s2 > 1 or s3 > 1 or s4 > 1 or s5 > 1 or s6 > 1 or s7 > 1 or s8 > 1 or s9 > 1 or s10 > 1:\n",
        "    print('julnichuyut odin ili bolshe studentov pdnyal(i) dve ruki')\n",
        "elif summa > 10:\n",
        "    print('julnichuyut')\n",
        "elif summa == 10:\n",
        "    print('No exam')\n",
        "elif summa < 10 and summa >= 8:\n",
        "    print('exam is tomorrow')\n",
        "elif summa >= 5 and summa < 8:\n",
        "    print('exam is day after tomorrow')\n",
        "else: \n",
        "    print('exam is today') "
      ]
    },
    {
      "cell_type": "code",
      "execution_count": 92,
      "metadata": {},
      "outputs": [
        {
          "name": "stdout",
          "output_type": "stream",
          "text": [
            "not normal\n",
            "not normal\n"
          ]
        }
      ],
      "source": [
        "# napishi programmu kotoriy proverit s odin ili nol\n",
        "s = -1\n",
        "if s >= 0 and s <= 1:\n",
        "    print('normal')\n",
        "elif s < 0:\n",
        "    print('not normal')\n",
        "\n",
        "\n",
        "## secon version\n",
        "if s == 1 or s == 0:\n",
        "    print('normal')\n",
        "else:\n",
        "    print('not normal')"
      ]
    },
    {
      "cell_type": "code",
      "execution_count": 102,
      "metadata": {},
      "outputs": [],
      "source": [
        "def y(p, x): \n",
        "    return p * p + 5 - p*x"
      ]
    },
    {
      "cell_type": "code",
      "execution_count": 103,
      "metadata": {},
      "outputs": [
        {
          "name": "stdout",
          "output_type": "stream",
          "text": [
            "11\n",
            "95\n",
            "39805\n"
          ]
        }
      ],
      "source": [
        "print( 3 * 3 + 5 - 3)\n",
        "print( 10 * 10 + 5 - 10)\n",
        "print( 200 * 200 + 5 - 200)\n"
      ]
    },
    {
      "cell_type": "code",
      "execution_count": 107,
      "metadata": {},
      "outputs": [],
      "source": [
        "def isFirstMinimum(s1, s2, s3, s4):\n",
        "    if s1 <= s2 and s1 <= s3 and s1 <= s4:\n",
        "        return True\n",
        "    else:\n",
        "        return False\n",
        "\n",
        "\n",
        "def getMin2(s1, s2, s3, s4):\n",
        "    if s1 >= s2 and s1 >= s3 and s1 >= s4:\n",
        "        print(s1)\n",
        "    elif s2 > s1 and s2 > s3 and s2 > s4:\n",
        "        print(s2)\n",
        "    elif s3 > s1 and s3 > s2 and s3 > s4:\n",
        "        print(s3)\n",
        "    else:\n",
        "        print(s4)\n",
        "\n",
        "\n",
        "def getMinValue(s1, s2, s3, s4):\n",
        "    if isFirstMinimum(s1, s2, s3, s4):\n",
        "        print(s1)\n",
        "    elif isFirstMinimum(s2, s1, s3, s4):\n",
        "        print(s2)\n",
        "    elif isFirstMinimum(s3, s1, s4, s2):\n",
        "        print(s3)\n",
        "    else:\n",
        "        print(s4)\n",
        "\n"
      ]
    },
    {
      "cell_type": "code",
      "execution_count": 108,
      "metadata": {},
      "outputs": [
        {
          "name": "stdout",
          "output_type": "stream",
          "text": [
            "1\n",
            "None\n"
          ]
        }
      ],
      "source": [
        "print(getMinValue(5, 7, 13, 1))"
      ]
    },
    {
      "cell_type": "code",
      "execution_count": 115,
      "metadata": {},
      "outputs": [
        {
          "name": "stdout",
          "output_type": "stream",
          "text": [
            "s1 type = <class 'str'>, 10, s2 type = <class 'str'>, 20.2, s1 + s2 =  1020.2\n",
            "s1 type = <class 'float'>, 10.0, s2 type = <class 'float'>, 20.2, s1 + s2 =  30.2\n"
          ]
        }
      ],
      "source": [
        "def myprint(s1, s2):\n",
        "    print(f's1 type = {type(s1)}, {s1}, s2 type = {type(s2)}, {s2}, s1 + s2 = ', s1 + s2)\n",
        "\n",
        "s1 = \"10\"\n",
        "s2 = \"20.2\"\n",
        "myprint(s1, s2)\n",
        "s1 = float(s1)\n",
        "s2 = float(s2)\n",
        "myprint(s1, s2)\n"
      ]
    },
    {
      "cell_type": "code",
      "execution_count": 120,
      "metadata": {},
      "outputs": [
        {
          "name": "stdout",
          "output_type": "stream",
          "text": [
            "50\n"
          ]
        }
      ],
      "source": [
        "def abcd(a, b):\n",
        "    if a > b:\n",
        "        return a\n",
        "    else:\n",
        "        return b\n"
      ]
    },
    {
      "cell_type": "code",
      "execution_count": 126,
      "metadata": {},
      "outputs": [
        {
          "name": "stdout",
          "output_type": "stream",
          "text": [
            "[1, 2, 3, 5, 100, 6, 2]\n",
            "min value is :  1\n"
          ]
        }
      ],
      "source": [
        "arr = [1, 2, 3, 5, 0, 6, 2]\n",
        "arr[4] = 100\n",
        "m = arr[0]\n",
        "for i in arr: \n",
        "    if i < m:\n",
        "        m = i\n",
        "print(arr)\n",
        "print('min value is : ', m)"
      ]
    },
    {
      "cell_type": "code",
      "execution_count": 130,
      "metadata": {},
      "outputs": [
        {
          "name": "stdout",
          "output_type": "stream",
          "text": [
            "emil\n",
            "['x', 'm', 'i', 'l']\n",
            "x\n",
            "m\n",
            "i\n",
            "l\n"
          ]
        }
      ],
      "source": [
        "s = 'emil'\n",
        "print(s)\n",
        "s = list(s)\n",
        "s[0] = 'x'\n",
        "print(s)\n",
        "for i in s:\n",
        "    print(i)"
      ]
    },
    {
      "cell_type": "code",
      "execution_count": 134,
      "metadata": {},
      "outputs": [
        {
          "name": "stdout",
          "output_type": "stream",
          "text": [
            "sum =  14\n",
            "count =  6\n",
            "average =  2.3333333333333335\n"
          ]
        }
      ],
      "source": [
        "arr = [1, 3, 4, 9, 0, -3]\n",
        "n = 0; \n",
        "c = 0\n",
        "for i in arr:\n",
        "    n += i\n",
        "    c += 1\n",
        "print('sum = ', n)\n",
        "print('count = ', c)\n",
        "print(\"average = \", n / c)  "
      ]
    },
    {
      "cell_type": "code",
      "execution_count": 141,
      "metadata": {},
      "outputs": [
        {
          "name": "stdout",
          "output_type": "stream",
          "text": [
            "True\n"
          ]
        }
      ],
      "source": [
        "arr = [1, 3, 4, 5, 9, 0, -3]\n",
        "x = False\n",
        "for p in arr:\n",
        "    x = x or p == 5\n",
        "print(x)"
      ]
    },
    {
      "cell_type": "code",
      "execution_count": 149,
      "metadata": {},
      "outputs": [
        {
          "name": "stdout",
          "output_type": "stream",
          "text": [
            "False\n"
          ]
        }
      ],
      "source": [
        "def exist(arr, t):\n",
        "    for i in arr:\n",
        "        if i == t:\n",
        "            return True\n",
        "    return False\n",
        "\n",
        "print(exist(arr, 5))"
      ]
    },
    {
      "cell_type": "code",
      "execution_count": 151,
      "metadata": {},
      "outputs": [
        {
          "name": "stdout",
          "output_type": "stream",
          "text": [
            "0\n"
          ]
        }
      ],
      "source": [
        "p = 0\n",
        "for i in arr:\n",
        "    if i == 5:\n",
        "        p += 1\n",
        "if p > 0:\n",
        "    print(p)\n",
        "else:\n",
        "    print(p)"
      ]
    },
    {
      "cell_type": "code",
      "execution_count": 155,
      "metadata": {},
      "outputs": [
        {
          "name": "stdout",
          "output_type": "stream",
          "text": [
            "0 1 0 1\n",
            "0 1 1 1\n",
            "0 1 2 1\n",
            "0 1 3 1\n",
            "0 1 4 1\n",
            "0 1 5 1\n",
            "1 9 0 9\n",
            "1 9 1 9\n",
            "1 9 2 9\n",
            "1 9 3 9\n",
            "1 9 4 9\n",
            "1 9 5 9\n",
            "2 0 0 0\n",
            "2 0 1 0\n",
            "2 0 2 0\n",
            "2 0 3 0\n",
            "2 0 4 0\n",
            "2 0 5 0\n",
            "3 2 0 2\n",
            "3 2 1 2\n",
            "3 2 2 2\n",
            "3 2 3 2\n",
            "3 2 4 2\n",
            "3 2 5 2\n",
            "4 3 0 3\n",
            "4 3 1 3\n",
            "4 3 2 3\n",
            "4 3 3 3\n",
            "4 3 4 3\n",
            "4 3 5 3\n",
            "5 6 0 6\n",
            "5 6 1 6\n",
            "5 6 2 6\n",
            "5 6 3 6\n",
            "5 6 4 6\n",
            "5 6 5 6\n"
          ]
        }
      ],
      "source": [
        " arr = [1, 9, 0, 2, 3, 6] \n",
        "\n",
        " for index1, i in enumerate(arr):\n",
        "    for index2, j in enumerate(arr):\n",
        "        print(index1, i, index2, i)\n",
        "        # if i + j == 18 and index1 != index2:\n",
        "        #     print(i, j, True)"
      ]
    },
    {
      "cell_type": "code",
      "execution_count": 157,
      "metadata": {},
      "outputs": [
        {
          "name": "stdout",
          "output_type": "stream",
          "text": [
            "[1, 9, 0, 2, 3, 6]\n",
            "0 1\n",
            "1 9\n",
            "2 0\n",
            "3 2\n",
            "4 3\n",
            "5 6\n"
          ]
        }
      ],
      "source": [
        "print(arr)\n",
        "for x, i in enumerate(arr):\n",
        "    print(x, i)"
      ]
    },
    {
      "cell_type": "code",
      "execution_count": 2,
      "metadata": {},
      "outputs": [],
      "source": [
        "### 11 / 09 / 2024"
      ]
    },
    {
      "cell_type": "code",
      "execution_count": 4,
      "metadata": {},
      "outputs": [
        {
          "name": "stdout",
          "output_type": "stream",
          "text": [
            "[1, 2, 0, 7, 2, 1]\n",
            "summa =  13\n"
          ]
        }
      ],
      "source": [
        "arr = [1, 2, 0, 7, 2, 1]\n",
        "\n",
        "s = 0\n",
        "for i in arr:\n",
        "    s += i\n",
        "print(arr)\n",
        "print('summa = ', s)"
      ]
    },
    {
      "cell_type": "code",
      "execution_count": 5,
      "metadata": {},
      "outputs": [
        {
          "name": "stdout",
          "output_type": "stream",
          "text": [
            "[1, 2, 0, 7, 2, 1]\n",
            "minimum value in an array =  0\n"
          ]
        }
      ],
      "source": [
        "m = arr[0]\n",
        "for i in arr:\n",
        "    if m > i:\n",
        "        m = i\n",
        "print(arr)\n",
        "print('minimum value in an array = ', m)"
      ]
    },
    {
      "cell_type": "code",
      "execution_count": 9,
      "metadata": {},
      "outputs": [
        {
          "name": "stdout",
          "output_type": "stream",
          "text": [
            "n =  0  ->  Atai\n",
            "after n =  1\n",
            "n =  1  ->  Alim\n",
            "after n =  2\n",
            "n =  2  ->  Tynchtyk\n",
            "after n =  3\n",
            "n =  3  ->  Nur\n",
            "after n =  4\n",
            "n =  4  ->  Samat\n",
            "after n =  5\n",
            "n =  5  ->  Atabek\n",
            "after n =  6\n",
            "['Atai', 'Alim', 'Tynchtyk', 'Nur', 'Samat', 'Atabek'] 7\n",
            "ne vse tut, missin =  1\n"
          ]
        }
      ],
      "source": [
        "arr = ['Atai', 'Alim', 'Tynchtyk', 'Nur', 'Samat', 'Atabek']\n",
        "N = 7\n",
        "\n",
        "n = 0\n",
        "for i in arr:\n",
        "    print('n = ', n, ' -> ', i)\n",
        "    n += 1\n",
        "    print('after n = ', n)\n",
        "\n",
        "print(arr, N)\n",
        "if n == N:\n",
        "    print('vse tut')\n",
        "elif n < N:\n",
        "    print('ne vse tut, missin = ', N - n)\n",
        "elif n > N:\n",
        "    print('bolshe ludey na = ', n - N)\n"
      ]
    },
    {
      "cell_type": "code",
      "execution_count": 45,
      "metadata": {},
      "outputs": [
        {
          "name": "stdout",
          "output_type": "stream",
          "text": [
            "1  random number =  8\n",
            "2  random number =  58\n",
            "3  random number =  32\n"
          ]
        }
      ],
      "source": [
        "from random import randint\n",
        "for i in range(3):\n",
        "    print(i+1, ' random number = ', randint(1, 60))\n"
      ]
    },
    {
      "cell_type": "code",
      "execution_count": 15,
      "metadata": {},
      "outputs": [
        {
          "name": "stdout",
          "output_type": "stream",
          "text": [
            "Nurbek  est v massive =  False\n",
            "Nurbek  bar massivde =  False\n"
          ]
        }
      ],
      "source": [
        "arr = ['Atai', 'Alim', 'Tynchtyk', 'Nur', 'Samat', 'Atabek']\n",
        "name = 'Nurbek'\n",
        "jokeyy = False\n",
        "\n",
        "for imya in arr:\n",
        "    jokeyy = jokeyy or name == imya\n",
        "\n",
        "print(name, ' est v massive = ', jokeyy)\n",
        "\n",
        "result = False\n",
        "for imya in arr:\n",
        "    if imya == name:\n",
        "        result = True\n",
        "print(name, ' bar massivde = ', result)"
      ]
    },
    {
      "cell_type": "code",
      "execution_count": 17,
      "metadata": {},
      "outputs": [
        {
          "name": "stdout",
          "output_type": "stream",
          "text": [
            "['Atai', 'Alim', 'Tynchtyk', 'Nur', 'Samat', 'Atabek']\n",
            "Tynchtyk\n"
          ]
        }
      ],
      "source": [
        "arr = ['Atai', 'Alim', 'Tynchtyk', 'Nur', 'Samat', 'Atabek']\n",
        "n = arr[0]\n",
        "for i in arr:\n",
        "    if i > n:\n",
        "        n = i\n",
        "print(arr)\n",
        "print(n)"
      ]
    },
    {
      "cell_type": "code",
      "execution_count": 19,
      "metadata": {},
      "outputs": [
        {
          "name": "stdout",
          "output_type": "stream",
          "text": [
            "Atabek\n"
          ]
        }
      ],
      "source": [
        "arr = ['Atai', 'Atalim', 'Tynchtyk', 'Nur', 'Samat', 'Atabek']\n",
        "\n",
        "n = arr[0]\n",
        "for i in arr:\n",
        "    if i < n:\n",
        "        n = i\n",
        "print(n)"
      ]
    },
    {
      "cell_type": "code",
      "execution_count": 25,
      "metadata": {},
      "outputs": [
        {
          "name": "stdout",
          "output_type": "stream",
          "text": [
            "longest name =  Atabekov\n",
            "Atalimba\n",
            "Tynchtyk\n",
            "Atabekov\n"
          ]
        }
      ],
      "source": [
        "arr = ['Atai', 'Atalimba', 'Tynchtyk', 'Nur', 'Samat', 'Atabekov']\n",
        "n = arr[0]\n",
        "for i in arr:\n",
        "    if len(i) >= len(n):\n",
        "        n = i\n",
        "print('longest name = ', n)\n",
        "\n",
        "for i in arr:\n",
        "    if len(i) == len(n):\n",
        "        print(i)\n",
        "\n"
      ]
    },
    {
      "cell_type": "code",
      "execution_count": 26,
      "metadata": {},
      "outputs": [
        {
          "name": "stdout",
          "output_type": "stream",
          "text": [
            "['Atalimba', 'Tynchtyk', 'Atabekov']\n"
          ]
        }
      ],
      "source": [
        "print([i for i in arr if len(i) == max([len(j) for j in arr])])"
      ]
    },
    {
      "cell_type": "code",
      "execution_count": 40,
      "metadata": {},
      "outputs": [
        {
          "name": "stdout",
          "output_type": "stream",
          "text": [
            "[9, 8, 5, 3, 2, 1]\n"
          ]
        }
      ],
      "source": [
        "arr = [1, 2, 3, 5, 8, 9]\n",
        "\n",
        "print(arr[len(arr) - 1 : :-1])"
      ]
    },
    {
      "cell_type": "code",
      "execution_count": 41,
      "metadata": {},
      "outputs": [
        {
          "name": "stdout",
          "output_type": "stream",
          "text": [
            "[5, 8, 9]\n"
          ]
        }
      ],
      "source": [
        "print(arr[3:])"
      ]
    },
    {
      "cell_type": "code",
      "execution_count": 42,
      "metadata": {},
      "outputs": [
        {
          "name": "stdout",
          "output_type": "stream",
          "text": [
            "[1, 2, 3, 5]\n"
          ]
        }
      ],
      "source": [
        "print(arr[:4])"
      ]
    },
    {
      "cell_type": "code",
      "execution_count": 49,
      "metadata": {},
      "outputs": [
        {
          "name": "stdout",
          "output_type": "stream",
          "text": [
            "min = -10, max = -1, difference = 9\n"
          ]
        }
      ],
      "source": [
        "arr = [-1, -2, -3, -5, -10, -8, -2]\n",
        "min = arr[0]\n",
        "max = arr[0]\n",
        "for i in arr:\n",
        "    if min > i:\n",
        "        min = i\n",
        "    if max < i:\n",
        "        max = i\n",
        "\n",
        "print(f'min = {min}, max = {max}, difference = {max - min}')"
      ]
    },
    {
      "cell_type": "code",
      "execution_count": 51,
      "metadata": {},
      "outputs": [
        {
          "name": "stdout",
          "output_type": "stream",
          "text": [
            "[1, 2, 3, 5, 5, 6, 7]\n",
            "[1, 2, 3]\n",
            "[5, 5, 6, 7]\n"
          ]
        }
      ],
      "source": [
        "arr = [1, 2, 3, 5, 5, 6, 7]\n",
        "print(arr)\n",
        "print(arr[:3])\n",
        "print(arr[3:])"
      ]
    },
    {
      "cell_type": "code",
      "execution_count": 58,
      "metadata": {},
      "outputs": [
        {
          "name": "stdout",
          "output_type": "stream",
          "text": [
            "[1, 2, 3, 5, 4, 2]\n",
            "[1, 2, 3, 'abc', 'def']\n"
          ]
        }
      ],
      "source": [
        "arr1 = [1, 2, 3]\n",
        "arr2 = [5, 4, 2]\n",
        "print(arr1 + arr2)\n",
        "print(arr1 + ['abc', 'def'])"
      ]
    },
    {
      "cell_type": "code",
      "execution_count": 61,
      "metadata": {},
      "outputs": [
        {
          "name": "stdout",
          "output_type": "stream",
          "text": [
            "['emil', 'bil', 'ait', 'kg', 1]\n"
          ]
        },
        {
          "ename": "TypeError",
          "evalue": "sequence item 4: expected str instance, int found",
          "output_type": "error",
          "traceback": [
            "\u001b[1;31m---------------------------------------------------------------------------\u001b[0m",
            "\u001b[1;31mTypeError\u001b[0m                                 Traceback (most recent call last)",
            "Cell \u001b[1;32mIn[61], line 4\u001b[0m\n\u001b[0;32m      1\u001b[0m arr \u001b[38;5;241m=\u001b[39m [\u001b[38;5;124m'\u001b[39m\u001b[38;5;124memil\u001b[39m\u001b[38;5;124m'\u001b[39m, \u001b[38;5;124m'\u001b[39m\u001b[38;5;124mbil\u001b[39m\u001b[38;5;124m'\u001b[39m, \u001b[38;5;124m'\u001b[39m\u001b[38;5;124mait\u001b[39m\u001b[38;5;124m'\u001b[39m, \u001b[38;5;124m'\u001b[39m\u001b[38;5;124mkg\u001b[39m\u001b[38;5;124m'\u001b[39m, \u001b[38;5;241m1\u001b[39m]\n\u001b[0;32m      3\u001b[0m \u001b[38;5;28mprint\u001b[39m(arr)\n\u001b[1;32m----> 4\u001b[0m \u001b[38;5;28mprint\u001b[39m(\u001b[38;5;124;43m'\u001b[39;49m\u001b[38;5;124;43m->\u001b[39;49m\u001b[38;5;124;43m'\u001b[39;49m\u001b[38;5;241;43m.\u001b[39;49m\u001b[43mjoin\u001b[49m\u001b[43m(\u001b[49m\u001b[43marr\u001b[49m\u001b[43m)\u001b[49m)\n",
            "\u001b[1;31mTypeError\u001b[0m: sequence item 4: expected str instance, int found"
          ]
        }
      ],
      "source": [
        "arr = ['emil', 'bil', 'ait', 'kg', 1]\n",
        "\n",
        "print(arr)\n",
        "print('->'.join(arr))\n",
        "\n",
        "\n",
        "1 + 5 * 2 - 3"
      ]
    },
    {
      "cell_type": "code",
      "execution_count": 28,
      "metadata": {},
      "outputs": [
        {
          "name": "stdout",
          "output_type": "stream",
          "text": [
            "i =  0 -> i =  1 -> i =  3 -> i =  8 -> Even number\n",
            "i =  10 -> i =  0 -> i =  1 -> i =  3 -> i =  8 -> Even number\n",
            "i =  10 -> v massive est chetniy sifra?  ATAI\n"
          ]
        }
      ],
      "source": [
        "def check(arr):\n",
        "    for i in arr:\n",
        "        print(\"i = \", i, end = ' -> ')\n",
        "        if i % 2 == 0 and i % 2 == 1 or i % 3 == 2:\n",
        "            print('Even number')\n",
        "    return \"ATAI\"\n",
        "arr = [0, 65, 86, 55, 63, 46, 87, 18, 12, 33]\n",
        "target = 55\n",
        "\n",
        "result = '0, 55'\n",
        "\n",
        "print('v massive est chetniy sifra? ', check(arr) if check(arr) else '')\n",
        "#print('v massive est chetniy sifra? ', check(arr))\n",
        "\n",
        "res = '''\n",
        "0 -> 1 -> 3 -> 8 -> Even number\n",
        "10 -> v massive est chetniy sifra? ATAI\n",
        "'''\n",
        "\n"
      ]
    },
    {
      "cell_type": "code",
      "execution_count": 29,
      "metadata": {},
      "outputs": [
        {
          "name": "stdout",
          "output_type": "stream",
          "text": [
            "[0, 65, 86, 55, 63, 46, 87, 18, 12, 33]\n"
          ]
        }
      ],
      "source": [
        "from random import randint\n",
        "print([randint(0, 100) for i in range(10)])"
      ]
    },
    {
      "cell_type": "code",
      "execution_count": null,
      "metadata": {},
      "outputs": [],
      "source": []
    },
    {
      "cell_type": "code",
      "execution_count": 24,
      "metadata": {},
      "outputs": [
        {
          "name": "stdout",
          "output_type": "stream",
          "text": [
            "27 57 13\n"
          ]
        }
      ],
      "source": [
        "from random import randint\n",
        "print(randint(1, 62), randint(1, 62), randint(1, 62))"
      ]
    },
    {
      "cell_type": "code",
      "execution_count": 33,
      "metadata": {},
      "outputs": [
        {
          "name": "stdout",
          "output_type": "stream",
          "text": [
            "12 + 18 = 30\n"
          ]
        },
        {
          "data": {
            "text/plain": [
              "False"
            ]
          },
          "execution_count": 33,
          "metadata": {},
          "output_type": "execute_result"
        }
      ],
      "source": [
        "def check(arr, target):\n",
        "    for x1, i in enumerate(arr):\n",
        "        for x2, j in enumerate(arr):\n",
        "            if i + j == target and i < j and x1 < x2:\n",
        "                print(f'{i} + {j} = {target}')\n",
        "    return False\n",
        "\n",
        "arr = [0, 65, 86, 55, 63, 46, 87, 12, 18, 12, 33]\n",
        "target = 30\n",
        "\n",
        "check(arr, target)"
      ]
    },
    {
      "cell_type": "code",
      "execution_count": 34,
      "metadata": {},
      "outputs": [
        {
          "name": "stdout",
          "output_type": "stream",
          "text": [
            "55\n",
            "63\n",
            "46\n",
            "12\n",
            "18\n",
            "12\n"
          ]
        }
      ],
      "source": [
        "def check2(arr):\n",
        "    for i, v in enumerate(arr):\n",
        "        if i > 0 and i < len(arr)-1 and max(arr[:i]) > v < max(arr[i+1:]):\n",
        "            print(v)\n",
        "\n",
        "arr = [0, 65, 86, 55, 63, 46, 87, 12, 18, 12, 33]\n",
        "check2(arr)"
      ]
    },
    {
      "cell_type": "code",
      "execution_count": 38,
      "metadata": {},
      "outputs": [
        {
          "name": "stdout",
          "output_type": "stream",
          "text": [
            "(0, 6)\n",
            "(1, 2)\n",
            "(2, 1)\n",
            "(3, 0)\n",
            "(4, 4)\n"
          ]
        }
      ],
      "source": [
        "arr = [6, 2, 1, 0, 4]\n",
        "for i in enumerate(arr):\n",
        "    print(i)"
      ]
    },
    {
      "cell_type": "code",
      "execution_count": 44,
      "metadata": {},
      "outputs": [
        {
          "name": "stdout",
          "output_type": "stream",
          "text": [
            "81\n",
            "3.0\n"
          ]
        }
      ],
      "source": [
        "def fun(x):\n",
        "    return x ** 2, x ** 0.5\n",
        "\n",
        "z, y = fun(9)\n",
        "\n",
        "print(z)\n",
        "print(y)"
      ]
    },
    {
      "cell_type": "code",
      "execution_count": 33,
      "metadata": {},
      "outputs": [
        {
          "name": "stdout",
          "output_type": "stream",
          "text": [
            "RESULT =  2\n"
          ]
        }
      ],
      "source": [
        "arr = [1, 3, 5, 6, 0, 2, 6, 6, -1, 8, 8]\n",
        "f = arr[0]\n",
        "c = 0\n",
        "for i in arr:\n",
        "    if f < i:\n",
        "        f = i\n",
        "        c = 0+1\n",
        "    elif f == i:\n",
        "        c += 1\n",
        "\n",
        "print('RESULT = ', c)"
      ]
    },
    {
      "cell_type": "code",
      "execution_count": 34,
      "metadata": {},
      "outputs": [
        {
          "name": "stdout",
          "output_type": "stream",
          "text": [
            "2\n"
          ]
        }
      ],
      "source": [
        "arr = [1, 3, 5, 6, 0, 2, 6, 6, -1, 8, 8]\n",
        "max = arr[0]\n",
        "for i in arr:\n",
        "    if max < i:\n",
        "        max = i\n",
        "count = 0\n",
        "for i in arr:\n",
        "    if max == i:\n",
        "        count += 1\n",
        "print(count)"
      ]
    },
    {
      "cell_type": "code",
      "execution_count": 36,
      "metadata": {},
      "outputs": [
        {
          "name": "stdout",
          "output_type": "stream",
          "text": [
            "[1, 3, 5, 6, 0, 2, 6, 6, -1, 8, 8]\n",
            "44\n",
            "15\n",
            "27\n"
          ]
        }
      ],
      "source": [
        "print(arr)\n",
        "s = 0\n",
        "for i in arr:\n",
        "    s += i\n",
        "print(s)\n",
        "\n",
        "s = 0\n",
        "for i in arr[:5]:\n",
        "    s += i\n",
        "print(s)\n",
        "\n",
        "s = 0\n",
        "for i in arr[-5:]:\n",
        "    s += i\n",
        "print(s)"
      ]
    },
    {
      "cell_type": "code",
      "execution_count": 38,
      "metadata": {},
      "outputs": [
        {
          "name": "stdout",
          "output_type": "stream",
          "text": [
            "[1, 3, 5, 6, 0, 2, 6, 6, -1, 8, 8]\n",
            "negative count =  1\n"
          ]
        }
      ],
      "source": [
        "c = 0\n",
        "for i in arr:\n",
        "    if i < 0:\n",
        "        c += 1\n",
        "print(arr)\n",
        "print('negative count = ', c)"
      ]
    },
    {
      "cell_type": "code",
      "execution_count": 43,
      "metadata": {},
      "outputs": [
        {
          "name": "stdout",
          "output_type": "stream",
          "text": [
            "moloko x 1 -> 90\n",
            "bread x 2 -> 50\n",
            "kolbasa x 1 -> 200\n",
            "____________________\n",
            "Total : 340\n"
          ]
        }
      ],
      "source": [
        "names = ['twix', 'sandwich', 'moloko', 'bread', 'cola', 'kolbasa']\n",
        "prices = [40, 75, 90, 25, 90, 200]\n",
        "kolichestvo = [10, 15, 40, 60, 20, 10]\n",
        "\n",
        "def tsena_tovara(names, prices, tovar):\n",
        "    for index, name in enumerate(names):\n",
        "        if name == tovar:\n",
        "            return prices[index] \n",
        "\n",
        "def kancha_boldu(moi_tovari, moi_kolichestvo):\n",
        "    s = 0\n",
        "    text = ''\n",
        "    for ati, shtuk in zip(moi_tovari, moi_kolichestvo):\n",
        "        x = tsena_tovara(names, prices, ati) * shtuk\n",
        "        text += f'{ati} x {shtuk} -> {x}\\n'\n",
        "        s += x\n",
        "    text += '_'*20\n",
        "    return text + f'\\nTotal : {s}'\n",
        "\n",
        "\n",
        "moi_tovari = [\"moloko\", \"bread\", \"kolbasa\"]\n",
        "moi_kolichestvo = [1, 2, 1]\n",
        "\n",
        "check = kancha_boldu(moi_tovari, moi_kolichestvo)\n",
        "print(check)\n"
      ]
    },
    {
      "cell_type": "code",
      "execution_count": 57,
      "metadata": {},
      "outputs": [
        {
          "name": "stdout",
          "output_type": "stream",
          "text": [
            "ketken ubakit =  0.009049177169799805\n",
            "200000\n"
          ]
        }
      ],
      "source": [
        "from time import time\n",
        "arr = [52, 8, 7, 72, 8, 6, 3, 1, 9, 0]*20000\n",
        "res = []\n",
        "\n",
        "def mysort(arr):\n",
        "    # for i in range(len(arr)):\n",
        "    #     max = arr[0]\n",
        "    #     for j in arr:\n",
        "    #         if max > j:\n",
        "    #             max = j\n",
        "    #     res.append(max)\n",
        "    #     arr.remove(max)\n",
        "    return sorted(arr)\n",
        "\n",
        "basinda = time()\n",
        "x = mysort(arr)\n",
        "ayagi = time()\n",
        "print('ketken ubakit = ', ayagi - basinda)\n",
        "print(len(x))\n"
      ]
    },
    {
      "cell_type": "code",
      "execution_count": 62,
      "metadata": {},
      "outputs": [
        {
          "name": "stdout",
          "output_type": "stream",
          "text": [
            "max amount person is =  gazi\n"
          ]
        }
      ],
      "source": [
        "names = [\"atai\", 'sultan', 'emir', 'gazi']\n",
        "amount = [1000, 2000, 3000, 4000]\n",
        "\n",
        "def max_amount_person():\n",
        "    max = arr[0]\n",
        "    name = None\n",
        "    for x, i in enumerate(amount):\n",
        "        if i > max:\n",
        "            max = i\n",
        "            name = names[x]\n",
        "    return name\n",
        "\n",
        "print('max amount person is = ', max_amount_person())"
      ]
    },
    {
      "cell_type": "code",
      "execution_count": 74,
      "metadata": {},
      "outputs": [
        {
          "name": "stdout",
          "output_type": "stream",
          "text": [
            "x =  0\n"
          ]
        }
      ],
      "source": [
        "x = 0\n",
        "print('x = ', x)"
      ]
    },
    {
      "cell_type": "code",
      "execution_count": 73,
      "metadata": {},
      "outputs": [
        {
          "name": "stdout",
          "output_type": "stream",
          "text": [
            "[1000, 2000, 3000, 4000]\n",
            "sum =  20000\n"
          ]
        }
      ],
      "source": [
        "def mysum():\n",
        "    x = 0\n",
        "    for i in amount:\n",
        "        x += i\n",
        "    return x\n",
        "print(amount)\n",
        "print('sum = ', mysum())"
      ]
    },
    {
      "cell_type": "code",
      "execution_count": 75,
      "metadata": {},
      "outputs": [
        {
          "name": "stdout",
          "output_type": "stream",
          "text": [
            "['atai', 'sultan', 'emir', 'gazi']\n",
            "[1000, 2000, 3000, 4000]\n",
            "['emir', 'gazi']\n"
          ]
        }
      ],
      "source": [
        "def high_amount_clients(threshold):\n",
        "    res = []\n",
        "    \n",
        "    for x, name in zip(amount, names):\n",
        "        if x >= threshold: # > -> -5\n",
        "            res.append(name)\n",
        "    return res\n",
        "\n",
        "names = [\"atai\", 'sultan', 'emir', 'gazi', 'bars', 'aziz', 'ulan']\n",
        "amount = [1000,  2000,      3000,  4000,    1000,   2000,   5000]\n",
        "\n",
        "print(names)\n",
        "print(amount)\n",
        "print(high_amount_clients(3000))"
      ]
    },
    {
      "cell_type": "code",
      "execution_count": 78,
      "metadata": {},
      "outputs": [
        {
          "name": "stdout",
          "output_type": "stream",
          "text": [
            "['atai', 'sultan', 'emir', 'gazi', 'bars', 'aziz', 'ulan']\n",
            "[1000, 2000, 3000, 4000, 1000, 2000, 5000]\n",
            "['sultan', 'emir', 'gazi', 'aziz', 'ulan']\n"
          ]
        }
      ],
      "source": [
        "names = [\"atai\", 'sultan', 'emir', 'gazi', 'bars', 'aziz', 'ulan']\n",
        "amount = [1000,  2000,      3000,  4000,    1000,   2000,   5000]\n",
        "\n",
        "def get_higher_amount(higher_amount):\n",
        "    for i, n in enumerate(amount):\n",
        "        if n < higher_amount:\n",
        "            names.pop(i)\n",
        "            amount.pop(i)\n",
        "    return names\n",
        "\n",
        "print(names)\n",
        "print(amount)\n",
        "print(get_higher_amount(3000))"
      ]
    },
    {
      "cell_type": "code",
      "execution_count": 87,
      "metadata": {},
      "outputs": [
        {
          "name": "stdout",
          "output_type": "stream",
          "text": [
            "Before\n",
            "[('atai', 1000), ('sultan', 2000), ('gazi', 3000), ('bars', 4000)]\n",
            "Transfering from \"gazi\" to \"bars\" amount of 200\n",
            "Transfering from \"gazi\" to \"bars\" amount of 200\n",
            "Transfering from \"gazi\" to \"bars\" amount of 200\n",
            "Transfering from \"gazi\" to \"bars\" amount of 200\n",
            "Transfering from \"gazi\" to \"bars\" amount of 200\n",
            "Transfering from \"gazi\" to \"bars\" amount of 200\n",
            "Transfering from \"gazi\" to \"bars\" amount of 200\n",
            "Transfering from \"gazi\" to \"bars\" amount of 200\n",
            "Transfering from \"gazi\" to \"bars\" amount of 200\n",
            "Transfering from \"gazi\" to \"bars\" amount of 200\n",
            "\n",
            "Latest\n",
            "[('atai', 1000), ('sultan', 2000), ('gazi', 1000), ('bars', 6000)]\n",
            "History\n",
            "[('gazi', 'bars', 200), ('gazi', 'bars', 200), ('gazi', 'bars', 200), ('gazi', 'bars', 200), ('gazi', 'bars', 200), ('gazi', 'bars', 200), ('gazi', 'bars', 200), ('gazi', 'bars', 200), ('gazi', 'bars', 200), ('gazi', 'bars', 200)]\n"
          ]
        }
      ],
      "source": [
        "names = [\"atai\", 'sultan',  'gazi', 'bars']\n",
        "amount = [1000,  2000,       3000,  4000]\n",
        "print('Before')\n",
        "print(list(zip(names, amount)))\n",
        "\n",
        "\n",
        "def findindex(name):\n",
        "    for i, v in enumerate(names):\n",
        "        if v == name:\n",
        "            return i\n",
        "        \n",
        "def transfer(a, b, x, h):\n",
        "    print(f'Transfering from \"{a}\" to \"{b}\" amount of {x}')\n",
        "    h.append((a, b, x))\n",
        "    ai, bi = findindex(a), findindex(b)\n",
        "    amount[ai], amount[bi] = amount[ai] - x, amount[bi] + x\n",
        "\n",
        "history = []\n",
        "for i in range(10):\n",
        "    transfer(\"gazi\", \"bars\", 200, history)\n",
        "print('\\nLatest')\n",
        "print(list(zip(names, amount)))\n",
        "print('History')\n",
        "print(history)\n",
        "\n"
      ]
    },
    {
      "cell_type": "code",
      "execution_count": 88,
      "metadata": {},
      "outputs": [
        {
          "data": {
            "text/plain": [
              "[('gazi', 'bars', 200),\n",
              " ('gazi', 'bars', 200),\n",
              " ('gazi', 'bars', 200),\n",
              " ('gazi', 'bars', 200),\n",
              " ('gazi', 'bars', 200),\n",
              " ('gazi', 'bars', 200),\n",
              " ('gazi', 'bars', 200),\n",
              " ('gazi', 'bars', 200),\n",
              " ('gazi', 'bars', 200),\n",
              " ('gazi', 'bars', 200)]"
            ]
          },
          "execution_count": 88,
          "metadata": {},
          "output_type": "execute_result"
        }
      ],
      "source": [
        "history"
      ]
    },
    {
      "cell_type": "code",
      "execution_count": 89,
      "metadata": {},
      "outputs": [
        {
          "name": "stdout",
          "output_type": "stream",
          "text": [
            "Transfering from \"bars\" to \"gazi\" amount of 200\n",
            "Transfering from \"bars\" to \"gazi\" amount of 200\n",
            "Transfering from \"bars\" to \"gazi\" amount of 200\n",
            "Transfering from \"bars\" to \"gazi\" amount of 200\n",
            "Transfering from \"bars\" to \"gazi\" amount of 200\n",
            "Transfering from \"bars\" to \"gazi\" amount of 200\n",
            "Transfering from \"bars\" to \"gazi\" amount of 200\n",
            "Transfering from \"bars\" to \"gazi\" amount of 200\n",
            "Transfering from \"bars\" to \"gazi\" amount of 200\n",
            "Transfering from \"bars\" to \"gazi\" amount of 200\n"
          ]
        }
      ],
      "source": [
        "for a, b, x in history:\n",
        "    transfer(b, a, x, [])\n",
        "history = []"
      ]
    },
    {
      "cell_type": "code",
      "execution_count": 85,
      "metadata": {},
      "outputs": [
        {
          "name": "stdout",
          "output_type": "stream",
          "text": [
            "[('atai', 1000), ('sultan', 2000), ('gazi', 3000), ('bars', 4000)]\n"
          ]
        }
      ],
      "source": [
        "print(list(zip(names, amount)))"
      ]
    },
    {
      "cell_type": "code",
      "execution_count": 86,
      "metadata": {},
      "outputs": [
        {
          "data": {
            "text/plain": [
              "[]"
            ]
          },
          "execution_count": 86,
          "metadata": {},
          "output_type": "execute_result"
        }
      ],
      "source": [
        "    "
      ]
    },
    {
      "cell_type": "code",
      "execution_count": 106,
      "metadata": {},
      "outputs": [
        {
          "ename": "ValueError",
          "evalue": "list.remove(x): x not in list",
          "output_type": "error",
          "traceback": [
            "\u001b[1;31m---------------------------------------------------------------------------\u001b[0m",
            "\u001b[1;31mValueError\u001b[0m                                Traceback (most recent call last)",
            "Cell \u001b[1;32mIn[106], line 25\u001b[0m\n\u001b[0;32m     22\u001b[0m                 quantity[i] \u001b[38;5;241m+\u001b[39m\u001b[38;5;241m=\u001b[39m \u001b[38;5;241m1\u001b[39m\n\u001b[0;32m     24\u001b[0m adjustBook(\u001b[38;5;124m'\u001b[39m\u001b[38;5;124memil\u001b[39m\u001b[38;5;124m'\u001b[39m, \u001b[38;5;124m'\u001b[39m\u001b[38;5;124msemetey\u001b[39m\u001b[38;5;124m'\u001b[39m, \u001b[38;5;124m'\u001b[39m\u001b[38;5;124mochur\u001b[39m\u001b[38;5;124m'\u001b[39m)\n\u001b[1;32m---> 25\u001b[0m \u001b[43madjustBook\u001b[49m\u001b[43m(\u001b[49m\u001b[38;5;124;43m'\u001b[39;49m\u001b[38;5;124;43matai\u001b[39;49m\u001b[38;5;124;43m'\u001b[39;49m\u001b[43m,\u001b[49m\u001b[43m \u001b[49m\u001b[38;5;124;43m'\u001b[39;49m\u001b[38;5;124;43msemetey\u001b[39;49m\u001b[38;5;124;43m'\u001b[39;49m\u001b[43m,\u001b[49m\u001b[43m \u001b[49m\u001b[38;5;124;43m'\u001b[39;49m\u001b[38;5;124;43mochur\u001b[39;49m\u001b[38;5;124;43m'\u001b[39;49m\u001b[43m)\u001b[49m\n\u001b[0;32m     26\u001b[0m adjustBook(\u001b[38;5;124m'\u001b[39m\u001b[38;5;124maman\u001b[39m\u001b[38;5;124m'\u001b[39m, \u001b[38;5;124m'\u001b[39m\u001b[38;5;124msemetey\u001b[39m\u001b[38;5;124m'\u001b[39m, \u001b[38;5;124m'\u001b[39m\u001b[38;5;124mochur\u001b[39m\u001b[38;5;124m'\u001b[39m)\n\u001b[0;32m     28\u001b[0m \u001b[38;5;66;03m# skolko u Amana\u001b[39;00m\n",
            "Cell \u001b[1;32mIn[106], line 21\u001b[0m, in \u001b[0;36madjustBook\u001b[1;34m(name, book, flag)\u001b[0m\n\u001b[0;32m     19\u001b[0m     quantity[i] \u001b[38;5;241m-\u001b[39m\u001b[38;5;241m=\u001b[39m \u001b[38;5;241m1\u001b[39m\n\u001b[0;32m     20\u001b[0m \u001b[38;5;28;01melif\u001b[39;00m flag \u001b[38;5;241m==\u001b[39m \u001b[38;5;124m'\u001b[39m\u001b[38;5;124mochur\u001b[39m\u001b[38;5;124m'\u001b[39m:\n\u001b[1;32m---> 21\u001b[0m     \u001b[43mknigi\u001b[49m\u001b[43m[\u001b[49m\u001b[43mi\u001b[49m\u001b[43m]\u001b[49m\u001b[38;5;241;43m.\u001b[39;49m\u001b[43mremove\u001b[49m\u001b[43m(\u001b[49m\u001b[43mbook\u001b[49m\u001b[43m)\u001b[49m\n\u001b[0;32m     22\u001b[0m     quantity[i] \u001b[38;5;241m+\u001b[39m\u001b[38;5;241m=\u001b[39m \u001b[38;5;241m1\u001b[39m\n",
            "\u001b[1;31mValueError\u001b[0m: list.remove(x): x not in list"
          ]
        }
      ],
      "source": [
        "student = [\"atai\", \"emil\", \"aman\", \"gulnur\"]\n",
        "knigi = [\n",
        "    [], \n",
        "    [\"potter\", \"jamilia\", \"semetey\"],\n",
        "    [\"sary\", 'mary', 'semetey'],\n",
        "    ['manas', 'semetey', 'seytek']\n",
        "]\n",
        "books = ['potter', 'jamilia', 'semetey', 'sary', 'mary', 'manas', 'seytek']\n",
        "author = ['emil',  'aytmatov', 'aytmatov', 'emil', 'ulan', 'ulan', 'aytmatov']\n",
        "quantity = [5,       6,          7,         8,     3,      8,       2]\n",
        "history = []\n",
        "\n",
        "def adjustBook(name, book, flag):\n",
        "    history.append((name, book, flag))\n",
        "    for i, n in enumerate(student):\n",
        "        if n == name:\n",
        "            if flag == 'kosh':\n",
        "                knigi[i].append(book)\n",
        "                quantity[i] -= 1\n",
        "            elif flag == 'ochur':\n",
        "                knigi[i].remove(book)\n",
        "                quantity[i] += 1\n",
        "\n",
        "adjustBook('emil', 'semetey', 'ochur')\n",
        "adjustBook('atai', 'semetey', 'ochur')\n",
        "adjustBook('aman', 'semetey', 'ochur')\n",
        "\n",
        "# skolko u Amana\n",
        "print('Skolko = ', [len(knigi[i]) for i, name in enumerate(student) if name == 'gulnur'])\n",
        "print('Kakie knigi = ', [knigi[i] for i, name in enumerate(student) if name == 'gulnur'])\n",
        "print('skolko studentov = ', sum([1 for x in knigi for kniga in x if kniga == 'semetey']))\n",
        "print('skolko knig u avtora = ', sum([q for q, a in zip(quantity, author) if a == 'aytmatov']))\n",
        "print('kto vzyal = ', [n for n, k in zip(student, knigi) if 'semetey' in k])\n",
        "\n"
      ]
    },
    {
      "cell_type": "code",
      "execution_count": 108,
      "metadata": {},
      "outputs": [
        {
          "name": "stdout",
          "output_type": "stream",
          "text": [
            "Skolko1 =  [3]\n",
            "skolko2 =  [3]\n"
          ]
        }
      ],
      "source": [
        "print('Skolko1 = ', [len(knigi[i]) for i, name in enumerate(student) if name == 'gulnur'])\n",
        "\n",
        "def skolko(param):\n",
        "    v = []\n",
        "    for i, name in enumerate(student):\n",
        "        if name == param:\n",
        "            v.append(len(knigi[i]))\n",
        "    return v\n",
        "\n",
        "print('skolko2 = ', skolko('gulnur'))\n",
        "\n"
      ]
    },
    {
      "cell_type": "code",
      "execution_count": 121,
      "metadata": {},
      "outputs": [
        {
          "name": "stdout",
          "output_type": "stream",
          "text": [
            "Kakie knigi =  [['manas', 'semetey', 'seytek']]\n",
            "kakie knigi2 =  ['manas', 'semetey', 'seytek']\n"
          ]
        }
      ],
      "source": [
        "print('Kakie knigi = ', [i for i, name in zip(knigi, student) if name == 'gulnur'])\n",
        "\n",
        "def kakie(param):\n",
        "    v = []\n",
        "    for k, name in zip(knigi, student):\n",
        "        if name == param:\n",
        "            v += k\n",
        "    return v\n",
        "\n",
        "print('kakie knigi2 = ', kakie('gulnur'))\n"
      ]
    },
    {
      "cell_type": "code",
      "execution_count": 114,
      "metadata": {},
      "outputs": [
        {
          "name": "stdout",
          "output_type": "stream",
          "text": [
            "skolko studentov =  2\n",
            "skolko studentov2 =  2\n",
            "skolko studentov3 =  2\n"
          ]
        }
      ],
      "source": [
        "param = 'semetey'\n",
        "\n",
        "print('skolko studentov = ', sum([1 for x in knigi for kniga in x if kniga == param]))\n",
        "def summa(param):\n",
        "    v = 0\n",
        "    for x in knigi:\n",
        "        for kniga in x:\n",
        "            if kniga == param:\n",
        "                v += 1\n",
        "    return v\n",
        "\n",
        "print('skolko studentov2 = ', summa(param))\n",
        "\n",
        "\n",
        "count = 0\n",
        "for i in knigi:\n",
        "    count += param in i\n",
        "print('skolko studentov3 = ', count)\n",
        "\n",
        "\n"
      ]
    },
    {
      "cell_type": "code",
      "execution_count": 124,
      "metadata": {},
      "outputs": [
        {
          "name": "stdout",
          "output_type": "stream",
          "text": [
            "['emil', 'aytmatov', 'aytmatov', 'emil', 'ulan', 'ulan', 'aytmatov']\n",
            "[5, 7, 7, 8, 3, 8, 2]\n",
            "[(5, 'emil'), (7, 'aytmatov'), (7, 'aytmatov'), (8, 'emil'), (3, 'ulan'), (8, 'ulan'), (2, 'aytmatov')]\n"
          ]
        }
      ],
      "source": [
        "print(author)\n",
        "print(quantity)\n",
        "print(list(zip(quantity, author)))"
      ]
    },
    {
      "cell_type": "code",
      "execution_count": 133,
      "metadata": {},
      "outputs": [
        {
          "name": "stdout",
          "output_type": "stream",
          "text": [
            "skolko knig u avtora =  16\n",
            "skolko knig u avtora2 =  0\n"
          ]
        }
      ],
      "source": [
        "print('skolko knig u avtora = ', sum([q for q, a in zip(quantity, author) if a == 'aytmatov']))\n",
        "\n",
        "\n",
        "def skolko_knig_u_avtora(param):\n",
        "    s = 0\n",
        "    for quant, auth in zip(quantity, author):\n",
        "        if auth == param:\n",
        "            s += quant\n",
        "    return s\n",
        "\n",
        "print('skolko knig u avtora2 = ', skolko_knig_u_avtora('aytmato'))\n"
      ]
    },
    {
      "cell_type": "code",
      "execution_count": 137,
      "metadata": {},
      "outputs": [
        {
          "name": "stdout",
          "output_type": "stream",
          "text": [
            "KASSOVIY CHECK\n",
            "_______________\n",
            "ruchka -> 50\n",
            "chay -> 50\n",
            "laptop -> 20000\n",
            "\n",
            "___________\n",
            "TOTAL : 20100\n"
          ]
        }
      ],
      "source": [
        "shtrih = ['0225', '1116', '9394', '3218', '9678', '6869']\n",
        "tovar = ['ruchka', 'laptop', 'chay', 'majito', 'sprite', 'rezinka']\n",
        "tsena = [50, 20000, 50, 65, 55, 20]\n",
        "\n",
        "\n",
        "def kassoviy_check(karzinka):\n",
        "    total = 0\n",
        "    result = 'KASSOVIY CHECK\\n_______________\\n'\n",
        "    for k in karzinka.split(','):\n",
        "        for sh, to, ts in zip(shtrih, tovar, tsena):\n",
        "            if k == sh:\n",
        "                result += to + ' -> ' + str(ts) + '\\n'\n",
        "                total += ts\n",
        "    return result + '\\n___________\\nTOTAL : ' + str(total)\n",
        " \n",
        "\n",
        "\n",
        "karzinka = '0225,9394,1116'\n",
        "print(kassoviy_check(karzinka))\n",
        "\n"
      ]
    },
    {
      "cell_type": "code",
      "execution_count": 1,
      "metadata": {},
      "outputs": [],
      "source": [
        "students = '''\n",
        "Абдырайымова Насипа Нурбековна\n",
        "Айдралиева Сальма Данияровна\n",
        "Алмазбек уулу Ынтымак\n",
        "Арстаналиева Бермет Кубанычбековна\n",
        "Асаналиев Актан Алмазович\n",
        "Асанова Элеонора Маратовна\n",
        "Аттокуров Зарылбек Замирбекович\n",
        "Ва-ахунов Данияль Юнусович\n",
        "Дилдебекова Назима Максатбековна\n",
        "Исаков Умар Таалайбекович\n",
        "Ишенбаев Азим Адылбекович\n",
        "Калыбаев Жумабек Мунарбекович\n",
        "Кеңешов Актанбек Урустамбекович\n",
        "Курбанбекова Алиенора Замирбековна\n",
        "Маматжанов Алымбек Амангелдиевич\n",
        "Мамбетов Атай Бакытович\n",
        "Русланов Эрбол Русланович\n",
        "Рысбеков Аламан Сагындыкович\n",
        "Таштанов Алтынбек Абдиллаевич\n",
        "Тологонова Аяна Кубатбековна\n",
        "Туратбаев Аятулла Мидинович\n",
        "Черикова Аяна Мирлановна\n",
        "Шарипов Акбар Эрнисович\n",
        "Ысманов Бекболсун Асылбекович\n",
        "Абдыбеков Төлөнбек Асанакунович\n",
        "Абдыманапов Алмаз Чынгызович\n",
        "Абибиллаев Нуртилек Алтынбекович\n",
        "Анарбеков Аман Уланович\n",
        "Балабеков Ерлан Рахымович\n",
        "Дуйшенов Кутман Эгембердиевич\n",
        "Ералиев Шергазы Өткүрбекович\n",
        "Жоодонбек кызы Жайнагул\n",
        "Исмаилов Нурдин Рысбекович\n",
        "Калмаматов Нурмухаммед Калмаматович\n",
        "Капаров Кубаныч Капарович\n",
        "Каримов Данияр Гуламидинович\n",
        "Кенжетаев Дияз Нуралыевич\n",
        "Матаев Талант Бактыбекович\n",
        "Мелисов Кутман Жыргалбекович\n",
        "Нурджанов Исмаилбек Бакытович\n",
        "Оңолбекова Гүлнура Октябровна\n",
        "Тагаева Адина Нарынбековна\n",
        "Туташбаев Алмаз Адылбекович\n",
        "Тыныбеков Жанышбек Нурбекович\n",
        "Уметбаев Барсбек Мирланбекович\n",
        "Жылдызбеков Байстан Жылдызбекович\n",
        "Керимов Бекболсун Орозалиевич\n",
        "Умаров Азамжан Азизбекович\n",
        "Бактыгулова Элина Исламбековна\n",
        "Рахматулин Тынчтыкбек Жамилович\n",
        "Айнакулов Даир\n",
        "Бейшалиев Акназар\n",
        "Сейдакматов Алимхан\n",
        "Айтиев Атабек\n",
        "Нургалиев Нуржигит Уланович\n",
        "Сейитбеков Омурбек\n",
        "Маматжанов Актан\n",
        "Насиридинова Сумая Дастанбековна\n",
        "Мухаммад'''"
      ]
    },
    {
      "cell_type": "code",
      "execution_count": 7,
      "metadata": {},
      "outputs": [
        {
          "name": "stdout",
          "output_type": "stream",
          "text": [
            "1 Мамбетов Атай Бакытович\n",
            "2 Рысбеков Аламан Сагындыкович\n",
            "3 Ералиев Шергазы Өткүрбекович\n",
            "4 Мелисов Кутман Жыргалбекович\n",
            "5 Тыныбеков Жанышбек Нурбекович\n",
            "6 Ва-ахунов Данияль Юнусович\n",
            "7 Дуйшенов Кутман Эгембердиевич\n",
            "8 Жылдызбеков Байстан Жылдызбекович\n",
            "9 Абдыбеков Төлөнбек Асанакунович\n",
            "10 Оңолбекова Гүлнура Октябровна\n",
            "11 Туташбаев Алмаз Адылбекович\n",
            "12 Алмазбек уулу Ынтымак\n",
            "13 Шарипов Акбар Эрнисович\n",
            "14 Айдралиева Сальма Данияровна\n",
            "15 Айтиев Атабек\n",
            "16 Рахматулин Тынчтыкбек Жамилович\n",
            "17 Маматжанов Алымбек Амангелдиевич\n",
            "18 Тологонова Аяна Кубатбековна\n",
            "19 Ысманов Бекболсун Асылбекович\n",
            "20 Кенжетаев Дияз Нуралыевич\n",
            "21 Абибиллаев Нуртилек Алтынбекович\n",
            "22 Балабеков Ерлан Рахымович\n",
            "23 Таштанов Алтынбек Абдиллаевич\n",
            "24 Керимов Бекболсун Орозалиевич\n",
            "25 Туратбаев Аятулла Мидинович\n",
            "26 Капаров Кубаныч Капарович\n",
            "27 Тагаева Адина Нарынбековна\n",
            "28 Жоодонбек кызы Жайнагул\n",
            "29 Маматжанов Актан\n",
            "30 Абдыманапов Алмаз Чынгызович\n",
            "31 Умаров Азамжан Азизбекович\n",
            "32 Калмаматов Нурмухаммед Калмаматович\n",
            "33 Абдырайымова Насипа Нурбековна\n",
            "34 Калыбаев Жумабек Мунарбекович\n",
            "35 Сейитбеков Омурбек\n",
            "36 \n",
            "37 Нурджанов Исмаилбек Бакытович\n",
            "38 Асаналиев Актан Алмазович\n",
            "39 Курбанбекова Алиенора Замирбековна\n",
            "40 Дилдебекова Назима Максатбековна\n",
            "41 Каримов Данияр Гуламидинович\n",
            "42 Арстаналиева Бермет Кубанычбековна\n",
            "43 Кеңешов Актанбек Урустамбекович\n",
            "44 Айнакулов Даир\n",
            "45 Бейшалиев Акназар\n",
            "46 Матаев Талант Бактыбекович\n",
            "47 Аттокуров Зарылбек Замирбекович\n",
            "48 Асанова Элеонора Маратовна\n",
            "49 Мухаммад\n",
            "50 Ишенбаев Азим Адылбекович\n",
            "51 Анарбеков Аман Уланович\n",
            "52 Бактыгулова Элина Исламбековна\n",
            "53 Русланов Эрбол Русланович\n",
            "54 Уметбаев Барсбек Мирланбекович\n",
            "55 Насиридинова Сумая Дастанбековна\n",
            "56 Сейдакматов Алимхан\n",
            "57 Исмаилов Нурдин Рысбекович\n",
            "58 Исаков Умар Таалайбекович\n",
            "59 Нургалиев Нуржигит Уланович\n",
            "60 Черикова Аяна Мирлановна\n"
          ]
        }
      ],
      "source": [
        "from random import shuffle\n",
        "arr = students.split('\\n')\n",
        "shuffle(arr)\n",
        "for i, s in enumerate(arr):\n",
        "    print(i+1, s)"
      ]
    },
    {
      "cell_type": "code",
      "execution_count": 61,
      "metadata": {},
      "outputs": [
        {
          "name": "stdout",
          "output_type": "stream",
          "text": [
            "['1A', '1B', '1C', '1D', '1E', '1F', '2A', '2B', '2C', '2D', '2E', '2F', '3A', '3B', '3C', '3D', '3E', '3F', '4A', '4B', '4C', '4D', '4E', '4F', '5A', '5B', '5C', '5D', '5E', '5F', '6A', '6B', '6C', '6D', '6E', '6F', '7A', '7B', '7C', '7D', '7E', '7F', '8A', '8B', '8C', '8D', '8E', '8F', '9A', '9B', '9C', '9D', '9E', '9F', '10A', '10B', '10C', '10D', '10E', '10F', '11A', '11B', '11C', '11D', '11E', '11F', '12A', '12B', '12C', '12D', '12E', '12F', '13A', '13B', '13C', '13D', '13E', '13F', '14A', '14B', '14C', '14D', '14E', '14F', '15A', '15B', '15C', '15D', '15E', '15F', '16A', '16B', '16C', '16D', '16E', '16F', '17A', '17B', '17C', '17D', '17E', '17F', '18A', '18B', '18C', '18D', '18E', '18F', '19A', '19B', '19C', '19D', '19E', '19F', '20A', '20B', '20C', '20D', '20E', '20F', '21A', '21B', '21C', '21D', '21E', '21F', '22A', '22B', '22C', '22D', '22E', '22F', '23A', '23B', '23C', '23D', '23E', '23F', '24A', '24B', '24C', '24D', '24E', '24F', '25A', '25B', '25C', '25D', '25E', '25F', '26A', '26B', '26C', '26D', '26E', '26F', '27A', '27B', '27C', '27D', '27E', '27F', '28A', '28B', '28C', '28D', '28E', '28F', '29A', '29B', '29C', '29D', '29E', '29F', '30A', '30B', '30C', '30D', '30E', '30F', '31A', '31B', '31C', '31D', '31E', '31F', '32A', '32B', '32C', '32D', '32E', '32F']\n",
            "[None, None, None, None, None, None, None, None, None, None, None, None, None, None, None, None, None, None, None, None, None, None, None, None, None, None, None, None, None, None, None, None, None, None, None, None, None, None, None, None, None, None, None, None, None, None, None, None, None, None, None, None, None, None, None, None, None, None, None, None, None, None, None, None, None, None, None, None, None, None, None, None, None, None, None, None, None, None, None, None, None, None, None, None, None, None, None, None, None, None, None, None, None, None, None, None, None, None, None, None, None, None, None, None, None, None, None, None, None, None, None, None, None, None, None, None, None, None, None, None, None, None, None, None, None, None, None, None, None, None, None, None, None, None, None, None, None, None, None, None, None, None, None, None, None, None, None, None, None, None, None, None, None, None, None, None, None, None, None, None, None, None, None, None, None, None, None, None, None, None, None, None, None, None, None, None, None, None, None, None, None, None, None, None, None, None, None, None, None, None, None, None]\n",
            "[4000, 3500, 3500, 3500, 3500, 4000, 4000, 3500, 3500, 3500, 3500, 4000, 4000, 3500, 3500, 3500, 3500, 4000, 4000, 3500, 3500, 3500, 3500, 4000, 5000, 5000, 5000, 5000, 5000, 5000, 5000, 5000, 5000, 5000, 5000, 5000, 4000, 3500, 3500, 3500, 3500, 4000, 4000, 3500, 3500, 3500, 3500, 4000, 4000, 3500, 3500, 3500, 3500, 4000, 4000, 3500, 3500, 3500, 3500, 4000, 4000, 3500, 3500, 3500, 3500, 4000, 4000, 3500, 3500, 3500, 3500, 4000, 4000, 3500, 3500, 3500, 3500, 4000, 4000, 3500, 3500, 3500, 3500, 4000, 4000, 3500, 3500, 3500, 3500, 4000, 4000, 3500, 3500, 3500, 3500, 4000, 4000, 3500, 3500, 3500, 3500, 4000, 4000, 3500, 3500, 3500, 3500, 4000, 4000, 3500, 3500, 3500, 3500, 4000, 4000, 3500, 3500, 3500, 3500, 4000, 4000, 3500, 3500, 3500, 3500, 4000, 4000, 3500, 3500, 3500, 3500, 4000, 4000, 3500, 3500, 3500, 3500, 4000, 4000, 3500, 3500, 3500, 3500, 4000, 4000, 3500, 3500, 3500, 3500, 4000, 4000, 3500, 3500, 3500, 3500, 4000, 4000, 3500, 3500, 3500, 3500, 4000, 4000, 3500, 3500, 3500, 3500, 4000, 4000, 3500, 3500, 3500, 3500, 4000, 4000, 3500, 3500, 3500, 3500, 4000, 4000, 3500, 3500, 3500, 3500, 4000, 4000, 3500, 3500, 3500, 3500, 4000]\n"
          ]
        }
      ],
      "source": [
        "seat = []\n",
        "price = []\n",
        "names = []\n",
        "\n",
        "for i in range(1, 33):\n",
        "    for c in 'ABCDEF':\n",
        "        seat.append(str(i) + c)\n",
        "        if i in [5, 6]:\n",
        "            price.append(5000)\n",
        "        elif c in 'AF':\n",
        "            price.append(4000)\n",
        "        else:\n",
        "            price.append(3500)\n",
        "        names.append(None)\n",
        "\n",
        "print(seat)\n",
        "print(names)\n",
        "print(price)"
      ]
    },
    {
      "cell_type": "code",
      "execution_count": 60,
      "metadata": {},
      "outputs": [],
      "source": [
        "def print_seats():\n",
        "    for s, p, n in zip(seat, price, names):\n",
        "        print(s, p, n)"
      ]
    },
    {
      "cell_type": "code",
      "execution_count": 53,
      "metadata": {},
      "outputs": [],
      "source": [
        "def sell_ticket(name, seat_number = None):\n",
        "    if seat_number == None:\n",
        "        for i in range(len(names)):\n",
        "            if names[i] == None:\n",
        "                names[i] = name\n",
        "                return price[i]\n",
        "    else:\n",
        "        for i in range(len(seat)):\n",
        "            if seat[i] == seat_number and names[i] == None:\n",
        "                names[i] = name\n",
        "                return price[i]\n",
        "    return 'No available seats'"
      ]
    },
    {
      "cell_type": "code",
      "execution_count": 46,
      "metadata": {},
      "outputs": [
        {
          "data": {
            "text/plain": [
              "3500"
            ]
          },
          "execution_count": 46,
          "metadata": {},
          "output_type": "execute_result"
        }
      ],
      "source": [
        "sell_ticket('Gulnur')\n",
        "sell_ticket('Atai')\n",
        "sell_ticket('Bek')"
      ]
    },
    {
      "cell_type": "code",
      "execution_count": 50,
      "metadata": {},
      "outputs": [
        {
          "name": "stdout",
          "output_type": "stream",
          "text": [
            "1A 3500 Emil\n",
            "1B 3500 Gulnur\n",
            "1C 3500 Bek\n",
            "1D 3500 Atai\n",
            "1E 3500 Bek\n",
            "1F 3500 Gulnur\n",
            "2A 3500 Atai\n",
            "2B 3500 Bek\n",
            "2C 3500 Ali\n",
            "2D 3500 Ali K\n",
            "2E 3500 None\n",
            "2F 3500 None\n",
            "3A 3500 None\n",
            "3B 3500 None\n",
            "3C 3500 None\n",
            "3D 3500 None\n",
            "3E 3500 None\n",
            "3F 3500 None\n",
            "4A 3500 None\n",
            "4B 3500 None\n",
            "4C 3500 None\n",
            "4D 3500 None\n",
            "4E 3500 None\n",
            "4F 3500 None\n",
            "5A 3500 None\n",
            "5B 3500 None\n",
            "5C 3500 None\n",
            "5D 3500 None\n",
            "5E 3500 None\n",
            "5F 3500 None\n",
            "6A 3500 None\n",
            "6B 3500 None\n",
            "6C 3500 None\n",
            "6D 3500 None\n",
            "6E 3500 None\n",
            "6F 3500 None\n",
            "7A 3500 None\n",
            "7B 3500 None\n",
            "7C 3500 None\n",
            "7D 3500 None\n",
            "7E 3500 None\n",
            "7F 3500 None\n",
            "8A 3500 None\n",
            "8B 3500 None\n",
            "8C 3500 None\n",
            "8D 3500 None\n",
            "8E 3500 None\n",
            "8F 3500 None\n",
            "9A 3500 None\n",
            "9B 3500 None\n",
            "9C 3500 None\n",
            "9D 3500 None\n",
            "9E 3500 None\n",
            "9F 3500 None\n",
            "10A 3500 None\n",
            "10B 3500 None\n",
            "10C 3500 None\n",
            "10D 3500 None\n",
            "10E 3500 None\n",
            "10F 3500 None\n",
            "11A 3500 None\n",
            "11B 3500 None\n",
            "11C 3500 None\n",
            "11D 3500 None\n",
            "11E 3500 None\n",
            "11F 3500 None\n",
            "12A 3500 None\n",
            "12B 3500 None\n",
            "12C 3500 None\n",
            "12D 3500 None\n",
            "12E 3500 None\n",
            "12F 3500 None\n",
            "13A 3500 None\n",
            "13B 3500 None\n",
            "13C 3500 None\n",
            "13D 3500 None\n",
            "13E 3500 None\n",
            "13F 3500 None\n",
            "14A 3500 None\n",
            "14B 3500 None\n",
            "14C 3500 None\n",
            "14D 3500 None\n",
            "14E 3500 None\n",
            "14F 3500 None\n",
            "15A 3500 None\n",
            "15B 3500 None\n",
            "15C 3500 None\n",
            "15D 3500 None\n",
            "15E 3500 None\n",
            "15F 3500 None\n",
            "16A 3500 None\n",
            "16B 3500 None\n",
            "16C 3500 None\n",
            "16D 3500 None\n",
            "16E 3500 None\n",
            "16F 3500 None\n",
            "17A 3500 None\n",
            "17B 3500 None\n",
            "17C 3500 None\n",
            "17D 3500 None\n",
            "17E 3500 None\n",
            "17F 3500 None\n",
            "18A 3500 None\n",
            "18B 3500 None\n",
            "18C 3500 None\n",
            "18D 3500 None\n",
            "18E 3500 None\n",
            "18F 3500 None\n",
            "19A 3500 None\n",
            "19B 3500 None\n",
            "19C 3500 None\n",
            "19D 3500 None\n",
            "19E 3500 None\n",
            "19F 3500 None\n",
            "20A 3500 None\n",
            "20B 3500 None\n",
            "20C 3500 None\n",
            "20D 3500 None\n",
            "20E 3500 None\n",
            "20F 3500 None\n",
            "21A 3500 None\n",
            "21B 3500 None\n",
            "21C 3500 None\n",
            "21D 3500 None\n",
            "21E 3500 None\n",
            "21F 3500 None\n",
            "22A 3500 None\n",
            "22B 3500 None\n",
            "22C 3500 None\n",
            "22D 3500 None\n",
            "22E 3500 Sultan\n",
            "22F 3500 None\n",
            "23A 3500 None\n",
            "23B 3500 None\n",
            "23C 3500 None\n",
            "23D 3500 None\n",
            "23E 3500 None\n",
            "23F 3500 None\n",
            "24A 3500 None\n",
            "24B 3500 None\n",
            "24C 3500 None\n",
            "24D 3500 None\n",
            "24E 3500 None\n",
            "24F 3500 None\n",
            "25A 3500 None\n",
            "25B 3500 None\n",
            "25C 3500 None\n",
            "25D 3500 None\n",
            "25E 3500 None\n",
            "25F 3500 None\n",
            "26A 3500 None\n",
            "26B 3500 None\n",
            "26C 3500 None\n",
            "26D 3500 None\n",
            "26E 3500 None\n",
            "26F 3500 None\n",
            "27A 3500 None\n",
            "27B 3500 None\n",
            "27C 3500 None\n",
            "27D 3500 None\n",
            "27E 3500 None\n",
            "27F 3500 None\n",
            "28A 3500 None\n",
            "28B 3500 None\n",
            "28C 3500 None\n",
            "28D 3500 None\n",
            "28E 3500 None\n",
            "28F 3500 None\n",
            "29A 3500 None\n",
            "29B 3500 None\n",
            "29C 3500 None\n",
            "29D 3500 None\n",
            "29E 3500 None\n",
            "29F 3500 None\n",
            "30A 3500 None\n",
            "30B 3500 None\n",
            "30C 3500 None\n",
            "30D 3500 None\n",
            "30E 3500 None\n",
            "30F 3500 None\n",
            "31A 3500 None\n",
            "31B 3500 None\n",
            "31C 3500 None\n",
            "31D 3500 None\n",
            "31E 3500 None\n",
            "31F 3500 None\n",
            "32A 3500 None\n",
            "32B 3500 None\n",
            "32C 3500 None\n",
            "32D 3500 None\n",
            "32E 3500 None\n",
            "32F 3500 None\n"
          ]
        }
      ],
      "source": [
        "sell_ticket('Ali K')\n",
        "sell_ticket('Sultan', '22E')\n",
        "print_seats()"
      ]
    },
    {
      "cell_type": "code",
      "execution_count": 54,
      "metadata": {},
      "outputs": [
        {
          "data": {
            "text/plain": [
              "'No available seats'"
            ]
          },
          "execution_count": 54,
          "metadata": {},
          "output_type": "execute_result"
        }
      ],
      "source": [
        "sell_ticket('Aidai', '22E')"
      ]
    },
    {
      "cell_type": "code",
      "execution_count": 21,
      "metadata": {},
      "outputs": [],
      "source": [
        "def find_name(name):\n",
        "    for i, n in enumerate(names):\n",
        "        if n == name:\n",
        "            return seat[i]\n",
        "    return 'adnay adam jok'"
      ]
    },
    {
      "cell_type": "code",
      "execution_count": 26,
      "metadata": {},
      "outputs": [
        {
          "name": "stdout",
          "output_type": "stream",
          "text": [
            "Seat number =  adnay adam jok\n"
          ]
        }
      ],
      "source": [
        "print('Seat number = ', find_name('Emil'))"
      ]
    },
    {
      "cell_type": "code",
      "execution_count": 31,
      "metadata": {},
      "outputs": [],
      "source": [
        "def remove_passenger(name):\n",
        "    for i, n in enumerate(names):\n",
        "        if n == name:\n",
        "            names[i] = None\n",
        "            return seat[i]\n",
        "    return 'Minday adam jok eken eyyy'"
      ]
    },
    {
      "cell_type": "code",
      "execution_count": 32,
      "metadata": {},
      "outputs": [
        {
          "name": "stdout",
          "output_type": "stream",
          "text": [
            "Removing Atai from seat =  1B\n",
            "Removing Gulnur from seat =  1A\n"
          ]
        }
      ],
      "source": [
        "print('Removing Atai from seat = ', remove_passenger('Atai'))\n",
        "print('Removing Gulnur from seat = ', remove_passenger('Gulnur'))"
      ]
    },
    {
      "cell_type": "code",
      "execution_count": 33,
      "metadata": {},
      "outputs": [
        {
          "name": "stdout",
          "output_type": "stream",
          "text": [
            "Removing Emil from seat =  Minday adam jok eken eyyy\n"
          ]
        }
      ],
      "source": [
        "print('Removing Emil from seat = ',remove_passenger('Emil'))"
      ]
    },
    {
      "cell_type": "code",
      "execution_count": 41,
      "metadata": {},
      "outputs": [],
      "source": [
        "def print_seats():\n",
        "    for s, p, n in zip(seat, price, names):\n",
        "        print(s, p, n)\n",
        "\n",
        "def availabe_seats():\n",
        "    count = 0\n",
        "    for s, n, p in zip(seat, names, price):\n",
        "        if n == None:\n",
        "            print(s, n, p)\n",
        "            count += 1\n",
        "    print('Total available seats = ', count)\n"
      ]
    },
    {
      "cell_type": "code",
      "execution_count": 42,
      "metadata": {},
      "outputs": [
        {
          "name": "stdout",
          "output_type": "stream",
          "text": [
            "1B None 3500\n",
            "1D None 3500\n",
            "1E None 3500\n",
            "1F None 3500\n",
            "2A None 3500\n",
            "2B None 3500\n",
            "2C None 3500\n",
            "2D None 3500\n",
            "2E None 3500\n",
            "2F None 3500\n",
            "3A None 3500\n",
            "3B None 3500\n",
            "3C None 3500\n",
            "3D None 3500\n",
            "3E None 3500\n",
            "3F None 3500\n",
            "4A None 3500\n",
            "4B None 3500\n",
            "4C None 3500\n",
            "4D None 3500\n",
            "4E None 3500\n",
            "4F None 3500\n",
            "5A None 3500\n",
            "5B None 3500\n",
            "5C None 3500\n",
            "5D None 3500\n",
            "5E None 3500\n",
            "5F None 3500\n",
            "6A None 3500\n",
            "6B None 3500\n",
            "6C None 3500\n",
            "6D None 3500\n",
            "6E None 3500\n",
            "6F None 3500\n",
            "7A None 3500\n",
            "7B None 3500\n",
            "7C None 3500\n",
            "7D None 3500\n",
            "7E None 3500\n",
            "7F None 3500\n",
            "8A None 3500\n",
            "8B None 3500\n",
            "8C None 3500\n",
            "8D None 3500\n",
            "8E None 3500\n",
            "8F None 3500\n",
            "9A None 3500\n",
            "9B None 3500\n",
            "9C None 3500\n",
            "9D None 3500\n",
            "9E None 3500\n",
            "9F None 3500\n",
            "10A None 3500\n",
            "10B None 3500\n",
            "10C None 3500\n",
            "10D None 3500\n",
            "10E None 3500\n",
            "10F None 3500\n",
            "11A None 3500\n",
            "11B None 3500\n",
            "11C None 3500\n",
            "11D None 3500\n",
            "11E None 3500\n",
            "11F None 3500\n",
            "12A None 3500\n",
            "12B None 3500\n",
            "12C None 3500\n",
            "12D None 3500\n",
            "12E None 3500\n",
            "12F None 3500\n",
            "13A None 3500\n",
            "13B None 3500\n",
            "13C None 3500\n",
            "13D None 3500\n",
            "13E None 3500\n",
            "13F None 3500\n",
            "14A None 3500\n",
            "14B None 3500\n",
            "14C None 3500\n",
            "14D None 3500\n",
            "14E None 3500\n",
            "14F None 3500\n",
            "15A None 3500\n",
            "15B None 3500\n",
            "15C None 3500\n",
            "15D None 3500\n",
            "15E None 3500\n",
            "15F None 3500\n",
            "16A None 3500\n",
            "16B None 3500\n",
            "16C None 3500\n",
            "16D None 3500\n",
            "16E None 3500\n",
            "16F None 3500\n",
            "17A None 3500\n",
            "17B None 3500\n",
            "17C None 3500\n",
            "17D None 3500\n",
            "17E None 3500\n",
            "17F None 3500\n",
            "18A None 3500\n",
            "18B None 3500\n",
            "18C None 3500\n",
            "18D None 3500\n",
            "18E None 3500\n",
            "18F None 3500\n",
            "19A None 3500\n",
            "19B None 3500\n",
            "19C None 3500\n",
            "19D None 3500\n",
            "19E None 3500\n",
            "19F None 3500\n",
            "20A None 3500\n",
            "20B None 3500\n",
            "20C None 3500\n",
            "20D None 3500\n",
            "20E None 3500\n",
            "20F None 3500\n",
            "21A None 3500\n",
            "21B None 3500\n",
            "21C None 3500\n",
            "21D None 3500\n",
            "21E None 3500\n",
            "21F None 3500\n",
            "22A None 3500\n",
            "22B None 3500\n",
            "22C None 3500\n",
            "22D None 3500\n",
            "22E None 3500\n",
            "22F None 3500\n",
            "23A None 3500\n",
            "23B None 3500\n",
            "23C None 3500\n",
            "23D None 3500\n",
            "23E None 3500\n",
            "23F None 3500\n",
            "24A None 3500\n",
            "24B None 3500\n",
            "24C None 3500\n",
            "24D None 3500\n",
            "24E None 3500\n",
            "24F None 3500\n",
            "25A None 3500\n",
            "25B None 3500\n",
            "25C None 3500\n",
            "25D None 3500\n",
            "25E None 3500\n",
            "25F None 3500\n",
            "26A None 3500\n",
            "26B None 3500\n",
            "26C None 3500\n",
            "26D None 3500\n",
            "26E None 3500\n",
            "26F None 3500\n",
            "27A None 3500\n",
            "27B None 3500\n",
            "27C None 3500\n",
            "27D None 3500\n",
            "27E None 3500\n",
            "27F None 3500\n",
            "28A None 3500\n",
            "28B None 3500\n",
            "28C None 3500\n",
            "28D None 3500\n",
            "28E None 3500\n",
            "28F None 3500\n",
            "29A None 3500\n",
            "29B None 3500\n",
            "29C None 3500\n",
            "29D None 3500\n",
            "29E None 3500\n",
            "29F None 3500\n",
            "30A None 3500\n",
            "30B None 3500\n",
            "30C None 3500\n",
            "30D None 3500\n",
            "30E None 3500\n",
            "30F None 3500\n",
            "31A None 3500\n",
            "31B None 3500\n",
            "31C None 3500\n",
            "31D None 3500\n",
            "31E None 3500\n",
            "31F None 3500\n",
            "32A None 3500\n",
            "32B None 3500\n",
            "32C None 3500\n",
            "32D None 3500\n",
            "32E None 3500\n",
            "32F None 3500\n",
            "Total available seats =  190\n"
          ]
        }
      ],
      "source": [
        "availabe_seats()"
      ]
    },
    {
      "cell_type": "code",
      "execution_count": 55,
      "metadata": {},
      "outputs": [],
      "source": [
        "def power(x, n = 2):\n",
        "    return x ** n"
      ]
    },
    {
      "cell_type": "code",
      "execution_count": 58,
      "metadata": {},
      "outputs": [
        {
          "name": "stdout",
          "output_type": "stream",
          "text": [
            "9\n",
            "81\n"
          ]
        }
      ],
      "source": [
        "print(power(3))\n",
        "print(power(3, 4))"
      ]
    },
    {
      "cell_type": "code",
      "execution_count": 65,
      "metadata": {},
      "outputs": [],
      "source": [
        "def calculate(b, n, s):\n",
        "    b = [b]\n",
        "    m = []\n",
        "    for i in range(12):\n",
        "        b.append(b[-1]*(100+n)/100*(s/100) + sum(m))\n",
        "        m.append(b[-2]*(100+n)/100*(100-s)/100//12)\n",
        "    final = b[-1]+sum([(i+1)*s for i, s in enumerate(m)])\n",
        "    final = int(final)\n",
        "    print('Beginning = ', b[0])\n",
        "    print('End = ', final)\n",
        "    print('Difference = ', final - b[0])\n"
      ]
    },
    {
      "cell_type": "code",
      "execution_count": 69,
      "metadata": {},
      "outputs": [
        {
          "name": "stdout",
          "output_type": "stream",
          "text": [
            "Beginning =  100000\n",
            "End =  291167\n",
            "Difference =  191167\n"
          ]
        }
      ],
      "source": [
        "calculate(100000, 25, 60)"
      ]
    },
    {
      "cell_type": "code",
      "execution_count": 70,
      "metadata": {},
      "outputs": [
        {
          "name": "stdout",
          "output_type": "stream",
          "text": [
            "Beginning =  100000\n",
            "End =  273012\n",
            "Difference =  173012\n"
          ]
        }
      ],
      "source": [
        "calculate(100000, 50, 10)"
      ]
    },
    {
      "cell_type": "code",
      "execution_count": 79,
      "metadata": {},
      "outputs": [],
      "source": [
        "arr = [1, 2, 3, 5]\n",
        "\n",
        "d = {\"emil\": 55556, 'xyz':782, 55:'ulan', (66,-11):9999, -22:['emil', 'bilgazyev', 66]}"
      ]
    },
    {
      "cell_type": "code",
      "execution_count": 80,
      "metadata": {},
      "outputs": [
        {
          "name": "stdout",
          "output_type": "stream",
          "text": [
            "9999\n",
            "['emil', 'bilgazyev', 66]\n"
          ]
        }
      ],
      "source": [
        "print(d[(66,-11)])\n",
        "print(d[-22])"
      ]
    },
    {
      "cell_type": "code",
      "execution_count": 85,
      "metadata": {},
      "outputs": [
        {
          "data": {
            "text/plain": [
              "'wazzup2'"
            ]
          },
          "execution_count": 85,
          "metadata": {},
          "output_type": "execute_result"
        }
      ],
      "source": [
        "d = {\n",
        "     1: 5, 7: 99, \n",
        "     ('emil', 44, 55):'wazzup2'\n",
        "     }\n",
        "d[('emil', 44, 55)]"
      ]
    },
    {
      "cell_type": "code",
      "execution_count": 86,
      "metadata": {},
      "outputs": [],
      "source": [
        "\n",
        "arr = list(range(1000000))"
      ]
    },
    {
      "cell_type": "code",
      "execution_count": 98,
      "metadata": {},
      "outputs": [],
      "source": [
        "\n",
        "from random import shuffle\n",
        "shuffle(arr)\n",
        "d = {}\n",
        "for i in arr:\n",
        "    d[i] = True"
      ]
    },
    {
      "cell_type": "code",
      "execution_count": 97,
      "metadata": {},
      "outputs": [
        {
          "name": "stdout",
          "output_type": "stream",
          "text": [
            "[777777, 15, 17, 902875, 771075, 997497, 0, 78642, 72071, 665, 19, 9999, 777777, 15, 17, 902875, 771075, 997497, 0, 78642, 72071, 665, 19, 9999, 777777, 15, 17, 902875, 771075, 997497, 0, 78642, 72071, 665, 19, 9999, 777777, 15, 17, 902875, 771075, 997497, 0, 78642, 72071, 665, 19, 9999, 777777, 15, 17, 902875, 771075, 997497, 0, 78642, 72071, 665, 19, 9999, 777777, 15, 17, 902875, 771075, 997497, 0, 78642, 72071, 665, 19, 9999, 777777, 15, 17, 902875, 771075, 997497, 0, 78642, 72071, 665, 19, 9999, 777777, 15, 17, 902875, 771075, 997497, 0, 78642, 72071, 665, 19, 9999, 777777, 15, 17, 902875, 771075, 997497, 0, 78642, 72071, 665, 19, 9999, 777777, 15, 17, 902875, 771075, 997497, 0, 78642, 72071, 665, 19, 9999]\n",
            "skolko vremnya ushlo =  5.662917613983154\n"
          ]
        }
      ],
      "source": [
        "from time import time\n",
        "\n",
        "def find(arr, n):\n",
        "    for i in arr:\n",
        "        if i == n:\n",
        "            return True\n",
        "    return False\n",
        "\n",
        "\n",
        "n = [777777, 15, 17, 902875, 771075, 997497, 0, 78642, 72071, 665, 19, 9999]*10\n",
        "print(n)\n",
        "\n",
        "start = time()\n",
        "for x in n:\n",
        "    find(arr, x)\n",
        "end = time()\n",
        "\n",
        "print('skolko vremnya ushlo = ', end - start)"
      ]
    },
    {
      "cell_type": "code",
      "execution_count": 101,
      "metadata": {},
      "outputs": [
        {
          "ename": "KeyError",
          "evalue": "99999999",
          "output_type": "error",
          "traceback": [
            "\u001b[1;31m---------------------------------------------------------------------------\u001b[0m",
            "\u001b[1;31mKeyError\u001b[0m                                  Traceback (most recent call last)",
            "Cell \u001b[1;32mIn[101], line 1\u001b[0m\n\u001b[1;32m----> 1\u001b[0m \u001b[43md\u001b[49m\u001b[43m[\u001b[49m\u001b[38;5;241;43m99999999\u001b[39;49m\u001b[43m]\u001b[49m\n",
            "\u001b[1;31mKeyError\u001b[0m: 99999999"
          ]
        }
      ],
      "source": [
        "d[99999999]"
      ]
    },
    {
      "cell_type": "code",
      "execution_count": 103,
      "metadata": {},
      "outputs": [
        {
          "name": "stdout",
          "output_type": "stream",
          "text": [
            "[777777, 15, 17, 902875, 771075, 997497, 0, 78642, 72071, 665, 19, 9999, 777777, 15, 17, 902875, 771075, 997497, 0, 78642, 72071, 665, 19, 9999, 777777, 15, 17, 902875, 771075, 997497, 0, 78642, 72071, 665, 19, 9999, 777777, 15, 17, 902875, 771075, 997497, 0, 78642, 72071, 665, 19, 9999, 777777, 15, 17, 902875, 771075, 997497, 0, 78642, 72071, 665, 19, 9999, 777777, 15, 17, 902875, 771075, 997497, 0, 78642, 72071, 665, 19, 9999, 777777, 15, 17, 902875, 771075, 997497, 0, 78642, 72071, 665, 19, 9999, 777777, 15, 17, 902875, 771075, 997497, 0, 78642, 72071, 665, 19, 9999, 777777, 15, 17, 902875, 771075, 997497, 0, 78642, 72071, 665, 19, 9999, 777777, 15, 17, 902875, 771075, 997497, 0, 78642, 72071, 665, 19, 9999]\n",
            "skolko vremnya ushlo =  0.0\n"
          ]
        }
      ],
      "source": [
        "n = [777777, 15, 17, 902875, 771075, 997497, 0, 78642, 72071, 665, 19, 9999]*10\n",
        "print(n)\n",
        "\n",
        "start = time()\n",
        "for x in n:\n",
        "    res = x in d\n",
        "end = time()\n",
        "\n",
        "print('skolko vremnya ushlo = ', end - start)"
      ]
    },
    {
      "cell_type": "code",
      "execution_count": 104,
      "metadata": {},
      "outputs": [],
      "source": [
        "d ={'0vU96xu3-3U': {\n",
        "    'url': 'my link',\n",
        "    'age':56,\n",
        "    'creator':'emil', \n",
        "    'thumbsup': 50, \n",
        "    'thumbsdown': 90\n",
        "}}"
      ]
    },
    {
      "cell_type": "code",
      "execution_count": 106,
      "metadata": {},
      "outputs": [],
      "source": [
        "d['0vU96xu3-3U']['thumbsup'] += 1000"
      ]
    },
    {
      "cell_type": "code",
      "execution_count": 107,
      "metadata": {},
      "outputs": [
        {
          "data": {
            "text/plain": [
              "1050"
            ]
          },
          "execution_count": 107,
          "metadata": {},
          "output_type": "execute_result"
        }
      ],
      "source": [
        "d['0vU96xu3-3U']['thumbsup']"
      ]
    },
    {
      "cell_type": "code",
      "execution_count": 115,
      "metadata": {},
      "outputs": [
        {
          "name": "stdout",
          "output_type": "stream",
          "text": [
            "[2, 3, 9, 7, 3, 3, 6, 9, 5, 3]\n"
          ]
        }
      ],
      "source": [
        "from random import randint\n",
        "\n",
        "arr = [randint(0, 10) for i in range(10)]\n",
        "\n",
        "print(arr)"
      ]
    },
    {
      "cell_type": "code",
      "execution_count": 110,
      "metadata": {},
      "outputs": [
        {
          "name": "stdout",
          "output_type": "stream",
          "text": [
            "16\n"
          ]
        }
      ],
      "source": [
        "xarr = [78, 78, 78, 78]\n",
        "count = 0\n",
        "for i in xarr:\n",
        "    for j in xarr:\n",
        "        if i == j:\n",
        "            count += 1\n",
        "\n",
        "print(count)"
      ]
    },
    {
      "cell_type": "code",
      "execution_count": 116,
      "metadata": {},
      "outputs": [
        {
          "name": "stdout",
          "output_type": "stream",
          "text": [
            "[2, 3, 9, 7, 3, 3, 6, 9, 5, 3]\n",
            "key = 3 , value =  4\n",
            "key = 9 , value =  2\n"
          ]
        }
      ],
      "source": [
        "print(arr)\n",
        "d = {}\n",
        "for i in arr:\n",
        "    if i not in d:\n",
        "        d[i] = 1\n",
        "    else:\n",
        "        d[i] += 1\n",
        "\n",
        "for k, v in d.items():\n",
        "    if v > 1:\n",
        "        print('key =',  k, ', value = ', v)\n"
      ]
    },
    {
      "cell_type": "code",
      "execution_count": 124,
      "metadata": {},
      "outputs": [
        {
          "name": "stdout",
          "output_type": "stream",
          "text": [
            "[2, 3, 9, 7, 3, 3, 6, 9, 5, 3]\n",
            "[(3, 4), (9, 2)]\n"
          ]
        }
      ],
      "source": [
        "d = {}\n",
        "for i in arr:\n",
        "    d[i] = d.get(i, 0)+1\n",
        "\n",
        "print(arr)\n",
        "print([(k,v) for k, v in d.items() if v > 1])\n",
        "    "
      ]
    },
    {
      "cell_type": "code",
      "execution_count": 120,
      "metadata": {},
      "outputs": [
        {
          "data": {
            "text/plain": [
              "4"
            ]
          },
          "execution_count": 120,
          "metadata": {},
          "output_type": "execute_result"
        }
      ],
      "source": [
        "d.get(3, 'netu')"
      ]
    },
    {
      "cell_type": "code",
      "execution_count": 139,
      "metadata": {},
      "outputs": [
        {
          "name": "stdout",
          "output_type": "stream",
          "text": [
            "{'imena': {'Bek': ['cola']}, 'summa': {'Bek': 50}}\n",
            "{'imena': {'Bek': ['cola', 'shoro']}, 'summa': {'Bek': 135}}\n",
            "{'imena': {'Bek': ['cola', 'shoro'], 'emil': ['shoro']}, 'summa': {'Bek': 135, 'emil': 85}}\n",
            "Bek  kancha kariz =  135\n",
            "Bek  emnelerdi aldi =  ['cola', 'shoro']\n"
          ]
        }
      ],
      "source": [
        "items = {\"cola\": 50, \"shoro\":85, \"mars\":40, \"sprite\":60, \"nan\":25, \"burger\":150, \"ruchka\":40}\n",
        "names = {\n",
        "    \"imena\":{},\n",
        "    \"summa\":{}\n",
        "}\n",
        "\n",
        "def kariz(name, item):\n",
        "    if item in items:\n",
        "        names['imena'][name] = names['imena'].get(name, []) + [item] \n",
        "        names['summa'][name] = names['summa'].get(name, 0) + items[item]\n",
        "    print(names)\n",
        "\n",
        "def emneler_aldi(name):\n",
        "    return names[\"imena\"].get(name, 'netu tokogo klienta v baze')\n",
        "\n",
        "def kancha_kariz(name):\n",
        "    return names['summa'].get(name, 'netu tokogo klienta v baze')\n",
        "kariz(\"Bek\", \"cola\")\n",
        "\n",
        "kariz(\"Bek\", \"shoro\")\n",
        "kariz(\"emil\", \"shoro\")\n",
        "\n",
        "name = 'Bek'\n",
        "print(name, ' kancha kariz = ', kancha_kariz(name))\n",
        "print(name, ' emnelerdi aldi = ', emneler_aldi(name))\n"
      ]
    },
    {
      "cell_type": "code",
      "execution_count": 128,
      "metadata": {},
      "outputs": [
        {
          "name": "stdout",
          "output_type": "stream",
          "text": [
            "tokogo netu\n"
          ]
        }
      ],
      "source": [
        "names = {\n",
        "    \"tovari\": {\n",
        "        \"emil\":[\"cola\", 'shoro'], \n",
        "        \"bek\":[\"mars\"]\n",
        "    }, \n",
        "    'summa':{\n",
        "        'emil':135,\n",
        "        'bek':40\n",
        "    }\n",
        "}\n",
        "\n",
        "if 'sultan' in names['summa']:\n",
        "    print(names['summa']['sultan'])\n",
        "else:\n",
        "    print('tokogo netu')"
      ]
    },
    {
      "cell_type": "code",
      "execution_count": 7,
      "metadata": {},
      "outputs": [],
      "source": [
        "names = {\n",
        "    \"emil\":{\n",
        "        \"quizes\":['q1', 'q2', 'm'],\n",
        "        \"grades\":[60, 70, 80]\n",
        "    },\n",
        "    \"aziz\":{\n",
        "        \"quizes\":['q1', 'final'],\n",
        "        \"grades\":[80, 20]\n",
        "    }\n",
        "}\n",
        "\n",
        "def addGrade(name, grade, quiz):\n",
        "    if name not in names:\n",
        "        names[name] = {\n",
        "            \"quizes\":[], \n",
        "            \"grades\":[]\n",
        "        }\n",
        "    names[name]['quizes'].append(quiz)\n",
        "    names[name]['grades'].append(grade)\n",
        "\n",
        "\n",
        "def getGrades(name):\n",
        "    if name in names:\n",
        "        return list(zip(names[name]['quizes'], names[name]['grades']))\n",
        "    else:\n",
        "        return name + \" does not exist in the database\"\n",
        "\n",
        "def getAll():\n",
        "    arr2 = []\n",
        "    for i in names:\n",
        "        arr = names[i]['grades']\n",
        "        avg = sum(arr) / len(arr)\n",
        "        arr2.append((i, avg))\n",
        "    return arr2"
      ]
    },
    {
      "cell_type": "code",
      "execution_count": 8,
      "metadata": {},
      "outputs": [
        {
          "name": "stdout",
          "output_type": "stream",
          "text": [
            "[(1, 8), (2, 4), (3, 2)]\n"
          ]
        }
      ],
      "source": [
        "arr1 = [1, 2, 3]\n",
        "arr2 = [8, 4, 2]\n",
        "\n",
        "print(list(zip(arr1, arr2)))"
      ]
    },
    {
      "cell_type": "code",
      "execution_count": 9,
      "metadata": {},
      "outputs": [
        {
          "data": {
            "text/plain": [
              "[('emil', 70.0), ('aziz', 50.0)]"
            ]
          },
          "execution_count": 9,
          "metadata": {},
          "output_type": "execute_result"
        }
      ],
      "source": [
        "getAll()"
      ]
    },
    {
      "cell_type": "code",
      "execution_count": 10,
      "metadata": {},
      "outputs": [
        {
          "data": {
            "text/plain": [
              "[('q1', 80), ('final', 20)]"
            ]
          },
          "execution_count": 10,
          "metadata": {},
          "output_type": "execute_result"
        }
      ],
      "source": [
        "getGrades('aziz')"
      ]
    },
    {
      "cell_type": "code",
      "execution_count": 13,
      "metadata": {},
      "outputs": [
        {
          "data": {
            "text/plain": [
              "[('nurti', 46.666666666666664), ('alym', 56.666666666666664)]"
            ]
          },
          "execution_count": 13,
          "metadata": {},
          "output_type": "execute_result"
        }
      ],
      "source": [
        "names = {\n",
        "}\n",
        "\n",
        "def addGrade(name, quiz, grade):\n",
        "    if name not in names:\n",
        "        names[name] = {'quizes':[], 'grades':[]}\n",
        "    names[name]['grades'].append(grade)\n",
        "    names[name]['quizes'].append(quiz)\n",
        "\n",
        "def getGrades(name):\n",
        "    if name in names:\n",
        "        return list(zip(names[name]['grades'], names[name]['quizes']))\n",
        "    else:\n",
        "        return name + 'netu takogo uchenika'\n",
        "\n",
        "def getAverage(name):\n",
        "    text = f'Grades for {name} \\n\\n'\n",
        "    x = getGrades(name)\n",
        "    sm, cnt = 0, 0\n",
        "    for i, j in x:\n",
        "        text += f'{i} -> {j}\\n'\n",
        "        sm += int(j)\n",
        "        cnt += 1\n",
        "    text += f'\\n\\n Average: {sm / cnt}'\n",
        "\n",
        "\n",
        "def getAll():\n",
        "    arr2 = []\n",
        "    for i in names:\n",
        "        arr = names[i]['grades']\n",
        "        avg = sum(arr) / len(arr)\n",
        "        arr2.append((i,avg))\n",
        "    return arr2\n",
        "\n",
        "\n",
        "addGrade('nurti','quiz1', 60)\n",
        "addGrade('alym','quiz1', 40)\n",
        "addGrade('nurti','quiz2', 50)\n",
        "addGrade('alym','quiz2', 60)\n",
        "addGrade('nurti','quiz3', 30)\n",
        "addGrade('alym','quiz3', 70)\n",
        "\n",
        "# getGrades('nurti')\n",
        "# getAverage('nurti')\n",
        "getAll()"
      ]
    },
    {
      "cell_type": "code",
      "execution_count": null,
      "metadata": {},
      "outputs": [],
      "source": [
        "names = {\n",
        "    \"name\" : [],\n",
        "    \"sid\" : []\n",
        "}\n",
        "\n",
        "class_names = {\n",
        "    \"cid\" : [],\n",
        "    \"class_name\": []\n",
        "}\n",
        "\n",
        "grades = {\n",
        "    \"sid\": [],\n",
        "    \"cid\": [],\n",
        "    \"grade\": []\n",
        "}\n",
        "\n",
        "def get_by_id(table, id, field_from, field_val):\n",
        "    for inx, value in enumerate(table[field_from]):\n",
        "        if value == id:\n",
        "            return table[field_val][inx]\n",
        "\n",
        "from collections import defaultdict\n",
        "taken_table = defaultdict(int)\n",
        "for sid, cid, grade in zip(grades[\"sid\"], grades[\"cid\"], grades[\"grade\"]):\n",
        "    taken_table[(sid, cid)] += 1\n",
        "\n",
        "arr =  []\n",
        "for (sid, cid), taken_count in taken_table.items():\n",
        "    student_name = get_by_id(names, sid, \"sid\", \"name\")\n",
        "    class_name = get_by_id(class_names, cid, \"cid\", \"class_name\")\n",
        "    arr.append((taken_count, student_name, class_name))\n",
        "\n",
        "print(arr)\n",
        "print(max(arr))\n",
        "\n",
        "\n"
      ]
    },
    {
      "cell_type": "code",
      "execution_count": 1,
      "metadata": {},
      "outputs": [],
      "source": [
        "def find_clients_by_date_range(salon, start_date, end_date):\n",
        "    result = []\n",
        "    for d in salon:\n",
        "        if start_date <= d['date'] <= end_date:\n",
        "            result.append(d)\n",
        "    return result"
      ]
    },
    {
      "cell_type": "code",
      "execution_count": 2,
      "metadata": {},
      "outputs": [],
      "source": [
        "salon = [\n",
        "    {'date': '2024-01-08'},\n",
        "    {'date': '2022-03-15'},\n",
        "    {'date': '2023-08-23'},\n",
        "    {'date': '2024-07-08'},\n",
        "    {'date': '2022-06-30'},\n",
        "    {'date': '2023-04-23'},\n",
        "    {'date': '2024-01-15'},\n",
        "    {'date': '2024-02-16'},\n",
        "    {'date': '2022-03-17'},\n",
        "    {'date': '2022-04-01'},\n",
        "    {'date': '2023-06-08'}\n",
        "]\n"
      ]
    },
    {
      "cell_type": "code",
      "execution_count": 3,
      "metadata": {},
      "outputs": [
        {
          "data": {
            "text/plain": [
              "[{'date': '2024-01-08'},\n",
              " {'date': '2023-08-23'},\n",
              " {'date': '2024-07-08'},\n",
              " {'date': '2023-04-23'},\n",
              " {'date': '2024-01-15'},\n",
              " {'date': '2024-02-16'},\n",
              " {'date': '2023-06-08'}]"
            ]
          },
          "execution_count": 3,
          "metadata": {},
          "output_type": "execute_result"
        }
      ],
      "source": [
        "find_clients_by_date_range(salon, '2023-01-01', '2024-12-30')"
      ]
    },
    {
      "cell_type": "code",
      "execution_count": 16,
      "metadata": {},
      "outputs": [
        {
          "ename": "ImportError",
          "evalue": "cannot import name 'my_max22' from 'min_max' (c:\\Users\\User\\Documents\\PL_2024_S1\\min_max.py)",
          "output_type": "error",
          "traceback": [
            "\u001b[1;31m---------------------------------------------------------------------------\u001b[0m",
            "\u001b[1;31mImportError\u001b[0m                               Traceback (most recent call last)",
            "Cell \u001b[1;32mIn[16], line 3\u001b[0m\n\u001b[0;32m      1\u001b[0m arr \u001b[38;5;241m=\u001b[39m [\u001b[38;5;241m1\u001b[39m, \u001b[38;5;241m4\u001b[39m, \u001b[38;5;241m6\u001b[39m, \u001b[38;5;241m2\u001b[39m, \u001b[38;5;241m1\u001b[39m, \u001b[38;5;241m6\u001b[39m, \u001b[38;5;241m-\u001b[39m\u001b[38;5;241m2\u001b[39m, \u001b[38;5;241m12\u001b[39m, \u001b[38;5;241m16\u001b[39m]\n\u001b[1;32m----> 3\u001b[0m \u001b[38;5;28;01mfrom\u001b[39;00m \u001b[38;5;21;01mmin_max\u001b[39;00m \u001b[38;5;28;01mimport\u001b[39;00m my_max22\n\u001b[0;32m      4\u001b[0m \u001b[38;5;66;03m#from min_max import my_max\u001b[39;00m\n\u001b[0;32m      5\u001b[0m \n\u001b[0;32m      6\u001b[0m \u001b[38;5;66;03m#print('min value = ', my_min(arr))\u001b[39;00m\n\u001b[0;32m      7\u001b[0m \u001b[38;5;28mprint\u001b[39m(\u001b[38;5;124m'\u001b[39m\u001b[38;5;124mmax value = \u001b[39m\u001b[38;5;124m'\u001b[39m, my_max22(arr))\n",
            "\u001b[1;31mImportError\u001b[0m: cannot import name 'my_max22' from 'min_max' (c:\\Users\\User\\Documents\\PL_2024_S1\\min_max.py)"
          ]
        }
      ],
      "source": [
        "arr = [1, 4, 6, 2, 1, 6, -2, 12, 16]\n",
        "\n",
        "from min_max import my_max22\n",
        "#from min_max import my_max\n",
        "\n",
        "#print('min value = ', my_min(arr))\n",
        "print('max value = ', my_max22(arr))"
      ]
    },
    {
      "cell_type": "code",
      "execution_count": 19,
      "metadata": {},
      "outputs": [
        {
          "ename": "ImportError",
          "evalue": "cannot import name 'print_my_name' from 'min_max' (c:\\Users\\User\\Documents\\PL_2024_S1\\min_max.py)",
          "output_type": "error",
          "traceback": [
            "\u001b[1;31m---------------------------------------------------------------------------\u001b[0m",
            "\u001b[1;31mImportError\u001b[0m                               Traceback (most recent call last)",
            "Cell \u001b[1;32mIn[19], line 1\u001b[0m\n\u001b[1;32m----> 1\u001b[0m \u001b[38;5;28;01mfrom\u001b[39;00m \u001b[38;5;21;01mmin_max\u001b[39;00m \u001b[38;5;28;01mimport\u001b[39;00m print_my_name\n\u001b[0;32m      2\u001b[0m print_my_name()\n",
            "\u001b[1;31mImportError\u001b[0m: cannot import name 'print_my_name' from 'min_max' (c:\\Users\\User\\Documents\\PL_2024_S1\\min_max.py)"
          ]
        }
      ],
      "source": [
        "from min_max import print_my_name\n",
        "print_my_name()"
      ]
    },
    {
      "cell_type": "code",
      "execution_count": 23,
      "metadata": {},
      "outputs": [
        {
          "name": "stdout",
          "output_type": "stream",
          "text": [
            "[0, 1, 2, 3, 4, 5, 6, 7, 8, 9]\n",
            "[7, 0, 5, 3, 1, 6, 2, 8, 9, 4]\n"
          ]
        }
      ],
      "source": [
        "from random import shuffle\n",
        "\n",
        "arr = list(range(10))\n",
        "print(arr)\n",
        "shuffle(arr)\n",
        "print(arr)\n",
        "\n"
      ]
    },
    {
      "cell_type": "code",
      "execution_count": 24,
      "metadata": {},
      "outputs": [
        {
          "name": "stdout",
          "output_type": "stream",
          "text": [
            "[7, 0, 5, 3, 1, 6, 2, 8, 9, 4]\n",
            "[0, 1, 2, 3, 4, 5, 6, 7, 8, 9]\n"
          ]
        }
      ],
      "source": [
        "from min_max import my_min\n",
        "\n",
        "def my_sort(arr):\n",
        "    res = []\n",
        "    n = len(arr)\n",
        "    for i in range(n):\n",
        "        mn = my_min(arr)\n",
        "        res.append(mn)\n",
        "        arr.remove(mn)\n",
        "    return res\n",
        "\n"
      ]
    },
    {
      "cell_type": "code",
      "execution_count": 28,
      "metadata": {},
      "outputs": [
        {
          "name": "stdout",
          "output_type": "stream",
          "text": [
            "skolko proshlo =  0.008702278137207031\n"
          ]
        }
      ],
      "source": [
        "from random import randint\n",
        "from time import time\n",
        "\n",
        "N = 100000\n",
        "arr = [randint(0, 1000000) for i in range(N)]\n",
        "\n",
        "start_time = time()\n",
        "#sorted_arr = my_sort(arr)\n",
        "sorted_arr = sorted(arr)\n",
        "end_time = time()\n",
        "\n",
        "print('skolko proshlo = ', end_time - start_time)"
      ]
    },
    {
      "cell_type": "code",
      "execution_count": 29,
      "metadata": {},
      "outputs": [],
      "source": [
        "#from ayatullah import min_balance\n",
        "def min_balance():\n",
        "    pass\n"
      ]
    },
    {
      "cell_type": "code",
      "execution_count": 38,
      "metadata": {},
      "outputs": [],
      "source": [
        "f = open('ait24.ait', 'a')\n",
        "for i in range(100, 120):\n",
        "    f.write(f'{i} x {i} = {i*i}\\n')\n",
        "f.close()\n"
      ]
    },
    {
      "cell_type": "code",
      "execution_count": 39,
      "metadata": {},
      "outputs": [
        {
          "name": "stdout",
          "output_type": "stream",
          "text": [
            "['100 x 100 = 10000\\n', '101 x 101 = 10201\\n', '102 x 102 = 10404\\n', '103 x 103 = 10609\\n', '104 x 104 = 10816\\n', '105 x 105 = 11025\\n', '106 x 106 = 11236\\n', '107 x 107 = 11449\\n', '108 x 108 = 11664\\n', '109 x 109 = 11881\\n', '110 x 110 = 12100\\n', '111 x 111 = 12321\\n', '112 x 112 = 12544\\n', '113 x 113 = 12769\\n', '114 x 114 = 12996\\n', '115 x 115 = 13225\\n', '116 x 116 = 13456\\n', '117 x 117 = 13689\\n', '118 x 118 = 13924\\n', '119 x 119 = 14161\\n']\n"
          ]
        }
      ],
      "source": [
        "f2 = open('ait24.ait')\n",
        "lines = f2.readlines()\n",
        "print(lines)\n",
        "\n",
        "\n",
        "#for i in f2:\n",
        "#    print(i)\n"
      ]
    },
    {
      "cell_type": "code",
      "execution_count": 3,
      "metadata": {},
      "outputs": [],
      "source": [
        "txt = '''\n",
        "def atai_max(arr):\n",
        "    mx = arr[0]\n",
        "    for i in arr:\n",
        "        if mx < i:\n",
        "           mx = i\n",
        "    return mx\n",
        "\n",
        "def atai_min(arr):\n",
        "   mn = arr[0]\n",
        "   for i in arr:\n",
        "     if mn > i:\n",
        "       mn = i\n",
        "   return mn\n",
        "'''\n",
        "\n",
        "f3 = open('atai.py', 'w')\n",
        "f3.write(txt)\n",
        "f3.close()"
      ]
    },
    {
      "cell_type": "code",
      "execution_count": 1,
      "metadata": {},
      "outputs": [
        {
          "name": "stdout",
          "output_type": "stream",
          "text": [
            "2\n"
          ]
        }
      ],
      "source": [
        "from atai import atai_max, atai_min\n",
        "arr = [8, 2, 3, 5, 2]\n",
        "print(atai_min(arr))"
      ]
    },
    {
      "cell_type": "code",
      "execution_count": 1,
      "metadata": {},
      "outputs": [],
      "source": [
        "from random import shuffle\n",
        "arr = 'qwertyuiop[];lkjhgfdsazxcvbnm,./ZXCVBNM,LKJHGFDSAQWERTYUIOP1234567890!@#$%^&*()_+{}\"?'\n",
        "arr = list(set(arr))\n",
        "original_arr = [i for i in arr]\n",
        "shuffle(arr)\n",
        "d = {}\n",
        "for key, value in zip(original_arr, arr):\n",
        "    d[key] = value\n",
        "\n",
        "d2 = {}\n",
        "for key, value in d.items():\n",
        "    d2[value] = key\n",
        "\n",
        "fid = open('password.txt', 'w')\n",
        "for key, value in d.items():\n",
        "    fid.write(f'{key}<->{value}\\n')\n",
        "fid.close()"
      ]
    },
    {
      "cell_type": "code",
      "execution_count": 30,
      "metadata": {},
      "outputs": [],
      "source": [
        "def encrypt(filename):\n",
        "    fid = open(filename, 'r')\n",
        "    lines = fid.readlines()\n",
        "    fid.close()\n",
        "\n",
        "    fid = open(filename, 'w')\n",
        "    for line in lines:\n",
        "        txt = ''\n",
        "        for c in line:\n",
        "            try:\n",
        "                txt += d[c]\n",
        "            except:\n",
        "                txt += c\n",
        "        fid.write(txt)\n",
        "    fid.close()\n"
      ]
    },
    {
      "cell_type": "code",
      "execution_count": 31,
      "metadata": {},
      "outputs": [],
      "source": [
        "fid = open('jamelia2.txt', 'r')\n",
        "lines = fid.readlines()\n",
        "fid.close()\n",
        "\n",
        "fid = open('jamelia3.txt', 'w')\n",
        "for line in lines:\n",
        "    txt = ''\n",
        "    for c in line:\n",
        "        try:\n",
        "            txt += d2[c]\n",
        "        except:\n",
        "            txt += c\n",
        "    fid.write(txt)\n",
        "fid.close()\n"
      ]
    },
    {
      "cell_type": "code",
      "execution_count": 28,
      "metadata": {},
      "outputs": [
        {
          "data": {
            "text/plain": [
              "('%', 'c')"
            ]
          },
          "execution_count": 28,
          "metadata": {},
          "output_type": "execute_result"
        }
      ],
      "source": [
        "d['6'], d2['%']"
      ]
    },
    {
      "cell_type": "code",
      "execution_count": 39,
      "metadata": {},
      "outputs": [
        {
          "name": "stdout",
          "output_type": "stream",
          "text": [
            "[(153, 'the'), (107, 'and'), (99, 'of'), (93, 'in'), (84, 'Jamelia'), (83, 'a'), (67, 'to'), (51, 'with'), (51, 'her'), (51, 'for'), (50, 'was'), (50, 'The'), (49, 'on'), (47, 'Retrieved'), (34, 'she'), (32, 'Best'), (29, 'at'), (29, 'In'), (29, 'Awards'), (26, 'from'), (25, 'single'), (25, 'as'), (21, 'has'), (21, '-'), (20, 'August'), (19, 'British'), (19, '2004'), (18, 'â€“'), (18, 'which'), (18, 'number'), (18, '2014.'), (17, 'it'), (17, 'Herself'), (15, 'that'), (15, 'UK'), (15, 'June'), (14, 'Thank'), (14, 'November'), (13, 'released'), (13, 'She'), (13, 'On'), (13, 'December'), (13, 'BBC'), (12, 'is'), (12, 'Walk'), (12, 'Series'), (12, \"Jamelia's\"), (12, 'It'), (11, 'had'), (11, 'album'), (11, 'Me'), (11, '\"Jamelia'), (10, 'episodes'), (10, 'became'), (10, 'appeared'), (10, 'March'), (10, 'MOBO'), (10, 'July'), (10, 'I'), (10, 'Digital'), (10, 'Award'), (10, '9'), (10, '27'), (9, 'new'), (9, 'an'), (9, 'also'), (9, 'album,'), (9, 'TV'), (9, 'Single'), (9, 'September'), (9, 'Episode:'), (9, 'Brit'), (9, 'April'), (9, '30'), (9, '2007,'), (8, 'single,'), (8, 'signed'), (8, 'series'), (8, 'second'), (8, 'by'), (8, 'be'), (8, 'You'), (8, 'UK.'), (8, 'Top'), (8, 'Spy.'), (8, 'October'), (8, 'Music'), (8, 'February'), (8, 'Archived'), (8, '4'), (8, '3'), (8, '2007'), (8, '\"I'), (7, 'show'), (7, 'release'), (7, 'record'), (7, 'episode'), (7, 'cover'), (7, 'R&B'), (7, 'House'), (7, 'Female'), (7, 'Drama'), (7, '2005'), (6, 'where'), (6, 'two'), (6, 'third'), (6, 'part'), (6, 'own'), (6, 'first'), (6, 'career'), (6, 'but'), (6, 'Video'), (6, 'Episode'), (6, 'Celebrity'), (6, \"Boy's\"), (6, '8'), (6, '21'), (6, '2024.'), (6, '2017.'), (6, '2012.'), (6, '20'), (6, '\"See'), (5, 'website'), (5, 'up'), (5, 'studio'), (5, 'song'), (5, 'singles'), (5, 'sales'), (5, 'peaked'), (5, 'original'), (5, 'only'), (5, 'one'), (5, 'not'), (5, 'later'), (5, 'late'), (5, 'have'), (5, 'every'), (5, 'documentary'), (5, 'did'), (5, 'chart'), (5, 'being'), (5, 'been'), (5, 'after'), (5, 'With'), (5, 'West'), (5, 'Strictly'), (5, 'January'), (5, 'Jamelia:'), (5, 'Hearst'), (5, 'Eyes\"'), (5, 'Contestant'), (5, 'Come'), (5, 'Bailey'), (5, '2019'), (5, '2008,'), (5, '16'), (5, '14'), (5, '11'), (5, '10'), (5, '\"Thank'), (4, 'well'), (4, 'version'), (4, 'took'), (4, 'success'), (4, 'stage'), (4, \"singer's\"), (4, 'singer'), (4, 'shortly'), (4, 'return'), (4, 'range'), (4, 'pop'), (4, 'performed'), (4, 'people'), (4, 'music'), (4, 'more'), (4, 'life'), (4, 'including'), (4, 'guest'), (4, 'fourth'), (4, 'four'), (4, 'following'), (4, 'film'), (4, 'campaign'), (4, 'best'), (4, 'announced'), (4, 'about'), (4, 'You,'), (4, 'Urban'), (4, 'UK,'), (4, 'Sharon'), (4, 'Relief'), (4, 'Radio'), (4, 'Q'), (4, 'Personal'), (4, 'Party'), (4, 'Mission'), (4, 'May'), (4, 'Loose'), (4, 'Little'), (4, 'ITV'), (4, 'Hollyoaks'), (4, 'Helena'), (4, 'Hair'), (4, 'Early'), (4, 'Channel'), (4, 'Birmingham,'), (4, 'BRIT'), (4, 'BPI'), (4, 'Act'), (4, 'About'), (4, '6'), (4, '26'), (4, '2022.'), (4, '2020.'), (4, '2019.'), (4, '2009.'), (4, '2004.'), (4, '2,'), (4, '2'), (4, '19'), (4, '1'), (4, '&'), (4, '\"Jamelia:'), (3, '|'), (3, 'women'), (3, 'who'), (3, 'when'), (3, 'were'), (3, 'went'), (3, 'week'), (3, 'want'), (3, 'time'), (3, 'three'), (3, 'then'), (3, 'their'), (3, 'such'), (3, 'successful'), (3, 'success,'), (3, 'stars'), (3, 'songs'), (3, 'some'), (3, 'sang'), (3, 'returned'), (3, 'projects'), (3, 'producers'), (3, 'panel'), (3, 'out'), (3, 'nominations'), (3, 'nine'), (3, 'much'), (3, 'made'), (3, 'joined'), (3, 'his'), (3, 'hair'), (3, 'general'), (3, 'five'), (3, 'featured'), (3, 'ethnic'), (3, 'endorsed'), (3, 'election'), (3, 'double'), (3, 'debut'), (3, 'deal'), (3, 'couple'), (3, 'copies'), (3, 'confirms'), (3, 'confirmed'), (3, 'certified'), (3, 'breakthrough'), (3, 'acting'), (3, 'You\",'), (3, 'You\"'), (3, 'Year'), (3, 'World'), (3, 'Women'), (3, 'Wikimedia'), (3, 'Whose'), (3, 'Wayback'), (3, 'Voice'), (3, 'Three'), (3, 'They'), (3, 'That'), (3, 'Telegraph.'), (3, 'Survive'), (3, 'Special\"'), (3, 'Shame'), (3, 'Search'), (3, 'Richard'), (3, 'Parlophone'), (3, \"Osman's\"), (3, 'News.'), (3, 'Move'), (3, 'Mini-series,'), (3, 'Michael'), (3, 'Made'), (3, 'Machine'), (3, 'London.'), (3, 'List'), (3, 'Like'), (3, 'Labour'), (3, 'Ivors'), (3, 'Ireland'), (3, 'High\",'), (3, 'Her'), (3, 'Handsworth,'), (3, 'Go'), (3, 'Games'), (3, 'Following'), (3, 'Fashion'), (3, 'Europe'), (3, 'Darren'), (3, 'Dancing'), (3, 'Chase'), (3, 'Career'), (3, 'CTC'), (3, 'Boux'), (3, 'Birmingham'), (3, 'Big'), (3, 'Bear'), (3, 'Around'), (3, '5'), (3, '31'), (3, '2024'), (3, '2021.'), (3, '2016.'), (3, '2016,'), (3, '2014,'), (3, '2013,'), (3, '2013'), (3, '2009,'), (3, '2009'), (3, '2008'), (3, '2003'), (3, '2001'), (3, '2000.'), (3, '1981'), (3, '15'), (3, '13'), (3, '\"So'), (3, '\"Money\"'), (3, '\"Jamelia\".'), (3, '\"Beware'), (2, 'working'), (2, 'worked'), (2, 'work'), (2, 'won'), (2, 'winning'), (2, 'weeks'), (2, \"wasn't\"), (2, 'wants'), (2, 'under'), (2, 'track'), (2, 'this'), (2, 'thirteenth'), (2, 'think'), (2, 'stated'), (2, 'star'), (2, 'sold'), (2, 'soap'), (2, \"single's\"), (2, 'since'), (2, 'saw'), (2, 'same'), (2, 'said'), (2, 'releases,'), (2, 'recorded'), (2, 'received'), (2, 'receive'), (2, 'reached'), (2, 'rally'), (2, 'professional'), (2, 'product'), (2, 'previously'), (2, 'presented'), (2, 'platinum.'), (2, 'platinum'), (2, 'peaking'), (2, 'panellist'), (2, 'over'), (2, 'opera'), (2, 'off'), (2, 'non-UK'), (2, 'mothers!\".'), (2, 'mother'), (2, 'months'), (2, 'mix'), (2, 'mark'), (2, 'make'), (2, 'mainstream'), (2, 'mainland'), (2, 'love'), (2, 'live'), (2, 'links'), (2, 'left'), (2, 'led'), (2, 'lead'), (2, 'label'), (2, 'known'), (2, 'killer'), (2, 'judges'), (2, 'judge'), (2, 'joins'), (2, 'interview'), (2, 'hit'), (2, 'him'), (2, 'hide'), (2, 'he'), (2, 'haircare'), (2, 'grew'), (2, 'further'), (2, 'final'), (2, 'features'), (2, 'failed'), (2, 'episodes:'), (2, 'earned'), (2, 'early'), (2, 'dÃ©but'), (2, 'descentEnglish'), (2, 'departure'), (2, 'debuting'), (2, 'daughter'), (2, 'coverage'), (2, 'consecutive'), (2, 'company'), (2, 'come'), (2, 'collaboration'), (2, 'collaborated'), (2, 'children'), (2, 'child\".'), (2, 'changed'), (2, 'catwalk'), (2, 'called'), (2, 'brother'), (2, 'branch'), (2, 'both'), (2, 'born'), (2, 'birth'), (2, 'best-selling'), (2, 'began'), (2, 'band'), (2, 'back'), (2, 'available'), (2, 'attended'), (2, 'artist'), (2, 'appear'), (2, 'albums,'), (2, 'albums'), (2, 'advertising'), (2, 'You.'), (2, 'Tours'), (2, 'Times.'), (2, 'This'), (2, 'Text'), (2, 'Tafarwa'), (2, 'Stars'), (2, 'Star'), (2, 'Standard.'), (2, 'Standard'), (2, 'Spy'), (2, 'Sport'), (2, 'Singles'), (2, 'See'), (2, 'School'), (2, 'Sam'), (2, 'Russia'), (2, 'Respect'), (2, 'References'), (2, 'R&B,'), (2, 'Prize'), (2, 'Privacy'), (2, 'Preston'), (2, 'Press'), (2, 'Presenting'), (2, 'Popjustice'), (2, 'Pop'), (2, 'Poll'), (2, 'Point:'), (2, 'Passion'), (2, 'Parlophone,'), (2, 'Panellist'), (2, 'Other'), (2, 'Official'), (2, 'Novello'), (2, 'Night'), (2, 'Niela'), (2, 'Next'), (2, 'New'), (2, 'Never'), (2, 'Nelson'), (2, 'Naomi'), (2, 'My'), (2, 'Music.'), (2, 'More\",'), (2, 'Mind'), (2, 'Me.'), (2, 'Main'), (2, 'MTV'), (2, 'Lucky'), (2, 'Love'), (2, \"Let's\"), (2, 'Know'), (2, 'Kingshurst'), (2, 'Judge'), (2, 'Jeremy'), (2, 'Jamelia,'), (2, 'Jackson'), (2, 'Is'), (2, 'India.'), (2, 'However,'), (2, 'Guardian.'), (2, 'Grylls:'), (2, 'Gordon'), (2, 'Gameshow'), (2, 'Food'), (2, 'Filmography'), (2, 'Facebook.'), (2, 'External'), (2, 'Evening'), (2, 'Europe,'), (2, 'Erin'), (2, 'England'), (2, 'Edit'), (2, 'Doctors'), (2, 'Discography'), (2, \"Didn't\"), (2, 'Death'), (2, 'Davis)'), (2, 'Davis'), (2, 'Dating'), (2, 'Darlings'), (2, 'Dance'), (2, 'Commons'), (2, 'Charts'), (2, 'Chart'), (2, 'Centre.'), (2, 'Celebs'), (2, 'Capitol'), (2, 'Byfield'), (2, 'Buzzcocks'), (2, 'Ask'), (2, 'Anyway?'), (2, 'All'), (2, 'Aid'), (2, 'Academy.'), (2, 'A'), (2, '7'), (2, '40'), (2, '29'), (2, '28'), (2, '22'), (2, '2024,'), (2, '2023).'), (2, '2020'), (2, '2015.'), (2, '2015,'), (2, '2015).'), (2, '2014'), (2, '2013â€“present:'), (2, '2012'), (2, '2011.'), (2, '2010.'), (2, '2010,'), (2, '2008.'), (2, '2007.'), (2, '2006.'), (2, '2005â€“2010:'), (2, '2004,'), (2, '2003â€“2005:'), (2, '2000'), (2, '1999â€“2001:'), (2, '1999,'), (2, '1999'), (2, '18'), (2, '17'), (2, '11,'), (2, '100,000'), (2, '(born'), (2, '(as'), (2, '(7'), (2, '(25'), (2, '(2003)'), (2, '\"Universal'), (2, '\"Superstar\",'), (2, '\"Superstar\"'), (2, '\"Something'), (2, '\"Singer'), (2, '\"No'), (2, '\"Hollyoaks'), (2, '\"Chart'), (2, '\"Celebrity'), (2, '\"Boy'), (1, 'â€‹(m.'), (1, 'â€‹'), (1, 'Â£20'), (1, 'Â£100,000'), (1, '|author='), (1, '{{cite'), (1, 'youth.'), (1, 'young'), (1, 'you'), (1, 'yet'), (1, 'year\",'), (1, 'year'), (1, \"world's\"), (1, 'without'), (1, 'winnersParlophone'), (1, 'winners\".'), (1, 'will'), (1, 'widely'), (1, 'what'), (1, 'well.'), (1, 'wedding.[33]'), (1, 'web}}:'), (1, 'wear'), (1, 'ways,'), (1, 'walked'), (1, 'vte'), (1, 'vs.'), (1, 'vowed'), (1, 'voted'), (1, 'vocalist'), (1, 'visits'), (1, 'visit'), (1, 'view'), (1, 'video'), (1, 'victim'), (1, 'via'), (1, 'very'), (1, 'various'), (1, 'using'), (1, 'until'), (1, 'unknown'), (1, 'turn'), (1, 'tuned'), (1, 'travelling'), (1, 'travel'), (1, 'trademark'), (1, 'trade'), (1, 'tracks'), (1, 'tour.'), (1, 'topped'), (1, 'top-ten'), (1, 'top'), (1, 'tools'), (1, 'to.'), (1, 'titled'), (1, 'title:'), (1, 'title'), (1, 'time,'), (1, 'time!\"[16]'), (1, 'three,'), (1, 'they'), (1, 'there'), (1, 'thanks'), (1, 'than'), (1, 'terms'), (1, 'ten-year-successful'), (1, 'television'), (1, 'teamed'), (1, 'taking'), (1, 'take'), (1, 'swimwear'), (1, 'survived'), (1, 'surprised'), (1, 'supporting'), (1, 'subsequent'), (1, 'subsection'), (1, 'stretch'), (1, 'street.\"'), (1, 'streaming'), (1, 'story'), (1, 'stores.'), (1, 'stocked'), (1, 'stepbrother,'), (1, 'stepbrother'), (1, 'step'), (1, 'stating'), (1, 'statementMobile'), (1, 'starred'), (1, \"stand'\"), (1, 'spring'), (1, 'spot'), (1, 'spoke'), (1, 'spoilers:'), (1, 'split'), (1, 'spending'), (1, 'specifically'), (1, 'spawned'), (1, 'span'), (1, 'soundtrack.'), (1, 'soundtrack'), (1, 'sound'), (1, 'songwriters21st-century'), (1, 'songs:'), (1, 'solely'), (1, 'sold-out'), (1, 'site,'), (1, 'singles.[5]'), (1, 'singles,'), (1, 'single\".[14]'), (1, 'singing.'), (1, 'singing,'), (1, 'singersEnglish'), (1, 'singersBlack'), (1, 'singer.[21]'), (1, 'singer,'), (1, 'signs'), (1, 'significant'), (1, 'shows'), (1, 'show.'), (1, 'show,'), (1, 'shipped'), (1, 'shines'), (1, \"she's\"), (1, 'shared'), (1, 'severe'), (1, 'series[45]'), (1, 'series,'), (1, 'selling'), (1, 'sell'), (1, 'selfie'), (1, 'self-written'), (1, 'seen'), (1, 'see'), (1, 'secret'), (1, 'scrutiny'), (1, 'school,'), (1, 'school'), (1, 'scene'), (1, 'satirical'), (1, 'samples'), (1, 'sample'), (1, 'sale'), (1, 'said,'), (1, 'rumours'), (1, 'rumoured'), (1, 'roles'), (1, 'role\".[30]'), (1, 'role\".'), (1, 'role'), (1, 'rising'), (1, 'right'), (1, 'reviews,'), (1, 'revealed'), (1, 'retelling'), (1, 'retailers.[12]'), (1, 'resulted'), (1, 'reprises'), (1, 'reported'), (1, 'replicate'), (1, 'replacement'), (1, 'remix/covers'), (1, 'remains'), (1, 'release.'), (1, 'release,'), (1, 'relationship'), (1, 'related'), (1, 'relate'), (1, 'rejected'), (1, 'reintroduced'), (1, 'regular,'), (1, 'registered'), (1, 'recordings'), (1, 'recording'), (1, 'reconciled'), (1, 'recognition'), (1, 'recent'), (1, 'receiving'), (1, 'reality'), (1, 'reaching'), (1, 're-release,'), (1, 're-release'), (1, 'rating.[15]'), (1, 'rap'), (1, 'quickly'), (1, 'pursuing'), (1, 'publishing'), (1, 'published.'), (1, 'provide'), (1, 'proved'), (1, 'promote'), (1, 'promises'), (1, 'project'), (1, 'programme'), (1, 'products'), (1, 'producing'), (1, 'produced'), (1, 'probably'), (1, 'prison,'), (1, 'print'), (1, 'primary'), (1, 'previous'), (1, 'presents'), (1, 'presenting'), (1, 'presenter'), (1, 'premiere'), (1, 'pregnant'), (1, 'praised'), (1, 'praise,'), (1, 'poster'), (1, 'possible\\'\".'), (1, 'positive'), (1, 'positions'), (1, 'portraying'), (1, 'popular'), (1, 'poppier'), (1, 'pop/rock.'), (1, 'poorest'), (1, 'poor'), (1, 'policyAbout'), (1, 'podcast'), (1, 'pledging'), (1, 'played'), (1, 'physical'), (1, 'personality.'), (1, 'personal'), (1, 'performance'), (1, 'perform'), (1, 'peopleEnglish'), (1, 'peopleBritish'), (1, 'partnered'), (1, 'participated'), (1, 'parents'), (1, 'panel,'), (1, 'pair'), (1, 'page'), (1, 'p.'), (1, 'others'), (1, 'organization.'), (1, 'or'), (1, 'opinions\"\".'), (1, 'opening'), (1, 'ongoing'), (1, 'one-word'), (1, 'omitting'), (1, 'often'), (1, 'official'), (1, 'offering'), (1, 'nutritious'), (1, 'nothing'), (1, 'non-profit'), (1, 'nominations.[6]'), (1, 'nomination'), (1, 'nominated'), (1, 'nine.'), (1, 'news.bbc.co.uk.'), (1, 'nearby'), (1, 'nationwide'), (1, 'names'), (1, 'name'), (1, 'murderer'), (1, 'murder.[39]'), (1, 'mum'), (1, 'moved'), (1, 'mostly'), (1, 'month'), (1, 'modelling,'), (1, 'modelled'), (1, 'model'), (1, 'mind'), (1, 'mid-2004,'), (1, 'mid-2004'), (1, 'met'), (1, 'menu'), (1, 'mentioned'), (1, 'member;'), (1, 'mediocre'), (1, 'media'), (1, 'meal.[31]'), (1, 'meal'), (1, 'may'), (1, 'maternity'), (1, 'married'), (1, 'marked'), (1, 'many'), (1, 'managing'), (1, 'manager'), (1, 'managed'), (1, 'man\\'\".'), (1, 'making'), (1, 'makes'), (1, 'major'), (1, 'magazines'), (1, 'magazine'), (1, 'made\"'), (1, 'machine.[11]'), (1, 'lost'), (1, 'local'), (1, 'listing,'), (1, 'lineup\".'), (1, 'line'), (1, 'limousine.'), (1, 'lifted'), (1, 'legs'), (1, 'leaving'), (1, 'leader'), (1, 'launched'), (1, 'launch'), (1, 'later,'), (1, 'last'), (1, 'landed'), (1, 'lack'), (1, 'karaoke'), (1, 'just'), (1, 'job.'), (1, 'jamelia.com'), (1, 'itv.com.'), (1, 'its'), (1, \"it's\"), (1, 'issued'), (1, 'involved'), (1, 'invited'), (1, 'invitation'), (1, 'introduces'), (1, 'international'), (1, 'inspired'), (1, 'initiative'), (1, 'individually,'), (1, 'incredible'), (1, 'increase'), (1, 'includes'), (1, 'impression'), (1, 'however,'), (1, 'house'), (1, 'hop[4]'), (1, 'hop,'), (1, 'homemade'), (1, 'home,'), (1, 'holding'), (1, 'hit,'), (1, 'history'), (1, 'hip'), (1, 'highest-charting'), (1, 'highest'), (1, 'high-profile'), (1, 'high'), (1, 'herself'), (1, 'hellomagazine.com.'), (1, 'heavily'), (1, 'heard'), (1, 'heads'), (1, 'hastiness,'), (1, 'harder'), (1, 'hairdressing/hair'), (1, 'hair.'), (1, 'hailing'), (1, 'great'), (1, 'going'), (1, 'girl-group'), (1, 'girl\".'), (1, 'girl'), (1, 'gig'), (1, 'generic'), (1, 'garnering'), (1, 'garner'), (1, 'gang-related'), (1, 'full-length'), (1, 'fronting'), (1, 'front'), (1, 'frequent'), (1, 'free'), (1, 'frame'), (1, 'fragrance'), (1, 'formerly'), (1, 'followed'), (1, 'flows'), (1, 'five-star'), (1, 'finely'), (1, 'finalist'), (1, 'filmography'), (1, 'filing'), (1, 'fifth'), (1, 'fellow'), (1, 'feeling'), (1, 'feel'), (1, 'favourite'), (1, 'father,'), (1, 'father'), (1, 'fashion'), (1, 'factor'), (1, 'fact'), (1, 'face'), (1, 'eye'), (1, 'extensions,'), (1, 'extensions'), (1, 'experimental\",'), (1, 'experience'), (1, 'expecting'), (1, 'expected'), (1, 'executives'), (1, 'exciting\"'), (1, 'everything'), (1, 'ever'), (1, 'event'), (1, 'evenings,'), (1, 'even'), (1, 'ethical'), (1, 'episodes[44]'), (1, 'episodes[43]'), (1, 'entertainment'), (1, 'entered'), (1, 'enter'), (1, 'engagement.[36]'), (1, 'end'), (1, 'encyclopedia'), (1, 'encore'), (1, 'emulate'), (1, 'election.[40]'), (1, 'eight'), (1, 'effort'), (1, 'editions'), (1, 'edition'), (1, 'edited'), (1, 'each'), (1, 'due'), (1, 'drove'), (1, 'drew'), (1, 'drawn'), (1, 'dramas,'), (1, 'drama'), (1, 'download'), (1, 'double-platinum'), (1, 'donation'), (1, 'donated'), (1, 'don\\'t\".'), (1, \"don't\"), (1, 'doing'), (1, 'documentary,'), (1, 'documentaries,'), (1, 'divorce.[37]'), (1, 'divorce\".'), (1, 'divorce'), (1, 'div.'), (1, 'dispute'), (1, 'disk.[12]'), (1, 'discography'), (1, 'disappointing'), (1, 'despite'), (1, 'designed'), (1, 'described'), (1, 'delay'), (1, 'defending'), (1, 'decision'), (1, 'decade'), (1, 'debuted'), (1, 'deal\".'), (1, 'day'), (1, 'daughters.'), (1, 'daughter,'), (1, 'date,'), (1, 'date\".'), (1, 'date'), (1, 'databases'), (1, 'dancing'), (1, 'dancer'), (1, 'dancehall'), (1, 'dance-offs,'), (1, 'dance'), (1, 'critics'), (1, 'criticised'), (1, 'critical'), (1, 'created'), (1, 'court\".'), (1, 'counterpart,'), (1, 'cook'), (1, 'convicted'), (1, 'control'), (1, 'contributed'), (1, 'contribute'), (1, 'contracts'), (1, 'contract'), (1, 'contestants'), (1, 'contestant\".'), (1, 'contestant'), (1, 'contemporary'), (1, 'conjunction'), (1, 'confused'), (1, 'concert.'), (1, 'concert'), (1, 'compilation'), (1, 'competition.'), (1, 'competition'), (1, 'compared'), (1, 'commercially'), (1, 'commented'), (1, 'collectively'), (1, 'collection.[18]'), (1, 'collection,'), (1, \"collection's\"), (1, 'collection'), (1, 'coached'), (1, 'coach.[20]'), (1, 'co-written'), (1, 'co-hosted'), (1, 'claims'), (1, 'claiming'), (1, 'claimed'), (1, 'chorus'), (1, 'childhood'), (1, 'child.[38]'), (1, 'chat'), (1, 'charts'), (1, 'charted'), (1, 'charity'), (1, 'channel'), (1, 'certified.'), (1, 'certification.[12]'), (1, 'certification.'), (1, 'celebrity'), (1, 'celebrations'), (1, 'category.'), (1, 'cast'), (1, 'cappella'), (1, 'came'), (1, 'calling'), (1, 'brighter\".'), (1, 'brevity'), (1, 'brand'), (1, 'boyfriend'), (1, 'bottle'), (1, 'bosses'), (1, 'book'), (1, 'blamed'), (1, 'birthsLiving'), (1, 'birthday'), (1, 'behind'), (1, 'before.'), (1, 'before'), (1, 'becoming'), (1, 'become'), (1, 'baby'), (1, 'axed'), (1, 'away\"'), (1, 'awareness'), (1, 'awarded'), (1, 'autobiography,'), (1, 'authoring'), (1, 'asked'), (1, 'artwork.[17]'), (1, 'artwork'), (1, 'artistsSingers'), (1, 'artists'), (1, 'article:'), (1, 'are'), (1, 'apply.'), (1, 'appearing'), (1, 'appearances.'), (1, 'appearances'), (1, 'appearance,'), (1, 'any'), (1, 'another'), (1, 'amongst'), (1, 'amid'), (1, 'ambassador'), (1, 'amazing\".'), (1, 'always'), (1, 'alongside'), (1, 'alone,'), (1, 'almost'), (1, 'all'), (1, 'albums.'), (1, 'album.[16]'), (1, 'ahead'), (1, 'agree'), (1, 'agency'), (1, 'against'), (1, 'afterwards'), (1, 'aforementioned'), (1, 'advertisement'), (1, 'additional'), (1, 'addition,'), (1, 'added'), (1, 'actressesIvor'), (1, 'actress'), (1, 'actors'), (1, 'active'), (1, 'act'), (1, 'account'), (1, 'abusive'), (1, '[2]'), (1, '[1]'), (1, 'Zimbabwean'), (1, 'Young.'), (1, 'You?'), (1, 'You\"[52]'), (1, 'You\".[33][34]'), (1, 'Ya!.'), (1, 'X'), (1, 'Would'), (1, 'WorldUniversal'), (1, 'Work'), (1, 'Word,'), (1, 'Won'), (1, 'Women.'), (1, \"Women'\"), (1, 'Winners'), (1, \"Winner's\"), (1, 'Williams'), (1, 'Will'), (1, 'WikipediaÂ®'), (1, 'WikipediaThe'), (1, 'WikipediaDisclaimersContact'), (1, 'WikipediaCode'), (1, 'Wikipedia,'), (1, 'Wikipedia'), (1, 'Wikidata'), (1, 'Wightman,'), (1, 'Width'), (1, 'Wide'), (1, 'Westwood\".'), (1, 'Westmoreland.[8]'), (1, 'Weekend'), (1, 'Wednesday'), (1, 'Website'), (1, 'Ways'), (1, 'Warner,'), (1, 'Want'), (1, 'Wallen,'), (1, 'Wales.'), (1, 'Wales'), (1, 'WAR'), (1, 'Vote\".'), (1, 'Vimeo.'), (1, 'View'), (1, 'Vernon'), (1, 'Valentine'), (1, 'Ustream.tv.[19]'), (1, 'Usher'), (1, 'Use'), (1, 'Upcoming'), (1, 'Under'), (1, 'Ultimately,'), (1, 'Uganda'), (1, 'UN,'), (1, 'UK\".'), (1, 'Trust'), (1, 'Tristan'), (1, 'Town'), (1, 'Tour:'), (1, 'Tour'), (1, 'Tools'), (1, 'Toni'), (1, 'Toggle'), (1, 'Tiziano'), (1, 'Title'), (1, 'Tipping'), (1, 'Tindall,'), (1, 'Timberlake'), (1, 'Tim'), (1, 'Tiani,'), (1, 'Three.'), (1, \"Three's\"), (1, 'Terry'), (1, 'Terms'), (1, 'Ten.'), (1, 'Teja'), (1, 'Technology'), (1, 'Tatiana'), (1, 'Tamara'), (1, 'Talk'), (1, 'Taking'), (1, 'TV.'), (1, 'TMF'), (1, 'Sweden.'), (1, 'Sussex.'), (1, 'Survive\".'), (1, 'Superstar:'), (1, 'Superstar'), (1, 'Sugababes'), (1, 'Subsequently,'), (1, 'Studio'), (1, 'Stronger'), (1, 'Street,'), (1, \"Stranglers'\"), (1, 'Stories'), (1, 'Store\".'), (1, 'Stephen'), (1, 'Staying'), (1, 'Staveley,'), (1, \"Star's\"), (1, 'Squares\".'), (1, 'Squares'), (1, 'Spouse'), (1, 'Special'), (1, 'Speare-Cole,'), (1, 'Spanish'), (1, 'Spain'), (1, 'Sorry,'), (1, 'Songs'), (1, 'Something'), (1, 'Solo'), (1, 'Solid'), (1, 'Softmint'), (1, 'Smash'), (1, 'Small'), (1, 'Single.'), (1, 'Single,'), (1, 'Singersongwriteractresstelevision'), (1, 'Singer'), (1, 'Since'), (1, \"Show's\"), (1, 'Short'), (1, \"Shop's\"), (1, 'Shame\"'), (1, 'Shaggy'), (1, 'Seraphine,'), (1, 'September,'), (1, 'Sensation,'), (1, 'Saturday'), (1, 'Santa'), (1, 'Ryan'), (1, 'Rougeberry'), (1, 'Rosita'), (1, 'Room'), (1, 'Role'), (1, 'Reloaded.'), (1, 'Relief,'), (1, 'Regular'), (1, 'Reebok.'), (1, 'Records,'), (1, 'Records'), (1, 'Recognition'), (1, 'Rebecca'), (1, 'Reason,'), (1, 'Really'), (1, 'Read'), (1, 'Reach.'), (1, \"Ramsay's\"), (1, 'Rah'), (1, 'RTÃ‰.'), (1, 'RTÃ‰'), (1, 'ROAR'), (1, \"REM's\"), (1, 'R&B[2]pop[3]hip'), (1, 'R&B-influenced'), (1, 'Queens'), (1, 'Queen.'), (1, 'Promoting'), (1, 'Productions.'), (1, 'Proceeds'), (1, 'Princes'), (1, 'Primary'), (1, 'Pretty'), (1, \"Preston's\"), (1, 'Presenter[41]'), (1, 'Presenter'), (1, 'Preece,'), (1, 'Prayer\".'), (1, 'Prayer\"'), (1, 'Powell'), (1, 'Popjustice.'), (1, 'Polly'), (1, 'Policy.'), (1, 'Pointless'), (1, 'Plus'), (1, 'Peter'), (1, 'Performed'), (1, 'People'), (1, 'Paulette'), (1, 'Paul'), (1, 'Patterson,'), (1, 'Paton,'), (1, 'Parts'), (1, 'Participant'), (1, 'Parlophone\".'), (1, 'Park.[32]'), (1, 'Parent'), (1, 'Paradise,'), (1, 'Paradise'), (1, 'Pantomime.'), (1, 'Oxfam'), (1, \"Outkast's\"), (1, 'Out'), (1, 'Orion.'), (1, 'Only'), (1, 'Online.'), (1, 'One'), (1, 'Onboard\"'), (1, 'Olympic'), (1, 'Off'), (1, 'Of'), (1, 'Occupations'), (1, \"O'Grady\"), (1, \"O'Conor,\"), (1, \"O'Connor\"), (1, 'Nutopia,'), (1, 'Number'), (1, 'Notes'), (1, 'Not'), (1, 'Nominated'), (1, 'News'), (1, 'Newcomer,'), (1, 'Natural'), (1, 'National'), (1, 'NRJ'), (1, 'Musical'), (1, 'MusicOMH.'), (1, 'Music\".'), (1, 'Museum'), (1, 'Murphy,'), (1, 'Mums.'), (1, 'Mums\".'), (1, 'Mums'), (1, 'Mouth'), (1, 'Most'), (1, 'Morrissey-solo'), (1, 'Month.'), (1, 'Money.'), (1, 'Money,'), (1, 'Model.Me'), (1, \"Mode's\"), (1, 'Mirror'), (1, 'MidlandsPeople'), (1, 'MidlandsActresses'), (1, 'Midlands,'), (1, 'Midlands'), (1, 'Metro.'), (1, 'Mercury'), (1, 'Meest'), (1, 'MediaWiki'), (1, 'Media.'), (1, 'Me...'), (1, 'Me,'), (1, \"Me',\"), (1, 'Me\".'), (1, 'Me\",'), (1, 'Max'), (1, 'Maureen'), (1, 'Masterchef'), (1, 'Martin'), (1, 'Marathon.'), (1, 'Marathon'), (1, 'Manrara.'), (1, \"Mandela's\"), (1, 'Mandela'), (1, 'Man'), (1, 'Mail.'), (1, 'Magic'), (1, 'MacManus.'), (1, \"MTV's\"), (1, 'MGN.'), (1, 'Lynch.'), (1, 'Lovejoy.'), (1, 'Love,'), (1, 'Love\".'), (1, 'Lottery'), (1, 'Lopez,'), (1, 'London'), (1, 'Log'), (1, 'Live.'), (1, 'Live'), (1, 'Little\"'), (1, 'Listerine'), (1, 'Light'), (1, 'Lie'), (1, 'License;'), (1, 'Lemar'), (1, 'Lars'), (1, 'Large'), (1, 'Lady'), (1, 'Labels'), (1, 'Kool'), (1, 'Known'), (1, 'Know\\'\".'), (1, 'Kingshurst\"'), (1, 'Keys,'), (1, 'Kenya,'), (1, 'Keisha'), (1, \"Kay's\"), (1, 'Kate'), (1, 'Karelina'), (1, 'Kairo'), (1, 'K'), (1, 'Justin'), (1, 'Jones:'), (1, 'John'), (1, 'Johannesburg'), (1, 'Jesus\"'), (1, 'Jennifer'), (1, 'Janette'), (1, 'Jamil.'), (1, 'JameliaOver'), (1, 'Jamelia.'), (1, 'Jamelia\".'), (1, 'Jamelia\"'), (1, 'Jameela'), (1, 'Jamaican;'), (1, 'Jamaican'), (1, 'Jaguar'), (1, 'Jackson.'), (1, 'Ivor'), (1, 'Its'), (1, 'Italy'), (1, 'Italian'), (1, \"It's\"), (1, 'Ireland\".'), (1, 'Interview\".'), (1, 'International'), (1, 'Institution'), (1, 'Inspective'), (1, 'India'), (1, 'Inc.,'), (1, 'Immediate'), (1, 'ITV.com.'), (1, 'ITV.[24]'), (1, \"ITV's\"), (1, 'ITV\".'), (1, 'IMDb.com.'), (1, 'IMDb.'), (1, 'IMDb'), (1, 'ICM.'), (1, 'Hyde'), (1, 'Hurts\"'), (1, 'Huge'), (1, 'Hotel'), (1, 'Hollyoaks,'), (1, 'Hockley[9]'), (1, 'Hits:'), (1, 'Hits.'), (1, 'Hits'), (1, 'Hit'), (1, 'History'), (1, 'Hey'), (1, 'Heist'), (1, 'Haunted'), (1, 'Harry'), (1, 'Harpers'), (1, 'Hammond'), (1, 'HIV'), (1, \"Guy',\"), (1, 'Guy'), (1, 'Guild.'), (1, 'Guest'), (1, \"Grylls'\"), (1, 'Grylls'), (1, 'Great'), (1, 'Got'), (1, 'Good'), (1, 'Gold'), (1, \"Gok's\"), (1, 'Global'), (1, 'Girls'), (1, 'George'), (1, 'Genres'), (1, 'Gear,'), (1, 'Gear'), (1, \"Gang's\"), (1, 'Games\".'), (1, 'Gaga'), (1, 'From'), (1, 'Free'), (1, 'Fredericks'), (1, 'France'), (1, 'FoundationPowered'), (1, 'Foundation.'), (1, 'Foundation,'), (1, 'Forums.'), (1, 'Fortunes'), (1, 'Foreign'), (1, 'Fletcher,'), (1, 'Fletcher'), (1, 'Fix'), (1, 'Film'), (1, 'Ferro'), (1, 'Female.[6]'), (1, 'Female,'), (1, 'Felix'), (1, \"Feeder's\"), (1, 'Feeder'), (1, 'Family'), (1, 'Factor'), (1, 'FacebookTijdlijnOver'), (1, 'F'), (1, 'Eyes\",'), (1, 'Exhibition'), (1, 'Eska'), (1, 'England\".'), (1, 'Encyclopedia'), (1, 'Emmerdale\".'), (1, 'Elle'), (1, 'Edge'), (1, 'Easter'), (1, \"Earl's\"), (1, 'EMI.'), (1, 'E4.'), (1, 'E4'), (1, 'Drama,'), (1, 'Door\",'), (1, 'Door\"'), (1, 'Donate'), (1, \"Don't\"), (1, 'Dog\\'\".'), (1, 'Dog\".'), (1, 'Dog\",'), (1, 'Dog\"'), (1, 'Doctors:'), (1, 'Doctors.[21]'), (1, 'Do\".'), (1, 'Do\",'), (1, 'Do\"'), (1, 'Dixon'), (1, 'Divas'), (1, 'Disney'), (1, 'Dion'), (1, 'Dinner.'), (1, 'Digga;'), (1, 'Dictionary'), (1, 'Diary'), (1, 'Diamond'), (1, 'Detective'), (1, \"Destiny's\"), (1, 'Despite'), (1, 'Depeche'), (1, 'De'), (1, 'Day'), (1, 'Davison,'), (1, 'Davis.'), (1, 'Dating.[29]'), (1, 'Darlings:'), (1, 'Darlings\"'), (1, 'Dark'), (1, 'Daniel'), (1, 'Dancing.[25]'), (1, \"Dancing's\"), (1, 'DJ'), (1, 'Cyril'), (1, 'Crime'), (1, 'Creators\".'), (1, 'Creative'), (1, 'Create'), (1, 'Cover'), (1, 'Court'), (1, 'Country.'), (1, 'Country'), (1, 'Countdown'), (1, 'Cosmopolitan,'), (1, \"Coronet'\"), (1, 'Coronation'), (1, 'Corner'), (1, 'Cordor.'), (1, 'Corbyn,'), (1, 'Corbyn'), (1, 'Contents'), (1, 'ConductDevelopersStatisticsCookie'), (1, 'Company.'), (1, 'Company,'), (1, 'Company\".'), (1, 'Comic'), (1, 'Color'), (1, 'College.[10]'), (1, \"Coldplay's\"), (1, 'Coach,'), (1, 'Coach'), (1, 'City'), (1, 'Cinderella'), (1, 'Christmas?\",'), (1, 'Christmas'), (1, 'Christensen,'), (1, 'Christensen'), (1, 'Chris'), (1, 'Children'), (1, 'Child,'), (1, 'Child'), (1, 'Cherry'), (1, 'Charts,'), (1, 'Chart.'), (1, 'Charm\"'), (1, 'Champions'), (1, 'Certified'), (1, 'Centre'), (1, 'Celine'), (1, 'Celebrities'), (1, 'Cats'), (1, 'Catriona'), (1, 'Categories:'), (1, 'Cast'), (1, 'Cars'), (1, 'CapitolParlophoneAll'), (1, 'Cancer'), (1, 'Campbell,'), (1, \"Campbell's\"), (1, 'CV\".'), (1, 'Byfield;'), (1, 'By'), (1, 'Buchanan,'), (1, \"Brown's\"), (1, 'Brown\".'), (1, \"Brother's\"), (1, 'Brookfields'), (1, 'Brits.co.uk.'), (1, 'Britain'), (1, 'Bridget'), (1, 'Breast'), (1, 'Brandle'), (1, 'Boys)[7]'), (1, 'Boux\".[23]'), (1, 'Bourg),'), (1, 'Both'), (1, 'Born'), (1, 'Boots.'), (1, 'Boots'), (1, 'Body'), (1, 'Blog:'), (1, 'Blog\"'), (1, 'Black'), (1, 'Birmingham.'), (1, 'Billboard.'), (1, 'BeyoncÃ©,'), (1, 'Benchmark'), (1, 'Belovend'), (1, 'Beenie'), (1, 'Beckford,'), (1, 'Beckford\".'), (1, 'Beckford'), (1, 'Be'), (1, 'Band'), (1, 'Bake'), (1, 'Bailey.[26]'), (1, 'BMW,'), (1, 'BBC.'), (1, \"BBC's\"), (1, 'Awareness'), (1, 'Awards.'), (1, 'Awards,'), (1, 'Avenue.'), (1, 'Avenue'), (1, 'Automatic'), (1, 'Authority'), (1, 'Australia,'), (1, 'Attribution-ShareAlike'), (1, 'Ashley'), (1, 'As'), (1, 'Artist'), (1, 'Article'), (1, 'Apple'), (1, 'Appearance'), (1, 'Anyway'), (1, 'Anisa'), (1, 'Andre'), (1, 'Amy'), (1, 'American'), (1, 'Aloud,'), (1, 'AllMusic.'), (1, 'AllMusic'), (1, 'Alive'), (1, 'Alicia'), (1, 'Alice'), (1, 'Alex'), (1, 'Albums'), (1, 'Album'), (1, 'Aimee'), (1, 'Aids'), (1, 'Ahead\"'), (1, 'After'), (1, 'ActionAid,'), (1, 'Act[51]'), (1, 'Act[50]'), (1, 'Act.[6]'), (1, 'Act,'), (1, 'Academy,'), (1, 'Academy'), (1, 'AIDS.'), (1, 'A-side'), (1, 'A-list'), (1, '9:'), (1, '90th'), (1, '9,'), (1, '7:'), (1, '75;'), (1, '7,'), (1, '7\".'), (1, '65.'), (1, '61'), (1, '600,000'), (1, '5:'), (1, '55'), (1, '5,'), (1, '4[1]'), (1, '47'), (1, '46664'), (1, '43.'), (1, '43)'), (1, '42.'), (1, '40\".'), (1, '4.0'), (1, \"4's\"), (1, '39.'), (1, '37'), (1, '36th'), (1, '3,'), (1, '28,'), (1, '26th'), (1, '25'), (1, '21.[22]'), (1, '2023â€“2024'), (1, '2023,'), (1, '2023)'), (1, '2023'), (1, '2022,'), (1, '2022).'), (1, '2022'), (1, '2021.[27][28]'), (1, '2021,'), (1, '2019:'), (1, '2019,'), (1, '2019).'), (1, '2018.'), (1, '2018,'), (1, '2018).'), (1, '2018'), (1, '2016'), (1, '2015'), (1, '2013â€“2016'), (1, '2013â€“2014'), (1, '2013.'), (1, '2013).'), (1, '2012,'), (1, '2011,'), (1, '2011).'), (1, '2011'), (1, '2010).'), (1, '2010'), (1, '2009.[7]'), (1, '2009)â€‹'), (1, '2008â€“2013'), (1, '2008;'), (1, '2007).'), (1, '2006,'), (1, '2006).'), (1, '2006'), (1, '2005.'), (1, '2005,'), (1, '2005).[35]'), (1, '2004[13]'), (1, '2004:'), (1, \"2004's\"), (1, '2003,'), (1, '2002'), (1, '2001.'), (1, '2001,'), (1, '2000â€“2009'), (1, '1989'), (1, '1988'), (1, '1981)'), (1, '18â€“20'), (1, '18,'), (1, '162'), (1, '13[29]'), (1, '13:39'), (1, '13,'), (1, '12th'), (1, '11:'), (1, '101'), (1, '1.'), (1, \"1's\"), (1, '/'), (1, '(help)'), (1, '(featuring'), (1, '(beta)'), (1, '(age'), (1, '(UTC).'), (1, '(Top)'), (1, '(PDF).'), (1, '(PDF)'), (1, '(Original'), (1, '(Low)\".'), (1, '(February,'), (1, '(Belgium)'), (1, '(4'), (1, '(26'), (1, '(24'), (1, '(23'), (1, '(21'), (1, '(2022)[49]'), (1, '(2020)[48]'), (1, '(2017)'), (1, '(2016)[47]'), (1, '(2016)'), (1, '(2015)'), (1, '(2014)[46]'), (1, '(2014)'), (1, '(2012)'), (1, '(2010)'), (1, '(2008)[7]'), (1, '(2008),'), (1, '(2007â€“2011)'), (1, '(2007)'), (1, '(2006),'), (1, '(2006)'), (1, '(2000),'), (1, '(2000)'), (1, '(20'), (1, '(2'), (1, '(14'), (1, \"'superstar'\"), (1, \"'last\"), (1, \"'dropped'\"), (1, \"'blessed'\"), (1, \"'a\"), (1, \"'Toni\"), (1, \"'The\"), (1, \"'Model\"), (1, \"'Loose\"), (1, \"'I'd\"), (1, \"'Beware\"), (1, '\"the'), (1, '\"taken'), (1, '\"smashhits.net'), (1, '\"really'), (1, '\"might'), (1, '\"less'), (1, '\"iTunes'), (1, '\"feisty'), (1, '\"completed'), (1, '\"an'), (1, '\"absolutely'), (1, '\"You'), (1, '\"YATQ'), (1, '\"Waste'), (1, '\"Vocalist'), (1, '\"Tipping'), (1, '\"Time'), (1, '\"This'), (1, '\"The'), (1, '\"Text'), (1, '\"Superstar\".'), (1, '\"Straight'), (1, '\"Stop!\";'), (1, '\"Sorry,'), (1, '\"Series'), (1, '\"Sam'), (1, '\"Richard'), (1, '\"Personal'), (1, '\"Official'), (1, '\"Music'), (1, '\"Mike'), (1, '\"MTV'), (1, '\"Lucky'), (1, '\"Little'), (1, '\"Just'), (1, '\"Jamelia\\'s'), (1, '\"ITV'), (1, '\"Golden'), (1, '\"General'), (1, '\"Former'), (1, '\"Everybody'), (1, '\"Do'), (1, '\"Death'), (1, '\"DJ\".'), (1, '\"DJ\",'), (1, '\"Christmas'), (1, '\"Celebs'), (1, '\"Call'), (1, '\"Bout\",'), (1, '\"Birthday\"'), (1, '\"Bear'), (1, '\"Archive'), (1, '\"100%'), (1, '\"#3.3\"'), (1, '\"#2.7\"[42]'), (1, '\"#1.2\"'), (1, '\"#1.17\"'), (1, '\"#1.1044\"'), (1, '\"#1.1\"')]\n"
          ]
        }
      ],
      "source": [
        "from collections import defaultdict\n",
        "\n",
        "d = defaultdict(int)\n",
        "\n",
        "fid = open('jamelia.txt')\n",
        "for line in fid:\n",
        "    words = line.split()\n",
        "    for w in words:\n",
        "        d[w.strip()] += 1\n",
        "\n",
        "arr = []\n",
        "for key, value in d.items():\n",
        "    arr.append((value, key))\n",
        "\n",
        "print(sorted(arr)[::-1])\n"
      ]
    },
    {
      "cell_type": "code",
      "execution_count": 40,
      "metadata": {},
      "outputs": [],
      "source": [
        "fid = open('jamelia.txt')\n",
        "lines = fid.readlines()\n",
        "fid.close()\n",
        "\n",
        "fid2 = open('jamelia2.txt', 'w')\n",
        "for line in lines:\n",
        "    line = line.replace(\"the\", \"janabashka\")\n",
        "    fid2.write(line)\n",
        "fid2.close()"
      ]
    },
    {
      "cell_type": "code",
      "execution_count": 4,
      "metadata": {},
      "outputs": [
        {
          "name": "stdout",
          "output_type": "stream",
          "text": [
            "20 emil,bilgazyev,1984\n",
            "\n",
            "20 sultan,eraliev,2007\n",
            "\n",
            "17 atai,sultan,2874\n",
            "\n",
            "15 emir,aktan,1784\n"
          ]
        }
      ],
      "source": [
        "fid = open('user.csv', 'r')\n",
        "for i in fid:\n",
        "    print(len(i), i)\n",
        "fid.close()"
      ]
    },
    {
      "cell_type": "code",
      "execution_count": 6,
      "metadata": {},
      "outputs": [
        {
          "name": "stdout",
          "output_type": "stream",
          "text": [
            "3 ['emil', 'bilgazyev', '1984']\n",
            "3 ['sultan', 'eraliev', '2007']\n",
            "3 ['atai', 'sultan', '2874']\n",
            "3 ['emir', 'aktan', '1784']\n"
          ]
        }
      ],
      "source": [
        "from csv import reader\n",
        "fid = open('user.csv', 'r')\n",
        "lines = reader(fid)\n",
        "for i in lines:\n",
        "    print(len(i), i)\n",
        "fid.close()"
      ]
    },
    {
      "cell_type": "code",
      "execution_count": 8,
      "metadata": {},
      "outputs": [
        {
          "name": "stdout",
          "output_type": "stream",
          "text": [
            "[0, 1, 2, 3, 4, 5, 6, 7, 8, 9, 10, 11, 12, 13, 14, 15, 16, 17, 18, 19, 20, 21, 22, 23, 24, 25, 26, 27, 28, 29, 30, 31, 32, 33, 34, 35, 36, 37, 38, 39, 40, 41, 42, 43, 44, 45, 46, 47, 48, 49, 50, 51, 52, 53, 54, 55, 56, 57, 58, 59, 60, 61, 62, 63, 64, 65, 66, 67, 68, 69, 70, 71, 72, 73, 74, 75, 76, 77, 78, 79, 80, 81, 82, 83, 84, 85, 86, 87, 88, 89, 90, 91, 92, 93, 94, 95, 96, 97, 98, 99]\n"
          ]
        }
      ],
      "source": [
        "arr = list(range(100))\n",
        "print(arr)"
      ]
    },
    {
      "cell_type": "code",
      "execution_count": 11,
      "metadata": {},
      "outputs": [
        {
          "name": "stdout",
          "output_type": "stream",
          "text": [
            "[[1, 1, 1, 1, 1, 1], [1, 2, 2, 1, 4, 4], [1, 3, 3, 1, 9, 9], [1, 4, 4, 1, 16, 16], [1, 5, 5, 1, 25, 25], [1, 6, 6, 1, 36, 36], [1, 7, 7, 1, 49, 49], [1, 8, 8, 1, 64, 64], [1, 9, 9, 1, 81, 81], [2, 1, 2, 4, 1, 4], [2, 2, 4, 4, 4, 16], [2, 3, 6, 4, 9, 36], [2, 4, 8, 4, 16, 64], [2, 5, 10, 4, 25, 100], [2, 6, 12, 4, 36, 144], [2, 7, 14, 4, 49, 196], [2, 8, 16, 4, 64, 256], [2, 9, 18, 4, 81, 324], [3, 1, 3, 9, 1, 9], [3, 2, 6, 9, 4, 36], [3, 3, 9, 9, 9, 81], [3, 4, 12, 9, 16, 144], [3, 5, 15, 9, 25, 225], [3, 6, 18, 9, 36, 324], [3, 7, 21, 9, 49, 441], [3, 8, 24, 9, 64, 576], [3, 9, 27, 9, 81, 729], [4, 1, 4, 16, 1, 16], [4, 2, 8, 16, 4, 64], [4, 3, 12, 16, 9, 144], [4, 4, 16, 16, 16, 256], [4, 5, 20, 16, 25, 400], [4, 6, 24, 16, 36, 576], [4, 7, 28, 16, 49, 784], [4, 8, 32, 16, 64, 1024], [4, 9, 36, 16, 81, 1296], [5, 1, 5, 25, 1, 25], [5, 2, 10, 25, 4, 100], [5, 3, 15, 25, 9, 225], [5, 4, 20, 25, 16, 400], [5, 5, 25, 25, 25, 625], [5, 6, 30, 25, 36, 900], [5, 7, 35, 25, 49, 1225], [5, 8, 40, 25, 64, 1600], [5, 9, 45, 25, 81, 2025], [6, 1, 6, 36, 1, 36], [6, 2, 12, 36, 4, 144], [6, 3, 18, 36, 9, 324], [6, 4, 24, 36, 16, 576], [6, 5, 30, 36, 25, 900], [6, 6, 36, 36, 36, 1296], [6, 7, 42, 36, 49, 1764], [6, 8, 48, 36, 64, 2304], [6, 9, 54, 36, 81, 2916], [7, 1, 7, 49, 1, 49], [7, 2, 14, 49, 4, 196], [7, 3, 21, 49, 9, 441], [7, 4, 28, 49, 16, 784], [7, 5, 35, 49, 25, 1225], [7, 6, 42, 49, 36, 1764], [7, 7, 49, 49, 49, 2401], [7, 8, 56, 49, 64, 3136], [7, 9, 63, 49, 81, 3969], [8, 1, 8, 64, 1, 64], [8, 2, 16, 64, 4, 256], [8, 3, 24, 64, 9, 576], [8, 4, 32, 64, 16, 1024], [8, 5, 40, 64, 25, 1600], [8, 6, 48, 64, 36, 2304], [8, 7, 56, 64, 49, 3136], [8, 8, 64, 64, 64, 4096], [8, 9, 72, 64, 81, 5184], [9, 1, 9, 81, 1, 81], [9, 2, 18, 81, 4, 324], [9, 3, 27, 81, 9, 729], [9, 4, 36, 81, 16, 1296], [9, 5, 45, 81, 25, 2025], [9, 6, 54, 81, 36, 2916], [9, 7, 63, 81, 49, 3969], [9, 8, 72, 81, 64, 5184], [9, 9, 81, 81, 81, 6561]]\n"
          ]
        }
      ],
      "source": [
        "from csv import writer\n",
        "fid = open('tablitsa.csv', 'w')\n",
        "file = writer(fid)\n",
        "matrix = []\n",
        "for i in range(1,10):\n",
        "    for j in range(1,10):\n",
        "        matrix.append([i, j, i*j, i**2, j**2, i**2 * j**2])\n",
        "file.writerows(matrix)\n",
        "print(matrix)\n",
        "fid.close()\n"
      ]
    },
    {
      "cell_type": "code",
      "execution_count": 1,
      "metadata": {},
      "outputs": [
        {
          "ename": "FileNotFoundError",
          "evalue": "[Errno 2] No such file or directory: 'exams.csv'",
          "output_type": "error",
          "traceback": [
            "\u001b[1;31m---------------------------------------------------------------------------\u001b[0m",
            "\u001b[1;31mFileNotFoundError\u001b[0m                         Traceback (most recent call last)",
            "Cell \u001b[1;32mIn[1], line 32\u001b[0m\n\u001b[0;32m     28\u001b[0m             \u001b[38;5;28;01mpass\u001b[39;00m\n\u001b[0;32m     31\u001b[0m \u001b[38;5;28;01mfrom\u001b[39;00m \u001b[38;5;21;01mcsv\u001b[39;00m \u001b[38;5;28;01mimport\u001b[39;00m reader\n\u001b[1;32m---> 32\u001b[0m fid \u001b[38;5;241m=\u001b[39m \u001b[38;5;28;43mopen\u001b[39;49m\u001b[43m(\u001b[49m\u001b[38;5;124;43m'\u001b[39;49m\u001b[38;5;124;43mexams.csv\u001b[39;49m\u001b[38;5;124;43m'\u001b[39;49m\u001b[43m,\u001b[49m\u001b[43m \u001b[49m\u001b[38;5;124;43m'\u001b[39;49m\u001b[38;5;124;43mr\u001b[39;49m\u001b[38;5;124;43m'\u001b[39;49m\u001b[43m)\u001b[49m\n\u001b[0;32m     33\u001b[0m csv_reader \u001b[38;5;241m=\u001b[39m reader(fid)\n\u001b[0;32m     34\u001b[0m header \u001b[38;5;241m=\u001b[39m \u001b[38;5;28;01mNone\u001b[39;00m\n",
            "File \u001b[1;32m~\\AppData\\Local\\Packages\\PythonSoftwareFoundation.Python.3.11_qbz5n2kfra8p0\\LocalCache\\local-packages\\Python311\\site-packages\\IPython\\core\\interactiveshell.py:324\u001b[0m, in \u001b[0;36m_modified_open\u001b[1;34m(file, *args, **kwargs)\u001b[0m\n\u001b[0;32m    317\u001b[0m \u001b[38;5;28;01mif\u001b[39;00m file \u001b[38;5;129;01min\u001b[39;00m {\u001b[38;5;241m0\u001b[39m, \u001b[38;5;241m1\u001b[39m, \u001b[38;5;241m2\u001b[39m}:\n\u001b[0;32m    318\u001b[0m     \u001b[38;5;28;01mraise\u001b[39;00m \u001b[38;5;167;01mValueError\u001b[39;00m(\n\u001b[0;32m    319\u001b[0m         \u001b[38;5;124mf\u001b[39m\u001b[38;5;124m\"\u001b[39m\u001b[38;5;124mIPython won\u001b[39m\u001b[38;5;124m'\u001b[39m\u001b[38;5;124mt let you open fd=\u001b[39m\u001b[38;5;132;01m{\u001b[39;00mfile\u001b[38;5;132;01m}\u001b[39;00m\u001b[38;5;124m by default \u001b[39m\u001b[38;5;124m\"\u001b[39m\n\u001b[0;32m    320\u001b[0m         \u001b[38;5;124m\"\u001b[39m\u001b[38;5;124mas it is likely to crash IPython. If you know what you are doing, \u001b[39m\u001b[38;5;124m\"\u001b[39m\n\u001b[0;32m    321\u001b[0m         \u001b[38;5;124m\"\u001b[39m\u001b[38;5;124myou can use builtins\u001b[39m\u001b[38;5;124m'\u001b[39m\u001b[38;5;124m open.\u001b[39m\u001b[38;5;124m\"\u001b[39m\n\u001b[0;32m    322\u001b[0m     )\n\u001b[1;32m--> 324\u001b[0m \u001b[38;5;28;01mreturn\u001b[39;00m \u001b[43mio_open\u001b[49m\u001b[43m(\u001b[49m\u001b[43mfile\u001b[49m\u001b[43m,\u001b[49m\u001b[43m \u001b[49m\u001b[38;5;241;43m*\u001b[39;49m\u001b[43margs\u001b[49m\u001b[43m,\u001b[49m\u001b[43m \u001b[49m\u001b[38;5;241;43m*\u001b[39;49m\u001b[38;5;241;43m*\u001b[39;49m\u001b[43mkwargs\u001b[49m\u001b[43m)\u001b[49m\n",
            "\u001b[1;31mFileNotFoundError\u001b[0m: [Errno 2] No such file or directory: 'exams.csv'"
          ]
        }
      ],
      "source": [
        "def encrypt(string, dt):\n",
        "        txt = ''\n",
        "        for c in string:\n",
        "            try:\n",
        "                txt += dt[c]\n",
        "            except:\n",
        "                txt += c\n",
        "        return txt\n",
        "#['6g1OBVP nrV$BgV0', '100', '', '100', '', '100', '75', '100', '60', '95', '', '', '', '', '', '', '', '']\n",
        "def nash_avg(arr):\n",
        "    s = 0\n",
        "    count = 0\n",
        "    for i in arr:\n",
        "        try:\n",
        "            s += int(i)\n",
        "            count += 1\n",
        "        except:\n",
        "            pass\n",
        "    return round(s/7), count\n",
        "\n",
        "\n",
        "def count_students(grades, counter):\n",
        "    for i in range(len(grades)):\n",
        "        try:\n",
        "            int(grades[i])\n",
        "            counter[i] += 1\n",
        "        except:\n",
        "            pass\n",
        "\n",
        "\n",
        "from csv import reader\n",
        "fid = open('exams.csv', 'r')\n",
        "csv_reader = reader(fid)\n",
        "header = None\n",
        "result = []\n",
        "for row in csv_reader:\n",
        "    if not header:\n",
        "        header = row[2:]\n",
        "        counter = [0 for i in header]\n",
        "    else:\n",
        "        #print(encrypt(row[1]),  nash_avg(row[2:]))\n",
        "        name = row[1]\n",
        "        if 'Jaina' in name:\n",
        "            print(name)\n",
        "        else:\n",
        "            \n",
        "            result.append( (nash_avg(row[2:]), encrypt(encrypt(row[1], d), d2)))\n",
        "\n",
        "from time import sleep\n",
        "\n",
        "for avg, name in sorted(result)[::-1][:10]:\n",
        "    print(name, avg)\n",
        "\n",
        "# for N in range(1, 60):\n",
        "#     for i in sorted(result)[-N:]:\n",
        "#         #print(i)\n",
        "#         pass\n",
        "#     print('***************\\n\\n')\n",
        "#     n = N*20\n",
        "#     print('putting to pause for = ', n, ' seconds')\n",
        "#     sleep(0)"
      ]
    },
    {
      "cell_type": "code",
      "execution_count": 14,
      "metadata": {},
      "outputs": [
        {
          "name": "stdout",
          "output_type": "stream",
          "text": [
            "09/03/2024 57 78 20 100\n",
            "09/09/2024 51 75 0 100\n",
            "09/11/2024 6 76 50 100\n",
            "09/16/2024 53 56 0 110\n",
            "09/18/2024 53 75 5 105\n",
            "09/23/2024 54 67 0 100\n",
            "09/24/2024 51 61 20 100\n",
            "10/02/2024 49 65 0 100\n"
          ]
        }
      ],
      "source": [
        "\n",
        "def count_students(grades, counter, summa, min, max):\n",
        "    for i in range(len(grades)):\n",
        "        try:\n",
        "            g = int(grades[i])\n",
        "            counter[i] += 1\n",
        "            summa[i] += g\n",
        "            if min[i] > g:\n",
        "                min[i]= g\n",
        "            if max[i] < g:\n",
        "                max[i] = g\n",
        "                \n",
        "        except:\n",
        "            s = 0\n",
        "\n",
        "\n",
        "from csv import reader\n",
        "fid = open('exams.csv', 'r')\n",
        "csv_reader = reader(fid)\n",
        "header = None\n",
        "result = []\n",
        "for row in csv_reader:\n",
        "    if not header:\n",
        "        header = row[2:]\n",
        "        counter = [0 for i in header]\n",
        "        summa = [0 for i in header]\n",
        "        min = [float('+inf') for i in header]\n",
        "        max = [float('-inf') for i in header]\n",
        "    else:\n",
        "        count_students(row[2:], counter, summa, min, max)\n",
        "\n",
        "for date, count,s,mn,mx in zip(header, counter, summa, min, max):\n",
        "    if count > 0:\n",
        "        print(date, count, s//count, mn , mx)"
      ]
    },
    {
      "cell_type": "code",
      "execution_count": 18,
      "metadata": {},
      "outputs": [
        {
          "name": "stdout",
          "output_type": "stream",
          "text": [
            "09/03/2024 5 ['Ismailbek Nurjanov', 'Muhammed Kadirkulov', 'Aknazar Beishaliev', '', '']\n",
            "09/09/2024 11 ['Baystan Jildizbekov', 'Tolonbek Abdibekov', 'Almaz Tutashbaev', 'Shergazi Eraliev', 'Dair Ainakulov', 'Omurbek Seitbekov', 'Muhammed Kadirkulov', 'Aziz Kalmatov', 'Aknazar Beishaliev', '', '']\n",
            "09/11/2024 56 ['Barsbek Umetbaev', 'Jainagul Joodonbek kizi', 'Baystan Jildizbekov', 'Alienora Kurbanbekova', 'Tinchtikbek Rahmatulin', 'Bekbolsun Ismanov', 'Daniial Va-Ahunov', 'Aman Anarbekov', 'Alimhan Seydakmatov', 'Salma Aydralieva', 'Erlan Balabekov', 'Aiatulla Turatbaev', 'Alimbek Mamatjanov', 'Tolonbek Abdibekov', 'Nazima Dildebeka', 'Almaz Tutashbaev', 'Azim Ishenbaev', 'Diaz Kenjetaev', 'Elina Baktigulova', 'Kubanich Kaparov', 'Kutman Melisov', 'Sumaya Nasiridinova', 'Aktan Asanaliev', 'Shergazi Eraliev', 'Adina Tagaeva', 'Nurdin Ismailov', 'Eleonora Asanova', 'Aktanbek Keneshov', 'Azamjan Umarov', 'Gulnura Onolbekova', 'Aiana Cherikova', 'Aiana Tologonova', 'Alaman Risbekov', 'Nasipa Abdiraimova', 'Aktan Mamatjanova', 'Altinbek Tashtanov', 'Dair Ainakulov', 'Talant Mataev', 'Umar Isakov', 'Janishbek Tinibekov', 'Atabek Aitiev', 'Daniar Karimov', 'Erbol Ruslanov', 'Omurbek Seitbekov', 'Almaz Abdimanapov', 'Akbar Sharipov', 'Intimak Almazbek uulu', 'Nurmuhammed Kalmamatov', 'Bekbolsun Kerimov', 'Bermet Arstanalieva', 'Ismailbek Nurjanov', 'Muhammed Kadirkulov', 'Aziz Kalmatov', 'Aknazar Beishaliev', '', '']\n",
            "09/16/2024 9 ['Tinchtikbek Rahmatulin', 'Azim Ishenbaev', 'Nurjigit Nurgaliev', 'Azamjan Umarov', 'Janishbek Tinibekov', 'Muhammed Kadirkulov', 'Aknazar Beishaliev', '', '']\n",
            "09/18/2024 9 ['Nurjigit Nurgaliev', 'Shergazi Eraliev', 'Adina Tagaeva', 'Aiana Tologonova', 'Aktan Mamatjanova', 'Muhammed Kadirkulov', 'Aknazar Beishaliev', '', '']\n",
            "09/23/2024 8 ['Tinchtikbek Rahmatulin', 'Atai Mambetov', 'Nurjigit Nurgaliev', 'Aiana Tologonova', 'Aktan Mamatjanova', 'Bekbolsun Kerimov', '', '']\n",
            "09/24/2024 11 ['Tinchtikbek Rahmatulin', 'Nazima Dildebeka', 'Atai Mambetov', 'Nurjigit Nurgaliev', 'Aktan Mamatjanova', 'Altinbek Tashtanov', 'Umar Isakov', 'Atabek Aitiev', 'Bekbolsun Kerimov', '', '']\n",
            "10/02/2024 13 ['Tinchtikbek Rahmatulin', 'Diaz Kenjetaev', 'Kubanich Kaparov', 'Sumaya Nasiridinova', 'Shergazi Eraliev', 'Nurdin Ismailov', 'Aiana Cherikova', 'Aktan Mamatjanova', 'Bekbolsun Kerimov', 'Muhammed Kadirkulov', 'Aziz Kalmatov', '', '']\n"
          ]
        }
      ],
      "source": [
        "\n",
        "def count_missing(name, grades, missing, count):\n",
        "    for i in range(len(grades)):\n",
        "        try:\n",
        "            int(grades[i])\n",
        "            count[i] += 1\n",
        "        except:\n",
        "            missing[i].append(name)\n",
        "\n",
        "\n",
        "from csv import reader\n",
        "fid = open('exams.csv', 'r')\n",
        "csv_reader = reader(fid)\n",
        "header = None\n",
        "result = []\n",
        "for row in csv_reader:\n",
        "    if not header:\n",
        "        header = row[2:]\n",
        "        counter = [0 for i in header]\n",
        "        missing = [[] for i in header]\n",
        "    else:\n",
        "        count_missing(row[1], row[2:], missing, counter)\n",
        "\n",
        "for date, count, m in zip(header, counter, missing):\n",
        "    if count > 0:\n",
        "        print(date, len(m), m)"
      ]
    },
    {
      "cell_type": "code",
      "execution_count": 18,
      "metadata": {},
      "outputs": [
        {
          "name": "stdout",
          "output_type": "stream",
          "text": [
            "29\n",
            "nurjigit 65\n",
            "azam 58\n",
            "aziz 55\n",
            "aktanbek keneshov 80\n",
            "diaz 73\n",
            "barsbek 90\n",
            "salma 75\n",
            "atai 65\n",
            "aktan 90\n",
            "nasipa 55\n",
            "alimhan 65\n",
            "adina 72\n",
            "kutman 52\n",
            "bekbolsun kerimov 88\n",
            "omurbek 78\n",
            "yntymak 75\n",
            "nazima 37\n",
            "bermet 47\n",
            "jayna 34\n",
            "ela 68\n",
            "ismail 87\n",
            "altynbek 59\n",
            "elina 53\n",
            "aliya 31\n",
            "azim 70\n",
            "nurtilek 54\n",
            "kutman duyshonov 65\n",
            "ayana 74\n",
            "tynchtyk 82\n"
          ]
        }
      ],
      "source": [
        "from random import randint, shuffle\n",
        "names = ['aktan', 'barsbek', 'aziz', 'kutman', 'alimhan', \n",
        "             'kutman duyshonov', 'aktanbek keneshov', 'altynbek', 'aliya', 'elina', \n",
        "             'adina', 'tynchtyk', 'yntymak', 'nurtilek', 'azim', \n",
        "             'atai', 'ismail', 'omurbek', 'nurjigit', 'nazima', 'jayna',\n",
        "              'nasipa', 'salma', 'azam', 'bermet', 'ayana', 'ela', 'bekbolsun kerimov', 'diaz'] \n",
        "\n",
        "shuffle(names)\n",
        "\n",
        "print(len(names))\n",
        "n = randint(0,20)\n",
        "from time import sleep\n",
        "\n",
        "for name in names:\n",
        "    print(name, randint(10+n, 110-n))"
      ]
    },
    {
      "cell_type": "code",
      "execution_count": 11,
      "metadata": {},
      "outputs": [
        {
          "name": "stdout",
          "output_type": "stream",
          "text": [
            "55.86206896551724\n"
          ]
        }
      ],
      "source": [
        "s = '''aktan 28\n",
        "barsbek 72\n",
        "aziz 23\n",
        "kutman 36\n",
        "alimhan 31\n",
        "kutman duyshonov 21\n",
        "aktanbek keneshov 94\n",
        "altynbek 77\n",
        "aliya 86\n",
        "elina 48\n",
        "adina 59\n",
        "tynchtyk 54\n",
        "yntymak 45\n",
        "nurtilek 75\n",
        "azim 91\n",
        "atai 105\n",
        "ismail 11\n",
        "omurbek 17\n",
        "nurjigit 24\n",
        "nazima 82\n",
        "jayna 71\n",
        "nasipa 17\n",
        "salma 96\n",
        "azam 53\n",
        "bermet 68\n",
        "ayana 107\n",
        "ela 30\n",
        "bekbolsun kerimov 32\n",
        "diaz 67'''\n",
        "\n",
        "s = s.split('\\n')\n",
        "sum = 0\n",
        "count= 0\n",
        "for i in s:\n",
        "    x = i.split()\n",
        "    if len(x) == 3:\n",
        "        sum += int(x[2])\n",
        "    else:\n",
        "        sum += int(x[1])\n",
        "    count += 1\n",
        "\n",
        "print(sum / count)"
      ]
    },
    {
      "cell_type": "code",
      "execution_count": 20,
      "metadata": {},
      "outputs": [
        {
          "name": "stdout",
          "output_type": "stream",
          "text": [
            "average =  50.0007561\n",
            "98165 99681\n",
            "1.5208515163371155\n",
            "[99217, 99152, 99212, 98978, 98655, 98855, 98974, 99062, 99179, 99384, 98916, 99057, 98558, 98838, 99503, 98610, 98820, 98925, 99454, 99083, 98661, 99170, 98165, 99035, 99234, 98939, 98764, 98898, 98710, 98941, 98783, 98746, 99059, 99084, 98822, 99050, 98593, 98950, 98918, 99047, 99112, 99588, 99444, 99048, 98864, 99252, 99241, 98701, 99214, 99247, 99103, 98654, 99029, 99537, 99177, 99100, 99182, 99538, 99066, 99275, 98497, 99148, 99681, 98979, 98165, 99143, 99098, 99036, 99187, 99109, 98997, 98919, 99387, 99396, 99232, 99080, 98748, 99546, 99337, 98413, 98784, 98954, 98419, 98653, 99391, 99229, 98541, 98705, 99185, 98804, 99381, 98734, 99167, 98545, 98722, 99280, 99645, 99366, 98748, 98448, 98828]\n"
          ]
        }
      ],
      "source": [
        "from random import randint\n",
        "s = 0\n",
        "N = 10000000\n",
        "arr = [0]*101\n",
        "for i in range(N):\n",
        "    index = randint(0, 100)\n",
        "    arr[index] += 1\n",
        "    s += index\n",
        "\n",
        "print('average = ', s / N)\n",
        "print(min(arr), max(arr))\n",
        "print((max(arr) - min(arr))/max(arr)*100)\n",
        "print(arr)\n",
        "\n",
        "\n"
      ]
    },
    {
      "cell_type": "code",
      "execution_count": 19,
      "metadata": {},
      "outputs": [
        {
          "data": {
            "text/plain": [
              "20"
            ]
          },
          "execution_count": 19,
          "metadata": {},
          "output_type": "execute_result"
        }
      ],
      "source": [
        "n"
      ]
    },
    {
      "cell_type": "code",
      "execution_count": 20,
      "metadata": {},
      "outputs": [
        {
          "name": "stdout",
          "output_type": "stream",
          "text": [
            "65.41379310344827\n"
          ]
        }
      ],
      "source": [
        "s = '''nurjigit 65\n",
        "azam 58\n",
        "aziz 55\n",
        "aktanbek keneshov 80\n",
        "diaz 73\n",
        "barsbek 90\n",
        "salma 75\n",
        "atai 65\n",
        "aktan 90\n",
        "nasipa 55\n",
        "alimhan 65\n",
        "adina 72\n",
        "kutman 52\n",
        "bekbolsun kerimov 88\n",
        "omurbek 78\n",
        "yntymak 75\n",
        "nazima 37\n",
        "bermet 47\n",
        "jayna 34\n",
        "ela 68\n",
        "ismail 87\n",
        "altynbek 59\n",
        "elina 53\n",
        "aliya 31\n",
        "azim 70\n",
        "nurtilek 54\n",
        "kutman duyshonov 65\n",
        "ayana 74\n",
        "tynchtyk 82'''\n",
        "\n",
        "s = s.split('\\n')\n",
        "sum = 0\n",
        "count= 0\n",
        "for i in s:\n",
        "    x = i.split()\n",
        "    if len(x) == 3:\n",
        "        sum += int(x[2])\n",
        "    else:\n",
        "        sum += int(x[1])\n",
        "    count += 1\n",
        "\n",
        "print(sum / count)"
      ]
    },
    {
      "cell_type": "code",
      "execution_count": null,
      "metadata": {},
      "outputs": [],
      "source": [
        "from csv import reader\n",
        "reader1 = reader(open('sales.csv'))\n",
        "next(reader1)\n",
        "sales_arr = [i for i in reader1]\n",
        "\n",
        "reader2 = reader(open('purchase.csv'))\n",
        "next(reader2)\n",
        "next(reader2)\n",
        "\n",
        "purchase_d = {}\n",
        "for name, price in reader2:\n",
        "    purchase_d[name] = price\n",
        "\n",
        "\n",
        "# what is the total profit\n",
        "def get_total():\n",
        "    s = 0\n",
        "    for date, name, price in sales_arr:\n",
        "        s += price - purchase_d[name]\n",
        "    return s\n",
        "\n",
        "# most profitable item\n",
        "def most_profit_item():\n",
        "    d = {}\n",
        "    for date, name, price in sales_arr:\n",
        "        d[name] = d.get(name, 0) + (price - purchase_d[name])\n",
        "    return max([(value, key) for key, value in d.items()])\n",
        "\n",
        "# most profitable mohth\n",
        "def most_profit_item():\n",
        "    d = {}\n",
        "    for date, name, price in sales_arr:\n",
        "        month = date.split('/')[1]\n",
        "        d[month] = d.get(month, 0) + (price - purchase_d[name])\n",
        "    return max([(value, key) for key, value in d.items()])\n",
        "\n",
        "\n",
        "# total count in last six month\n",
        "def last_six_month(six_month = '20240421'):\n",
        "    count = 0\n",
        "    for date, name, price in sales_arr:\n",
        "        day, month, year = date.split('/')\n",
        "        date = '20' + year + month + day\n",
        "        if date > six_month:\n",
        "            count += 1 \n",
        "    return count\n",
        "\n",
        "\n"
      ]
    },
    {
      "cell_type": "code",
      "execution_count": null,
      "metadata": {},
      "outputs": [],
      "source": []
    }
  ],
  "metadata": {
    "kernelspec": {
      "display_name": "Python 3",
      "language": "python",
      "name": "python3"
    },
    "language_info": {
      "codemirror_mode": {
        "name": "ipython",
        "version": 3
      },
      "file_extension": ".py",
      "mimetype": "text/x-python",
      "name": "python",
      "nbconvert_exporter": "python",
      "pygments_lexer": "ipython3",
      "version": "3.11.9"
    }
  },
  "nbformat": 4,
  "nbformat_minor": 4
}
