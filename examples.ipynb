{
 "cells": [
  {
   "cell_type": "code",
   "execution_count": 14,
   "metadata": {},
   "outputs": [
    {
     "name": "stdout",
     "output_type": "stream",
     "text": [
      "a =  10\n"
     ]
    }
   ],
   "source": [
    "a = 10\n",
    "print('a = ', a)"
   ]
  },
  {
   "cell_type": "code",
   "execution_count": 15,
   "metadata": {},
   "outputs": [
    {
     "name": "stdout",
     "output_type": "stream",
     "text": [
      "emilemilemilemilemilemilemilemilemilemil\n"
     ]
    }
   ],
   "source": [
    "a = 'emil'\n",
    "b = 10\n",
    "print(a * b)"
   ]
  },
  {
   "cell_type": "code",
   "execution_count": 16,
   "metadata": {},
   "outputs": [
    {
     "name": "stdout",
     "output_type": "stream",
     "text": [
      "emilemilemilemilemilemilemilemilemilemil\n"
     ]
    }
   ],
   "source": [
    "print(b * a)"
   ]
  },
  {
   "cell_type": "code",
   "execution_count": 17,
   "metadata": {},
   "outputs": [],
   "source": [
    "emil = 10\n",
    "emil0 = 20"
   ]
  },
  {
   "cell_type": "code",
   "execution_count": 18,
   "metadata": {},
   "outputs": [
    {
     "name": "stdout",
     "output_type": "stream",
     "text": [
      "emil\n"
     ]
    }
   ],
   "source": [
    "print('emil')\n",
    "#print(emil + emil2)"
   ]
  },
  {
   "cell_type": "code",
   "execution_count": 19,
   "metadata": {},
   "outputs": [
    {
     "ename": "NameError",
     "evalue": "name 'emil2' is not defined",
     "output_type": "error",
     "traceback": [
      "\u001b[1;31m---------------------------------------------------------------------------\u001b[0m",
      "\u001b[1;31mNameError\u001b[0m                                 Traceback (most recent call last)",
      "Cell \u001b[1;32mIn[19], line 1\u001b[0m\n\u001b[1;32m----> 1\u001b[0m \u001b[38;5;28mprint\u001b[39m(emil \u001b[38;5;241m+\u001b[39m \u001b[43memil2\u001b[49m)\n",
      "\u001b[1;31mNameError\u001b[0m: name 'emil2' is not defined"
     ]
    }
   ],
   "source": [
    "print(emil + emil2)"
   ]
  },
  {
   "cell_type": "code",
   "execution_count": 8,
   "metadata": {},
   "outputs": [
    {
     "name": "stdout",
     "output_type": "stream",
     "text": [
      "20\n"
     ]
    }
   ],
   "source": [
    "print(b + emil)"
   ]
  },
  {
   "cell_type": "code",
   "execution_count": 9,
   "metadata": {},
   "outputs": [
    {
     "data": {
      "text/plain": [
       "'emil'"
      ]
     },
     "execution_count": 9,
     "metadata": {},
     "output_type": "execute_result"
    }
   ],
   "source": [
    "a"
   ]
  },
  {
   "cell_type": "code",
   "execution_count": 10,
   "metadata": {},
   "outputs": [
    {
     "data": {
      "text/plain": [
       "10"
      ]
     },
     "execution_count": 10,
     "metadata": {},
     "output_type": "execute_result"
    }
   ],
   "source": [
    "emil"
   ]
  },
  {
   "cell_type": "code",
   "execution_count": 11,
   "metadata": {},
   "outputs": [
    {
     "ename": "TypeError",
     "evalue": "can only concatenate str (not \"int\") to str",
     "output_type": "error",
     "traceback": [
      "\u001b[1;31m---------------------------------------------------------------------------\u001b[0m",
      "\u001b[1;31mTypeError\u001b[0m                                 Traceback (most recent call last)",
      "Cell \u001b[1;32mIn[11], line 1\u001b[0m\n\u001b[1;32m----> 1\u001b[0m \u001b[38;5;28mprint\u001b[39m(a, emil, \u001b[43ma\u001b[49m\u001b[43m \u001b[49m\u001b[38;5;241;43m+\u001b[39;49m\u001b[43m \u001b[49m\u001b[43memil\u001b[49m)\n",
      "\u001b[1;31mTypeError\u001b[0m: can only concatenate str (not \"int\") to str"
     ]
    }
   ],
   "source": [
    "print(a, emil, a + emil)"
   ]
  },
  {
   "cell_type": "code",
   "execution_count": 91,
   "metadata": {},
   "outputs": [
    {
     "name": "stdout",
     "output_type": "stream",
     "text": [
      "10 <class 'int'>\n",
      "emil <class 'str'>\n"
     ]
    }
   ],
   "source": [
    "#print(sm, type(sm))\n",
    "sm = 10\n",
    "print(sm, type(sm))\n",
    "sm = 'emil'\n",
    "print(sm, type(sm))"
   ]
  },
  {
   "cell_type": "code",
   "execution_count": 16,
   "metadata": {},
   "outputs": [
    {
     "name": "stdout",
     "output_type": "stream",
     "text": [
      "c\n"
     ]
    }
   ],
   "source": [
    "print(a[-1])"
   ]
  },
  {
   "cell_type": "code",
   "execution_count": 17,
   "metadata": {},
   "outputs": [
    {
     "name": "stdout",
     "output_type": "stream",
     "text": [
      "7\n"
     ]
    }
   ],
   "source": [
    "a = 'student'\n",
    "print(len(a))"
   ]
  },
  {
   "cell_type": "code",
   "execution_count": 18,
   "metadata": {},
   "outputs": [
    {
     "ename": "IndexError",
     "evalue": "string index out of range",
     "output_type": "error",
     "traceback": [
      "\u001b[1;31m---------------------------------------------------------------------------\u001b[0m",
      "\u001b[1;31mIndexError\u001b[0m                                Traceback (most recent call last)",
      "Cell \u001b[1;32mIn[18], line 1\u001b[0m\n\u001b[1;32m----> 1\u001b[0m \u001b[38;5;28mprint\u001b[39m(\u001b[43ma\u001b[49m\u001b[43m[\u001b[49m\u001b[38;5;241;43m7\u001b[39;49m\u001b[43m]\u001b[49m)\n",
      "\u001b[1;31mIndexError\u001b[0m: string index out of range"
     ]
    }
   ],
   "source": [
    "print(a[7])"
   ]
  },
  {
   "cell_type": "code",
   "execution_count": 28,
   "metadata": {},
   "outputs": [
    {
     "ename": "TypeError",
     "evalue": "string indices must be integers, not 'float'",
     "output_type": "error",
     "traceback": [
      "\u001b[1;31m---------------------------------------------------------------------------\u001b[0m",
      "\u001b[1;31mTypeError\u001b[0m                                 Traceback (most recent call last)",
      "Cell \u001b[1;32mIn[28], line 2\u001b[0m\n\u001b[0;32m      1\u001b[0m a \u001b[38;5;241m=\u001b[39m \u001b[38;5;124m'\u001b[39m\u001b[38;5;124mstudentbek\u001b[39m\u001b[38;5;124m'\u001b[39m\n\u001b[1;32m----> 2\u001b[0m \u001b[38;5;28mprint\u001b[39m(\u001b[43ma\u001b[49m\u001b[43m[\u001b[49m\u001b[38;5;28;43mlen\u001b[39;49m\u001b[43m(\u001b[49m\u001b[43ma\u001b[49m\u001b[43m)\u001b[49m\u001b[38;5;241;43m/\u001b[39;49m\u001b[38;5;241;43m2\u001b[39;49m\u001b[43m]\u001b[49m)\n\u001b[0;32m      3\u001b[0m \u001b[38;5;66;03m#print('last character = ', a[len(a) - 1])\u001b[39;00m\n",
      "\u001b[1;31mTypeError\u001b[0m: string indices must be integers, not 'float'"
     ]
    }
   ],
   "source": [
    "a = 'studentbek'\n",
    "print(a[len(a)/2])\n",
    "#print('last character = ', a[len(a) - 1])"
   ]
  },
  {
   "cell_type": "code",
   "execution_count": 31,
   "metadata": {},
   "outputs": [
    {
     "name": "stdout",
     "output_type": "stream",
     "text": [
      "5.5 5 5\n"
     ]
    }
   ],
   "source": [
    "print( 11 / 2, 11 // 2, int(11 / 2))"
   ]
  },
  {
   "cell_type": "code",
   "execution_count": 35,
   "metadata": {},
   "outputs": [
    {
     "name": "stdout",
     "output_type": "stream",
     "text": [
      "10\n"
     ]
    }
   ],
   "source": [
    "print(round(10.50))"
   ]
  },
  {
   "cell_type": "code",
   "execution_count": 39,
   "metadata": {},
   "outputs": [
    {
     "name": "stdout",
     "output_type": "stream",
     "text": [
      "xxxxxxxxxx\n"
     ]
    }
   ],
   "source": [
    "if 10 < 2:\n",
    " print('pravilno')\n",
    "else:\n",
    "    a = 10\n",
    "    print('x' * 10)"
   ]
  },
  {
   "cell_type": "code",
   "execution_count": 44,
   "metadata": {},
   "outputs": [
    {
     "name": "stdout",
     "output_type": "stream",
     "text": [
      "ploho\n",
      "40.0\n"
     ]
    }
   ],
   "source": [
    "student1 = 10\n",
    "student2 = 10\n",
    "student3 = 100\n",
    "\n",
    "r = (student1 + student2 + student3) / 3\n",
    "\n",
    "if r >= 70:\n",
    "    print('horosho')\n",
    "else:\n",
    "    print('ploho')\n",
    "\n",
    "print(r)\n"
   ]
  },
  {
   "cell_type": "code",
   "execution_count": 81,
   "metadata": {},
   "outputs": [],
   "source": []
  },
  {
   "cell_type": "code",
   "execution_count": 84,
   "metadata": {},
   "outputs": [
    {
     "name": "stdout",
     "output_type": "stream",
     "text": [
      "summa =  -3\n",
      "exam is today\n"
     ]
    }
   ],
   "source": [
    "# proveryayem summu studentov\n",
    "s1, s2, s3, s4, s5, s6, s7, s8, s9, s10 = 1, 1, 1, 1, 1, 1, 1, -10, 0, 0\n",
    "summa = s1 + s2 + s3 + s4 + s5 + s6 + s7 + s8 + s9 + s10\n",
    "print('summa = ', summa)\n",
    "if s1 > 1 or s2 > 1 or s3 > 1 or s4 > 1 or s5 > 1 or s6 > 1 or s7 > 1 or s8 > 1 or s9 > 1 or s10 > 1:\n",
    "    print('julnichuyut odin ili bolshe studentov pdnyal(i) dve ruki')\n",
    "elif summa > 10:\n",
    "    print('julnichuyut')\n",
    "elif summa == 10:\n",
    "    print('No exam')\n",
    "elif summa < 10 and summa >= 8:\n",
    "    print('exam is tomorrow')\n",
    "elif summa >= 5 and summa < 8:\n",
    "    print('exam is day after tomorrow')\n",
    "else: \n",
    "    print('exam is today') "
   ]
  },
  {
   "cell_type": "code",
   "execution_count": 92,
   "metadata": {},
   "outputs": [
    {
     "name": "stdout",
     "output_type": "stream",
     "text": [
      "not normal\n",
      "not normal\n"
     ]
    }
   ],
   "source": [
    "# napishi programmu kotoriy proverit s odin ili nol\n",
    "s = -1\n",
    "if s >= 0 and s <= 1:\n",
    "    print('normal')\n",
    "elif s < 0:\n",
    "    print('not normal')\n",
    "\n",
    "\n",
    "## secon version\n",
    "if s == 1 or s == 0:\n",
    "    print('normal')\n",
    "else:\n",
    "    print('not normal')"
   ]
  },
  {
   "cell_type": "code",
   "execution_count": 102,
   "metadata": {},
   "outputs": [],
   "source": [
    "def y(p, x): \n",
    "    return p * p + 5 - p*x"
   ]
  },
  {
   "cell_type": "code",
   "execution_count": 103,
   "metadata": {},
   "outputs": [
    {
     "name": "stdout",
     "output_type": "stream",
     "text": [
      "11\n",
      "95\n",
      "39805\n"
     ]
    }
   ],
   "source": [
    "print( 3 * 3 + 5 - 3)\n",
    "print( 10 * 10 + 5 - 10)\n",
    "print( 200 * 200 + 5 - 200)\n"
   ]
  },
  {
   "cell_type": "code",
   "execution_count": 107,
   "metadata": {},
   "outputs": [],
   "source": [
    "def isFirstMinimum(s1, s2, s3, s4):\n",
    "    if s1 <= s2 and s1 <= s3 and s1 <= s4:\n",
    "        return True\n",
    "    else:\n",
    "        return False\n",
    "\n",
    "\n",
    "def getMin2(s1, s2, s3, s4):\n",
    "    if s1 >= s2 and s1 >= s3 and s1 >= s4:\n",
    "        print(s1)\n",
    "    elif s2 > s1 and s2 > s3 and s2 > s4:\n",
    "        print(s2)\n",
    "    elif s3 > s1 and s3 > s2 and s3 > s4:\n",
    "        print(s3)\n",
    "    else:\n",
    "        print(s4)\n",
    "\n",
    "\n",
    "def getMinValue(s1, s2, s3, s4):\n",
    "    if isFirstMinimum(s1, s2, s3, s4):\n",
    "        print(s1)\n",
    "    elif isFirstMinimum(s2, s1, s3, s4):\n",
    "        print(s2)\n",
    "    elif isFirstMinimum(s3, s1, s4, s2):\n",
    "        print(s3)\n",
    "    else:\n",
    "        print(s4)\n",
    "\n"
   ]
  },
  {
   "cell_type": "code",
   "execution_count": 108,
   "metadata": {},
   "outputs": [
    {
     "name": "stdout",
     "output_type": "stream",
     "text": [
      "1\n",
      "None\n"
     ]
    }
   ],
   "source": [
    "print(getMinValue(5, 7, 13, 1))"
   ]
  },
  {
   "cell_type": "code",
   "execution_count": 115,
   "metadata": {},
   "outputs": [
    {
     "name": "stdout",
     "output_type": "stream",
     "text": [
      "s1 type = <class 'str'>, 10, s2 type = <class 'str'>, 20.2, s1 + s2 =  1020.2\n",
      "s1 type = <class 'float'>, 10.0, s2 type = <class 'float'>, 20.2, s1 + s2 =  30.2\n"
     ]
    }
   ],
   "source": [
    "def myprint(s1, s2):\n",
    "    print(f's1 type = {type(s1)}, {s1}, s2 type = {type(s2)}, {s2}, s1 + s2 = ', s1 + s2)\n",
    "\n",
    "s1 = \"10\"\n",
    "s2 = \"20.2\"\n",
    "myprint(s1, s2)\n",
    "s1 = float(s1)\n",
    "s2 = float(s2)\n",
    "myprint(s1, s2)\n"
   ]
  },
  {
   "cell_type": "code",
   "execution_count": 120,
   "metadata": {},
   "outputs": [
    {
     "name": "stdout",
     "output_type": "stream",
     "text": [
      "50\n"
     ]
    }
   ],
   "source": [
    "def abcd(a, b):\n",
    "    if a > b:\n",
    "        return a\n",
    "    else:\n",
    "        return b\n"
   ]
  },
  {
   "cell_type": "code",
   "execution_count": 126,
   "metadata": {},
   "outputs": [
    {
     "name": "stdout",
     "output_type": "stream",
     "text": [
      "[1, 2, 3, 5, 100, 6, 2]\n",
      "min value is :  1\n"
     ]
    }
   ],
   "source": [
    "arr = [1, 2, 3, 5, 0, 6, 2]\n",
    "arr[4] = 100\n",
    "m = arr[0]\n",
    "for i in arr: \n",
    "    if i < m:\n",
    "        m = i\n",
    "print(arr)\n",
    "print('min value is : ', m)"
   ]
  },
  {
   "cell_type": "code",
   "execution_count": 130,
   "metadata": {},
   "outputs": [
    {
     "name": "stdout",
     "output_type": "stream",
     "text": [
      "emil\n",
      "['x', 'm', 'i', 'l']\n",
      "x\n",
      "m\n",
      "i\n",
      "l\n"
     ]
    }
   ],
   "source": [
    "s = 'emil'\n",
    "print(s)\n",
    "s = list(s)\n",
    "s[0] = 'x'\n",
    "print(s)\n",
    "for i in s:\n",
    "    print(i)"
   ]
  },
  {
   "cell_type": "code",
   "execution_count": 134,
   "metadata": {},
   "outputs": [
    {
     "name": "stdout",
     "output_type": "stream",
     "text": [
      "sum =  14\n",
      "count =  6\n",
      "average =  2.3333333333333335\n"
     ]
    }
   ],
   "source": [
    "arr = [1, 3, 4, 9, 0, -3]\n",
    "n = 0; \n",
    "c = 0\n",
    "for i in arr:\n",
    "    n += i\n",
    "    c += 1\n",
    "print('sum = ', n)\n",
    "print('count = ', c)\n",
    "print(\"average = \", n / c)  "
   ]
  },
  {
   "cell_type": "code",
   "execution_count": 141,
   "metadata": {},
   "outputs": [
    {
     "name": "stdout",
     "output_type": "stream",
     "text": [
      "True\n"
     ]
    }
   ],
   "source": [
    "arr = [1, 3, 4, 5, 9, 0, -3]\n",
    "x = False\n",
    "for p in arr:\n",
    "    x = x or p == 5\n",
    "print(x)"
   ]
  },
  {
   "cell_type": "code",
   "execution_count": 149,
   "metadata": {},
   "outputs": [
    {
     "name": "stdout",
     "output_type": "stream",
     "text": [
      "False\n"
     ]
    }
   ],
   "source": [
    "def exist(arr, t):\n",
    "    for i in arr:\n",
    "        if i == t:\n",
    "            return True\n",
    "    return False\n",
    "\n",
    "print(exist(arr, 5))"
   ]
  },
  {
   "cell_type": "code",
   "execution_count": 151,
   "metadata": {},
   "outputs": [
    {
     "name": "stdout",
     "output_type": "stream",
     "text": [
      "0\n"
     ]
    }
   ],
   "source": [
    "p = 0\n",
    "for i in arr:\n",
    "    if i == 5:\n",
    "        p += 1\n",
    "if p > 0:\n",
    "    print(p)\n",
    "else:\n",
    "    print(p)"
   ]
  },
  {
   "cell_type": "code",
   "execution_count": 155,
   "metadata": {},
   "outputs": [
    {
     "name": "stdout",
     "output_type": "stream",
     "text": [
      "0 1 0 1\n",
      "0 1 1 1\n",
      "0 1 2 1\n",
      "0 1 3 1\n",
      "0 1 4 1\n",
      "0 1 5 1\n",
      "1 9 0 9\n",
      "1 9 1 9\n",
      "1 9 2 9\n",
      "1 9 3 9\n",
      "1 9 4 9\n",
      "1 9 5 9\n",
      "2 0 0 0\n",
      "2 0 1 0\n",
      "2 0 2 0\n",
      "2 0 3 0\n",
      "2 0 4 0\n",
      "2 0 5 0\n",
      "3 2 0 2\n",
      "3 2 1 2\n",
      "3 2 2 2\n",
      "3 2 3 2\n",
      "3 2 4 2\n",
      "3 2 5 2\n",
      "4 3 0 3\n",
      "4 3 1 3\n",
      "4 3 2 3\n",
      "4 3 3 3\n",
      "4 3 4 3\n",
      "4 3 5 3\n",
      "5 6 0 6\n",
      "5 6 1 6\n",
      "5 6 2 6\n",
      "5 6 3 6\n",
      "5 6 4 6\n",
      "5 6 5 6\n"
     ]
    }
   ],
   "source": [
    " arr = [1, 9, 0, 2, 3, 6] \n",
    "\n",
    " for index1, i in enumerate(arr):\n",
    "    for index2, j in enumerate(arr):\n",
    "        print(index1, i, index2, i)\n",
    "        # if i + j == 18 and index1 != index2:\n",
    "        #     print(i, j, True)"
   ]
  },
  {
   "cell_type": "code",
   "execution_count": 157,
   "metadata": {},
   "outputs": [
    {
     "name": "stdout",
     "output_type": "stream",
     "text": [
      "[1, 9, 0, 2, 3, 6]\n",
      "0 1\n",
      "1 9\n",
      "2 0\n",
      "3 2\n",
      "4 3\n",
      "5 6\n"
     ]
    }
   ],
   "source": [
    "print(arr)\n",
    "for x, i in enumerate(arr):\n",
    "    print(x, i)"
   ]
  },
  {
   "cell_type": "code",
   "execution_count": 2,
   "metadata": {},
   "outputs": [],
   "source": [
    "### 11 / 09 / 2024"
   ]
  },
  {
   "cell_type": "code",
   "execution_count": 4,
   "metadata": {},
   "outputs": [
    {
     "name": "stdout",
     "output_type": "stream",
     "text": [
      "[1, 2, 0, 7, 2, 1]\n",
      "summa =  13\n"
     ]
    }
   ],
   "source": [
    "arr = [1, 2, 0, 7, 2, 1]\n",
    "\n",
    "s = 0\n",
    "for i in arr:\n",
    "    s += i\n",
    "print(arr)\n",
    "print('summa = ', s)"
   ]
  },
  {
   "cell_type": "code",
   "execution_count": 5,
   "metadata": {},
   "outputs": [
    {
     "name": "stdout",
     "output_type": "stream",
     "text": [
      "[1, 2, 0, 7, 2, 1]\n",
      "minimum value in an array =  0\n"
     ]
    }
   ],
   "source": [
    "m = arr[0]\n",
    "for i in arr:\n",
    "    if m > i:\n",
    "        m = i\n",
    "print(arr)\n",
    "print('minimum value in an array = ', m)"
   ]
  },
  {
   "cell_type": "code",
   "execution_count": 9,
   "metadata": {},
   "outputs": [
    {
     "name": "stdout",
     "output_type": "stream",
     "text": [
      "n =  0  ->  Atai\n",
      "after n =  1\n",
      "n =  1  ->  Alim\n",
      "after n =  2\n",
      "n =  2  ->  Tynchtyk\n",
      "after n =  3\n",
      "n =  3  ->  Nur\n",
      "after n =  4\n",
      "n =  4  ->  Samat\n",
      "after n =  5\n",
      "n =  5  ->  Atabek\n",
      "after n =  6\n",
      "['Atai', 'Alim', 'Tynchtyk', 'Nur', 'Samat', 'Atabek'] 7\n",
      "ne vse tut, missin =  1\n"
     ]
    }
   ],
   "source": [
    "arr = ['Atai', 'Alim', 'Tynchtyk', 'Nur', 'Samat', 'Atabek']\n",
    "N = 7\n",
    "\n",
    "n = 0\n",
    "for i in arr:\n",
    "    print('n = ', n, ' -> ', i)\n",
    "    n += 1\n",
    "    print('after n = ', n)\n",
    "\n",
    "print(arr, N)\n",
    "if n == N:\n",
    "    print('vse tut')\n",
    "elif n < N:\n",
    "    print('ne vse tut, missin = ', N - n)\n",
    "elif n > N:\n",
    "    print('bolshe ludey na = ', n - N)\n"
   ]
  },
  {
   "cell_type": "code",
   "execution_count": 45,
   "metadata": {},
   "outputs": [
    {
     "name": "stdout",
     "output_type": "stream",
     "text": [
      "1  random number =  8\n",
      "2  random number =  58\n",
      "3  random number =  32\n"
     ]
    }
   ],
   "source": [
    "from random import randint\n",
    "for i in range(3):\n",
    "    print(i+1, ' random number = ', randint(1, 60))\n"
   ]
  },
  {
   "cell_type": "code",
   "execution_count": 15,
   "metadata": {},
   "outputs": [
    {
     "name": "stdout",
     "output_type": "stream",
     "text": [
      "Nurbek  est v massive =  False\n",
      "Nurbek  bar massivde =  False\n"
     ]
    }
   ],
   "source": [
    "arr = ['Atai', 'Alim', 'Tynchtyk', 'Nur', 'Samat', 'Atabek']\n",
    "name = 'Nurbek'\n",
    "jokeyy = False\n",
    "\n",
    "for imya in arr:\n",
    "    jokeyy = jokeyy or name == imya\n",
    "\n",
    "print(name, ' est v massive = ', jokeyy)\n",
    "\n",
    "result = False\n",
    "for imya in arr:\n",
    "    if imya == name:\n",
    "        result = True\n",
    "print(name, ' bar massivde = ', result)"
   ]
  },
  {
   "cell_type": "code",
   "execution_count": 17,
   "metadata": {},
   "outputs": [
    {
     "name": "stdout",
     "output_type": "stream",
     "text": [
      "['Atai', 'Alim', 'Tynchtyk', 'Nur', 'Samat', 'Atabek']\n",
      "Tynchtyk\n"
     ]
    }
   ],
   "source": [
    "arr = ['Atai', 'Alim', 'Tynchtyk', 'Nur', 'Samat', 'Atabek']\n",
    "n = arr[0]\n",
    "for i in arr:\n",
    "    if i > n:\n",
    "        n = i\n",
    "print(arr)\n",
    "print(n)"
   ]
  },
  {
   "cell_type": "code",
   "execution_count": 19,
   "metadata": {},
   "outputs": [
    {
     "name": "stdout",
     "output_type": "stream",
     "text": [
      "Atabek\n"
     ]
    }
   ],
   "source": [
    "arr = ['Atai', 'Atalim', 'Tynchtyk', 'Nur', 'Samat', 'Atabek']\n",
    "\n",
    "n = arr[0]\n",
    "for i in arr:\n",
    "    if i < n:\n",
    "        n = i\n",
    "print(n)"
   ]
  },
  {
   "cell_type": "code",
   "execution_count": 25,
   "metadata": {},
   "outputs": [
    {
     "name": "stdout",
     "output_type": "stream",
     "text": [
      "longest name =  Atabekov\n",
      "Atalimba\n",
      "Tynchtyk\n",
      "Atabekov\n"
     ]
    }
   ],
   "source": [
    "arr = ['Atai', 'Atalimba', 'Tynchtyk', 'Nur', 'Samat', 'Atabekov']\n",
    "n = arr[0]\n",
    "for i in arr:\n",
    "    if len(i) >= len(n):\n",
    "        n = i\n",
    "print('longest name = ', n)\n",
    "\n",
    "for i in arr:\n",
    "    if len(i) == len(n):\n",
    "        print(i)\n",
    "\n"
   ]
  },
  {
   "cell_type": "code",
   "execution_count": 26,
   "metadata": {},
   "outputs": [
    {
     "name": "stdout",
     "output_type": "stream",
     "text": [
      "['Atalimba', 'Tynchtyk', 'Atabekov']\n"
     ]
    }
   ],
   "source": [
    "print([i for i in arr if len(i) == max([len(j) for j in arr])])"
   ]
  },
  {
   "cell_type": "code",
   "execution_count": 40,
   "metadata": {},
   "outputs": [
    {
     "name": "stdout",
     "output_type": "stream",
     "text": [
      "[9, 8, 5, 3, 2, 1]\n"
     ]
    }
   ],
   "source": [
    "arr = [1, 2, 3, 5, 8, 9]\n",
    "\n",
    "print(arr[len(arr) - 1 : :-1])"
   ]
  },
  {
   "cell_type": "code",
   "execution_count": 41,
   "metadata": {},
   "outputs": [
    {
     "name": "stdout",
     "output_type": "stream",
     "text": [
      "[5, 8, 9]\n"
     ]
    }
   ],
   "source": [
    "print(arr[3:])"
   ]
  },
  {
   "cell_type": "code",
   "execution_count": 42,
   "metadata": {},
   "outputs": [
    {
     "name": "stdout",
     "output_type": "stream",
     "text": [
      "[1, 2, 3, 5]\n"
     ]
    }
   ],
   "source": [
    "print(arr[:4])"
   ]
  },
  {
   "cell_type": "code",
   "execution_count": 49,
   "metadata": {},
   "outputs": [
    {
     "name": "stdout",
     "output_type": "stream",
     "text": [
      "min = -10, max = -1, difference = 9\n"
     ]
    }
   ],
   "source": [
    "arr = [-1, -2, -3, -5, -10, -8, -2]\n",
    "min = arr[0]\n",
    "max = arr[0]\n",
    "for i in arr:\n",
    "    if min > i:\n",
    "        min = i\n",
    "    if max < i:\n",
    "        max = i\n",
    "\n",
    "print(f'min = {min}, max = {max}, difference = {max - min}')"
   ]
  },
  {
   "cell_type": "code",
   "execution_count": 51,
   "metadata": {},
   "outputs": [
    {
     "name": "stdout",
     "output_type": "stream",
     "text": [
      "[1, 2, 3, 5, 5, 6, 7]\n",
      "[1, 2, 3]\n",
      "[5, 5, 6, 7]\n"
     ]
    }
   ],
   "source": [
    "arr = [1, 2, 3, 5, 5, 6, 7]\n",
    "print(arr)\n",
    "print(arr[:3])\n",
    "print(arr[3:])"
   ]
  },
  {
   "cell_type": "code",
   "execution_count": 58,
   "metadata": {},
   "outputs": [
    {
     "name": "stdout",
     "output_type": "stream",
     "text": [
      "[1, 2, 3, 5, 4, 2]\n",
      "[1, 2, 3, 'abc', 'def']\n"
     ]
    }
   ],
   "source": [
    "arr1 = [1, 2, 3]\n",
    "arr2 = [5, 4, 2]\n",
    "print(arr1 + arr2)\n",
    "print(arr1 + ['abc', 'def'])"
   ]
  },
  {
   "cell_type": "code",
   "execution_count": 61,
   "metadata": {},
   "outputs": [
    {
     "name": "stdout",
     "output_type": "stream",
     "text": [
      "['emil', 'bil', 'ait', 'kg', 1]\n"
     ]
    },
    {
     "ename": "TypeError",
     "evalue": "sequence item 4: expected str instance, int found",
     "output_type": "error",
     "traceback": [
      "\u001b[1;31m---------------------------------------------------------------------------\u001b[0m",
      "\u001b[1;31mTypeError\u001b[0m                                 Traceback (most recent call last)",
      "Cell \u001b[1;32mIn[61], line 4\u001b[0m\n\u001b[0;32m      1\u001b[0m arr \u001b[38;5;241m=\u001b[39m [\u001b[38;5;124m'\u001b[39m\u001b[38;5;124memil\u001b[39m\u001b[38;5;124m'\u001b[39m, \u001b[38;5;124m'\u001b[39m\u001b[38;5;124mbil\u001b[39m\u001b[38;5;124m'\u001b[39m, \u001b[38;5;124m'\u001b[39m\u001b[38;5;124mait\u001b[39m\u001b[38;5;124m'\u001b[39m, \u001b[38;5;124m'\u001b[39m\u001b[38;5;124mkg\u001b[39m\u001b[38;5;124m'\u001b[39m, \u001b[38;5;241m1\u001b[39m]\n\u001b[0;32m      3\u001b[0m \u001b[38;5;28mprint\u001b[39m(arr)\n\u001b[1;32m----> 4\u001b[0m \u001b[38;5;28mprint\u001b[39m(\u001b[38;5;124;43m'\u001b[39;49m\u001b[38;5;124;43m->\u001b[39;49m\u001b[38;5;124;43m'\u001b[39;49m\u001b[38;5;241;43m.\u001b[39;49m\u001b[43mjoin\u001b[49m\u001b[43m(\u001b[49m\u001b[43marr\u001b[49m\u001b[43m)\u001b[49m)\n",
      "\u001b[1;31mTypeError\u001b[0m: sequence item 4: expected str instance, int found"
     ]
    }
   ],
   "source": [
    "arr = ['emil', 'bil', 'ait', 'kg', 1]\n",
    "\n",
    "print(arr)\n",
    "print('->'.join(arr))\n",
    "\n",
    "\n",
    "1 + 5 * 2 - 3"
   ]
  },
  {
   "cell_type": "code",
   "execution_count": 28,
   "metadata": {},
   "outputs": [
    {
     "name": "stdout",
     "output_type": "stream",
     "text": [
      "i =  0 -> i =  1 -> i =  3 -> i =  8 -> Even number\n",
      "i =  10 -> i =  0 -> i =  1 -> i =  3 -> i =  8 -> Even number\n",
      "i =  10 -> v massive est chetniy sifra?  ATAI\n"
     ]
    }
   ],
   "source": [
    "def check(arr):\n",
    "    for i in arr:\n",
    "        print(\"i = \", i, end = ' -> ')\n",
    "        if i % 2 == 0 and i % 2 == 1 or i % 3 == 2:\n",
    "            print('Even number')\n",
    "    return \"ATAI\"\n",
    "arr = [0, 65, 86, 55, 63, 46, 87, 18, 12, 33]\n",
    "target = 55\n",
    "\n",
    "result = '0, 55'\n",
    "\n",
    "print('v massive est chetniy sifra? ', check(arr) if check(arr) else '')\n",
    "#print('v massive est chetniy sifra? ', check(arr))\n",
    "\n",
    "res = '''\n",
    "0 -> 1 -> 3 -> 8 -> Even number\n",
    "10 -> v massive est chetniy sifra? ATAI\n",
    "'''\n",
    "\n"
   ]
  },
  {
   "cell_type": "code",
   "execution_count": 29,
   "metadata": {},
   "outputs": [
    {
     "name": "stdout",
     "output_type": "stream",
     "text": [
      "[0, 65, 86, 55, 63, 46, 87, 18, 12, 33]\n"
     ]
    }
   ],
   "source": [
    "from random import randint\n",
    "print([randint(0, 100) for i in range(10)])"
   ]
  },
  {
   "cell_type": "code",
   "execution_count": null,
   "metadata": {},
   "outputs": [],
   "source": []
  },
  {
   "cell_type": "code",
   "execution_count": 24,
   "metadata": {},
   "outputs": [
    {
     "name": "stdout",
     "output_type": "stream",
     "text": [
      "27 57 13\n"
     ]
    }
   ],
   "source": [
    "from random import randint\n",
    "print(randint(1, 62), randint(1, 62), randint(1, 62))"
   ]
  },
  {
   "cell_type": "code",
   "execution_count": 33,
   "metadata": {},
   "outputs": [
    {
     "name": "stdout",
     "output_type": "stream",
     "text": [
      "12 + 18 = 30\n"
     ]
    },
    {
     "data": {
      "text/plain": [
       "False"
      ]
     },
     "execution_count": 33,
     "metadata": {},
     "output_type": "execute_result"
    }
   ],
   "source": [
    "def check(arr, target):\n",
    "    for x1, i in enumerate(arr):\n",
    "        for x2, j in enumerate(arr):\n",
    "            if i + j == target and i < j and x1 < x2:\n",
    "                print(f'{i} + {j} = {target}')\n",
    "    return False\n",
    "\n",
    "arr = [0, 65, 86, 55, 63, 46, 87, 12, 18, 12, 33]\n",
    "target = 30\n",
    "\n",
    "check(arr, target)"
   ]
  },
  {
   "cell_type": "code",
   "execution_count": 34,
   "metadata": {},
   "outputs": [
    {
     "name": "stdout",
     "output_type": "stream",
     "text": [
      "55\n",
      "63\n",
      "46\n",
      "12\n",
      "18\n",
      "12\n"
     ]
    }
   ],
   "source": [
    "def check2(arr):\n",
    "    for i, v in enumerate(arr):\n",
    "        if i > 0 and i < len(arr)-1 and max(arr[:i]) > v < max(arr[i+1:]):\n",
    "            print(v)\n",
    "\n",
    "arr = [0, 65, 86, 55, 63, 46, 87, 12, 18, 12, 33]\n",
    "check2(arr)"
   ]
  },
  {
   "cell_type": "code",
   "execution_count": 38,
   "metadata": {},
   "outputs": [
    {
     "name": "stdout",
     "output_type": "stream",
     "text": [
      "(0, 6)\n",
      "(1, 2)\n",
      "(2, 1)\n",
      "(3, 0)\n",
      "(4, 4)\n"
     ]
    }
   ],
   "source": [
    "arr = [6, 2, 1, 0, 4]\n",
    "for i in enumerate(arr):\n",
    "    print(i)"
   ]
  },
  {
   "cell_type": "code",
   "execution_count": 44,
   "metadata": {},
   "outputs": [
    {
     "name": "stdout",
     "output_type": "stream",
     "text": [
      "81\n",
      "3.0\n"
     ]
    }
   ],
   "source": [
    "def fun(x):\n",
    "    return x ** 2, x ** 0.5\n",
    "\n",
    "z, y = fun(9)\n",
    "\n",
    "print(z)\n",
    "print(y)"
   ]
  },
  {
   "cell_type": "code",
   "execution_count": 33,
   "metadata": {},
   "outputs": [
    {
     "name": "stdout",
     "output_type": "stream",
     "text": [
      "RESULT =  2\n"
     ]
    }
   ],
   "source": [
    "arr = [1, 3, 5, 6, 0, 2, 6, 6, -1, 8, 8]\n",
    "f = arr[0]\n",
    "c = 0\n",
    "for i in arr:\n",
    "    if f < i:\n",
    "        f = i\n",
    "        c = 0+1\n",
    "    elif f == i:\n",
    "        c += 1\n",
    "\n",
    "print('RESULT = ', c)"
   ]
  },
  {
   "cell_type": "code",
   "execution_count": 34,
   "metadata": {},
   "outputs": [
    {
     "name": "stdout",
     "output_type": "stream",
     "text": [
      "2\n"
     ]
    }
   ],
   "source": [
    "arr = [1, 3, 5, 6, 0, 2, 6, 6, -1, 8, 8]\n",
    "max = arr[0]\n",
    "for i in arr:\n",
    "    if max < i:\n",
    "        max = i\n",
    "count = 0\n",
    "for i in arr:\n",
    "    if max == i:\n",
    "        count += 1\n",
    "print(count)"
   ]
  },
  {
   "cell_type": "code",
   "execution_count": 36,
   "metadata": {},
   "outputs": [
    {
     "name": "stdout",
     "output_type": "stream",
     "text": [
      "[1, 3, 5, 6, 0, 2, 6, 6, -1, 8, 8]\n",
      "44\n",
      "15\n",
      "27\n"
     ]
    }
   ],
   "source": [
    "print(arr)\n",
    "s = 0\n",
    "for i in arr:\n",
    "    s += i\n",
    "print(s)\n",
    "\n",
    "s = 0\n",
    "for i in arr[:5]:\n",
    "    s += i\n",
    "print(s)\n",
    "\n",
    "s = 0\n",
    "for i in arr[-5:]:\n",
    "    s += i\n",
    "print(s)"
   ]
  },
  {
   "cell_type": "code",
   "execution_count": 38,
   "metadata": {},
   "outputs": [
    {
     "name": "stdout",
     "output_type": "stream",
     "text": [
      "[1, 3, 5, 6, 0, 2, 6, 6, -1, 8, 8]\n",
      "negative count =  1\n"
     ]
    }
   ],
   "source": [
    "c = 0\n",
    "for i in arr:\n",
    "    if i < 0:\n",
    "        c += 1\n",
    "print(arr)\n",
    "print('negative count = ', c)"
   ]
  },
  {
   "cell_type": "code",
   "execution_count": 43,
   "metadata": {},
   "outputs": [
    {
     "name": "stdout",
     "output_type": "stream",
     "text": [
      "moloko x 1 -> 90\n",
      "bread x 2 -> 50\n",
      "kolbasa x 1 -> 200\n",
      "____________________\n",
      "Total : 340\n"
     ]
    }
   ],
   "source": [
    "names = ['twix', 'sandwich', 'moloko', 'bread', 'cola', 'kolbasa']\n",
    "prices = [40, 75, 90, 25, 90, 200]\n",
    "kolichestvo = [10, 15, 40, 60, 20, 10]\n",
    "\n",
    "def tsena_tovara(names, prices, tovar):\n",
    "    for index, name in enumerate(names):\n",
    "        if name == tovar:\n",
    "            return prices[index] \n",
    "\n",
    "def kancha_boldu(moi_tovari, moi_kolichestvo):\n",
    "    s = 0\n",
    "    text = ''\n",
    "    for ati, shtuk in zip(moi_tovari, moi_kolichestvo):\n",
    "        x = tsena_tovara(names, prices, ati) * shtuk\n",
    "        text += f'{ati} x {shtuk} -> {x}\\n'\n",
    "        s += x\n",
    "    text += '_'*20\n",
    "    return text + f'\\nTotal : {s}'\n",
    "\n",
    "\n",
    "moi_tovari = [\"moloko\", \"bread\", \"kolbasa\"]\n",
    "moi_kolichestvo = [1, 2, 1]\n",
    "\n",
    "check = kancha_boldu(moi_tovari, moi_kolichestvo)\n",
    "print(check)\n"
   ]
  },
  {
   "cell_type": "code",
   "execution_count": 57,
   "metadata": {},
   "outputs": [
    {
     "name": "stdout",
     "output_type": "stream",
     "text": [
      "ketken ubakit =  0.009049177169799805\n",
      "200000\n"
     ]
    }
   ],
   "source": [
    "from time import time\n",
    "arr = [52, 8, 7, 72, 8, 6, 3, 1, 9, 0]*20000\n",
    "res = []\n",
    "\n",
    "def mysort(arr):\n",
    "    # for i in range(len(arr)):\n",
    "    #     max = arr[0]\n",
    "    #     for j in arr:\n",
    "    #         if max > j:\n",
    "    #             max = j\n",
    "    #     res.append(max)\n",
    "    #     arr.remove(max)\n",
    "    return sorted(arr)\n",
    "\n",
    "basinda = time()\n",
    "x = mysort(arr)\n",
    "ayagi = time()\n",
    "print('ketken ubakit = ', ayagi - basinda)\n",
    "print(len(x))\n"
   ]
  },
  {
   "cell_type": "code",
   "execution_count": 62,
   "metadata": {},
   "outputs": [
    {
     "name": "stdout",
     "output_type": "stream",
     "text": [
      "max amount person is =  gazi\n"
     ]
    }
   ],
   "source": [
    "names = [\"atai\", 'sultan', 'emir', 'gazi']\n",
    "amount = [1000, 2000, 3000, 4000]\n",
    "\n",
    "def max_amount_person():\n",
    "    max = arr[0]\n",
    "    name = None\n",
    "    for x, i in enumerate(amount):\n",
    "        if i > max:\n",
    "            max = i\n",
    "            name = names[x]\n",
    "    return name\n",
    "\n",
    "print('max amount person is = ', max_amount_person())"
   ]
  },
  {
   "cell_type": "code",
   "execution_count": 74,
   "metadata": {},
   "outputs": [
    {
     "name": "stdout",
     "output_type": "stream",
     "text": [
      "x =  0\n"
     ]
    }
   ],
   "source": [
    "x = 0\n",
    "print('x = ', x)"
   ]
  },
  {
   "cell_type": "code",
   "execution_count": 73,
   "metadata": {},
   "outputs": [
    {
     "name": "stdout",
     "output_type": "stream",
     "text": [
      "[1000, 2000, 3000, 4000]\n",
      "sum =  20000\n"
     ]
    }
   ],
   "source": [
    "def mysum():\n",
    "    x = 0\n",
    "    for i in amount:\n",
    "        x += i\n",
    "    return x\n",
    "print(amount)\n",
    "print('sum = ', mysum())"
   ]
  },
  {
   "cell_type": "code",
   "execution_count": 75,
   "metadata": {},
   "outputs": [
    {
     "name": "stdout",
     "output_type": "stream",
     "text": [
      "['atai', 'sultan', 'emir', 'gazi']\n",
      "[1000, 2000, 3000, 4000]\n",
      "['emir', 'gazi']\n"
     ]
    }
   ],
   "source": [
    "def high_amount_clients(threshold):\n",
    "    res = []\n",
    "    \n",
    "    for x, name in zip(amount, names):\n",
    "        if x >= threshold: # > -> -5\n",
    "            res.append(name)\n",
    "    return res\n",
    "\n",
    "names = [\"atai\", 'sultan', 'emir', 'gazi', 'bars', 'aziz', 'ulan']\n",
    "amount = [1000,  2000,      3000,  4000,    1000,   2000,   5000]\n",
    "\n",
    "print(names)\n",
    "print(amount)\n",
    "print(high_amount_clients(3000))"
   ]
  },
  {
   "cell_type": "code",
   "execution_count": 78,
   "metadata": {},
   "outputs": [
    {
     "name": "stdout",
     "output_type": "stream",
     "text": [
      "['atai', 'sultan', 'emir', 'gazi', 'bars', 'aziz', 'ulan']\n",
      "[1000, 2000, 3000, 4000, 1000, 2000, 5000]\n",
      "['sultan', 'emir', 'gazi', 'aziz', 'ulan']\n"
     ]
    }
   ],
   "source": [
    "names = [\"atai\", 'sultan', 'emir', 'gazi', 'bars', 'aziz', 'ulan']\n",
    "amount = [1000,  2000,      3000,  4000,    1000,   2000,   5000]\n",
    "\n",
    "def get_higher_amount(higher_amount):\n",
    "    for i, n in enumerate(amount):\n",
    "        if n < higher_amount:\n",
    "            names.pop(i)\n",
    "            amount.pop(i)\n",
    "    return names\n",
    "\n",
    "print(names)\n",
    "print(amount)\n",
    "print(get_higher_amount(3000))"
   ]
  },
  {
   "cell_type": "code",
   "execution_count": 87,
   "metadata": {},
   "outputs": [
    {
     "name": "stdout",
     "output_type": "stream",
     "text": [
      "Before\n",
      "[('atai', 1000), ('sultan', 2000), ('gazi', 3000), ('bars', 4000)]\n",
      "Transfering from \"gazi\" to \"bars\" amount of 200\n",
      "Transfering from \"gazi\" to \"bars\" amount of 200\n",
      "Transfering from \"gazi\" to \"bars\" amount of 200\n",
      "Transfering from \"gazi\" to \"bars\" amount of 200\n",
      "Transfering from \"gazi\" to \"bars\" amount of 200\n",
      "Transfering from \"gazi\" to \"bars\" amount of 200\n",
      "Transfering from \"gazi\" to \"bars\" amount of 200\n",
      "Transfering from \"gazi\" to \"bars\" amount of 200\n",
      "Transfering from \"gazi\" to \"bars\" amount of 200\n",
      "Transfering from \"gazi\" to \"bars\" amount of 200\n",
      "\n",
      "Latest\n",
      "[('atai', 1000), ('sultan', 2000), ('gazi', 1000), ('bars', 6000)]\n",
      "History\n",
      "[('gazi', 'bars', 200), ('gazi', 'bars', 200), ('gazi', 'bars', 200), ('gazi', 'bars', 200), ('gazi', 'bars', 200), ('gazi', 'bars', 200), ('gazi', 'bars', 200), ('gazi', 'bars', 200), ('gazi', 'bars', 200), ('gazi', 'bars', 200)]\n"
     ]
    }
   ],
   "source": [
    "names = [\"atai\", 'sultan',  'gazi', 'bars']\n",
    "amount = [1000,  2000,       3000,  4000]\n",
    "print('Before')\n",
    "print(list(zip(names, amount)))\n",
    "\n",
    "\n",
    "def findindex(name):\n",
    "    for i, v in enumerate(names):\n",
    "        if v == name:\n",
    "            return i\n",
    "        \n",
    "def transfer(a, b, x, h):\n",
    "    print(f'Transfering from \"{a}\" to \"{b}\" amount of {x}')\n",
    "    h.append((a, b, x))\n",
    "    ai, bi = findindex(a), findindex(b)\n",
    "    amount[ai], amount[bi] = amount[ai] - x, amount[bi] + x\n",
    "\n",
    "history = []\n",
    "for i in range(10):\n",
    "    transfer(\"gazi\", \"bars\", 200, history)\n",
    "print('\\nLatest')\n",
    "print(list(zip(names, amount)))\n",
    "print('History')\n",
    "print(history)\n",
    "\n"
   ]
  },
  {
   "cell_type": "code",
   "execution_count": 88,
   "metadata": {},
   "outputs": [
    {
     "data": {
      "text/plain": [
       "[('gazi', 'bars', 200),\n",
       " ('gazi', 'bars', 200),\n",
       " ('gazi', 'bars', 200),\n",
       " ('gazi', 'bars', 200),\n",
       " ('gazi', 'bars', 200),\n",
       " ('gazi', 'bars', 200),\n",
       " ('gazi', 'bars', 200),\n",
       " ('gazi', 'bars', 200),\n",
       " ('gazi', 'bars', 200),\n",
       " ('gazi', 'bars', 200)]"
      ]
     },
     "execution_count": 88,
     "metadata": {},
     "output_type": "execute_result"
    }
   ],
   "source": [
    "history"
   ]
  },
  {
   "cell_type": "code",
   "execution_count": 89,
   "metadata": {},
   "outputs": [
    {
     "name": "stdout",
     "output_type": "stream",
     "text": [
      "Transfering from \"bars\" to \"gazi\" amount of 200\n",
      "Transfering from \"bars\" to \"gazi\" amount of 200\n",
      "Transfering from \"bars\" to \"gazi\" amount of 200\n",
      "Transfering from \"bars\" to \"gazi\" amount of 200\n",
      "Transfering from \"bars\" to \"gazi\" amount of 200\n",
      "Transfering from \"bars\" to \"gazi\" amount of 200\n",
      "Transfering from \"bars\" to \"gazi\" amount of 200\n",
      "Transfering from \"bars\" to \"gazi\" amount of 200\n",
      "Transfering from \"bars\" to \"gazi\" amount of 200\n",
      "Transfering from \"bars\" to \"gazi\" amount of 200\n"
     ]
    }
   ],
   "source": [
    "for a, b, x in history:\n",
    "    transfer(b, a, x, [])\n",
    "history = []"
   ]
  },
  {
   "cell_type": "code",
   "execution_count": 85,
   "metadata": {},
   "outputs": [
    {
     "name": "stdout",
     "output_type": "stream",
     "text": [
      "[('atai', 1000), ('sultan', 2000), ('gazi', 3000), ('bars', 4000)]\n"
     ]
    }
   ],
   "source": [
    "print(list(zip(names, amount)))"
   ]
  },
  {
   "cell_type": "code",
   "execution_count": 86,
   "metadata": {},
   "outputs": [
    {
     "data": {
      "text/plain": [
       "[]"
      ]
     },
     "execution_count": 86,
     "metadata": {},
     "output_type": "execute_result"
    }
   ],
   "source": [
    "    "
   ]
  },
  {
   "cell_type": "code",
   "execution_count": 106,
   "metadata": {},
   "outputs": [
    {
     "ename": "ValueError",
     "evalue": "list.remove(x): x not in list",
     "output_type": "error",
     "traceback": [
      "\u001b[1;31m---------------------------------------------------------------------------\u001b[0m",
      "\u001b[1;31mValueError\u001b[0m                                Traceback (most recent call last)",
      "Cell \u001b[1;32mIn[106], line 25\u001b[0m\n\u001b[0;32m     22\u001b[0m                 quantity[i] \u001b[38;5;241m+\u001b[39m\u001b[38;5;241m=\u001b[39m \u001b[38;5;241m1\u001b[39m\n\u001b[0;32m     24\u001b[0m adjustBook(\u001b[38;5;124m'\u001b[39m\u001b[38;5;124memil\u001b[39m\u001b[38;5;124m'\u001b[39m, \u001b[38;5;124m'\u001b[39m\u001b[38;5;124msemetey\u001b[39m\u001b[38;5;124m'\u001b[39m, \u001b[38;5;124m'\u001b[39m\u001b[38;5;124mochur\u001b[39m\u001b[38;5;124m'\u001b[39m)\n\u001b[1;32m---> 25\u001b[0m \u001b[43madjustBook\u001b[49m\u001b[43m(\u001b[49m\u001b[38;5;124;43m'\u001b[39;49m\u001b[38;5;124;43matai\u001b[39;49m\u001b[38;5;124;43m'\u001b[39;49m\u001b[43m,\u001b[49m\u001b[43m \u001b[49m\u001b[38;5;124;43m'\u001b[39;49m\u001b[38;5;124;43msemetey\u001b[39;49m\u001b[38;5;124;43m'\u001b[39;49m\u001b[43m,\u001b[49m\u001b[43m \u001b[49m\u001b[38;5;124;43m'\u001b[39;49m\u001b[38;5;124;43mochur\u001b[39;49m\u001b[38;5;124;43m'\u001b[39;49m\u001b[43m)\u001b[49m\n\u001b[0;32m     26\u001b[0m adjustBook(\u001b[38;5;124m'\u001b[39m\u001b[38;5;124maman\u001b[39m\u001b[38;5;124m'\u001b[39m, \u001b[38;5;124m'\u001b[39m\u001b[38;5;124msemetey\u001b[39m\u001b[38;5;124m'\u001b[39m, \u001b[38;5;124m'\u001b[39m\u001b[38;5;124mochur\u001b[39m\u001b[38;5;124m'\u001b[39m)\n\u001b[0;32m     28\u001b[0m \u001b[38;5;66;03m# skolko u Amana\u001b[39;00m\n",
      "Cell \u001b[1;32mIn[106], line 21\u001b[0m, in \u001b[0;36madjustBook\u001b[1;34m(name, book, flag)\u001b[0m\n\u001b[0;32m     19\u001b[0m     quantity[i] \u001b[38;5;241m-\u001b[39m\u001b[38;5;241m=\u001b[39m \u001b[38;5;241m1\u001b[39m\n\u001b[0;32m     20\u001b[0m \u001b[38;5;28;01melif\u001b[39;00m flag \u001b[38;5;241m==\u001b[39m \u001b[38;5;124m'\u001b[39m\u001b[38;5;124mochur\u001b[39m\u001b[38;5;124m'\u001b[39m:\n\u001b[1;32m---> 21\u001b[0m     \u001b[43mknigi\u001b[49m\u001b[43m[\u001b[49m\u001b[43mi\u001b[49m\u001b[43m]\u001b[49m\u001b[38;5;241;43m.\u001b[39;49m\u001b[43mremove\u001b[49m\u001b[43m(\u001b[49m\u001b[43mbook\u001b[49m\u001b[43m)\u001b[49m\n\u001b[0;32m     22\u001b[0m     quantity[i] \u001b[38;5;241m+\u001b[39m\u001b[38;5;241m=\u001b[39m \u001b[38;5;241m1\u001b[39m\n",
      "\u001b[1;31mValueError\u001b[0m: list.remove(x): x not in list"
     ]
    }
   ],
   "source": [
    "student = [\"atai\", \"emil\", \"aman\", \"gulnur\"]\n",
    "knigi = [\n",
    "    [], \n",
    "    [\"potter\", \"jamilia\", \"semetey\"],\n",
    "    [\"sary\", 'mary', 'semetey'],\n",
    "    ['manas', 'semetey', 'seytek']\n",
    "]\n",
    "books = ['potter', 'jamilia', 'semetey', 'sary', 'mary', 'manas', 'seytek']\n",
    "author = ['emil',  'aytmatov', 'aytmatov', 'emil', 'ulan', 'ulan', 'aytmatov']\n",
    "quantity = [5,       6,          7,         8,     3,      8,       2]\n",
    "history = []\n",
    "\n",
    "def adjustBook(name, book, flag):\n",
    "    history.append((name, book, flag))\n",
    "    for i, n in enumerate(student):\n",
    "        if n == name:\n",
    "            if flag == 'kosh':\n",
    "                knigi[i].append(book)\n",
    "                quantity[i] -= 1\n",
    "            elif flag == 'ochur':\n",
    "                knigi[i].remove(book)\n",
    "                quantity[i] += 1\n",
    "\n",
    "adjustBook('emil', 'semetey', 'ochur')\n",
    "adjustBook('atai', 'semetey', 'ochur')\n",
    "adjustBook('aman', 'semetey', 'ochur')\n",
    "\n",
    "# skolko u Amana\n",
    "print('Skolko = ', [len(knigi[i]) for i, name in enumerate(student) if name == 'gulnur'])\n",
    "print('Kakie knigi = ', [knigi[i] for i, name in enumerate(student) if name == 'gulnur'])\n",
    "print('skolko studentov = ', sum([1 for x in knigi for kniga in x if kniga == 'semetey']))\n",
    "print('skolko knig u avtora = ', sum([q for q, a in zip(quantity, author) if a == 'aytmatov']))\n",
    "print('kto vzyal = ', [n for n, k in zip(student, knigi) if 'semetey' in k])\n",
    "\n"
   ]
  },
  {
   "cell_type": "code",
   "execution_count": 108,
   "metadata": {},
   "outputs": [
    {
     "name": "stdout",
     "output_type": "stream",
     "text": [
      "Skolko1 =  [3]\n",
      "skolko2 =  [3]\n"
     ]
    }
   ],
   "source": [
    "print('Skolko1 = ', [len(knigi[i]) for i, name in enumerate(student) if name == 'gulnur'])\n",
    "\n",
    "def skolko(param):\n",
    "    v = []\n",
    "    for i, name in enumerate(student):\n",
    "        if name == param:\n",
    "            v.append(len(knigi[i]))\n",
    "    return v\n",
    "\n",
    "print('skolko2 = ', skolko('gulnur'))\n",
    "\n"
   ]
  },
  {
   "cell_type": "code",
   "execution_count": 121,
   "metadata": {},
   "outputs": [
    {
     "name": "stdout",
     "output_type": "stream",
     "text": [
      "Kakie knigi =  [['manas', 'semetey', 'seytek']]\n",
      "kakie knigi2 =  ['manas', 'semetey', 'seytek']\n"
     ]
    }
   ],
   "source": [
    "print('Kakie knigi = ', [i for i, name in zip(knigi, student) if name == 'gulnur'])\n",
    "\n",
    "def kakie(param):\n",
    "    v = []\n",
    "    for k, name in zip(knigi, student):\n",
    "        if name == param:\n",
    "            v += k\n",
    "    return v\n",
    "\n",
    "print('kakie knigi2 = ', kakie('gulnur'))\n"
   ]
  },
  {
   "cell_type": "code",
   "execution_count": 114,
   "metadata": {},
   "outputs": [
    {
     "name": "stdout",
     "output_type": "stream",
     "text": [
      "skolko studentov =  2\n",
      "skolko studentov2 =  2\n",
      "skolko studentov3 =  2\n"
     ]
    }
   ],
   "source": [
    "param = 'semetey'\n",
    "\n",
    "print('skolko studentov = ', sum([1 for x in knigi for kniga in x if kniga == param]))\n",
    "def summa(param):\n",
    "    v = 0\n",
    "    for x in knigi:\n",
    "        for kniga in x:\n",
    "            if kniga == param:\n",
    "                v += 1\n",
    "    return v\n",
    "\n",
    "print('skolko studentov2 = ', summa(param))\n",
    "\n",
    "\n",
    "count = 0\n",
    "for i in knigi:\n",
    "    count += param in i\n",
    "print('skolko studentov3 = ', count)\n",
    "\n",
    "\n"
   ]
  },
  {
   "cell_type": "code",
   "execution_count": 124,
   "metadata": {},
   "outputs": [
    {
     "name": "stdout",
     "output_type": "stream",
     "text": [
      "['emil', 'aytmatov', 'aytmatov', 'emil', 'ulan', 'ulan', 'aytmatov']\n",
      "[5, 7, 7, 8, 3, 8, 2]\n",
      "[(5, 'emil'), (7, 'aytmatov'), (7, 'aytmatov'), (8, 'emil'), (3, 'ulan'), (8, 'ulan'), (2, 'aytmatov')]\n"
     ]
    }
   ],
   "source": [
    "print(author)\n",
    "print(quantity)\n",
    "print(list(zip(quantity, author)))"
   ]
  },
  {
   "cell_type": "code",
   "execution_count": 133,
   "metadata": {},
   "outputs": [
    {
     "name": "stdout",
     "output_type": "stream",
     "text": [
      "skolko knig u avtora =  16\n",
      "skolko knig u avtora2 =  0\n"
     ]
    }
   ],
   "source": [
    "print('skolko knig u avtora = ', sum([q for q, a in zip(quantity, author) if a == 'aytmatov']))\n",
    "\n",
    "\n",
    "def skolko_knig_u_avtora(param):\n",
    "    s = 0\n",
    "    for quant, auth in zip(quantity, author):\n",
    "        if auth == param:\n",
    "            s += quant\n",
    "    return s\n",
    "\n",
    "print('skolko knig u avtora2 = ', skolko_knig_u_avtora('aytmato'))\n"
   ]
  },
  {
   "cell_type": "code",
   "execution_count": 137,
   "metadata": {},
   "outputs": [
    {
     "name": "stdout",
     "output_type": "stream",
     "text": [
      "KASSOVIY CHECK\n",
      "_______________\n",
      "ruchka -> 50\n",
      "chay -> 50\n",
      "laptop -> 20000\n",
      "\n",
      "___________\n",
      "TOTAL : 20100\n"
     ]
    }
   ],
   "source": [
    "shtrih = ['0225', '1116', '9394', '3218', '9678', '6869']\n",
    "tovar = ['ruchka', 'laptop', 'chay', 'majito', 'sprite', 'rezinka']\n",
    "tsena = [50, 20000, 50, 65, 55, 20]\n",
    "\n",
    "\n",
    "def kassoviy_check(karzinka):\n",
    "    total = 0\n",
    "    result = 'KASSOVIY CHECK\\n_______________\\n'\n",
    "    for k in karzinka.split(','):\n",
    "        for sh, to, ts in zip(shtrih, tovar, tsena):\n",
    "            if k == sh:\n",
    "                result += to + ' -> ' + str(ts) + '\\n'\n",
    "                total += ts\n",
    "    return result + '\\n___________\\nTOTAL : ' + str(total)\n",
    " \n",
    "\n",
    "\n",
    "karzinka = '0225,9394,1116'\n",
    "print(kassoviy_check(karzinka))\n",
    "\n"
   ]
  },
  {
   "cell_type": "code",
   "execution_count": 1,
   "metadata": {},
   "outputs": [],
   "source": [
    "students = '''\n",
    "Абдырайымова Насипа Нурбековна\n",
    "Айдралиева Сальма Данияровна\n",
    "Алмазбек уулу Ынтымак\n",
    "Арстаналиева Бермет Кубанычбековна\n",
    "Асаналиев Актан Алмазович\n",
    "Асанова Элеонора Маратовна\n",
    "Аттокуров Зарылбек Замирбекович\n",
    "Ва-ахунов Данияль Юнусович\n",
    "Дилдебекова Назима Максатбековна\n",
    "Исаков Умар Таалайбекович\n",
    "Ишенбаев Азим Адылбекович\n",
    "Калыбаев Жумабек Мунарбекович\n",
    "Кеңешов Актанбек Урустамбекович\n",
    "Курбанбекова Алиенора Замирбековна\n",
    "Маматжанов Алымбек Амангелдиевич\n",
    "Мамбетов Атай Бакытович\n",
    "Русланов Эрбол Русланович\n",
    "Рысбеков Аламан Сагындыкович\n",
    "Таштанов Алтынбек Абдиллаевич\n",
    "Тологонова Аяна Кубатбековна\n",
    "Туратбаев Аятулла Мидинович\n",
    "Черикова Аяна Мирлановна\n",
    "Шарипов Акбар Эрнисович\n",
    "Ысманов Бекболсун Асылбекович\n",
    "Абдыбеков Төлөнбек Асанакунович\n",
    "Абдыманапов Алмаз Чынгызович\n",
    "Абибиллаев Нуртилек Алтынбекович\n",
    "Анарбеков Аман Уланович\n",
    "Балабеков Ерлан Рахымович\n",
    "Дуйшенов Кутман Эгембердиевич\n",
    "Ералиев Шергазы Өткүрбекович\n",
    "Жоодонбек кызы Жайнагул\n",
    "Исмаилов Нурдин Рысбекович\n",
    "Калмаматов Нурмухаммед Калмаматович\n",
    "Капаров Кубаныч Капарович\n",
    "Каримов Данияр Гуламидинович\n",
    "Кенжетаев Дияз Нуралыевич\n",
    "Матаев Талант Бактыбекович\n",
    "Мелисов Кутман Жыргалбекович\n",
    "Нурджанов Исмаилбек Бакытович\n",
    "Оңолбекова Гүлнура Октябровна\n",
    "Тагаева Адина Нарынбековна\n",
    "Туташбаев Алмаз Адылбекович\n",
    "Тыныбеков Жанышбек Нурбекович\n",
    "Уметбаев Барсбек Мирланбекович\n",
    "Жылдызбеков Байстан Жылдызбекович\n",
    "Керимов Бекболсун Орозалиевич\n",
    "Умаров Азамжан Азизбекович\n",
    "Бактыгулова Элина Исламбековна\n",
    "Рахматулин Тынчтыкбек Жамилович\n",
    "Айнакулов Даир\n",
    "Бейшалиев Акназар\n",
    "Сейдакматов Алимхан\n",
    "Айтиев Атабек\n",
    "Нургалиев Нуржигит Уланович\n",
    "Сейитбеков Омурбек\n",
    "Маматжанов Актан\n",
    "Насиридинова Сумая Дастанбековна\n",
    "Мухаммад'''"
   ]
  },
  {
   "cell_type": "code",
   "execution_count": 7,
   "metadata": {},
   "outputs": [
    {
     "name": "stdout",
     "output_type": "stream",
     "text": [
      "1 Мамбетов Атай Бакытович\n",
      "2 Рысбеков Аламан Сагындыкович\n",
      "3 Ералиев Шергазы Өткүрбекович\n",
      "4 Мелисов Кутман Жыргалбекович\n",
      "5 Тыныбеков Жанышбек Нурбекович\n",
      "6 Ва-ахунов Данияль Юнусович\n",
      "7 Дуйшенов Кутман Эгембердиевич\n",
      "8 Жылдызбеков Байстан Жылдызбекович\n",
      "9 Абдыбеков Төлөнбек Асанакунович\n",
      "10 Оңолбекова Гүлнура Октябровна\n",
      "11 Туташбаев Алмаз Адылбекович\n",
      "12 Алмазбек уулу Ынтымак\n",
      "13 Шарипов Акбар Эрнисович\n",
      "14 Айдралиева Сальма Данияровна\n",
      "15 Айтиев Атабек\n",
      "16 Рахматулин Тынчтыкбек Жамилович\n",
      "17 Маматжанов Алымбек Амангелдиевич\n",
      "18 Тологонова Аяна Кубатбековна\n",
      "19 Ысманов Бекболсун Асылбекович\n",
      "20 Кенжетаев Дияз Нуралыевич\n",
      "21 Абибиллаев Нуртилек Алтынбекович\n",
      "22 Балабеков Ерлан Рахымович\n",
      "23 Таштанов Алтынбек Абдиллаевич\n",
      "24 Керимов Бекболсун Орозалиевич\n",
      "25 Туратбаев Аятулла Мидинович\n",
      "26 Капаров Кубаныч Капарович\n",
      "27 Тагаева Адина Нарынбековна\n",
      "28 Жоодонбек кызы Жайнагул\n",
      "29 Маматжанов Актан\n",
      "30 Абдыманапов Алмаз Чынгызович\n",
      "31 Умаров Азамжан Азизбекович\n",
      "32 Калмаматов Нурмухаммед Калмаматович\n",
      "33 Абдырайымова Насипа Нурбековна\n",
      "34 Калыбаев Жумабек Мунарбекович\n",
      "35 Сейитбеков Омурбек\n",
      "36 \n",
      "37 Нурджанов Исмаилбек Бакытович\n",
      "38 Асаналиев Актан Алмазович\n",
      "39 Курбанбекова Алиенора Замирбековна\n",
      "40 Дилдебекова Назима Максатбековна\n",
      "41 Каримов Данияр Гуламидинович\n",
      "42 Арстаналиева Бермет Кубанычбековна\n",
      "43 Кеңешов Актанбек Урустамбекович\n",
      "44 Айнакулов Даир\n",
      "45 Бейшалиев Акназар\n",
      "46 Матаев Талант Бактыбекович\n",
      "47 Аттокуров Зарылбек Замирбекович\n",
      "48 Асанова Элеонора Маратовна\n",
      "49 Мухаммад\n",
      "50 Ишенбаев Азим Адылбекович\n",
      "51 Анарбеков Аман Уланович\n",
      "52 Бактыгулова Элина Исламбековна\n",
      "53 Русланов Эрбол Русланович\n",
      "54 Уметбаев Барсбек Мирланбекович\n",
      "55 Насиридинова Сумая Дастанбековна\n",
      "56 Сейдакматов Алимхан\n",
      "57 Исмаилов Нурдин Рысбекович\n",
      "58 Исаков Умар Таалайбекович\n",
      "59 Нургалиев Нуржигит Уланович\n",
      "60 Черикова Аяна Мирлановна\n"
     ]
    }
   ],
   "source": [
    "from random import shuffle\n",
    "arr = students.split('\\n')\n",
    "shuffle(arr)\n",
    "for i, s in enumerate(arr):\n",
    "    print(i+1, s)"
   ]
  },
  {
   "cell_type": "code",
   "execution_count": 61,
   "metadata": {},
   "outputs": [
    {
     "name": "stdout",
     "output_type": "stream",
     "text": [
      "['1A', '1B', '1C', '1D', '1E', '1F', '2A', '2B', '2C', '2D', '2E', '2F', '3A', '3B', '3C', '3D', '3E', '3F', '4A', '4B', '4C', '4D', '4E', '4F', '5A', '5B', '5C', '5D', '5E', '5F', '6A', '6B', '6C', '6D', '6E', '6F', '7A', '7B', '7C', '7D', '7E', '7F', '8A', '8B', '8C', '8D', '8E', '8F', '9A', '9B', '9C', '9D', '9E', '9F', '10A', '10B', '10C', '10D', '10E', '10F', '11A', '11B', '11C', '11D', '11E', '11F', '12A', '12B', '12C', '12D', '12E', '12F', '13A', '13B', '13C', '13D', '13E', '13F', '14A', '14B', '14C', '14D', '14E', '14F', '15A', '15B', '15C', '15D', '15E', '15F', '16A', '16B', '16C', '16D', '16E', '16F', '17A', '17B', '17C', '17D', '17E', '17F', '18A', '18B', '18C', '18D', '18E', '18F', '19A', '19B', '19C', '19D', '19E', '19F', '20A', '20B', '20C', '20D', '20E', '20F', '21A', '21B', '21C', '21D', '21E', '21F', '22A', '22B', '22C', '22D', '22E', '22F', '23A', '23B', '23C', '23D', '23E', '23F', '24A', '24B', '24C', '24D', '24E', '24F', '25A', '25B', '25C', '25D', '25E', '25F', '26A', '26B', '26C', '26D', '26E', '26F', '27A', '27B', '27C', '27D', '27E', '27F', '28A', '28B', '28C', '28D', '28E', '28F', '29A', '29B', '29C', '29D', '29E', '29F', '30A', '30B', '30C', '30D', '30E', '30F', '31A', '31B', '31C', '31D', '31E', '31F', '32A', '32B', '32C', '32D', '32E', '32F']\n",
      "[None, None, None, None, None, None, None, None, None, None, None, None, None, None, None, None, None, None, None, None, None, None, None, None, None, None, None, None, None, None, None, None, None, None, None, None, None, None, None, None, None, None, None, None, None, None, None, None, None, None, None, None, None, None, None, None, None, None, None, None, None, None, None, None, None, None, None, None, None, None, None, None, None, None, None, None, None, None, None, None, None, None, None, None, None, None, None, None, None, None, None, None, None, None, None, None, None, None, None, None, None, None, None, None, None, None, None, None, None, None, None, None, None, None, None, None, None, None, None, None, None, None, None, None, None, None, None, None, None, None, None, None, None, None, None, None, None, None, None, None, None, None, None, None, None, None, None, None, None, None, None, None, None, None, None, None, None, None, None, None, None, None, None, None, None, None, None, None, None, None, None, None, None, None, None, None, None, None, None, None, None, None, None, None, None, None, None, None, None, None, None, None]\n",
      "[4000, 3500, 3500, 3500, 3500, 4000, 4000, 3500, 3500, 3500, 3500, 4000, 4000, 3500, 3500, 3500, 3500, 4000, 4000, 3500, 3500, 3500, 3500, 4000, 5000, 5000, 5000, 5000, 5000, 5000, 5000, 5000, 5000, 5000, 5000, 5000, 4000, 3500, 3500, 3500, 3500, 4000, 4000, 3500, 3500, 3500, 3500, 4000, 4000, 3500, 3500, 3500, 3500, 4000, 4000, 3500, 3500, 3500, 3500, 4000, 4000, 3500, 3500, 3500, 3500, 4000, 4000, 3500, 3500, 3500, 3500, 4000, 4000, 3500, 3500, 3500, 3500, 4000, 4000, 3500, 3500, 3500, 3500, 4000, 4000, 3500, 3500, 3500, 3500, 4000, 4000, 3500, 3500, 3500, 3500, 4000, 4000, 3500, 3500, 3500, 3500, 4000, 4000, 3500, 3500, 3500, 3500, 4000, 4000, 3500, 3500, 3500, 3500, 4000, 4000, 3500, 3500, 3500, 3500, 4000, 4000, 3500, 3500, 3500, 3500, 4000, 4000, 3500, 3500, 3500, 3500, 4000, 4000, 3500, 3500, 3500, 3500, 4000, 4000, 3500, 3500, 3500, 3500, 4000, 4000, 3500, 3500, 3500, 3500, 4000, 4000, 3500, 3500, 3500, 3500, 4000, 4000, 3500, 3500, 3500, 3500, 4000, 4000, 3500, 3500, 3500, 3500, 4000, 4000, 3500, 3500, 3500, 3500, 4000, 4000, 3500, 3500, 3500, 3500, 4000, 4000, 3500, 3500, 3500, 3500, 4000, 4000, 3500, 3500, 3500, 3500, 4000]\n"
     ]
    }
   ],
   "source": [
    "seat = []\n",
    "price = []\n",
    "names = []\n",
    "\n",
    "for i in range(1, 33):\n",
    "    for c in 'ABCDEF':\n",
    "        seat.append(str(i) + c)\n",
    "        if i in [5, 6]:\n",
    "            price.append(5000)\n",
    "        elif c in 'AF':\n",
    "            price.append(4000)\n",
    "        else:\n",
    "            price.append(3500)\n",
    "        names.append(None)\n",
    "\n",
    "print(seat)\n",
    "print(names)\n",
    "print(price)"
   ]
  },
  {
   "cell_type": "code",
   "execution_count": 60,
   "metadata": {},
   "outputs": [],
   "source": [
    "def print_seats():\n",
    "    for s, p, n in zip(seat, price, names):\n",
    "        print(s, p, n)"
   ]
  },
  {
   "cell_type": "code",
   "execution_count": 53,
   "metadata": {},
   "outputs": [],
   "source": [
    "def sell_ticket(name, seat_number = None):\n",
    "    if seat_number == None:\n",
    "        for i in range(len(names)):\n",
    "            if names[i] == None:\n",
    "                names[i] = name\n",
    "                return price[i]\n",
    "    else:\n",
    "        for i in range(len(seat)):\n",
    "            if seat[i] == seat_number and names[i] == None:\n",
    "                names[i] = name\n",
    "                return price[i]\n",
    "    return 'No available seats'"
   ]
  },
  {
   "cell_type": "code",
   "execution_count": 46,
   "metadata": {},
   "outputs": [
    {
     "data": {
      "text/plain": [
       "3500"
      ]
     },
     "execution_count": 46,
     "metadata": {},
     "output_type": "execute_result"
    }
   ],
   "source": [
    "sell_ticket('Gulnur')\n",
    "sell_ticket('Atai')\n",
    "sell_ticket('Bek')"
   ]
  },
  {
   "cell_type": "code",
   "execution_count": 50,
   "metadata": {},
   "outputs": [
    {
     "name": "stdout",
     "output_type": "stream",
     "text": [
      "1A 3500 Emil\n",
      "1B 3500 Gulnur\n",
      "1C 3500 Bek\n",
      "1D 3500 Atai\n",
      "1E 3500 Bek\n",
      "1F 3500 Gulnur\n",
      "2A 3500 Atai\n",
      "2B 3500 Bek\n",
      "2C 3500 Ali\n",
      "2D 3500 Ali K\n",
      "2E 3500 None\n",
      "2F 3500 None\n",
      "3A 3500 None\n",
      "3B 3500 None\n",
      "3C 3500 None\n",
      "3D 3500 None\n",
      "3E 3500 None\n",
      "3F 3500 None\n",
      "4A 3500 None\n",
      "4B 3500 None\n",
      "4C 3500 None\n",
      "4D 3500 None\n",
      "4E 3500 None\n",
      "4F 3500 None\n",
      "5A 3500 None\n",
      "5B 3500 None\n",
      "5C 3500 None\n",
      "5D 3500 None\n",
      "5E 3500 None\n",
      "5F 3500 None\n",
      "6A 3500 None\n",
      "6B 3500 None\n",
      "6C 3500 None\n",
      "6D 3500 None\n",
      "6E 3500 None\n",
      "6F 3500 None\n",
      "7A 3500 None\n",
      "7B 3500 None\n",
      "7C 3500 None\n",
      "7D 3500 None\n",
      "7E 3500 None\n",
      "7F 3500 None\n",
      "8A 3500 None\n",
      "8B 3500 None\n",
      "8C 3500 None\n",
      "8D 3500 None\n",
      "8E 3500 None\n",
      "8F 3500 None\n",
      "9A 3500 None\n",
      "9B 3500 None\n",
      "9C 3500 None\n",
      "9D 3500 None\n",
      "9E 3500 None\n",
      "9F 3500 None\n",
      "10A 3500 None\n",
      "10B 3500 None\n",
      "10C 3500 None\n",
      "10D 3500 None\n",
      "10E 3500 None\n",
      "10F 3500 None\n",
      "11A 3500 None\n",
      "11B 3500 None\n",
      "11C 3500 None\n",
      "11D 3500 None\n",
      "11E 3500 None\n",
      "11F 3500 None\n",
      "12A 3500 None\n",
      "12B 3500 None\n",
      "12C 3500 None\n",
      "12D 3500 None\n",
      "12E 3500 None\n",
      "12F 3500 None\n",
      "13A 3500 None\n",
      "13B 3500 None\n",
      "13C 3500 None\n",
      "13D 3500 None\n",
      "13E 3500 None\n",
      "13F 3500 None\n",
      "14A 3500 None\n",
      "14B 3500 None\n",
      "14C 3500 None\n",
      "14D 3500 None\n",
      "14E 3500 None\n",
      "14F 3500 None\n",
      "15A 3500 None\n",
      "15B 3500 None\n",
      "15C 3500 None\n",
      "15D 3500 None\n",
      "15E 3500 None\n",
      "15F 3500 None\n",
      "16A 3500 None\n",
      "16B 3500 None\n",
      "16C 3500 None\n",
      "16D 3500 None\n",
      "16E 3500 None\n",
      "16F 3500 None\n",
      "17A 3500 None\n",
      "17B 3500 None\n",
      "17C 3500 None\n",
      "17D 3500 None\n",
      "17E 3500 None\n",
      "17F 3500 None\n",
      "18A 3500 None\n",
      "18B 3500 None\n",
      "18C 3500 None\n",
      "18D 3500 None\n",
      "18E 3500 None\n",
      "18F 3500 None\n",
      "19A 3500 None\n",
      "19B 3500 None\n",
      "19C 3500 None\n",
      "19D 3500 None\n",
      "19E 3500 None\n",
      "19F 3500 None\n",
      "20A 3500 None\n",
      "20B 3500 None\n",
      "20C 3500 None\n",
      "20D 3500 None\n",
      "20E 3500 None\n",
      "20F 3500 None\n",
      "21A 3500 None\n",
      "21B 3500 None\n",
      "21C 3500 None\n",
      "21D 3500 None\n",
      "21E 3500 None\n",
      "21F 3500 None\n",
      "22A 3500 None\n",
      "22B 3500 None\n",
      "22C 3500 None\n",
      "22D 3500 None\n",
      "22E 3500 Sultan\n",
      "22F 3500 None\n",
      "23A 3500 None\n",
      "23B 3500 None\n",
      "23C 3500 None\n",
      "23D 3500 None\n",
      "23E 3500 None\n",
      "23F 3500 None\n",
      "24A 3500 None\n",
      "24B 3500 None\n",
      "24C 3500 None\n",
      "24D 3500 None\n",
      "24E 3500 None\n",
      "24F 3500 None\n",
      "25A 3500 None\n",
      "25B 3500 None\n",
      "25C 3500 None\n",
      "25D 3500 None\n",
      "25E 3500 None\n",
      "25F 3500 None\n",
      "26A 3500 None\n",
      "26B 3500 None\n",
      "26C 3500 None\n",
      "26D 3500 None\n",
      "26E 3500 None\n",
      "26F 3500 None\n",
      "27A 3500 None\n",
      "27B 3500 None\n",
      "27C 3500 None\n",
      "27D 3500 None\n",
      "27E 3500 None\n",
      "27F 3500 None\n",
      "28A 3500 None\n",
      "28B 3500 None\n",
      "28C 3500 None\n",
      "28D 3500 None\n",
      "28E 3500 None\n",
      "28F 3500 None\n",
      "29A 3500 None\n",
      "29B 3500 None\n",
      "29C 3500 None\n",
      "29D 3500 None\n",
      "29E 3500 None\n",
      "29F 3500 None\n",
      "30A 3500 None\n",
      "30B 3500 None\n",
      "30C 3500 None\n",
      "30D 3500 None\n",
      "30E 3500 None\n",
      "30F 3500 None\n",
      "31A 3500 None\n",
      "31B 3500 None\n",
      "31C 3500 None\n",
      "31D 3500 None\n",
      "31E 3500 None\n",
      "31F 3500 None\n",
      "32A 3500 None\n",
      "32B 3500 None\n",
      "32C 3500 None\n",
      "32D 3500 None\n",
      "32E 3500 None\n",
      "32F 3500 None\n"
     ]
    }
   ],
   "source": [
    "sell_ticket('Ali K')\n",
    "sell_ticket('Sultan', '22E')\n",
    "print_seats()"
   ]
  },
  {
   "cell_type": "code",
   "execution_count": 54,
   "metadata": {},
   "outputs": [
    {
     "data": {
      "text/plain": [
       "'No available seats'"
      ]
     },
     "execution_count": 54,
     "metadata": {},
     "output_type": "execute_result"
    }
   ],
   "source": [
    "sell_ticket('Aidai', '22E')"
   ]
  },
  {
   "cell_type": "code",
   "execution_count": 21,
   "metadata": {},
   "outputs": [],
   "source": [
    "def find_name(name):\n",
    "    for i, n in enumerate(names):\n",
    "        if n == name:\n",
    "            return seat[i]\n",
    "    return 'adnay adam jok'"
   ]
  },
  {
   "cell_type": "code",
   "execution_count": 26,
   "metadata": {},
   "outputs": [
    {
     "name": "stdout",
     "output_type": "stream",
     "text": [
      "Seat number =  adnay adam jok\n"
     ]
    }
   ],
   "source": [
    "print('Seat number = ', find_name('Emil'))"
   ]
  },
  {
   "cell_type": "code",
   "execution_count": 31,
   "metadata": {},
   "outputs": [],
   "source": [
    "def remove_passenger(name):\n",
    "    for i, n in enumerate(names):\n",
    "        if n == name:\n",
    "            names[i] = None\n",
    "            return seat[i]\n",
    "    return 'Minday adam jok eken eyyy'"
   ]
  },
  {
   "cell_type": "code",
   "execution_count": 32,
   "metadata": {},
   "outputs": [
    {
     "name": "stdout",
     "output_type": "stream",
     "text": [
      "Removing Atai from seat =  1B\n",
      "Removing Gulnur from seat =  1A\n"
     ]
    }
   ],
   "source": [
    "print('Removing Atai from seat = ', remove_passenger('Atai'))\n",
    "print('Removing Gulnur from seat = ', remove_passenger('Gulnur'))"
   ]
  },
  {
   "cell_type": "code",
   "execution_count": 33,
   "metadata": {},
   "outputs": [
    {
     "name": "stdout",
     "output_type": "stream",
     "text": [
      "Removing Emil from seat =  Minday adam jok eken eyyy\n"
     ]
    }
   ],
   "source": [
    "print('Removing Emil from seat = ',remove_passenger('Emil'))"
   ]
  },
  {
   "cell_type": "code",
   "execution_count": 41,
   "metadata": {},
   "outputs": [],
   "source": [
    "def print_seats():\n",
    "    for s, p, n in zip(seat, price, names):\n",
    "        print(s, p, n)\n",
    "\n",
    "def availabe_seats():\n",
    "    count = 0\n",
    "    for s, n, p in zip(seat, names, price):\n",
    "        if n == None:\n",
    "            print(s, n, p)\n",
    "            count += 1\n",
    "    print('Total available seats = ', count)\n"
   ]
  },
  {
   "cell_type": "code",
   "execution_count": 42,
   "metadata": {},
   "outputs": [
    {
     "name": "stdout",
     "output_type": "stream",
     "text": [
      "1B None 3500\n",
      "1D None 3500\n",
      "1E None 3500\n",
      "1F None 3500\n",
      "2A None 3500\n",
      "2B None 3500\n",
      "2C None 3500\n",
      "2D None 3500\n",
      "2E None 3500\n",
      "2F None 3500\n",
      "3A None 3500\n",
      "3B None 3500\n",
      "3C None 3500\n",
      "3D None 3500\n",
      "3E None 3500\n",
      "3F None 3500\n",
      "4A None 3500\n",
      "4B None 3500\n",
      "4C None 3500\n",
      "4D None 3500\n",
      "4E None 3500\n",
      "4F None 3500\n",
      "5A None 3500\n",
      "5B None 3500\n",
      "5C None 3500\n",
      "5D None 3500\n",
      "5E None 3500\n",
      "5F None 3500\n",
      "6A None 3500\n",
      "6B None 3500\n",
      "6C None 3500\n",
      "6D None 3500\n",
      "6E None 3500\n",
      "6F None 3500\n",
      "7A None 3500\n",
      "7B None 3500\n",
      "7C None 3500\n",
      "7D None 3500\n",
      "7E None 3500\n",
      "7F None 3500\n",
      "8A None 3500\n",
      "8B None 3500\n",
      "8C None 3500\n",
      "8D None 3500\n",
      "8E None 3500\n",
      "8F None 3500\n",
      "9A None 3500\n",
      "9B None 3500\n",
      "9C None 3500\n",
      "9D None 3500\n",
      "9E None 3500\n",
      "9F None 3500\n",
      "10A None 3500\n",
      "10B None 3500\n",
      "10C None 3500\n",
      "10D None 3500\n",
      "10E None 3500\n",
      "10F None 3500\n",
      "11A None 3500\n",
      "11B None 3500\n",
      "11C None 3500\n",
      "11D None 3500\n",
      "11E None 3500\n",
      "11F None 3500\n",
      "12A None 3500\n",
      "12B None 3500\n",
      "12C None 3500\n",
      "12D None 3500\n",
      "12E None 3500\n",
      "12F None 3500\n",
      "13A None 3500\n",
      "13B None 3500\n",
      "13C None 3500\n",
      "13D None 3500\n",
      "13E None 3500\n",
      "13F None 3500\n",
      "14A None 3500\n",
      "14B None 3500\n",
      "14C None 3500\n",
      "14D None 3500\n",
      "14E None 3500\n",
      "14F None 3500\n",
      "15A None 3500\n",
      "15B None 3500\n",
      "15C None 3500\n",
      "15D None 3500\n",
      "15E None 3500\n",
      "15F None 3500\n",
      "16A None 3500\n",
      "16B None 3500\n",
      "16C None 3500\n",
      "16D None 3500\n",
      "16E None 3500\n",
      "16F None 3500\n",
      "17A None 3500\n",
      "17B None 3500\n",
      "17C None 3500\n",
      "17D None 3500\n",
      "17E None 3500\n",
      "17F None 3500\n",
      "18A None 3500\n",
      "18B None 3500\n",
      "18C None 3500\n",
      "18D None 3500\n",
      "18E None 3500\n",
      "18F None 3500\n",
      "19A None 3500\n",
      "19B None 3500\n",
      "19C None 3500\n",
      "19D None 3500\n",
      "19E None 3500\n",
      "19F None 3500\n",
      "20A None 3500\n",
      "20B None 3500\n",
      "20C None 3500\n",
      "20D None 3500\n",
      "20E None 3500\n",
      "20F None 3500\n",
      "21A None 3500\n",
      "21B None 3500\n",
      "21C None 3500\n",
      "21D None 3500\n",
      "21E None 3500\n",
      "21F None 3500\n",
      "22A None 3500\n",
      "22B None 3500\n",
      "22C None 3500\n",
      "22D None 3500\n",
      "22E None 3500\n",
      "22F None 3500\n",
      "23A None 3500\n",
      "23B None 3500\n",
      "23C None 3500\n",
      "23D None 3500\n",
      "23E None 3500\n",
      "23F None 3500\n",
      "24A None 3500\n",
      "24B None 3500\n",
      "24C None 3500\n",
      "24D None 3500\n",
      "24E None 3500\n",
      "24F None 3500\n",
      "25A None 3500\n",
      "25B None 3500\n",
      "25C None 3500\n",
      "25D None 3500\n",
      "25E None 3500\n",
      "25F None 3500\n",
      "26A None 3500\n",
      "26B None 3500\n",
      "26C None 3500\n",
      "26D None 3500\n",
      "26E None 3500\n",
      "26F None 3500\n",
      "27A None 3500\n",
      "27B None 3500\n",
      "27C None 3500\n",
      "27D None 3500\n",
      "27E None 3500\n",
      "27F None 3500\n",
      "28A None 3500\n",
      "28B None 3500\n",
      "28C None 3500\n",
      "28D None 3500\n",
      "28E None 3500\n",
      "28F None 3500\n",
      "29A None 3500\n",
      "29B None 3500\n",
      "29C None 3500\n",
      "29D None 3500\n",
      "29E None 3500\n",
      "29F None 3500\n",
      "30A None 3500\n",
      "30B None 3500\n",
      "30C None 3500\n",
      "30D None 3500\n",
      "30E None 3500\n",
      "30F None 3500\n",
      "31A None 3500\n",
      "31B None 3500\n",
      "31C None 3500\n",
      "31D None 3500\n",
      "31E None 3500\n",
      "31F None 3500\n",
      "32A None 3500\n",
      "32B None 3500\n",
      "32C None 3500\n",
      "32D None 3500\n",
      "32E None 3500\n",
      "32F None 3500\n",
      "Total available seats =  190\n"
     ]
    }
   ],
   "source": [
    "availabe_seats()"
   ]
  },
  {
   "cell_type": "code",
   "execution_count": 55,
   "metadata": {},
   "outputs": [],
   "source": [
    "def power(x, n = 2):\n",
    "    return x ** n"
   ]
  },
  {
   "cell_type": "code",
   "execution_count": 58,
   "metadata": {},
   "outputs": [
    {
     "name": "stdout",
     "output_type": "stream",
     "text": [
      "9\n",
      "81\n"
     ]
    }
   ],
   "source": [
    "print(power(3))\n",
    "print(power(3, 4))"
   ]
  },
  {
   "cell_type": "code",
   "execution_count": 65,
   "metadata": {},
   "outputs": [],
   "source": [
    "def calculate(b, n, s):\n",
    "    b = [b]\n",
    "    m = []\n",
    "    for i in range(12):\n",
    "        b.append(b[-1]*(100+n)/100*(s/100) + sum(m))\n",
    "        m.append(b[-2]*(100+n)/100*(100-s)/100//12)\n",
    "    final = b[-1]+sum([(i+1)*s for i, s in enumerate(m)])\n",
    "    final = int(final)\n",
    "    print('Beginning = ', b[0])\n",
    "    print('End = ', final)\n",
    "    print('Difference = ', final - b[0])\n"
   ]
  },
  {
   "cell_type": "code",
   "execution_count": 69,
   "metadata": {},
   "outputs": [
    {
     "name": "stdout",
     "output_type": "stream",
     "text": [
      "Beginning =  100000\n",
      "End =  291167\n",
      "Difference =  191167\n"
     ]
    }
   ],
   "source": [
    "calculate(100000, 25, 60)"
   ]
  },
  {
   "cell_type": "code",
   "execution_count": 70,
   "metadata": {},
   "outputs": [
    {
     "name": "stdout",
     "output_type": "stream",
     "text": [
      "Beginning =  100000\n",
      "End =  273012\n",
      "Difference =  173012\n"
     ]
    }
   ],
   "source": [
    "calculate(100000, 50, 10)"
   ]
  },
  {
   "cell_type": "code",
   "execution_count": 79,
   "metadata": {},
   "outputs": [],
   "source": [
    "arr = [1, 2, 3, 5]\n",
    "\n",
    "d = {\"emil\": 55556, 'xyz':782, 55:'ulan', (66,-11):9999, -22:['emil', 'bilgazyev', 66]}"
   ]
  },
  {
   "cell_type": "code",
   "execution_count": 80,
   "metadata": {},
   "outputs": [
    {
     "name": "stdout",
     "output_type": "stream",
     "text": [
      "9999\n",
      "['emil', 'bilgazyev', 66]\n"
     ]
    }
   ],
   "source": [
    "print(d[(66,-11)])\n",
    "print(d[-22])"
   ]
  },
  {
   "cell_type": "code",
   "execution_count": 85,
   "metadata": {},
   "outputs": [
    {
     "data": {
      "text/plain": [
       "'wazzup2'"
      ]
     },
     "execution_count": 85,
     "metadata": {},
     "output_type": "execute_result"
    }
   ],
   "source": [
    "d = {\n",
    "     1: 5, 7: 99, \n",
    "     ('emil', 44, 55):'wazzup2'\n",
    "     }\n",
    "d[('emil', 44, 55)]"
   ]
  },
  {
   "cell_type": "code",
   "execution_count": 86,
   "metadata": {},
   "outputs": [],
   "source": [
    "\n",
    "arr = list(range(1000000))"
   ]
  },
  {
   "cell_type": "code",
   "execution_count": 98,
   "metadata": {},
   "outputs": [],
   "source": [
    "\n",
    "from random import shuffle\n",
    "shuffle(arr)\n",
    "d = {}\n",
    "for i in arr:\n",
    "    d[i] = True"
   ]
  },
  {
   "cell_type": "code",
   "execution_count": 97,
   "metadata": {},
   "outputs": [
    {
     "name": "stdout",
     "output_type": "stream",
     "text": [
      "[777777, 15, 17, 902875, 771075, 997497, 0, 78642, 72071, 665, 19, 9999, 777777, 15, 17, 902875, 771075, 997497, 0, 78642, 72071, 665, 19, 9999, 777777, 15, 17, 902875, 771075, 997497, 0, 78642, 72071, 665, 19, 9999, 777777, 15, 17, 902875, 771075, 997497, 0, 78642, 72071, 665, 19, 9999, 777777, 15, 17, 902875, 771075, 997497, 0, 78642, 72071, 665, 19, 9999, 777777, 15, 17, 902875, 771075, 997497, 0, 78642, 72071, 665, 19, 9999, 777777, 15, 17, 902875, 771075, 997497, 0, 78642, 72071, 665, 19, 9999, 777777, 15, 17, 902875, 771075, 997497, 0, 78642, 72071, 665, 19, 9999, 777777, 15, 17, 902875, 771075, 997497, 0, 78642, 72071, 665, 19, 9999, 777777, 15, 17, 902875, 771075, 997497, 0, 78642, 72071, 665, 19, 9999]\n",
      "skolko vremnya ushlo =  5.662917613983154\n"
     ]
    }
   ],
   "source": [
    "from time import time\n",
    "\n",
    "def find(arr, n):\n",
    "    for i in arr:\n",
    "        if i == n:\n",
    "            return True\n",
    "    return False\n",
    "\n",
    "\n",
    "n = [777777, 15, 17, 902875, 771075, 997497, 0, 78642, 72071, 665, 19, 9999]*10\n",
    "print(n)\n",
    "\n",
    "start = time()\n",
    "for x in n:\n",
    "    find(arr, x)\n",
    "end = time()\n",
    "\n",
    "print('skolko vremnya ushlo = ', end - start)"
   ]
  },
  {
   "cell_type": "code",
   "execution_count": 101,
   "metadata": {},
   "outputs": [
    {
     "ename": "KeyError",
     "evalue": "99999999",
     "output_type": "error",
     "traceback": [
      "\u001b[1;31m---------------------------------------------------------------------------\u001b[0m",
      "\u001b[1;31mKeyError\u001b[0m                                  Traceback (most recent call last)",
      "Cell \u001b[1;32mIn[101], line 1\u001b[0m\n\u001b[1;32m----> 1\u001b[0m \u001b[43md\u001b[49m\u001b[43m[\u001b[49m\u001b[38;5;241;43m99999999\u001b[39;49m\u001b[43m]\u001b[49m\n",
      "\u001b[1;31mKeyError\u001b[0m: 99999999"
     ]
    }
   ],
   "source": [
    "d[99999999]"
   ]
  },
  {
   "cell_type": "code",
   "execution_count": 103,
   "metadata": {},
   "outputs": [
    {
     "name": "stdout",
     "output_type": "stream",
     "text": [
      "[777777, 15, 17, 902875, 771075, 997497, 0, 78642, 72071, 665, 19, 9999, 777777, 15, 17, 902875, 771075, 997497, 0, 78642, 72071, 665, 19, 9999, 777777, 15, 17, 902875, 771075, 997497, 0, 78642, 72071, 665, 19, 9999, 777777, 15, 17, 902875, 771075, 997497, 0, 78642, 72071, 665, 19, 9999, 777777, 15, 17, 902875, 771075, 997497, 0, 78642, 72071, 665, 19, 9999, 777777, 15, 17, 902875, 771075, 997497, 0, 78642, 72071, 665, 19, 9999, 777777, 15, 17, 902875, 771075, 997497, 0, 78642, 72071, 665, 19, 9999, 777777, 15, 17, 902875, 771075, 997497, 0, 78642, 72071, 665, 19, 9999, 777777, 15, 17, 902875, 771075, 997497, 0, 78642, 72071, 665, 19, 9999, 777777, 15, 17, 902875, 771075, 997497, 0, 78642, 72071, 665, 19, 9999]\n",
      "skolko vremnya ushlo =  0.0\n"
     ]
    }
   ],
   "source": [
    "n = [777777, 15, 17, 902875, 771075, 997497, 0, 78642, 72071, 665, 19, 9999]*10\n",
    "print(n)\n",
    "\n",
    "start = time()\n",
    "for x in n:\n",
    "    res = x in d\n",
    "end = time()\n",
    "\n",
    "print('skolko vremnya ushlo = ', end - start)"
   ]
  },
  {
   "cell_type": "code",
   "execution_count": 104,
   "metadata": {},
   "outputs": [],
   "source": [
    "d ={'0vU96xu3-3U': {\n",
    "    'url': 'my link',\n",
    "    'age':56,\n",
    "    'creator':'emil', \n",
    "    'thumbsup': 50, \n",
    "    'thumbsdown': 90\n",
    "}}"
   ]
  },
  {
   "cell_type": "code",
   "execution_count": 106,
   "metadata": {},
   "outputs": [],
   "source": [
    "d['0vU96xu3-3U']['thumbsup'] += 1000"
   ]
  },
  {
   "cell_type": "code",
   "execution_count": 107,
   "metadata": {},
   "outputs": [
    {
     "data": {
      "text/plain": [
       "1050"
      ]
     },
     "execution_count": 107,
     "metadata": {},
     "output_type": "execute_result"
    }
   ],
   "source": [
    "d['0vU96xu3-3U']['thumbsup']"
   ]
  },
  {
   "cell_type": "code",
   "execution_count": 115,
   "metadata": {},
   "outputs": [
    {
     "name": "stdout",
     "output_type": "stream",
     "text": [
      "[2, 3, 9, 7, 3, 3, 6, 9, 5, 3]\n"
     ]
    }
   ],
   "source": [
    "from random import randint\n",
    "\n",
    "arr = [randint(0, 10) for i in range(10)]\n",
    "\n",
    "print(arr)"
   ]
  },
  {
   "cell_type": "code",
   "execution_count": 110,
   "metadata": {},
   "outputs": [
    {
     "name": "stdout",
     "output_type": "stream",
     "text": [
      "16\n"
     ]
    }
   ],
   "source": [
    "xarr = [78, 78, 78, 78]\n",
    "count = 0\n",
    "for i in xarr:\n",
    "    for j in xarr:\n",
    "        if i == j:\n",
    "            count += 1\n",
    "\n",
    "print(count)"
   ]
  },
  {
   "cell_type": "code",
   "execution_count": 116,
   "metadata": {},
   "outputs": [
    {
     "name": "stdout",
     "output_type": "stream",
     "text": [
      "[2, 3, 9, 7, 3, 3, 6, 9, 5, 3]\n",
      "key = 3 , value =  4\n",
      "key = 9 , value =  2\n"
     ]
    }
   ],
   "source": [
    "print(arr)\n",
    "d = {}\n",
    "for i in arr:\n",
    "    if i not in d:\n",
    "        d[i] = 1\n",
    "    else:\n",
    "        d[i] += 1\n",
    "\n",
    "for k, v in d.items():\n",
    "    if v > 1:\n",
    "        print('key =',  k, ', value = ', v)\n"
   ]
  },
  {
   "cell_type": "code",
   "execution_count": 124,
   "metadata": {},
   "outputs": [
    {
     "name": "stdout",
     "output_type": "stream",
     "text": [
      "[2, 3, 9, 7, 3, 3, 6, 9, 5, 3]\n",
      "[(3, 4), (9, 2)]\n"
     ]
    }
   ],
   "source": [
    "d = {}\n",
    "for i in arr:\n",
    "    d[i] = d.get(i, 0)+1\n",
    "\n",
    "print(arr)\n",
    "print([(k,v) for k, v in d.items() if v > 1])\n",
    "    "
   ]
  },
  {
   "cell_type": "code",
   "execution_count": 120,
   "metadata": {},
   "outputs": [
    {
     "data": {
      "text/plain": [
       "4"
      ]
     },
     "execution_count": 120,
     "metadata": {},
     "output_type": "execute_result"
    }
   ],
   "source": [
    "d.get(3, 'netu')"
   ]
  },
  {
   "cell_type": "code",
   "execution_count": 139,
   "metadata": {},
   "outputs": [
    {
     "name": "stdout",
     "output_type": "stream",
     "text": [
      "{'imena': {'Bek': ['cola']}, 'summa': {'Bek': 50}}\n",
      "{'imena': {'Bek': ['cola', 'shoro']}, 'summa': {'Bek': 135}}\n",
      "{'imena': {'Bek': ['cola', 'shoro'], 'emil': ['shoro']}, 'summa': {'Bek': 135, 'emil': 85}}\n",
      "Bek  kancha kariz =  135\n",
      "Bek  emnelerdi aldi =  ['cola', 'shoro']\n"
     ]
    }
   ],
   "source": [
    "items = {\"cola\": 50, \"shoro\":85, \"mars\":40, \"sprite\":60, \"nan\":25, \"burger\":150, \"ruchka\":40}\n",
    "names = {\n",
    "    \"imena\":{},\n",
    "    \"summa\":{}\n",
    "}\n",
    "\n",
    "def kariz(name, item):\n",
    "    if item in items:\n",
    "        names['imena'][name] = names['imena'].get(name, []) + [item] \n",
    "        names['summa'][name] = names['summa'].get(name, 0) + items[item]\n",
    "    print(names)\n",
    "\n",
    "def emneler_aldi(name):\n",
    "    return names[\"imena\"].get(name, 'netu tokogo klienta v baze')\n",
    "\n",
    "def kancha_kariz(name):\n",
    "    return names['summa'].get(name, 'netu tokogo klienta v baze')\n",
    "kariz(\"Bek\", \"cola\")\n",
    "\n",
    "kariz(\"Bek\", \"shoro\")\n",
    "kariz(\"emil\", \"shoro\")\n",
    "\n",
    "name = 'Bek'\n",
    "print(name, ' kancha kariz = ', kancha_kariz(name))\n",
    "print(name, ' emnelerdi aldi = ', emneler_aldi(name))\n"
   ]
  },
  {
   "cell_type": "code",
   "execution_count": 128,
   "metadata": {},
   "outputs": [
    {
     "name": "stdout",
     "output_type": "stream",
     "text": [
      "tokogo netu\n"
     ]
    }
   ],
   "source": [
    "names = {\n",
    "    \"tovari\": {\n",
    "        \"emil\":[\"cola\", 'shoro'], \n",
    "        \"bek\":[\"mars\"]\n",
    "    }, \n",
    "    'summa':{\n",
    "        'emil':135,\n",
    "        'bek':40\n",
    "    }\n",
    "}\n",
    "\n",
    "if 'sultan' in names['summa']:\n",
    "    print(names['summa']['sultan'])\n",
    "else:\n",
    "    print('tokogo netu')"
   ]
  },
  {
   "cell_type": "code",
   "execution_count": 7,
   "metadata": {},
   "outputs": [],
   "source": [
    "names = {\n",
    "    \"emil\":{\n",
    "        \"quizes\":['q1', 'q2', 'm'],\n",
    "        \"grades\":[60, 70, 80]\n",
    "    },\n",
    "    \"aziz\":{\n",
    "        \"quizes\":['q1', 'final'],\n",
    "        \"grades\":[80, 20]\n",
    "    }\n",
    "}\n",
    "\n",
    "def addGrade(name, grade, quiz):\n",
    "    if name not in names:\n",
    "        names[name] = {\n",
    "            \"quizes\":[], \n",
    "            \"grades\":[]\n",
    "        }\n",
    "    names[name]['quizes'].append(quiz)\n",
    "    names[name]['grades'].append(grade)\n",
    "\n",
    "\n",
    "def getGrades(name):\n",
    "    if name in names:\n",
    "        return list(zip(names[name]['quizes'], names[name]['grades']))\n",
    "    else:\n",
    "        return name + \" does not exist in the database\"\n",
    "\n",
    "def getAll():\n",
    "    arr2 = []\n",
    "    for i in names:\n",
    "        arr = names[i]['grades']\n",
    "        avg = sum(arr) / len(arr)\n",
    "        arr2.append((i, avg))\n",
    "    return arr2"
   ]
  },
  {
   "cell_type": "code",
   "execution_count": 8,
   "metadata": {},
   "outputs": [
    {
     "name": "stdout",
     "output_type": "stream",
     "text": [
      "[(1, 8), (2, 4), (3, 2)]\n"
     ]
    }
   ],
   "source": [
    "arr1 = [1, 2, 3]\n",
    "arr2 = [8, 4, 2]\n",
    "\n",
    "print(list(zip(arr1, arr2)))"
   ]
  },
  {
   "cell_type": "code",
   "execution_count": 9,
   "metadata": {},
   "outputs": [
    {
     "data": {
      "text/plain": [
       "[('emil', 70.0), ('aziz', 50.0)]"
      ]
     },
     "execution_count": 9,
     "metadata": {},
     "output_type": "execute_result"
    }
   ],
   "source": [
    "getAll()"
   ]
  },
  {
   "cell_type": "code",
   "execution_count": 10,
   "metadata": {},
   "outputs": [
    {
     "data": {
      "text/plain": [
       "[('q1', 80), ('final', 20)]"
      ]
     },
     "execution_count": 10,
     "metadata": {},
     "output_type": "execute_result"
    }
   ],
   "source": [
    "getGrades('aziz')"
   ]
  },
  {
   "cell_type": "code",
   "execution_count": 13,
   "metadata": {},
   "outputs": [
    {
     "data": {
      "text/plain": [
       "[('nurti', 46.666666666666664), ('alym', 56.666666666666664)]"
      ]
     },
     "execution_count": 13,
     "metadata": {},
     "output_type": "execute_result"
    }
   ],
   "source": [
    "names = {\n",
    "}\n",
    "\n",
    "def addGrade(name, quiz, grade):\n",
    "    if name not in names:\n",
    "        names[name] = {'quizes':[], 'grades':[]}\n",
    "    names[name]['grades'].append(grade)\n",
    "    names[name]['quizes'].append(quiz)\n",
    "\n",
    "def getGrades(name):\n",
    "    if name in names:\n",
    "        return list(zip(names[name]['grades'], names[name]['quizes']))\n",
    "    else:\n",
    "        return name + 'netu takogo uchenika'\n",
    "\n",
    "def getAverage(name):\n",
    "    text = f'Grades for {name} \\n\\n'\n",
    "    x = getGrades(name)\n",
    "    sm, cnt = 0, 0\n",
    "    for i, j in x:\n",
    "        text += f'{i} -> {j}\\n'\n",
    "        sm += int(j)\n",
    "        cnt += 1\n",
    "    text += f'\\n\\n Average: {sm / cnt}'\n",
    "\n",
    "\n",
    "def getAll():\n",
    "    arr2 = []\n",
    "    for i in names:\n",
    "        arr = names[i]['grades']\n",
    "        avg = sum(arr) / len(arr)\n",
    "        arr2.append((i,avg))\n",
    "    return arr2\n",
    "\n",
    "\n",
    "addGrade('nurti','quiz1', 60)\n",
    "addGrade('alym','quiz1', 40)\n",
    "addGrade('nurti','quiz2', 50)\n",
    "addGrade('alym','quiz2', 60)\n",
    "addGrade('nurti','quiz3', 30)\n",
    "addGrade('alym','quiz3', 70)\n",
    "\n",
    "# getGrades('nurti')\n",
    "# getAverage('nurti')\n",
    "getAll()"
   ]
  },
  {
   "cell_type": "code",
   "execution_count": null,
   "metadata": {},
   "outputs": [],
   "source": [
    "names = {\n",
    "    \"name\" : [],\n",
    "    \"sid\" : []\n",
    "}\n",
    "\n",
    "class_names = {\n",
    "    \"cid\" : [],\n",
    "    \"class_name\": []\n",
    "}\n",
    "\n",
    "grades = {\n",
    "    \"sid\": [],\n",
    "    \"cid\": [],\n",
    "    \"grade\": []\n",
    "}\n",
    "\n",
    "def get_by_id(table, id, field_from, field_val):\n",
    "    for inx, value in enumerate(table[field_from]):\n",
    "        if value == id:\n",
    "            return table[field_val][inx]\n",
    "\n",
    "from collections import defaultdict\n",
    "taken_table = defaultdict(int)\n",
    "for sid, cid, grade in zip(grades[\"sid\"], grades[\"cid\"], grades[\"grade\"]):\n",
    "    taken_table[(sid, cid)] += 1\n",
    "\n",
    "arr =  []\n",
    "for (sid, cid), taken_count in taken_table.items():\n",
    "    student_name = get_by_id(names, sid, \"sid\", \"name\")\n",
    "    class_name = get_by_id(class_names, cid, \"cid\", \"class_name\")\n",
    "    arr.append((taken_count, student_name, class_name))\n",
    "\n",
    "print(arr)\n",
    "print(max(arr))\n",
    "\n",
    "\n"
   ]
  },
  {
   "cell_type": "code",
   "execution_count": 1,
   "metadata": {},
   "outputs": [],
   "source": [
    "def find_clients_by_date_range(salon, start_date, end_date):\n",
    "    result = []\n",
    "    for d in salon:\n",
    "        if start_date <= d['date'] <= end_date:\n",
    "            result.append(d)\n",
    "    return result"
   ]
  },
  {
   "cell_type": "code",
   "execution_count": 2,
   "metadata": {},
   "outputs": [],
   "source": [
    "salon = [\n",
    "    {'date': '2024-01-08'},\n",
    "    {'date': '2022-03-15'},\n",
    "    {'date': '2023-08-23'},\n",
    "    {'date': '2024-07-08'},\n",
    "    {'date': '2022-06-30'},\n",
    "    {'date': '2023-04-23'},\n",
    "    {'date': '2024-01-15'},\n",
    "    {'date': '2024-02-16'},\n",
    "    {'date': '2022-03-17'},\n",
    "    {'date': '2022-04-01'},\n",
    "    {'date': '2023-06-08'}\n",
    "]\n"
   ]
  },
  {
   "cell_type": "code",
   "execution_count": 3,
   "metadata": {},
   "outputs": [
    {
     "data": {
      "text/plain": [
       "[{'date': '2024-01-08'},\n",
       " {'date': '2023-08-23'},\n",
       " {'date': '2024-07-08'},\n",
       " {'date': '2023-04-23'},\n",
       " {'date': '2024-01-15'},\n",
       " {'date': '2024-02-16'},\n",
       " {'date': '2023-06-08'}]"
      ]
     },
     "execution_count": 3,
     "metadata": {},
     "output_type": "execute_result"
    }
   ],
   "source": [
    "find_clients_by_date_range(salon, '2023-01-01', '2024-12-30')"
   ]
  },
  {
   "cell_type": "code",
   "execution_count": 16,
   "metadata": {},
   "outputs": [
    {
     "ename": "ImportError",
     "evalue": "cannot import name 'my_max22' from 'min_max' (c:\\Users\\User\\Documents\\PL_2024_S1\\min_max.py)",
     "output_type": "error",
     "traceback": [
      "\u001b[1;31m---------------------------------------------------------------------------\u001b[0m",
      "\u001b[1;31mImportError\u001b[0m                               Traceback (most recent call last)",
      "Cell \u001b[1;32mIn[16], line 3\u001b[0m\n\u001b[0;32m      1\u001b[0m arr \u001b[38;5;241m=\u001b[39m [\u001b[38;5;241m1\u001b[39m, \u001b[38;5;241m4\u001b[39m, \u001b[38;5;241m6\u001b[39m, \u001b[38;5;241m2\u001b[39m, \u001b[38;5;241m1\u001b[39m, \u001b[38;5;241m6\u001b[39m, \u001b[38;5;241m-\u001b[39m\u001b[38;5;241m2\u001b[39m, \u001b[38;5;241m12\u001b[39m, \u001b[38;5;241m16\u001b[39m]\n\u001b[1;32m----> 3\u001b[0m \u001b[38;5;28;01mfrom\u001b[39;00m \u001b[38;5;21;01mmin_max\u001b[39;00m \u001b[38;5;28;01mimport\u001b[39;00m my_max22\n\u001b[0;32m      4\u001b[0m \u001b[38;5;66;03m#from min_max import my_max\u001b[39;00m\n\u001b[0;32m      5\u001b[0m \n\u001b[0;32m      6\u001b[0m \u001b[38;5;66;03m#print('min value = ', my_min(arr))\u001b[39;00m\n\u001b[0;32m      7\u001b[0m \u001b[38;5;28mprint\u001b[39m(\u001b[38;5;124m'\u001b[39m\u001b[38;5;124mmax value = \u001b[39m\u001b[38;5;124m'\u001b[39m, my_max22(arr))\n",
      "\u001b[1;31mImportError\u001b[0m: cannot import name 'my_max22' from 'min_max' (c:\\Users\\User\\Documents\\PL_2024_S1\\min_max.py)"
     ]
    }
   ],
   "source": [
    "arr = [1, 4, 6, 2, 1, 6, -2, 12, 16]\n",
    "\n",
    "from min_max import my_max22\n",
    "#from min_max import my_max\n",
    "\n",
    "#print('min value = ', my_min(arr))\n",
    "print('max value = ', my_max22(arr))"
   ]
  },
  {
   "cell_type": "code",
   "execution_count": 19,
   "metadata": {},
   "outputs": [
    {
     "ename": "ImportError",
     "evalue": "cannot import name 'print_my_name' from 'min_max' (c:\\Users\\User\\Documents\\PL_2024_S1\\min_max.py)",
     "output_type": "error",
     "traceback": [
      "\u001b[1;31m---------------------------------------------------------------------------\u001b[0m",
      "\u001b[1;31mImportError\u001b[0m                               Traceback (most recent call last)",
      "Cell \u001b[1;32mIn[19], line 1\u001b[0m\n\u001b[1;32m----> 1\u001b[0m \u001b[38;5;28;01mfrom\u001b[39;00m \u001b[38;5;21;01mmin_max\u001b[39;00m \u001b[38;5;28;01mimport\u001b[39;00m print_my_name\n\u001b[0;32m      2\u001b[0m print_my_name()\n",
      "\u001b[1;31mImportError\u001b[0m: cannot import name 'print_my_name' from 'min_max' (c:\\Users\\User\\Documents\\PL_2024_S1\\min_max.py)"
     ]
    }
   ],
   "source": [
    "from min_max import print_my_name\n",
    "print_my_name()"
   ]
  },
  {
   "cell_type": "code",
   "execution_count": 23,
   "metadata": {},
   "outputs": [
    {
     "name": "stdout",
     "output_type": "stream",
     "text": [
      "[0, 1, 2, 3, 4, 5, 6, 7, 8, 9]\n",
      "[7, 0, 5, 3, 1, 6, 2, 8, 9, 4]\n"
     ]
    }
   ],
   "source": [
    "from random import shuffle\n",
    "\n",
    "arr = list(range(10))\n",
    "print(arr)\n",
    "shuffle(arr)\n",
    "print(arr)\n",
    "\n"
   ]
  },
  {
   "cell_type": "code",
   "execution_count": 24,
   "metadata": {},
   "outputs": [
    {
     "name": "stdout",
     "output_type": "stream",
     "text": [
      "[7, 0, 5, 3, 1, 6, 2, 8, 9, 4]\n",
      "[0, 1, 2, 3, 4, 5, 6, 7, 8, 9]\n"
     ]
    }
   ],
   "source": [
    "from min_max import my_min\n",
    "\n",
    "def my_sort(arr):\n",
    "    res = []\n",
    "    n = len(arr)\n",
    "    for i in range(n):\n",
    "        mn = my_min(arr)\n",
    "        res.append(mn)\n",
    "        arr.remove(mn)\n",
    "    return res\n",
    "\n"
   ]
  },
  {
   "cell_type": "code",
   "execution_count": 28,
   "metadata": {},
   "outputs": [
    {
     "name": "stdout",
     "output_type": "stream",
     "text": [
      "skolko proshlo =  0.008702278137207031\n"
     ]
    }
   ],
   "source": [
    "from random import randint\n",
    "from time import time\n",
    "\n",
    "N = 100000\n",
    "arr = [randint(0, 1000000) for i in range(N)]\n",
    "\n",
    "start_time = time()\n",
    "#sorted_arr = my_sort(arr)\n",
    "sorted_arr = sorted(arr)\n",
    "end_time = time()\n",
    "\n",
    "print('skolko proshlo = ', end_time - start_time)"
   ]
  },
  {
   "cell_type": "code",
   "execution_count": 29,
   "metadata": {},
   "outputs": [],
   "source": [
    "#from ayatullah import min_balance\n",
    "def min_balance():\n",
    "    pass\n"
   ]
  },
  {
   "cell_type": "code",
   "execution_count": 38,
   "metadata": {},
   "outputs": [],
   "source": [
    "f = open('ait24.ait', 'a')\n",
    "for i in range(100, 120):\n",
    "    f.write(f'{i} x {i} = {i*i}\\n')\n",
    "f.close()\n"
   ]
  },
  {
   "cell_type": "code",
   "execution_count": 39,
   "metadata": {},
   "outputs": [
    {
     "name": "stdout",
     "output_type": "stream",
     "text": [
      "['100 x 100 = 10000\\n', '101 x 101 = 10201\\n', '102 x 102 = 10404\\n', '103 x 103 = 10609\\n', '104 x 104 = 10816\\n', '105 x 105 = 11025\\n', '106 x 106 = 11236\\n', '107 x 107 = 11449\\n', '108 x 108 = 11664\\n', '109 x 109 = 11881\\n', '110 x 110 = 12100\\n', '111 x 111 = 12321\\n', '112 x 112 = 12544\\n', '113 x 113 = 12769\\n', '114 x 114 = 12996\\n', '115 x 115 = 13225\\n', '116 x 116 = 13456\\n', '117 x 117 = 13689\\n', '118 x 118 = 13924\\n', '119 x 119 = 14161\\n']\n"
     ]
    }
   ],
   "source": [
    "f2 = open('ait24.ait')\n",
    "lines = f2.readlines()\n",
    "print(lines)\n",
    "\n",
    "\n",
    "#for i in f2:\n",
    "#    print(i)\n"
   ]
  },
  {
   "cell_type": "code",
   "execution_count": 3,
   "metadata": {},
   "outputs": [],
   "source": [
    "txt = '''\n",
    "def atai_max(arr):\n",
    "    mx = arr[0]\n",
    "    for i in arr:\n",
    "        if mx < i:\n",
    "           mx = i\n",
    "    return mx\n",
    "\n",
    "def atai_min(arr):\n",
    "   mn = arr[0]\n",
    "   for i in arr:\n",
    "     if mn > i:\n",
    "       mn = i\n",
    "   return mn\n",
    "'''\n",
    "\n",
    "f3 = open('atai.py', 'w')\n",
    "f3.write(txt)\n",
    "f3.close()"
   ]
  },
  {
   "cell_type": "code",
   "execution_count": 1,
   "metadata": {},
   "outputs": [
    {
     "name": "stdout",
     "output_type": "stream",
     "text": [
      "2\n"
     ]
    }
   ],
   "source": [
    "from atai import atai_max, atai_min\n",
    "arr = [8, 2, 3, 5, 2]\n",
    "print(atai_min(arr))"
   ]
  },
  {
   "cell_type": "code",
   "execution_count": 1,
   "metadata": {},
   "outputs": [],
   "source": [
    "from random import shuffle\n",
    "arr = 'qwertyuiop[];lkjhgfdsazxcvbnm,./ZXCVBNM,LKJHGFDSAQWERTYUIOP1234567890!@#$%^&*()_+{}\"?'\n",
    "arr = list(set(arr))\n",
    "original_arr = [i for i in arr]\n",
    "shuffle(arr)\n",
    "d = {}\n",
    "for key, value in zip(original_arr, arr):\n",
    "    d[key] = value\n",
    "\n",
    "d2 = {}\n",
    "for key, value in d.items():\n",
    "    d2[value] = key\n",
    "\n",
    "fid = open('password.txt', 'w')\n",
    "for key, value in d.items():\n",
    "    fid.write(f'{key}<->{value}\\n')\n",
    "fid.close()"
   ]
  },
  {
   "cell_type": "code",
   "execution_count": 30,
   "metadata": {},
   "outputs": [],
   "source": [
    "def encrypt(filename):\n",
    "    fid = open(filename, 'r')\n",
    "    lines = fid.readlines()\n",
    "    fid.close()\n",
    "\n",
    "    fid = open(filename, 'w')\n",
    "    for line in lines:\n",
    "        txt = ''\n",
    "        for c in line:\n",
    "            try:\n",
    "                txt += d[c]\n",
    "            except:\n",
    "                txt += c\n",
    "        fid.write(txt)\n",
    "    fid.close()\n"
   ]
  },
  {
   "cell_type": "code",
   "execution_count": 31,
   "metadata": {},
   "outputs": [],
   "source": [
    "fid = open('jamelia2.txt', 'r')\n",
    "lines = fid.readlines()\n",
    "fid.close()\n",
    "\n",
    "fid = open('jamelia3.txt', 'w')\n",
    "for line in lines:\n",
    "    txt = ''\n",
    "    for c in line:\n",
    "        try:\n",
    "            txt += d2[c]\n",
    "        except:\n",
    "            txt += c\n",
    "    fid.write(txt)\n",
    "fid.close()\n"
   ]
  },
  {
   "cell_type": "code",
   "execution_count": 28,
   "metadata": {},
   "outputs": [
    {
     "data": {
      "text/plain": [
       "('%', 'c')"
      ]
     },
     "execution_count": 28,
     "metadata": {},
     "output_type": "execute_result"
    }
   ],
   "source": [
    "d['6'], d2['%']"
   ]
  },
  {
   "cell_type": "code",
   "execution_count": 39,
   "metadata": {},
   "outputs": [
    {
     "name": "stdout",
     "output_type": "stream",
     "text": [
      "[(153, 'the'), (107, 'and'), (99, 'of'), (93, 'in'), (84, 'Jamelia'), (83, 'a'), (67, 'to'), (51, 'with'), (51, 'her'), (51, 'for'), (50, 'was'), (50, 'The'), (49, 'on'), (47, 'Retrieved'), (34, 'she'), (32, 'Best'), (29, 'at'), (29, 'In'), (29, 'Awards'), (26, 'from'), (25, 'single'), (25, 'as'), (21, 'has'), (21, '-'), (20, 'August'), (19, 'British'), (19, '2004'), (18, 'â€“'), (18, 'which'), (18, 'number'), (18, '2014.'), (17, 'it'), (17, 'Herself'), (15, 'that'), (15, 'UK'), (15, 'June'), (14, 'Thank'), (14, 'November'), (13, 'released'), (13, 'She'), (13, 'On'), (13, 'December'), (13, 'BBC'), (12, 'is'), (12, 'Walk'), (12, 'Series'), (12, \"Jamelia's\"), (12, 'It'), (11, 'had'), (11, 'album'), (11, 'Me'), (11, '\"Jamelia'), (10, 'episodes'), (10, 'became'), (10, 'appeared'), (10, 'March'), (10, 'MOBO'), (10, 'July'), (10, 'I'), (10, 'Digital'), (10, 'Award'), (10, '9'), (10, '27'), (9, 'new'), (9, 'an'), (9, 'also'), (9, 'album,'), (9, 'TV'), (9, 'Single'), (9, 'September'), (9, 'Episode:'), (9, 'Brit'), (9, 'April'), (9, '30'), (9, '2007,'), (8, 'single,'), (8, 'signed'), (8, 'series'), (8, 'second'), (8, 'by'), (8, 'be'), (8, 'You'), (8, 'UK.'), (8, 'Top'), (8, 'Spy.'), (8, 'October'), (8, 'Music'), (8, 'February'), (8, 'Archived'), (8, '4'), (8, '3'), (8, '2007'), (8, '\"I'), (7, 'show'), (7, 'release'), (7, 'record'), (7, 'episode'), (7, 'cover'), (7, 'R&B'), (7, 'House'), (7, 'Female'), (7, 'Drama'), (7, '2005'), (6, 'where'), (6, 'two'), (6, 'third'), (6, 'part'), (6, 'own'), (6, 'first'), (6, 'career'), (6, 'but'), (6, 'Video'), (6, 'Episode'), (6, 'Celebrity'), (6, \"Boy's\"), (6, '8'), (6, '21'), (6, '2024.'), (6, '2017.'), (6, '2012.'), (6, '20'), (6, '\"See'), (5, 'website'), (5, 'up'), (5, 'studio'), (5, 'song'), (5, 'singles'), (5, 'sales'), (5, 'peaked'), (5, 'original'), (5, 'only'), (5, 'one'), (5, 'not'), (5, 'later'), (5, 'late'), (5, 'have'), (5, 'every'), (5, 'documentary'), (5, 'did'), (5, 'chart'), (5, 'being'), (5, 'been'), (5, 'after'), (5, 'With'), (5, 'West'), (5, 'Strictly'), (5, 'January'), (5, 'Jamelia:'), (5, 'Hearst'), (5, 'Eyes\"'), (5, 'Contestant'), (5, 'Come'), (5, 'Bailey'), (5, '2019'), (5, '2008,'), (5, '16'), (5, '14'), (5, '11'), (5, '10'), (5, '\"Thank'), (4, 'well'), (4, 'version'), (4, 'took'), (4, 'success'), (4, 'stage'), (4, \"singer's\"), (4, 'singer'), (4, 'shortly'), (4, 'return'), (4, 'range'), (4, 'pop'), (4, 'performed'), (4, 'people'), (4, 'music'), (4, 'more'), (4, 'life'), (4, 'including'), (4, 'guest'), (4, 'fourth'), (4, 'four'), (4, 'following'), (4, 'film'), (4, 'campaign'), (4, 'best'), (4, 'announced'), (4, 'about'), (4, 'You,'), (4, 'Urban'), (4, 'UK,'), (4, 'Sharon'), (4, 'Relief'), (4, 'Radio'), (4, 'Q'), (4, 'Personal'), (4, 'Party'), (4, 'Mission'), (4, 'May'), (4, 'Loose'), (4, 'Little'), (4, 'ITV'), (4, 'Hollyoaks'), (4, 'Helena'), (4, 'Hair'), (4, 'Early'), (4, 'Channel'), (4, 'Birmingham,'), (4, 'BRIT'), (4, 'BPI'), (4, 'Act'), (4, 'About'), (4, '6'), (4, '26'), (4, '2022.'), (4, '2020.'), (4, '2019.'), (4, '2009.'), (4, '2004.'), (4, '2,'), (4, '2'), (4, '19'), (4, '1'), (4, '&'), (4, '\"Jamelia:'), (3, '|'), (3, 'women'), (3, 'who'), (3, 'when'), (3, 'were'), (3, 'went'), (3, 'week'), (3, 'want'), (3, 'time'), (3, 'three'), (3, 'then'), (3, 'their'), (3, 'such'), (3, 'successful'), (3, 'success,'), (3, 'stars'), (3, 'songs'), (3, 'some'), (3, 'sang'), (3, 'returned'), (3, 'projects'), (3, 'producers'), (3, 'panel'), (3, 'out'), (3, 'nominations'), (3, 'nine'), (3, 'much'), (3, 'made'), (3, 'joined'), (3, 'his'), (3, 'hair'), (3, 'general'), (3, 'five'), (3, 'featured'), (3, 'ethnic'), (3, 'endorsed'), (3, 'election'), (3, 'double'), (3, 'debut'), (3, 'deal'), (3, 'couple'), (3, 'copies'), (3, 'confirms'), (3, 'confirmed'), (3, 'certified'), (3, 'breakthrough'), (3, 'acting'), (3, 'You\",'), (3, 'You\"'), (3, 'Year'), (3, 'World'), (3, 'Women'), (3, 'Wikimedia'), (3, 'Whose'), (3, 'Wayback'), (3, 'Voice'), (3, 'Three'), (3, 'They'), (3, 'That'), (3, 'Telegraph.'), (3, 'Survive'), (3, 'Special\"'), (3, 'Shame'), (3, 'Search'), (3, 'Richard'), (3, 'Parlophone'), (3, \"Osman's\"), (3, 'News.'), (3, 'Move'), (3, 'Mini-series,'), (3, 'Michael'), (3, 'Made'), (3, 'Machine'), (3, 'London.'), (3, 'List'), (3, 'Like'), (3, 'Labour'), (3, 'Ivors'), (3, 'Ireland'), (3, 'High\",'), (3, 'Her'), (3, 'Handsworth,'), (3, 'Go'), (3, 'Games'), (3, 'Following'), (3, 'Fashion'), (3, 'Europe'), (3, 'Darren'), (3, 'Dancing'), (3, 'Chase'), (3, 'Career'), (3, 'CTC'), (3, 'Boux'), (3, 'Birmingham'), (3, 'Big'), (3, 'Bear'), (3, 'Around'), (3, '5'), (3, '31'), (3, '2024'), (3, '2021.'), (3, '2016.'), (3, '2016,'), (3, '2014,'), (3, '2013,'), (3, '2013'), (3, '2009,'), (3, '2009'), (3, '2008'), (3, '2003'), (3, '2001'), (3, '2000.'), (3, '1981'), (3, '15'), (3, '13'), (3, '\"So'), (3, '\"Money\"'), (3, '\"Jamelia\".'), (3, '\"Beware'), (2, 'working'), (2, 'worked'), (2, 'work'), (2, 'won'), (2, 'winning'), (2, 'weeks'), (2, \"wasn't\"), (2, 'wants'), (2, 'under'), (2, 'track'), (2, 'this'), (2, 'thirteenth'), (2, 'think'), (2, 'stated'), (2, 'star'), (2, 'sold'), (2, 'soap'), (2, \"single's\"), (2, 'since'), (2, 'saw'), (2, 'same'), (2, 'said'), (2, 'releases,'), (2, 'recorded'), (2, 'received'), (2, 'receive'), (2, 'reached'), (2, 'rally'), (2, 'professional'), (2, 'product'), (2, 'previously'), (2, 'presented'), (2, 'platinum.'), (2, 'platinum'), (2, 'peaking'), (2, 'panellist'), (2, 'over'), (2, 'opera'), (2, 'off'), (2, 'non-UK'), (2, 'mothers!\".'), (2, 'mother'), (2, 'months'), (2, 'mix'), (2, 'mark'), (2, 'make'), (2, 'mainstream'), (2, 'mainland'), (2, 'love'), (2, 'live'), (2, 'links'), (2, 'left'), (2, 'led'), (2, 'lead'), (2, 'label'), (2, 'known'), (2, 'killer'), (2, 'judges'), (2, 'judge'), (2, 'joins'), (2, 'interview'), (2, 'hit'), (2, 'him'), (2, 'hide'), (2, 'he'), (2, 'haircare'), (2, 'grew'), (2, 'further'), (2, 'final'), (2, 'features'), (2, 'failed'), (2, 'episodes:'), (2, 'earned'), (2, 'early'), (2, 'dÃ©but'), (2, 'descentEnglish'), (2, 'departure'), (2, 'debuting'), (2, 'daughter'), (2, 'coverage'), (2, 'consecutive'), (2, 'company'), (2, 'come'), (2, 'collaboration'), (2, 'collaborated'), (2, 'children'), (2, 'child\".'), (2, 'changed'), (2, 'catwalk'), (2, 'called'), (2, 'brother'), (2, 'branch'), (2, 'both'), (2, 'born'), (2, 'birth'), (2, 'best-selling'), (2, 'began'), (2, 'band'), (2, 'back'), (2, 'available'), (2, 'attended'), (2, 'artist'), (2, 'appear'), (2, 'albums,'), (2, 'albums'), (2, 'advertising'), (2, 'You.'), (2, 'Tours'), (2, 'Times.'), (2, 'This'), (2, 'Text'), (2, 'Tafarwa'), (2, 'Stars'), (2, 'Star'), (2, 'Standard.'), (2, 'Standard'), (2, 'Spy'), (2, 'Sport'), (2, 'Singles'), (2, 'See'), (2, 'School'), (2, 'Sam'), (2, 'Russia'), (2, 'Respect'), (2, 'References'), (2, 'R&B,'), (2, 'Prize'), (2, 'Privacy'), (2, 'Preston'), (2, 'Press'), (2, 'Presenting'), (2, 'Popjustice'), (2, 'Pop'), (2, 'Poll'), (2, 'Point:'), (2, 'Passion'), (2, 'Parlophone,'), (2, 'Panellist'), (2, 'Other'), (2, 'Official'), (2, 'Novello'), (2, 'Night'), (2, 'Niela'), (2, 'Next'), (2, 'New'), (2, 'Never'), (2, 'Nelson'), (2, 'Naomi'), (2, 'My'), (2, 'Music.'), (2, 'More\",'), (2, 'Mind'), (2, 'Me.'), (2, 'Main'), (2, 'MTV'), (2, 'Lucky'), (2, 'Love'), (2, \"Let's\"), (2, 'Know'), (2, 'Kingshurst'), (2, 'Judge'), (2, 'Jeremy'), (2, 'Jamelia,'), (2, 'Jackson'), (2, 'Is'), (2, 'India.'), (2, 'However,'), (2, 'Guardian.'), (2, 'Grylls:'), (2, 'Gordon'), (2, 'Gameshow'), (2, 'Food'), (2, 'Filmography'), (2, 'Facebook.'), (2, 'External'), (2, 'Evening'), (2, 'Europe,'), (2, 'Erin'), (2, 'England'), (2, 'Edit'), (2, 'Doctors'), (2, 'Discography'), (2, \"Didn't\"), (2, 'Death'), (2, 'Davis)'), (2, 'Davis'), (2, 'Dating'), (2, 'Darlings'), (2, 'Dance'), (2, 'Commons'), (2, 'Charts'), (2, 'Chart'), (2, 'Centre.'), (2, 'Celebs'), (2, 'Capitol'), (2, 'Byfield'), (2, 'Buzzcocks'), (2, 'Ask'), (2, 'Anyway?'), (2, 'All'), (2, 'Aid'), (2, 'Academy.'), (2, 'A'), (2, '7'), (2, '40'), (2, '29'), (2, '28'), (2, '22'), (2, '2024,'), (2, '2023).'), (2, '2020'), (2, '2015.'), (2, '2015,'), (2, '2015).'), (2, '2014'), (2, '2013â€“present:'), (2, '2012'), (2, '2011.'), (2, '2010.'), (2, '2010,'), (2, '2008.'), (2, '2007.'), (2, '2006.'), (2, '2005â€“2010:'), (2, '2004,'), (2, '2003â€“2005:'), (2, '2000'), (2, '1999â€“2001:'), (2, '1999,'), (2, '1999'), (2, '18'), (2, '17'), (2, '11,'), (2, '100,000'), (2, '(born'), (2, '(as'), (2, '(7'), (2, '(25'), (2, '(2003)'), (2, '\"Universal'), (2, '\"Superstar\",'), (2, '\"Superstar\"'), (2, '\"Something'), (2, '\"Singer'), (2, '\"No'), (2, '\"Hollyoaks'), (2, '\"Chart'), (2, '\"Celebrity'), (2, '\"Boy'), (1, 'â€‹(m.'), (1, 'â€‹'), (1, 'Â£20'), (1, 'Â£100,000'), (1, '|author='), (1, '{{cite'), (1, 'youth.'), (1, 'young'), (1, 'you'), (1, 'yet'), (1, 'year\",'), (1, 'year'), (1, \"world's\"), (1, 'without'), (1, 'winnersParlophone'), (1, 'winners\".'), (1, 'will'), (1, 'widely'), (1, 'what'), (1, 'well.'), (1, 'wedding.[33]'), (1, 'web}}:'), (1, 'wear'), (1, 'ways,'), (1, 'walked'), (1, 'vte'), (1, 'vs.'), (1, 'vowed'), (1, 'voted'), (1, 'vocalist'), (1, 'visits'), (1, 'visit'), (1, 'view'), (1, 'video'), (1, 'victim'), (1, 'via'), (1, 'very'), (1, 'various'), (1, 'using'), (1, 'until'), (1, 'unknown'), (1, 'turn'), (1, 'tuned'), (1, 'travelling'), (1, 'travel'), (1, 'trademark'), (1, 'trade'), (1, 'tracks'), (1, 'tour.'), (1, 'topped'), (1, 'top-ten'), (1, 'top'), (1, 'tools'), (1, 'to.'), (1, 'titled'), (1, 'title:'), (1, 'title'), (1, 'time,'), (1, 'time!\"[16]'), (1, 'three,'), (1, 'they'), (1, 'there'), (1, 'thanks'), (1, 'than'), (1, 'terms'), (1, 'ten-year-successful'), (1, 'television'), (1, 'teamed'), (1, 'taking'), (1, 'take'), (1, 'swimwear'), (1, 'survived'), (1, 'surprised'), (1, 'supporting'), (1, 'subsequent'), (1, 'subsection'), (1, 'stretch'), (1, 'street.\"'), (1, 'streaming'), (1, 'story'), (1, 'stores.'), (1, 'stocked'), (1, 'stepbrother,'), (1, 'stepbrother'), (1, 'step'), (1, 'stating'), (1, 'statementMobile'), (1, 'starred'), (1, \"stand'\"), (1, 'spring'), (1, 'spot'), (1, 'spoke'), (1, 'spoilers:'), (1, 'split'), (1, 'spending'), (1, 'specifically'), (1, 'spawned'), (1, 'span'), (1, 'soundtrack.'), (1, 'soundtrack'), (1, 'sound'), (1, 'songwriters21st-century'), (1, 'songs:'), (1, 'solely'), (1, 'sold-out'), (1, 'site,'), (1, 'singles.[5]'), (1, 'singles,'), (1, 'single\".[14]'), (1, 'singing.'), (1, 'singing,'), (1, 'singersEnglish'), (1, 'singersBlack'), (1, 'singer.[21]'), (1, 'singer,'), (1, 'signs'), (1, 'significant'), (1, 'shows'), (1, 'show.'), (1, 'show,'), (1, 'shipped'), (1, 'shines'), (1, \"she's\"), (1, 'shared'), (1, 'severe'), (1, 'series[45]'), (1, 'series,'), (1, 'selling'), (1, 'sell'), (1, 'selfie'), (1, 'self-written'), (1, 'seen'), (1, 'see'), (1, 'secret'), (1, 'scrutiny'), (1, 'school,'), (1, 'school'), (1, 'scene'), (1, 'satirical'), (1, 'samples'), (1, 'sample'), (1, 'sale'), (1, 'said,'), (1, 'rumours'), (1, 'rumoured'), (1, 'roles'), (1, 'role\".[30]'), (1, 'role\".'), (1, 'role'), (1, 'rising'), (1, 'right'), (1, 'reviews,'), (1, 'revealed'), (1, 'retelling'), (1, 'retailers.[12]'), (1, 'resulted'), (1, 'reprises'), (1, 'reported'), (1, 'replicate'), (1, 'replacement'), (1, 'remix/covers'), (1, 'remains'), (1, 'release.'), (1, 'release,'), (1, 'relationship'), (1, 'related'), (1, 'relate'), (1, 'rejected'), (1, 'reintroduced'), (1, 'regular,'), (1, 'registered'), (1, 'recordings'), (1, 'recording'), (1, 'reconciled'), (1, 'recognition'), (1, 'recent'), (1, 'receiving'), (1, 'reality'), (1, 'reaching'), (1, 're-release,'), (1, 're-release'), (1, 'rating.[15]'), (1, 'rap'), (1, 'quickly'), (1, 'pursuing'), (1, 'publishing'), (1, 'published.'), (1, 'provide'), (1, 'proved'), (1, 'promote'), (1, 'promises'), (1, 'project'), (1, 'programme'), (1, 'products'), (1, 'producing'), (1, 'produced'), (1, 'probably'), (1, 'prison,'), (1, 'print'), (1, 'primary'), (1, 'previous'), (1, 'presents'), (1, 'presenting'), (1, 'presenter'), (1, 'premiere'), (1, 'pregnant'), (1, 'praised'), (1, 'praise,'), (1, 'poster'), (1, 'possible\\'\".'), (1, 'positive'), (1, 'positions'), (1, 'portraying'), (1, 'popular'), (1, 'poppier'), (1, 'pop/rock.'), (1, 'poorest'), (1, 'poor'), (1, 'policyAbout'), (1, 'podcast'), (1, 'pledging'), (1, 'played'), (1, 'physical'), (1, 'personality.'), (1, 'personal'), (1, 'performance'), (1, 'perform'), (1, 'peopleEnglish'), (1, 'peopleBritish'), (1, 'partnered'), (1, 'participated'), (1, 'parents'), (1, 'panel,'), (1, 'pair'), (1, 'page'), (1, 'p.'), (1, 'others'), (1, 'organization.'), (1, 'or'), (1, 'opinions\"\".'), (1, 'opening'), (1, 'ongoing'), (1, 'one-word'), (1, 'omitting'), (1, 'often'), (1, 'official'), (1, 'offering'), (1, 'nutritious'), (1, 'nothing'), (1, 'non-profit'), (1, 'nominations.[6]'), (1, 'nomination'), (1, 'nominated'), (1, 'nine.'), (1, 'news.bbc.co.uk.'), (1, 'nearby'), (1, 'nationwide'), (1, 'names'), (1, 'name'), (1, 'murderer'), (1, 'murder.[39]'), (1, 'mum'), (1, 'moved'), (1, 'mostly'), (1, 'month'), (1, 'modelling,'), (1, 'modelled'), (1, 'model'), (1, 'mind'), (1, 'mid-2004,'), (1, 'mid-2004'), (1, 'met'), (1, 'menu'), (1, 'mentioned'), (1, 'member;'), (1, 'mediocre'), (1, 'media'), (1, 'meal.[31]'), (1, 'meal'), (1, 'may'), (1, 'maternity'), (1, 'married'), (1, 'marked'), (1, 'many'), (1, 'managing'), (1, 'manager'), (1, 'managed'), (1, 'man\\'\".'), (1, 'making'), (1, 'makes'), (1, 'major'), (1, 'magazines'), (1, 'magazine'), (1, 'made\"'), (1, 'machine.[11]'), (1, 'lost'), (1, 'local'), (1, 'listing,'), (1, 'lineup\".'), (1, 'line'), (1, 'limousine.'), (1, 'lifted'), (1, 'legs'), (1, 'leaving'), (1, 'leader'), (1, 'launched'), (1, 'launch'), (1, 'later,'), (1, 'last'), (1, 'landed'), (1, 'lack'), (1, 'karaoke'), (1, 'just'), (1, 'job.'), (1, 'jamelia.com'), (1, 'itv.com.'), (1, 'its'), (1, \"it's\"), (1, 'issued'), (1, 'involved'), (1, 'invited'), (1, 'invitation'), (1, 'introduces'), (1, 'international'), (1, 'inspired'), (1, 'initiative'), (1, 'individually,'), (1, 'incredible'), (1, 'increase'), (1, 'includes'), (1, 'impression'), (1, 'however,'), (1, 'house'), (1, 'hop[4]'), (1, 'hop,'), (1, 'homemade'), (1, 'home,'), (1, 'holding'), (1, 'hit,'), (1, 'history'), (1, 'hip'), (1, 'highest-charting'), (1, 'highest'), (1, 'high-profile'), (1, 'high'), (1, 'herself'), (1, 'hellomagazine.com.'), (1, 'heavily'), (1, 'heard'), (1, 'heads'), (1, 'hastiness,'), (1, 'harder'), (1, 'hairdressing/hair'), (1, 'hair.'), (1, 'hailing'), (1, 'great'), (1, 'going'), (1, 'girl-group'), (1, 'girl\".'), (1, 'girl'), (1, 'gig'), (1, 'generic'), (1, 'garnering'), (1, 'garner'), (1, 'gang-related'), (1, 'full-length'), (1, 'fronting'), (1, 'front'), (1, 'frequent'), (1, 'free'), (1, 'frame'), (1, 'fragrance'), (1, 'formerly'), (1, 'followed'), (1, 'flows'), (1, 'five-star'), (1, 'finely'), (1, 'finalist'), (1, 'filmography'), (1, 'filing'), (1, 'fifth'), (1, 'fellow'), (1, 'feeling'), (1, 'feel'), (1, 'favourite'), (1, 'father,'), (1, 'father'), (1, 'fashion'), (1, 'factor'), (1, 'fact'), (1, 'face'), (1, 'eye'), (1, 'extensions,'), (1, 'extensions'), (1, 'experimental\",'), (1, 'experience'), (1, 'expecting'), (1, 'expected'), (1, 'executives'), (1, 'exciting\"'), (1, 'everything'), (1, 'ever'), (1, 'event'), (1, 'evenings,'), (1, 'even'), (1, 'ethical'), (1, 'episodes[44]'), (1, 'episodes[43]'), (1, 'entertainment'), (1, 'entered'), (1, 'enter'), (1, 'engagement.[36]'), (1, 'end'), (1, 'encyclopedia'), (1, 'encore'), (1, 'emulate'), (1, 'election.[40]'), (1, 'eight'), (1, 'effort'), (1, 'editions'), (1, 'edition'), (1, 'edited'), (1, 'each'), (1, 'due'), (1, 'drove'), (1, 'drew'), (1, 'drawn'), (1, 'dramas,'), (1, 'drama'), (1, 'download'), (1, 'double-platinum'), (1, 'donation'), (1, 'donated'), (1, 'don\\'t\".'), (1, \"don't\"), (1, 'doing'), (1, 'documentary,'), (1, 'documentaries,'), (1, 'divorce.[37]'), (1, 'divorce\".'), (1, 'divorce'), (1, 'div.'), (1, 'dispute'), (1, 'disk.[12]'), (1, 'discography'), (1, 'disappointing'), (1, 'despite'), (1, 'designed'), (1, 'described'), (1, 'delay'), (1, 'defending'), (1, 'decision'), (1, 'decade'), (1, 'debuted'), (1, 'deal\".'), (1, 'day'), (1, 'daughters.'), (1, 'daughter,'), (1, 'date,'), (1, 'date\".'), (1, 'date'), (1, 'databases'), (1, 'dancing'), (1, 'dancer'), (1, 'dancehall'), (1, 'dance-offs,'), (1, 'dance'), (1, 'critics'), (1, 'criticised'), (1, 'critical'), (1, 'created'), (1, 'court\".'), (1, 'counterpart,'), (1, 'cook'), (1, 'convicted'), (1, 'control'), (1, 'contributed'), (1, 'contribute'), (1, 'contracts'), (1, 'contract'), (1, 'contestants'), (1, 'contestant\".'), (1, 'contestant'), (1, 'contemporary'), (1, 'conjunction'), (1, 'confused'), (1, 'concert.'), (1, 'concert'), (1, 'compilation'), (1, 'competition.'), (1, 'competition'), (1, 'compared'), (1, 'commercially'), (1, 'commented'), (1, 'collectively'), (1, 'collection.[18]'), (1, 'collection,'), (1, \"collection's\"), (1, 'collection'), (1, 'coached'), (1, 'coach.[20]'), (1, 'co-written'), (1, 'co-hosted'), (1, 'claims'), (1, 'claiming'), (1, 'claimed'), (1, 'chorus'), (1, 'childhood'), (1, 'child.[38]'), (1, 'chat'), (1, 'charts'), (1, 'charted'), (1, 'charity'), (1, 'channel'), (1, 'certified.'), (1, 'certification.[12]'), (1, 'certification.'), (1, 'celebrity'), (1, 'celebrations'), (1, 'category.'), (1, 'cast'), (1, 'cappella'), (1, 'came'), (1, 'calling'), (1, 'brighter\".'), (1, 'brevity'), (1, 'brand'), (1, 'boyfriend'), (1, 'bottle'), (1, 'bosses'), (1, 'book'), (1, 'blamed'), (1, 'birthsLiving'), (1, 'birthday'), (1, 'behind'), (1, 'before.'), (1, 'before'), (1, 'becoming'), (1, 'become'), (1, 'baby'), (1, 'axed'), (1, 'away\"'), (1, 'awareness'), (1, 'awarded'), (1, 'autobiography,'), (1, 'authoring'), (1, 'asked'), (1, 'artwork.[17]'), (1, 'artwork'), (1, 'artistsSingers'), (1, 'artists'), (1, 'article:'), (1, 'are'), (1, 'apply.'), (1, 'appearing'), (1, 'appearances.'), (1, 'appearances'), (1, 'appearance,'), (1, 'any'), (1, 'another'), (1, 'amongst'), (1, 'amid'), (1, 'ambassador'), (1, 'amazing\".'), (1, 'always'), (1, 'alongside'), (1, 'alone,'), (1, 'almost'), (1, 'all'), (1, 'albums.'), (1, 'album.[16]'), (1, 'ahead'), (1, 'agree'), (1, 'agency'), (1, 'against'), (1, 'afterwards'), (1, 'aforementioned'), (1, 'advertisement'), (1, 'additional'), (1, 'addition,'), (1, 'added'), (1, 'actressesIvor'), (1, 'actress'), (1, 'actors'), (1, 'active'), (1, 'act'), (1, 'account'), (1, 'abusive'), (1, '[2]'), (1, '[1]'), (1, 'Zimbabwean'), (1, 'Young.'), (1, 'You?'), (1, 'You\"[52]'), (1, 'You\".[33][34]'), (1, 'Ya!.'), (1, 'X'), (1, 'Would'), (1, 'WorldUniversal'), (1, 'Work'), (1, 'Word,'), (1, 'Won'), (1, 'Women.'), (1, \"Women'\"), (1, 'Winners'), (1, \"Winner's\"), (1, 'Williams'), (1, 'Will'), (1, 'WikipediaÂ®'), (1, 'WikipediaThe'), (1, 'WikipediaDisclaimersContact'), (1, 'WikipediaCode'), (1, 'Wikipedia,'), (1, 'Wikipedia'), (1, 'Wikidata'), (1, 'Wightman,'), (1, 'Width'), (1, 'Wide'), (1, 'Westwood\".'), (1, 'Westmoreland.[8]'), (1, 'Weekend'), (1, 'Wednesday'), (1, 'Website'), (1, 'Ways'), (1, 'Warner,'), (1, 'Want'), (1, 'Wallen,'), (1, 'Wales.'), (1, 'Wales'), (1, 'WAR'), (1, 'Vote\".'), (1, 'Vimeo.'), (1, 'View'), (1, 'Vernon'), (1, 'Valentine'), (1, 'Ustream.tv.[19]'), (1, 'Usher'), (1, 'Use'), (1, 'Upcoming'), (1, 'Under'), (1, 'Ultimately,'), (1, 'Uganda'), (1, 'UN,'), (1, 'UK\".'), (1, 'Trust'), (1, 'Tristan'), (1, 'Town'), (1, 'Tour:'), (1, 'Tour'), (1, 'Tools'), (1, 'Toni'), (1, 'Toggle'), (1, 'Tiziano'), (1, 'Title'), (1, 'Tipping'), (1, 'Tindall,'), (1, 'Timberlake'), (1, 'Tim'), (1, 'Tiani,'), (1, 'Three.'), (1, \"Three's\"), (1, 'Terry'), (1, 'Terms'), (1, 'Ten.'), (1, 'Teja'), (1, 'Technology'), (1, 'Tatiana'), (1, 'Tamara'), (1, 'Talk'), (1, 'Taking'), (1, 'TV.'), (1, 'TMF'), (1, 'Sweden.'), (1, 'Sussex.'), (1, 'Survive\".'), (1, 'Superstar:'), (1, 'Superstar'), (1, 'Sugababes'), (1, 'Subsequently,'), (1, 'Studio'), (1, 'Stronger'), (1, 'Street,'), (1, \"Stranglers'\"), (1, 'Stories'), (1, 'Store\".'), (1, 'Stephen'), (1, 'Staying'), (1, 'Staveley,'), (1, \"Star's\"), (1, 'Squares\".'), (1, 'Squares'), (1, 'Spouse'), (1, 'Special'), (1, 'Speare-Cole,'), (1, 'Spanish'), (1, 'Spain'), (1, 'Sorry,'), (1, 'Songs'), (1, 'Something'), (1, 'Solo'), (1, 'Solid'), (1, 'Softmint'), (1, 'Smash'), (1, 'Small'), (1, 'Single.'), (1, 'Single,'), (1, 'Singersongwriteractresstelevision'), (1, 'Singer'), (1, 'Since'), (1, \"Show's\"), (1, 'Short'), (1, \"Shop's\"), (1, 'Shame\"'), (1, 'Shaggy'), (1, 'Seraphine,'), (1, 'September,'), (1, 'Sensation,'), (1, 'Saturday'), (1, 'Santa'), (1, 'Ryan'), (1, 'Rougeberry'), (1, 'Rosita'), (1, 'Room'), (1, 'Role'), (1, 'Reloaded.'), (1, 'Relief,'), (1, 'Regular'), (1, 'Reebok.'), (1, 'Records,'), (1, 'Records'), (1, 'Recognition'), (1, 'Rebecca'), (1, 'Reason,'), (1, 'Really'), (1, 'Read'), (1, 'Reach.'), (1, \"Ramsay's\"), (1, 'Rah'), (1, 'RTÃ‰.'), (1, 'RTÃ‰'), (1, 'ROAR'), (1, \"REM's\"), (1, 'R&B[2]pop[3]hip'), (1, 'R&B-influenced'), (1, 'Queens'), (1, 'Queen.'), (1, 'Promoting'), (1, 'Productions.'), (1, 'Proceeds'), (1, 'Princes'), (1, 'Primary'), (1, 'Pretty'), (1, \"Preston's\"), (1, 'Presenter[41]'), (1, 'Presenter'), (1, 'Preece,'), (1, 'Prayer\".'), (1, 'Prayer\"'), (1, 'Powell'), (1, 'Popjustice.'), (1, 'Polly'), (1, 'Policy.'), (1, 'Pointless'), (1, 'Plus'), (1, 'Peter'), (1, 'Performed'), (1, 'People'), (1, 'Paulette'), (1, 'Paul'), (1, 'Patterson,'), (1, 'Paton,'), (1, 'Parts'), (1, 'Participant'), (1, 'Parlophone\".'), (1, 'Park.[32]'), (1, 'Parent'), (1, 'Paradise,'), (1, 'Paradise'), (1, 'Pantomime.'), (1, 'Oxfam'), (1, \"Outkast's\"), (1, 'Out'), (1, 'Orion.'), (1, 'Only'), (1, 'Online.'), (1, 'One'), (1, 'Onboard\"'), (1, 'Olympic'), (1, 'Off'), (1, 'Of'), (1, 'Occupations'), (1, \"O'Grady\"), (1, \"O'Conor,\"), (1, \"O'Connor\"), (1, 'Nutopia,'), (1, 'Number'), (1, 'Notes'), (1, 'Not'), (1, 'Nominated'), (1, 'News'), (1, 'Newcomer,'), (1, 'Natural'), (1, 'National'), (1, 'NRJ'), (1, 'Musical'), (1, 'MusicOMH.'), (1, 'Music\".'), (1, 'Museum'), (1, 'Murphy,'), (1, 'Mums.'), (1, 'Mums\".'), (1, 'Mums'), (1, 'Mouth'), (1, 'Most'), (1, 'Morrissey-solo'), (1, 'Month.'), (1, 'Money.'), (1, 'Money,'), (1, 'Model.Me'), (1, \"Mode's\"), (1, 'Mirror'), (1, 'MidlandsPeople'), (1, 'MidlandsActresses'), (1, 'Midlands,'), (1, 'Midlands'), (1, 'Metro.'), (1, 'Mercury'), (1, 'Meest'), (1, 'MediaWiki'), (1, 'Media.'), (1, 'Me...'), (1, 'Me,'), (1, \"Me',\"), (1, 'Me\".'), (1, 'Me\",'), (1, 'Max'), (1, 'Maureen'), (1, 'Masterchef'), (1, 'Martin'), (1, 'Marathon.'), (1, 'Marathon'), (1, 'Manrara.'), (1, \"Mandela's\"), (1, 'Mandela'), (1, 'Man'), (1, 'Mail.'), (1, 'Magic'), (1, 'MacManus.'), (1, \"MTV's\"), (1, 'MGN.'), (1, 'Lynch.'), (1, 'Lovejoy.'), (1, 'Love,'), (1, 'Love\".'), (1, 'Lottery'), (1, 'Lopez,'), (1, 'London'), (1, 'Log'), (1, 'Live.'), (1, 'Live'), (1, 'Little\"'), (1, 'Listerine'), (1, 'Light'), (1, 'Lie'), (1, 'License;'), (1, 'Lemar'), (1, 'Lars'), (1, 'Large'), (1, 'Lady'), (1, 'Labels'), (1, 'Kool'), (1, 'Known'), (1, 'Know\\'\".'), (1, 'Kingshurst\"'), (1, 'Keys,'), (1, 'Kenya,'), (1, 'Keisha'), (1, \"Kay's\"), (1, 'Kate'), (1, 'Karelina'), (1, 'Kairo'), (1, 'K'), (1, 'Justin'), (1, 'Jones:'), (1, 'John'), (1, 'Johannesburg'), (1, 'Jesus\"'), (1, 'Jennifer'), (1, 'Janette'), (1, 'Jamil.'), (1, 'JameliaOver'), (1, 'Jamelia.'), (1, 'Jamelia\".'), (1, 'Jamelia\"'), (1, 'Jameela'), (1, 'Jamaican;'), (1, 'Jamaican'), (1, 'Jaguar'), (1, 'Jackson.'), (1, 'Ivor'), (1, 'Its'), (1, 'Italy'), (1, 'Italian'), (1, \"It's\"), (1, 'Ireland\".'), (1, 'Interview\".'), (1, 'International'), (1, 'Institution'), (1, 'Inspective'), (1, 'India'), (1, 'Inc.,'), (1, 'Immediate'), (1, 'ITV.com.'), (1, 'ITV.[24]'), (1, \"ITV's\"), (1, 'ITV\".'), (1, 'IMDb.com.'), (1, 'IMDb.'), (1, 'IMDb'), (1, 'ICM.'), (1, 'Hyde'), (1, 'Hurts\"'), (1, 'Huge'), (1, 'Hotel'), (1, 'Hollyoaks,'), (1, 'Hockley[9]'), (1, 'Hits:'), (1, 'Hits.'), (1, 'Hits'), (1, 'Hit'), (1, 'History'), (1, 'Hey'), (1, 'Heist'), (1, 'Haunted'), (1, 'Harry'), (1, 'Harpers'), (1, 'Hammond'), (1, 'HIV'), (1, \"Guy',\"), (1, 'Guy'), (1, 'Guild.'), (1, 'Guest'), (1, \"Grylls'\"), (1, 'Grylls'), (1, 'Great'), (1, 'Got'), (1, 'Good'), (1, 'Gold'), (1, \"Gok's\"), (1, 'Global'), (1, 'Girls'), (1, 'George'), (1, 'Genres'), (1, 'Gear,'), (1, 'Gear'), (1, \"Gang's\"), (1, 'Games\".'), (1, 'Gaga'), (1, 'From'), (1, 'Free'), (1, 'Fredericks'), (1, 'France'), (1, 'FoundationPowered'), (1, 'Foundation.'), (1, 'Foundation,'), (1, 'Forums.'), (1, 'Fortunes'), (1, 'Foreign'), (1, 'Fletcher,'), (1, 'Fletcher'), (1, 'Fix'), (1, 'Film'), (1, 'Ferro'), (1, 'Female.[6]'), (1, 'Female,'), (1, 'Felix'), (1, \"Feeder's\"), (1, 'Feeder'), (1, 'Family'), (1, 'Factor'), (1, 'FacebookTijdlijnOver'), (1, 'F'), (1, 'Eyes\",'), (1, 'Exhibition'), (1, 'Eska'), (1, 'England\".'), (1, 'Encyclopedia'), (1, 'Emmerdale\".'), (1, 'Elle'), (1, 'Edge'), (1, 'Easter'), (1, \"Earl's\"), (1, 'EMI.'), (1, 'E4.'), (1, 'E4'), (1, 'Drama,'), (1, 'Door\",'), (1, 'Door\"'), (1, 'Donate'), (1, \"Don't\"), (1, 'Dog\\'\".'), (1, 'Dog\".'), (1, 'Dog\",'), (1, 'Dog\"'), (1, 'Doctors:'), (1, 'Doctors.[21]'), (1, 'Do\".'), (1, 'Do\",'), (1, 'Do\"'), (1, 'Dixon'), (1, 'Divas'), (1, 'Disney'), (1, 'Dion'), (1, 'Dinner.'), (1, 'Digga;'), (1, 'Dictionary'), (1, 'Diary'), (1, 'Diamond'), (1, 'Detective'), (1, \"Destiny's\"), (1, 'Despite'), (1, 'Depeche'), (1, 'De'), (1, 'Day'), (1, 'Davison,'), (1, 'Davis.'), (1, 'Dating.[29]'), (1, 'Darlings:'), (1, 'Darlings\"'), (1, 'Dark'), (1, 'Daniel'), (1, 'Dancing.[25]'), (1, \"Dancing's\"), (1, 'DJ'), (1, 'Cyril'), (1, 'Crime'), (1, 'Creators\".'), (1, 'Creative'), (1, 'Create'), (1, 'Cover'), (1, 'Court'), (1, 'Country.'), (1, 'Country'), (1, 'Countdown'), (1, 'Cosmopolitan,'), (1, \"Coronet'\"), (1, 'Coronation'), (1, 'Corner'), (1, 'Cordor.'), (1, 'Corbyn,'), (1, 'Corbyn'), (1, 'Contents'), (1, 'ConductDevelopersStatisticsCookie'), (1, 'Company.'), (1, 'Company,'), (1, 'Company\".'), (1, 'Comic'), (1, 'Color'), (1, 'College.[10]'), (1, \"Coldplay's\"), (1, 'Coach,'), (1, 'Coach'), (1, 'City'), (1, 'Cinderella'), (1, 'Christmas?\",'), (1, 'Christmas'), (1, 'Christensen,'), (1, 'Christensen'), (1, 'Chris'), (1, 'Children'), (1, 'Child,'), (1, 'Child'), (1, 'Cherry'), (1, 'Charts,'), (1, 'Chart.'), (1, 'Charm\"'), (1, 'Champions'), (1, 'Certified'), (1, 'Centre'), (1, 'Celine'), (1, 'Celebrities'), (1, 'Cats'), (1, 'Catriona'), (1, 'Categories:'), (1, 'Cast'), (1, 'Cars'), (1, 'CapitolParlophoneAll'), (1, 'Cancer'), (1, 'Campbell,'), (1, \"Campbell's\"), (1, 'CV\".'), (1, 'Byfield;'), (1, 'By'), (1, 'Buchanan,'), (1, \"Brown's\"), (1, 'Brown\".'), (1, \"Brother's\"), (1, 'Brookfields'), (1, 'Brits.co.uk.'), (1, 'Britain'), (1, 'Bridget'), (1, 'Breast'), (1, 'Brandle'), (1, 'Boys)[7]'), (1, 'Boux\".[23]'), (1, 'Bourg),'), (1, 'Both'), (1, 'Born'), (1, 'Boots.'), (1, 'Boots'), (1, 'Body'), (1, 'Blog:'), (1, 'Blog\"'), (1, 'Black'), (1, 'Birmingham.'), (1, 'Billboard.'), (1, 'BeyoncÃ©,'), (1, 'Benchmark'), (1, 'Belovend'), (1, 'Beenie'), (1, 'Beckford,'), (1, 'Beckford\".'), (1, 'Beckford'), (1, 'Be'), (1, 'Band'), (1, 'Bake'), (1, 'Bailey.[26]'), (1, 'BMW,'), (1, 'BBC.'), (1, \"BBC's\"), (1, 'Awareness'), (1, 'Awards.'), (1, 'Awards,'), (1, 'Avenue.'), (1, 'Avenue'), (1, 'Automatic'), (1, 'Authority'), (1, 'Australia,'), (1, 'Attribution-ShareAlike'), (1, 'Ashley'), (1, 'As'), (1, 'Artist'), (1, 'Article'), (1, 'Apple'), (1, 'Appearance'), (1, 'Anyway'), (1, 'Anisa'), (1, 'Andre'), (1, 'Amy'), (1, 'American'), (1, 'Aloud,'), (1, 'AllMusic.'), (1, 'AllMusic'), (1, 'Alive'), (1, 'Alicia'), (1, 'Alice'), (1, 'Alex'), (1, 'Albums'), (1, 'Album'), (1, 'Aimee'), (1, 'Aids'), (1, 'Ahead\"'), (1, 'After'), (1, 'ActionAid,'), (1, 'Act[51]'), (1, 'Act[50]'), (1, 'Act.[6]'), (1, 'Act,'), (1, 'Academy,'), (1, 'Academy'), (1, 'AIDS.'), (1, 'A-side'), (1, 'A-list'), (1, '9:'), (1, '90th'), (1, '9,'), (1, '7:'), (1, '75;'), (1, '7,'), (1, '7\".'), (1, '65.'), (1, '61'), (1, '600,000'), (1, '5:'), (1, '55'), (1, '5,'), (1, '4[1]'), (1, '47'), (1, '46664'), (1, '43.'), (1, '43)'), (1, '42.'), (1, '40\".'), (1, '4.0'), (1, \"4's\"), (1, '39.'), (1, '37'), (1, '36th'), (1, '3,'), (1, '28,'), (1, '26th'), (1, '25'), (1, '21.[22]'), (1, '2023â€“2024'), (1, '2023,'), (1, '2023)'), (1, '2023'), (1, '2022,'), (1, '2022).'), (1, '2022'), (1, '2021.[27][28]'), (1, '2021,'), (1, '2019:'), (1, '2019,'), (1, '2019).'), (1, '2018.'), (1, '2018,'), (1, '2018).'), (1, '2018'), (1, '2016'), (1, '2015'), (1, '2013â€“2016'), (1, '2013â€“2014'), (1, '2013.'), (1, '2013).'), (1, '2012,'), (1, '2011,'), (1, '2011).'), (1, '2011'), (1, '2010).'), (1, '2010'), (1, '2009.[7]'), (1, '2009)â€‹'), (1, '2008â€“2013'), (1, '2008;'), (1, '2007).'), (1, '2006,'), (1, '2006).'), (1, '2006'), (1, '2005.'), (1, '2005,'), (1, '2005).[35]'), (1, '2004[13]'), (1, '2004:'), (1, \"2004's\"), (1, '2003,'), (1, '2002'), (1, '2001.'), (1, '2001,'), (1, '2000â€“2009'), (1, '1989'), (1, '1988'), (1, '1981)'), (1, '18â€“20'), (1, '18,'), (1, '162'), (1, '13[29]'), (1, '13:39'), (1, '13,'), (1, '12th'), (1, '11:'), (1, '101'), (1, '1.'), (1, \"1's\"), (1, '/'), (1, '(help)'), (1, '(featuring'), (1, '(beta)'), (1, '(age'), (1, '(UTC).'), (1, '(Top)'), (1, '(PDF).'), (1, '(PDF)'), (1, '(Original'), (1, '(Low)\".'), (1, '(February,'), (1, '(Belgium)'), (1, '(4'), (1, '(26'), (1, '(24'), (1, '(23'), (1, '(21'), (1, '(2022)[49]'), (1, '(2020)[48]'), (1, '(2017)'), (1, '(2016)[47]'), (1, '(2016)'), (1, '(2015)'), (1, '(2014)[46]'), (1, '(2014)'), (1, '(2012)'), (1, '(2010)'), (1, '(2008)[7]'), (1, '(2008),'), (1, '(2007â€“2011)'), (1, '(2007)'), (1, '(2006),'), (1, '(2006)'), (1, '(2000),'), (1, '(2000)'), (1, '(20'), (1, '(2'), (1, '(14'), (1, \"'superstar'\"), (1, \"'last\"), (1, \"'dropped'\"), (1, \"'blessed'\"), (1, \"'a\"), (1, \"'Toni\"), (1, \"'The\"), (1, \"'Model\"), (1, \"'Loose\"), (1, \"'I'd\"), (1, \"'Beware\"), (1, '\"the'), (1, '\"taken'), (1, '\"smashhits.net'), (1, '\"really'), (1, '\"might'), (1, '\"less'), (1, '\"iTunes'), (1, '\"feisty'), (1, '\"completed'), (1, '\"an'), (1, '\"absolutely'), (1, '\"You'), (1, '\"YATQ'), (1, '\"Waste'), (1, '\"Vocalist'), (1, '\"Tipping'), (1, '\"Time'), (1, '\"This'), (1, '\"The'), (1, '\"Text'), (1, '\"Superstar\".'), (1, '\"Straight'), (1, '\"Stop!\";'), (1, '\"Sorry,'), (1, '\"Series'), (1, '\"Sam'), (1, '\"Richard'), (1, '\"Personal'), (1, '\"Official'), (1, '\"Music'), (1, '\"Mike'), (1, '\"MTV'), (1, '\"Lucky'), (1, '\"Little'), (1, '\"Just'), (1, '\"Jamelia\\'s'), (1, '\"ITV'), (1, '\"Golden'), (1, '\"General'), (1, '\"Former'), (1, '\"Everybody'), (1, '\"Do'), (1, '\"Death'), (1, '\"DJ\".'), (1, '\"DJ\",'), (1, '\"Christmas'), (1, '\"Celebs'), (1, '\"Call'), (1, '\"Bout\",'), (1, '\"Birthday\"'), (1, '\"Bear'), (1, '\"Archive'), (1, '\"100%'), (1, '\"#3.3\"'), (1, '\"#2.7\"[42]'), (1, '\"#1.2\"'), (1, '\"#1.17\"'), (1, '\"#1.1044\"'), (1, '\"#1.1\"')]\n"
     ]
    }
   ],
   "source": [
    "from collections import defaultdict\n",
    "\n",
    "d = defaultdict(int)\n",
    "\n",
    "fid = open('jamelia.txt')\n",
    "for line in fid:\n",
    "    words = line.split()\n",
    "    for w in words:\n",
    "        d[w.strip()] += 1\n",
    "\n",
    "arr = []\n",
    "for key, value in d.items():\n",
    "    arr.append((value, key))\n",
    "\n",
    "print(sorted(arr)[::-1])\n"
   ]
  },
  {
   "cell_type": "code",
   "execution_count": 40,
   "metadata": {},
   "outputs": [],
   "source": [
    "fid = open('jamelia.txt')\n",
    "lines = fid.readlines()\n",
    "fid.close()\n",
    "\n",
    "fid2 = open('jamelia2.txt', 'w')\n",
    "for line in lines:\n",
    "    line = line.replace(\"the\", \"janabashka\")\n",
    "    fid2.write(line)\n",
    "fid2.close()"
   ]
  },
  {
   "cell_type": "code",
   "execution_count": 4,
   "metadata": {},
   "outputs": [
    {
     "name": "stdout",
     "output_type": "stream",
     "text": [
      "20 emil,bilgazyev,1984\n",
      "\n",
      "20 sultan,eraliev,2007\n",
      "\n",
      "17 atai,sultan,2874\n",
      "\n",
      "15 emir,aktan,1784\n"
     ]
    }
   ],
   "source": [
    "fid = open('user.csv', 'r')\n",
    "for i in fid:\n",
    "    print(len(i), i)\n",
    "fid.close()"
   ]
  },
  {
   "cell_type": "code",
   "execution_count": 6,
   "metadata": {},
   "outputs": [
    {
     "name": "stdout",
     "output_type": "stream",
     "text": [
      "3 ['emil', 'bilgazyev', '1984']\n",
      "3 ['sultan', 'eraliev', '2007']\n",
      "3 ['atai', 'sultan', '2874']\n",
      "3 ['emir', 'aktan', '1784']\n"
     ]
    }
   ],
   "source": [
    "from csv import reader\n",
    "fid = open('user.csv', 'r')\n",
    "lines = reader(fid)\n",
    "for i in lines:\n",
    "    print(len(i), i)\n",
    "fid.close()"
   ]
  },
  {
   "cell_type": "code",
   "execution_count": 8,
   "metadata": {},
   "outputs": [
    {
     "name": "stdout",
     "output_type": "stream",
     "text": [
      "[0, 1, 2, 3, 4, 5, 6, 7, 8, 9, 10, 11, 12, 13, 14, 15, 16, 17, 18, 19, 20, 21, 22, 23, 24, 25, 26, 27, 28, 29, 30, 31, 32, 33, 34, 35, 36, 37, 38, 39, 40, 41, 42, 43, 44, 45, 46, 47, 48, 49, 50, 51, 52, 53, 54, 55, 56, 57, 58, 59, 60, 61, 62, 63, 64, 65, 66, 67, 68, 69, 70, 71, 72, 73, 74, 75, 76, 77, 78, 79, 80, 81, 82, 83, 84, 85, 86, 87, 88, 89, 90, 91, 92, 93, 94, 95, 96, 97, 98, 99]\n"
     ]
    }
   ],
   "source": [
    "arr = list(range(100))\n",
    "print(arr)"
   ]
  },
  {
   "cell_type": "code",
   "execution_count": 11,
   "metadata": {},
   "outputs": [
    {
     "name": "stdout",
     "output_type": "stream",
     "text": [
      "[[1, 1, 1, 1, 1, 1], [1, 2, 2, 1, 4, 4], [1, 3, 3, 1, 9, 9], [1, 4, 4, 1, 16, 16], [1, 5, 5, 1, 25, 25], [1, 6, 6, 1, 36, 36], [1, 7, 7, 1, 49, 49], [1, 8, 8, 1, 64, 64], [1, 9, 9, 1, 81, 81], [2, 1, 2, 4, 1, 4], [2, 2, 4, 4, 4, 16], [2, 3, 6, 4, 9, 36], [2, 4, 8, 4, 16, 64], [2, 5, 10, 4, 25, 100], [2, 6, 12, 4, 36, 144], [2, 7, 14, 4, 49, 196], [2, 8, 16, 4, 64, 256], [2, 9, 18, 4, 81, 324], [3, 1, 3, 9, 1, 9], [3, 2, 6, 9, 4, 36], [3, 3, 9, 9, 9, 81], [3, 4, 12, 9, 16, 144], [3, 5, 15, 9, 25, 225], [3, 6, 18, 9, 36, 324], [3, 7, 21, 9, 49, 441], [3, 8, 24, 9, 64, 576], [3, 9, 27, 9, 81, 729], [4, 1, 4, 16, 1, 16], [4, 2, 8, 16, 4, 64], [4, 3, 12, 16, 9, 144], [4, 4, 16, 16, 16, 256], [4, 5, 20, 16, 25, 400], [4, 6, 24, 16, 36, 576], [4, 7, 28, 16, 49, 784], [4, 8, 32, 16, 64, 1024], [4, 9, 36, 16, 81, 1296], [5, 1, 5, 25, 1, 25], [5, 2, 10, 25, 4, 100], [5, 3, 15, 25, 9, 225], [5, 4, 20, 25, 16, 400], [5, 5, 25, 25, 25, 625], [5, 6, 30, 25, 36, 900], [5, 7, 35, 25, 49, 1225], [5, 8, 40, 25, 64, 1600], [5, 9, 45, 25, 81, 2025], [6, 1, 6, 36, 1, 36], [6, 2, 12, 36, 4, 144], [6, 3, 18, 36, 9, 324], [6, 4, 24, 36, 16, 576], [6, 5, 30, 36, 25, 900], [6, 6, 36, 36, 36, 1296], [6, 7, 42, 36, 49, 1764], [6, 8, 48, 36, 64, 2304], [6, 9, 54, 36, 81, 2916], [7, 1, 7, 49, 1, 49], [7, 2, 14, 49, 4, 196], [7, 3, 21, 49, 9, 441], [7, 4, 28, 49, 16, 784], [7, 5, 35, 49, 25, 1225], [7, 6, 42, 49, 36, 1764], [7, 7, 49, 49, 49, 2401], [7, 8, 56, 49, 64, 3136], [7, 9, 63, 49, 81, 3969], [8, 1, 8, 64, 1, 64], [8, 2, 16, 64, 4, 256], [8, 3, 24, 64, 9, 576], [8, 4, 32, 64, 16, 1024], [8, 5, 40, 64, 25, 1600], [8, 6, 48, 64, 36, 2304], [8, 7, 56, 64, 49, 3136], [8, 8, 64, 64, 64, 4096], [8, 9, 72, 64, 81, 5184], [9, 1, 9, 81, 1, 81], [9, 2, 18, 81, 4, 324], [9, 3, 27, 81, 9, 729], [9, 4, 36, 81, 16, 1296], [9, 5, 45, 81, 25, 2025], [9, 6, 54, 81, 36, 2916], [9, 7, 63, 81, 49, 3969], [9, 8, 72, 81, 64, 5184], [9, 9, 81, 81, 81, 6561]]\n"
     ]
    }
   ],
   "source": [
    "from csv import writer\n",
    "fid = open('tablitsa.csv', 'w')\n",
    "file = writer(fid)\n",
    "matrix = []\n",
    "for i in range(1,10):\n",
    "    for j in range(1,10):\n",
    "        matrix.append([i, j, i*j, i**2, j**2, i**2 * j**2])\n",
    "file.writerows(matrix)\n",
    "print(matrix)\n",
    "fid.close()\n"
   ]
  },
  {
   "cell_type": "code",
   "execution_count": 1,
   "metadata": {},
   "outputs": [
    {
     "ename": "FileNotFoundError",
     "evalue": "[Errno 2] No such file or directory: 'exams.csv'",
     "output_type": "error",
     "traceback": [
      "\u001b[1;31m---------------------------------------------------------------------------\u001b[0m",
      "\u001b[1;31mFileNotFoundError\u001b[0m                         Traceback (most recent call last)",
      "Cell \u001b[1;32mIn[1], line 32\u001b[0m\n\u001b[0;32m     28\u001b[0m             \u001b[38;5;28;01mpass\u001b[39;00m\n\u001b[0;32m     31\u001b[0m \u001b[38;5;28;01mfrom\u001b[39;00m \u001b[38;5;21;01mcsv\u001b[39;00m \u001b[38;5;28;01mimport\u001b[39;00m reader\n\u001b[1;32m---> 32\u001b[0m fid \u001b[38;5;241m=\u001b[39m \u001b[38;5;28;43mopen\u001b[39;49m\u001b[43m(\u001b[49m\u001b[38;5;124;43m'\u001b[39;49m\u001b[38;5;124;43mexams.csv\u001b[39;49m\u001b[38;5;124;43m'\u001b[39;49m\u001b[43m,\u001b[49m\u001b[43m \u001b[49m\u001b[38;5;124;43m'\u001b[39;49m\u001b[38;5;124;43mr\u001b[39;49m\u001b[38;5;124;43m'\u001b[39;49m\u001b[43m)\u001b[49m\n\u001b[0;32m     33\u001b[0m csv_reader \u001b[38;5;241m=\u001b[39m reader(fid)\n\u001b[0;32m     34\u001b[0m header \u001b[38;5;241m=\u001b[39m \u001b[38;5;28;01mNone\u001b[39;00m\n",
      "File \u001b[1;32m~\\AppData\\Local\\Packages\\PythonSoftwareFoundation.Python.3.11_qbz5n2kfra8p0\\LocalCache\\local-packages\\Python311\\site-packages\\IPython\\core\\interactiveshell.py:324\u001b[0m, in \u001b[0;36m_modified_open\u001b[1;34m(file, *args, **kwargs)\u001b[0m\n\u001b[0;32m    317\u001b[0m \u001b[38;5;28;01mif\u001b[39;00m file \u001b[38;5;129;01min\u001b[39;00m {\u001b[38;5;241m0\u001b[39m, \u001b[38;5;241m1\u001b[39m, \u001b[38;5;241m2\u001b[39m}:\n\u001b[0;32m    318\u001b[0m     \u001b[38;5;28;01mraise\u001b[39;00m \u001b[38;5;167;01mValueError\u001b[39;00m(\n\u001b[0;32m    319\u001b[0m         \u001b[38;5;124mf\u001b[39m\u001b[38;5;124m\"\u001b[39m\u001b[38;5;124mIPython won\u001b[39m\u001b[38;5;124m'\u001b[39m\u001b[38;5;124mt let you open fd=\u001b[39m\u001b[38;5;132;01m{\u001b[39;00mfile\u001b[38;5;132;01m}\u001b[39;00m\u001b[38;5;124m by default \u001b[39m\u001b[38;5;124m\"\u001b[39m\n\u001b[0;32m    320\u001b[0m         \u001b[38;5;124m\"\u001b[39m\u001b[38;5;124mas it is likely to crash IPython. If you know what you are doing, \u001b[39m\u001b[38;5;124m\"\u001b[39m\n\u001b[0;32m    321\u001b[0m         \u001b[38;5;124m\"\u001b[39m\u001b[38;5;124myou can use builtins\u001b[39m\u001b[38;5;124m'\u001b[39m\u001b[38;5;124m open.\u001b[39m\u001b[38;5;124m\"\u001b[39m\n\u001b[0;32m    322\u001b[0m     )\n\u001b[1;32m--> 324\u001b[0m \u001b[38;5;28;01mreturn\u001b[39;00m \u001b[43mio_open\u001b[49m\u001b[43m(\u001b[49m\u001b[43mfile\u001b[49m\u001b[43m,\u001b[49m\u001b[43m \u001b[49m\u001b[38;5;241;43m*\u001b[39;49m\u001b[43margs\u001b[49m\u001b[43m,\u001b[49m\u001b[43m \u001b[49m\u001b[38;5;241;43m*\u001b[39;49m\u001b[38;5;241;43m*\u001b[39;49m\u001b[43mkwargs\u001b[49m\u001b[43m)\u001b[49m\n",
      "\u001b[1;31mFileNotFoundError\u001b[0m: [Errno 2] No such file or directory: 'exams.csv'"
     ]
    }
   ],
   "source": [
    "def encrypt(string, dt):\n",
    "        txt = ''\n",
    "        for c in string:\n",
    "            try:\n",
    "                txt += dt[c]\n",
    "            except:\n",
    "                txt += c\n",
    "        return txt\n",
    "#['6g1OBVP nrV$BgV0', '100', '', '100', '', '100', '75', '100', '60', '95', '', '', '', '', '', '', '', '']\n",
    "def nash_avg(arr):\n",
    "    s = 0\n",
    "    count = 0\n",
    "    for i in arr:\n",
    "        try:\n",
    "            s += int(i)\n",
    "            count += 1\n",
    "        except:\n",
    "            pass\n",
    "    return round(s/7), count\n",
    "\n",
    "\n",
    "def count_students(grades, counter):\n",
    "    for i in range(len(grades)):\n",
    "        try:\n",
    "            int(grades[i])\n",
    "            counter[i] += 1\n",
    "        except:\n",
    "            pass\n",
    "\n",
    "\n",
    "from csv import reader\n",
    "fid = open('exams.csv', 'r')\n",
    "csv_reader = reader(fid)\n",
    "header = None\n",
    "result = []\n",
    "for row in csv_reader:\n",
    "    if not header:\n",
    "        header = row[2:]\n",
    "        counter = [0 for i in header]\n",
    "    else:\n",
    "        #print(encrypt(row[1]),  nash_avg(row[2:]))\n",
    "        name = row[1]\n",
    "        if 'Jaina' in name:\n",
    "            print(name)\n",
    "        else:\n",
    "            \n",
    "            result.append( (nash_avg(row[2:]), encrypt(encrypt(row[1], d), d2)))\n",
    "\n",
    "from time import sleep\n",
    "\n",
    "for avg, name in sorted(result)[::-1][:10]:\n",
    "    print(name, avg)\n",
    "\n",
    "# for N in range(1, 60):\n",
    "#     for i in sorted(result)[-N:]:\n",
    "#         #print(i)\n",
    "#         pass\n",
    "#     print('***************\\n\\n')\n",
    "#     n = N*20\n",
    "#     print('putting to pause for = ', n, ' seconds')\n",
    "#     sleep(0)"
   ]
  },
  {
   "cell_type": "code",
   "execution_count": 14,
   "metadata": {},
   "outputs": [
    {
     "name": "stdout",
     "output_type": "stream",
     "text": [
      "09/03/2024 57 78 20 100\n",
      "09/09/2024 51 75 0 100\n",
      "09/11/2024 6 76 50 100\n",
      "09/16/2024 53 56 0 110\n",
      "09/18/2024 53 75 5 105\n",
      "09/23/2024 54 67 0 100\n",
      "09/24/2024 51 61 20 100\n",
      "10/02/2024 49 65 0 100\n"
     ]
    }
   ],
   "source": [
    "\n",
    "def count_students(grades, counter, summa, min, max):\n",
    "    for i in range(len(grades)):\n",
    "        try:\n",
    "            g = int(grades[i])\n",
    "            counter[i] += 1\n",
    "            summa[i] += g\n",
    "            if min[i] > g:\n",
    "                min[i]= g\n",
    "            if max[i] < g:\n",
    "                max[i] = g\n",
    "                \n",
    "        except:\n",
    "            s = 0\n",
    "\n",
    "\n",
    "from csv import reader\n",
    "fid = open('exams.csv', 'r')\n",
    "csv_reader = reader(fid)\n",
    "header = None\n",
    "result = []\n",
    "for row in csv_reader:\n",
    "    if not header:\n",
    "        header = row[2:]\n",
    "        counter = [0 for i in header]\n",
    "        summa = [0 for i in header]\n",
    "        min = [float('+inf') for i in header]\n",
    "        max = [float('-inf') for i in header]\n",
    "    else:\n",
    "        count_students(row[2:], counter, summa, min, max)\n",
    "\n",
    "for date, count,s,mn,mx in zip(header, counter, summa, min, max):\n",
    "    if count > 0:\n",
    "        print(date, count, s//count, mn , mx)"
   ]
  },
  {
   "cell_type": "code",
   "execution_count": 18,
   "metadata": {},
   "outputs": [
    {
     "name": "stdout",
     "output_type": "stream",
     "text": [
      "09/03/2024 5 ['Ismailbek Nurjanov', 'Muhammed Kadirkulov', 'Aknazar Beishaliev', '', '']\n",
      "09/09/2024 11 ['Baystan Jildizbekov', 'Tolonbek Abdibekov', 'Almaz Tutashbaev', 'Shergazi Eraliev', 'Dair Ainakulov', 'Omurbek Seitbekov', 'Muhammed Kadirkulov', 'Aziz Kalmatov', 'Aknazar Beishaliev', '', '']\n",
      "09/11/2024 56 ['Barsbek Umetbaev', 'Jainagul Joodonbek kizi', 'Baystan Jildizbekov', 'Alienora Kurbanbekova', 'Tinchtikbek Rahmatulin', 'Bekbolsun Ismanov', 'Daniial Va-Ahunov', 'Aman Anarbekov', 'Alimhan Seydakmatov', 'Salma Aydralieva', 'Erlan Balabekov', 'Aiatulla Turatbaev', 'Alimbek Mamatjanov', 'Tolonbek Abdibekov', 'Nazima Dildebeka', 'Almaz Tutashbaev', 'Azim Ishenbaev', 'Diaz Kenjetaev', 'Elina Baktigulova', 'Kubanich Kaparov', 'Kutman Melisov', 'Sumaya Nasiridinova', 'Aktan Asanaliev', 'Shergazi Eraliev', 'Adina Tagaeva', 'Nurdin Ismailov', 'Eleonora Asanova', 'Aktanbek Keneshov', 'Azamjan Umarov', 'Gulnura Onolbekova', 'Aiana Cherikova', 'Aiana Tologonova', 'Alaman Risbekov', 'Nasipa Abdiraimova', 'Aktan Mamatjanova', 'Altinbek Tashtanov', 'Dair Ainakulov', 'Talant Mataev', 'Umar Isakov', 'Janishbek Tinibekov', 'Atabek Aitiev', 'Daniar Karimov', 'Erbol Ruslanov', 'Omurbek Seitbekov', 'Almaz Abdimanapov', 'Akbar Sharipov', 'Intimak Almazbek uulu', 'Nurmuhammed Kalmamatov', 'Bekbolsun Kerimov', 'Bermet Arstanalieva', 'Ismailbek Nurjanov', 'Muhammed Kadirkulov', 'Aziz Kalmatov', 'Aknazar Beishaliev', '', '']\n",
      "09/16/2024 9 ['Tinchtikbek Rahmatulin', 'Azim Ishenbaev', 'Nurjigit Nurgaliev', 'Azamjan Umarov', 'Janishbek Tinibekov', 'Muhammed Kadirkulov', 'Aknazar Beishaliev', '', '']\n",
      "09/18/2024 9 ['Nurjigit Nurgaliev', 'Shergazi Eraliev', 'Adina Tagaeva', 'Aiana Tologonova', 'Aktan Mamatjanova', 'Muhammed Kadirkulov', 'Aknazar Beishaliev', '', '']\n",
      "09/23/2024 8 ['Tinchtikbek Rahmatulin', 'Atai Mambetov', 'Nurjigit Nurgaliev', 'Aiana Tologonova', 'Aktan Mamatjanova', 'Bekbolsun Kerimov', '', '']\n",
      "09/24/2024 11 ['Tinchtikbek Rahmatulin', 'Nazima Dildebeka', 'Atai Mambetov', 'Nurjigit Nurgaliev', 'Aktan Mamatjanova', 'Altinbek Tashtanov', 'Umar Isakov', 'Atabek Aitiev', 'Bekbolsun Kerimov', '', '']\n",
      "10/02/2024 13 ['Tinchtikbek Rahmatulin', 'Diaz Kenjetaev', 'Kubanich Kaparov', 'Sumaya Nasiridinova', 'Shergazi Eraliev', 'Nurdin Ismailov', 'Aiana Cherikova', 'Aktan Mamatjanova', 'Bekbolsun Kerimov', 'Muhammed Kadirkulov', 'Aziz Kalmatov', '', '']\n"
     ]
    }
   ],
   "source": [
    "\n",
    "def count_missing(name, grades, missing, count):\n",
    "    for i in range(len(grades)):\n",
    "        try:\n",
    "            int(grades[i])\n",
    "            count[i] += 1\n",
    "        except:\n",
    "            missing[i].append(name)\n",
    "\n",
    "\n",
    "from csv import reader\n",
    "fid = open('exams.csv', 'r')\n",
    "csv_reader = reader(fid)\n",
    "header = None\n",
    "result = []\n",
    "for row in csv_reader:\n",
    "    if not header:\n",
    "        header = row[2:]\n",
    "        counter = [0 for i in header]\n",
    "        missing = [[] for i in header]\n",
    "    else:\n",
    "        count_missing(row[1], row[2:], missing, counter)\n",
    "\n",
    "for date, count, m in zip(header, counter, missing):\n",
    "    if count > 0:\n",
    "        print(date, len(m), m)"
   ]
  },
  {
   "cell_type": "code",
   "execution_count": 18,
   "metadata": {},
   "outputs": [
    {
     "name": "stdout",
     "output_type": "stream",
     "text": [
      "29\n",
      "nurjigit 65\n",
      "azam 58\n",
      "aziz 55\n",
      "aktanbek keneshov 80\n",
      "diaz 73\n",
      "barsbek 90\n",
      "salma 75\n",
      "atai 65\n",
      "aktan 90\n",
      "nasipa 55\n",
      "alimhan 65\n",
      "adina 72\n",
      "kutman 52\n",
      "bekbolsun kerimov 88\n",
      "omurbek 78\n",
      "yntymak 75\n",
      "nazima 37\n",
      "bermet 47\n",
      "jayna 34\n",
      "ela 68\n",
      "ismail 87\n",
      "altynbek 59\n",
      "elina 53\n",
      "aliya 31\n",
      "azim 70\n",
      "nurtilek 54\n",
      "kutman duyshonov 65\n",
      "ayana 74\n",
      "tynchtyk 82\n"
     ]
    }
   ],
   "source": [
    "from random import randint, shuffle\n",
    "names = ['aktan', 'barsbek', 'aziz', 'kutman', 'alimhan', \n",
    "             'kutman duyshonov', 'aktanbek keneshov', 'altynbek', 'aliya', 'elina', \n",
    "             'adina', 'tynchtyk', 'yntymak', 'nurtilek', 'azim', \n",
    "             'atai', 'ismail', 'omurbek', 'nurjigit', 'nazima', 'jayna',\n",
    "              'nasipa', 'salma', 'azam', 'bermet', 'ayana', 'ela', 'bekbolsun kerimov', 'diaz'] \n",
    "\n",
    "shuffle(names)\n",
    "\n",
    "print(len(names))\n",
    "n = randint(0,20)\n",
    "from time import sleep\n",
    "\n",
    "for name in names:\n",
    "    print(name, randint(10+n, 110-n))"
   ]
  },
  {
   "cell_type": "code",
   "execution_count": 11,
   "metadata": {},
   "outputs": [
    {
     "name": "stdout",
     "output_type": "stream",
     "text": [
      "55.86206896551724\n"
     ]
    }
   ],
   "source": [
    "s = '''aktan 28\n",
    "barsbek 72\n",
    "aziz 23\n",
    "kutman 36\n",
    "alimhan 31\n",
    "kutman duyshonov 21\n",
    "aktanbek keneshov 94\n",
    "altynbek 77\n",
    "aliya 86\n",
    "elina 48\n",
    "adina 59\n",
    "tynchtyk 54\n",
    "yntymak 45\n",
    "nurtilek 75\n",
    "azim 91\n",
    "atai 105\n",
    "ismail 11\n",
    "omurbek 17\n",
    "nurjigit 24\n",
    "nazima 82\n",
    "jayna 71\n",
    "nasipa 17\n",
    "salma 96\n",
    "azam 53\n",
    "bermet 68\n",
    "ayana 107\n",
    "ela 30\n",
    "bekbolsun kerimov 32\n",
    "diaz 67'''\n",
    "\n",
    "s = s.split('\\n')\n",
    "sum = 0\n",
    "count= 0\n",
    "for i in s:\n",
    "    x = i.split()\n",
    "    if len(x) == 3:\n",
    "        sum += int(x[2])\n",
    "    else:\n",
    "        sum += int(x[1])\n",
    "    count += 1\n",
    "\n",
    "print(sum / count)"
   ]
  },
  {
   "cell_type": "code",
   "execution_count": 20,
   "metadata": {},
   "outputs": [
    {
     "name": "stdout",
     "output_type": "stream",
     "text": [
      "average =  50.0007561\n",
      "98165 99681\n",
      "1.5208515163371155\n",
      "[99217, 99152, 99212, 98978, 98655, 98855, 98974, 99062, 99179, 99384, 98916, 99057, 98558, 98838, 99503, 98610, 98820, 98925, 99454, 99083, 98661, 99170, 98165, 99035, 99234, 98939, 98764, 98898, 98710, 98941, 98783, 98746, 99059, 99084, 98822, 99050, 98593, 98950, 98918, 99047, 99112, 99588, 99444, 99048, 98864, 99252, 99241, 98701, 99214, 99247, 99103, 98654, 99029, 99537, 99177, 99100, 99182, 99538, 99066, 99275, 98497, 99148, 99681, 98979, 98165, 99143, 99098, 99036, 99187, 99109, 98997, 98919, 99387, 99396, 99232, 99080, 98748, 99546, 99337, 98413, 98784, 98954, 98419, 98653, 99391, 99229, 98541, 98705, 99185, 98804, 99381, 98734, 99167, 98545, 98722, 99280, 99645, 99366, 98748, 98448, 98828]\n"
     ]
    }
   ],
   "source": [
    "from random import randint\n",
    "s = 0\n",
    "N = 10000000\n",
    "arr = [0]*101\n",
    "for i in range(N):\n",
    "    index = randint(0, 100)\n",
    "    arr[index] += 1\n",
    "    s += index\n",
    "\n",
    "print('average = ', s / N)\n",
    "print(min(arr), max(arr))\n",
    "print((max(arr) - min(arr))/max(arr)*100)\n",
    "print(arr)\n",
    "\n",
    "\n"
   ]
  },
  {
   "cell_type": "code",
   "execution_count": 19,
   "metadata": {},
   "outputs": [
    {
     "data": {
      "text/plain": [
       "20"
      ]
     },
     "execution_count": 19,
     "metadata": {},
     "output_type": "execute_result"
    }
   ],
   "source": [
    "n"
   ]
  },
  {
   "cell_type": "code",
   "execution_count": 20,
   "metadata": {},
   "outputs": [
    {
     "name": "stdout",
     "output_type": "stream",
     "text": [
      "65.41379310344827\n"
     ]
    }
   ],
   "source": [
    "s = '''nurjigit 65\n",
    "azam 58\n",
    "aziz 55\n",
    "aktanbek keneshov 80\n",
    "diaz 73\n",
    "barsbek 90\n",
    "salma 75\n",
    "atai 65\n",
    "aktan 90\n",
    "nasipa 55\n",
    "alimhan 65\n",
    "adina 72\n",
    "kutman 52\n",
    "bekbolsun kerimov 88\n",
    "omurbek 78\n",
    "yntymak 75\n",
    "nazima 37\n",
    "bermet 47\n",
    "jayna 34\n",
    "ela 68\n",
    "ismail 87\n",
    "altynbek 59\n",
    "elina 53\n",
    "aliya 31\n",
    "azim 70\n",
    "nurtilek 54\n",
    "kutman duyshonov 65\n",
    "ayana 74\n",
    "tynchtyk 82'''\n",
    "\n",
    "s = s.split('\\n')\n",
    "sum = 0\n",
    "count= 0\n",
    "for i in s:\n",
    "    x = i.split()\n",
    "    if len(x) == 3:\n",
    "        sum += int(x[2])\n",
    "    else:\n",
    "        sum += int(x[1])\n",
    "    count += 1\n",
    "\n",
    "print(sum / count)"
   ]
  },
  {
   "cell_type": "code",
   "execution_count": null,
   "metadata": {},
   "outputs": [],
   "source": [
    "from csv import reader\n",
    "reader1 = reader(open('sales.csv'))\n",
    "next(reader1)\n",
    "sales_arr = [i for i in reader1]\n",
    "\n",
    "reader2 = reader(open('purchase.csv'))\n",
    "next(reader2)\n",
    "next(reader2)\n",
    "\n",
    "purchase_d = {}\n",
    "for name, price in reader2:\n",
    "    purchase_d[name] = price\n",
    "\n",
    "\n",
    "# what is the total profit\n",
    "def get_total():\n",
    "    s = 0\n",
    "    for date, name, price in sales_arr:\n",
    "        s += price - purchase_d[name]\n",
    "    return s\n",
    "\n",
    "# most profitable item\n",
    "def most_profit_item():\n",
    "    d = {}\n",
    "    for date, name, price in sales_arr:\n",
    "        d[name] = d.get(name, 0) + (price - purchase_d[name])\n",
    "    return max([(value, key) for key, value in d.items()])\n",
    "\n",
    "# most profitable mohth\n",
    "def most_profit_item():\n",
    "    d = {}\n",
    "    for date, name, price in sales_arr:\n",
    "        month = date.split('/')[1]\n",
    "        d[month] = d.get(month, 0) + (price - purchase_d[name])\n",
    "    return max([(value, key) for key, value in d.items()])\n",
    "\n",
    "\n",
    "# total count in last six month\n",
    "def last_six_month(six_month = '20240421'):\n",
    "    count = 0\n",
    "    for date, name, price in sales_arr:\n",
    "        day, month, year = date.split('/')\n",
    "        date = '20' + year + month + day\n",
    "        if date > six_month:\n",
    "            count += 1 \n",
    "    return count\n",
    "\n",
    "\n"
   ]
  },
  {
   "cell_type": "code",
   "execution_count": null,
   "metadata": {},
   "outputs": [],
   "source": [
    "file = reader(open('grades.csv'))\n",
    "header = next(file)\n",
    "final = {}\n",
    "for i in file:\n",
    "    name = i[0]\n",
    "    arr = [int(j) for j in i[1:]]\n",
    "    grades = sorted(arr, reverse=True)\n",
    "    avg = sum(grades) / len(grades)\n",
    "    final[name] = avg"
   ]
  },
  {
   "cell_type": "code",
   "execution_count": null,
   "metadata": {},
   "outputs": [],
   "source": [
    "from random import randint, shuffle\n",
    "names = ['atai', 'kutman duyshonov', 'nurjigit', 'muhammed',\n",
    "         'bekbolsun kerimov', 'aknazar', 'tynchtyk', 'diaz'] \n",
    "\n",
    "shuffle(names)\n",
    "\n",
    "print(len(names))\n",
    "from time import sleep\n",
    "\n",
    "for name in names:\n",
    "    print(name, randint(5, 40))\n",
    "    sleep(5)"
   ]
  },
  {
   "cell_type": "code",
   "execution_count": 24,
   "metadata": {},
   "outputs": [
    {
     "data": {
      "text/plain": [
       "122"
      ]
     },
     "execution_count": 24,
     "metadata": {},
     "output_type": "execute_result"
    }
   ],
   "source": [
    "from random import randint\n",
    "randint(82, 102)"
   ]
  },
  {
   "cell_type": "code",
   "execution_count": 80,
   "metadata": {},
   "outputs": [],
   "source": [
    "import csv\n",
    "from csv import writer\n",
    "fid = open('mbank.csv', 'w', newline='')\n",
    "file = writer(fid, quoting=csv.QUOTE_NONNUMERIC)\n",
    "file.writerow(['Date', 'FromUser', 'ToUser', 'Amount', 'Currency'])\n",
    "users = ['Emil Bilgazyev', 'Ulan Mamatisaev', 'Gulnur Satylganova', 'Mirbek Atabekov', 'Bek Borbiev']\n",
    "currencies = ['KYRGYZ SOM', 'RUSSIAN RUBLE', 'UNITED STATES DOLLAR', 'KAZAKH TENGE', 'EUROPEAN EURO']\n",
    "for i in range(100000):\n",
    "    day = randint(1, 30)\n",
    "    month = randint(1, 12)\n",
    "    cid = randint(0, len(currencies) - 1)\n",
    "    currency = currencies[cid]\n",
    "    from_id = randint(0, len(users) -1)\n",
    "    from_user = users[from_id]\n",
    "    to_id = randint(0, len(users) -1)\n",
    "    to_user = users[to_id]\n",
    "    hour = randint(0, 24)\n",
    "    min = randint(0, 60)\n",
    "    sec = randint(0, 60)\n",
    "    file.writerow([f'{day}/{month}/2024 {hour}:{min}:{sec}', from_user, to_user, randint(100, 10000), currency])\n",
    "fid.close()\n",
    "\n",
    "\n"
   ]
  },
  {
   "cell_type": "code",
   "execution_count": null,
   "metadata": {},
   "outputs": [],
   "source": []
  },
  {
   "cell_type": "code",
   "execution_count": 125,
   "metadata": {},
   "outputs": [],
   "source": [
    "from time import time\n",
    "from csv import writer\n",
    "\n",
    "def write_to_file(filename, arr):\n",
    "    fid = open(filename, 'w', newline='')\n",
    "    file = writer(fid, quoting=csv.QUOTE_NONNUMERIC)\n",
    "    for id, val in enumerate(arr):\n",
    "        file.writerow([id, val]) \n",
    "    fid.close()\n",
    "fid = open('mbank_short.csv', 'w',newline='')\n",
    "file = writer(fid, quoting=csv.QUOTE_NONNUMERIC)\n",
    "file.writerow(['Date', 'FromUser', 'ToUser', 'Amount', 'Currency'])\n",
    "users = ['Emil Bilgazyev', 'Ulan Mamatisaev', 'Gulnur Satylganova', 'Mirbek Atabekov', 'Bek Borbiev']\n",
    "currencies = ['KYRGYZ SOM', 'RUSSIAN RUBLE', 'UNITED STATES DOLLAR', 'KAZAKH TENGE', 'EUROPEAN EURO']\n",
    "currencies = c\n",
    "for i in range(1000000):\n",
    "    cid = randint(0, len(currencies) - 1)\n",
    "    from_id = randint(0, len(users) -1)\n",
    "    to_id = randint(0, len(users) -1)\n",
    "    ts = int(time()) + randint(0,100000)\n",
    "    file.writerow([ts, from_id, to_id, randint(100, 10000), cid])\n",
    "fid.close()\n",
    "\n",
    "write_to_file('users.csv', users)\n",
    "write_to_file('currencies.csv', currencies)\n"
   ]
  },
  {
   "cell_type": "code",
   "execution_count": 122,
   "metadata": {},
   "outputs": [],
   "source": [
    "currencies = ['KYRGYZ SOM', 'RUSSIAN RUBLE', 'UNITED STATES DOLLAR', 'KAZAKH TENGE', 'EUROPEAN EURO']\n",
    "\n",
    "c  = [i for i in currencies]\n",
    "for i in range(100):\n",
    "    for j in currencies:\n",
    "        c.append(j + str(i))\n",
    "\n",
    "write_to_file('currencies2.csv', c)"
   ]
  },
  {
   "cell_type": "code",
   "execution_count": 76,
   "metadata": {},
   "outputs": [
    {
     "name": "stdout",
     "output_type": "stream",
     "text": [
      "Emil Bilgazyev\n",
      "RUSSIAN RUBLE -950680\n",
      "KYRGYZ SOM 421352\n",
      "EUROPEAN EURO 516062\n",
      "UNITED STATES DOLLAR -1974323\n",
      "KAZAKH TENGE -3842019\n",
      "\n",
      "Gulnur Satylganova\n",
      "RUSSIAN RUBLE 1031687\n",
      "KYRGYZ SOM 2737652\n",
      "KAZAKH TENGE -492478\n",
      "UNITED STATES DOLLAR 133873\n",
      "EUROPEAN EURO 1705228\n",
      "\n",
      "Mirbek Atabekov\n",
      "RUSSIAN RUBLE 752556\n",
      "KYRGYZ SOM -2505010\n",
      "KAZAKH TENGE 2177250\n",
      "EUROPEAN EURO 279219\n",
      "UNITED STATES DOLLAR 2455454\n",
      "\n",
      "Bek Borbiev\n",
      "KYRGYZ SOM -270379\n",
      "RUSSIAN RUBLE 582866\n",
      "KAZAKH TENGE 81419\n",
      "EUROPEAN EURO -1820060\n",
      "UNITED STATES DOLLAR 1876760\n",
      "\n",
      "Ulan Mamatisaev\n",
      "RUSSIAN RUBLE -1416429\n",
      "EUROPEAN EURO -680449\n",
      "KYRGYZ SOM -383615\n",
      "KAZAKH TENGE 2075828\n",
      "UNITED STATES DOLLAR -2491764\n",
      "\n",
      "Emil Bilgazyev [('RUSSIAN RUBLE', -950680), ('KYRGYZ SOM', 421352), ('EUROPEAN EURO', 516062), ('UNITED STATES DOLLAR', -1974323), ('KAZAKH TENGE', -3842019)]\n",
      "Gulnur Satylganova [('RUSSIAN RUBLE', 1031687), ('KYRGYZ SOM', 2737652), ('KAZAKH TENGE', -492478), ('UNITED STATES DOLLAR', 133873), ('EUROPEAN EURO', 1705228)]\n",
      "Mirbek Atabekov [('RUSSIAN RUBLE', 752556), ('KYRGYZ SOM', -2505010), ('KAZAKH TENGE', 2177250), ('EUROPEAN EURO', 279219), ('UNITED STATES DOLLAR', 2455454)]\n",
      "Bek Borbiev [('KYRGYZ SOM', -270379), ('RUSSIAN RUBLE', 582866), ('KAZAKH TENGE', 81419), ('EUROPEAN EURO', -1820060), ('UNITED STATES DOLLAR', 1876760)]\n",
      "Ulan Mamatisaev [('RUSSIAN RUBLE', -1416429), ('EUROPEAN EURO', -680449), ('KYRGYZ SOM', -383615), ('KAZAKH TENGE', 2075828), ('UNITED STATES DOLLAR', -2491764)]\n"
     ]
    }
   ],
   "source": [
    "from csv import reader, writer\n",
    "\n",
    "fid = open('mbank_short.csv')\n",
    "file = reader(fid)\n",
    "next(file)\n",
    "balance = {}\n",
    "for f in file:\n",
    "    if len(f) > 0:\n",
    "        _, from_id, to_id, amount, cid = f\n",
    "        if from_id in balance:\n",
    "            balance[from_id][cid] = balance[from_id].get(cid, 0) - int(amount)\n",
    "        else:\n",
    "            balance[from_id] = {cid: -int(amount)}\n",
    "        \n",
    "        if to_id in balance:\n",
    "            balance[to_id][cid] = balance[to_id].get(cid, 0) + int(amount)\n",
    "        else:\n",
    "            balance[to_id] = {cid: int(amount)}\n",
    "\n",
    "\n",
    "file = reader(open('users.csv'))\n",
    "users = {}\n",
    "for i in file:\n",
    "    if len(i) > 0:\n",
    "        id, name = i\n",
    "        users[id] = name\n",
    "\n",
    "\n",
    "file = reader(open('currencies.csv'))\n",
    "currencies = {}\n",
    "for i in file:\n",
    "    if len(i) > 0:\n",
    "        id, currency = i\n",
    "        currencies[id] = currency\n",
    "\n",
    "\n",
    "for name, values in balance.items():\n",
    "    print(users[name])\n",
    "    for id in values:\n",
    "        print(currencies[id], values[id])\n",
    "    print()\n",
    "\n",
    "\n",
    "for name, values in balance.items():\n",
    "    print(users[name], [(currencies[id], amount) for id, amount in values.items()])\n",
    "\n",
    "\n",
    "fid = open('balance1.csv', 'w', newline='')\n",
    "file = writer(fid, quoting=csv.QUOTE_NONNUMERIC)\n",
    "cids = range(len(currencies))\n",
    "file.writerow(['name'] + [currencies[str(id)] for id in cids])\n",
    "for name, values in balance.items():\n",
    "    arr = []\n",
    "    for i in cids:\n",
    "        arr.append(values[str(i)])\n",
    "    file.writerow([users[name]] + arr)\n",
    "fid.close()\n",
    "\n",
    "\n"
   ]
  },
  {
   "cell_type": "code",
   "execution_count": 45,
   "metadata": {},
   "outputs": [
    {
     "name": "stdout",
     "output_type": "stream",
     "text": [
      "10 {}\n"
     ]
    }
   ],
   "source": [
    "from collections import defaultdict\n",
    "d = defaultdict(dict)\n",
    "d[10] = 10\n",
    "\n",
    "d[40][50] = 20\n",
    "\n",
    "print(d[10], d[20])"
   ]
  },
  {
   "cell_type": "code",
   "execution_count": null,
   "metadata": {},
   "outputs": [],
   "source": [
    "# from - to: total amount of each currency\n",
    "# usd how many people transferred\n",
    "# who sent to specific user\n",
    "# if we take 0.1% from each transaction, how much did bank made?  "
   ]
  },
  {
   "cell_type": "code",
   "execution_count": null,
   "metadata": {},
   "outputs": [],
   "source": []
  },
  {
   "cell_type": "code",
   "execution_count": 58,
   "metadata": {},
   "outputs": [
    {
     "data": {
      "text/plain": [
       "[28, 25, 12]"
      ]
     },
     "execution_count": 58,
     "metadata": {},
     "output_type": "execute_result"
    }
   ],
   "source": [
    "from random import randint\n",
    "[randint(1, 60) for i in range(3)]\n"
   ]
  },
  {
   "cell_type": "code",
   "execution_count": 86,
   "metadata": {},
   "outputs": [],
   "source": [
    "import csv\n",
    "fid = open('mbank_short.csv', 'r')\n",
    "r = reader(fid, quoting=csv.QUOTE_NONNUMERIC)\n",
    "for i in r:\n",
    "    pass"
   ]
  },
  {
   "cell_type": "code",
   "execution_count": 100,
   "metadata": {},
   "outputs": [
    {
     "name": "stdout",
     "output_type": "stream",
     "text": [
      "data length =  1000000\n"
     ]
    },
    {
     "data": {
      "text/plain": [
       "defaultdict(int,\n",
       "            {'KYRGYZ SOM': 40997683.0,\n",
       "             'UNITED STATES DOLLAR': 39855099.0,\n",
       "             'EUROPEAN EURO': 40554717.0,\n",
       "             'KAZAKH TENGE': 40848804.0,\n",
       "             'RUSSIAN RUBLE': 40631682.0})"
      ]
     },
     "execution_count": 100,
     "metadata": {},
     "output_type": "execute_result"
    }
   ],
   "source": [
    "def get_amount_transfer(sender_name, receiver_name):\n",
    "    with open('users.csv', 'r') as fid:\n",
    "        users = {name:id for id, name in reader(fid, quoting=csv.QUOTE_NONNUMERIC)}\n",
    "    with open('currencies.csv', 'r') as fid:\n",
    "        currencies = {id:currency for id, currency in reader(fid, quoting=csv.QUOTE_NONNUMERIC)}\n",
    "\n",
    "    d = defaultdict(int)\n",
    "    with open('mbank_short.csv', 'r') as daniel:\n",
    "        data = reader(daniel, quoting=csv.QUOTE_NONNUMERIC)\n",
    "        next(data)\n",
    "        arr = list(data)\n",
    "        for date, from_id, to_id, amount, currency_id in arr:\n",
    "            if users[sender_name] == from_id and users[receiver_name] == to_id:\n",
    "                d[currencies[currency_id]] += amount\n",
    "    print('data length = ', len(arr))\n",
    "    return d\n",
    "\n",
    "get_amount_transfer('Emil Bilgazyev', 'Ulan Mamatisaev')\n",
    "\n",
    "    "
   ]
  },
  {
   "cell_type": "code",
   "execution_count": 103,
   "metadata": {},
   "outputs": [
    {
     "name": "stdout",
     "output_type": "stream",
     "text": [
      "[0.0, 'Emil Bilgazyev']\n",
      "[1.0, 'Ulan Mamatisaev']\n",
      "[2.0, 'Gulnur Satylganova']\n",
      "[3.0, 'Mirbek Atabekov']\n",
      "[4.0, 'Bek Borbiev']\n",
      "printing again\n"
     ]
    }
   ],
   "source": [
    "fid = open('users.csv')\n",
    "data = reader(fid, quoting=csv.QUOTE_NONNUMERIC)\n",
    "for i in data:\n",
    "    print(i)\n",
    "\n",
    "print('printing again')\n",
    "for i in data:\n",
    "    print(i)"
   ]
  },
  {
   "cell_type": "code",
   "execution_count": 104,
   "metadata": {},
   "outputs": [
    {
     "name": "stdout",
     "output_type": "stream",
     "text": [
      "1\n",
      "2\n",
      "3\n",
      "printing again\n",
      "1\n",
      "2\n",
      "3\n"
     ]
    }
   ],
   "source": [
    "arr = [1,2,3]\n",
    "for i in arr:\n",
    "    print(i)\n",
    "\n",
    "print('printing again')\n",
    "\n",
    "for i in arr:\n",
    "    print(i)"
   ]
  },
  {
   "cell_type": "code",
   "execution_count": 107,
   "metadata": {},
   "outputs": [
    {
     "name": "stdout",
     "output_type": "stream",
     "text": [
      "[0, 1, 2, 3, 4, 5, 6, 7, 8, 9]\n",
      "[0, 1, 2, 3, 4, 5, 6, 7, 8, 9]\n"
     ]
    }
   ],
   "source": [
    "print(list(range(10)))\n",
    "print([i for i in range(10)])"
   ]
  },
  {
   "cell_type": "code",
   "execution_count": 112,
   "metadata": {},
   "outputs": [
    {
     "name": "stdout",
     "output_type": "stream",
     "text": [
      "<zip object at 0x00000184B58FE880>\n",
      "[(1, 4), (2, 5), (3, 6), (None, 7)]\n"
     ]
    }
   ],
   "source": [
    "from itertools import zip_longest\n",
    "arr1 = [1,2,3]\n",
    "arr2 = [4,5,6,7]\n",
    "print(zip(arr1, arr2))\n",
    "print(list(zip_longest(arr1, arr2,)))"
   ]
  },
  {
   "cell_type": "code",
   "execution_count": 129,
   "metadata": {},
   "outputs": [
    {
     "name": "stdout",
     "output_type": "stream",
     "text": [
      "1989\n"
     ]
    }
   ],
   "source": [
    "def get_currency_id(name):\n",
    "     with open('currencies.csv', 'r') as fid:\n",
    "          data = reader(fid)\n",
    "          for id, currency_name in data:\n",
    "               if currency_name == name:\n",
    "                    return id\n",
    "\n",
    "def get_count(name):\n",
    "    id = get_currency_id(name)\n",
    "    count = 0\n",
    "    with open('mbank_short.csv', 'r') as fid:\n",
    "          data = reader(fid)\n",
    "          for _, _, _, amount, cid in data:\n",
    "               if cid == id:\n",
    "                    count += 1\n",
    "    return count\n",
    "\n",
    "print(get_count('EUROPEAN EURO99'))\n"
   ]
  },
  {
   "cell_type": "code",
   "execution_count": 130,
   "metadata": {},
   "outputs": [
    {
     "name": "stdout",
     "output_type": "stream",
     "text": [
      "1989\n"
     ]
    }
   ],
   "source": [
    "def get_count2(name):\n",
    "    with open('currencies.csv') as fid:\n",
    "         data = reader(fid)\n",
    "         currencies = {name:id for id, name in data}\n",
    "    id = currencies[name]    \n",
    "    count = 0\n",
    "    with open('mbank_short.csv', 'r') as fid:\n",
    "          data = reader(fid)\n",
    "          for _, _, _, _, cid in data:\n",
    "               if cid == id:\n",
    "                    count += 1\n",
    "    return count\n",
    "\n",
    "print(get_count2('EUROPEAN EURO99'))\n"
   ]
  },
  {
   "cell_type": "code",
   "execution_count": 126,
   "metadata": {},
   "outputs": [
    {
     "name": "stdout",
     "output_type": "stream",
     "text": [
      "1989\n"
     ]
    }
   ],
   "source": [
    "with open('currencies.csv', 'r') as fid:\n",
    "          data = list(reader(fid))\n",
    "\n",
    "def get_currency_name(currency_id):\n",
    "     for id, currency_name in data:\n",
    "          if id == currency_id:\n",
    "               return currency_name\n",
    "\n",
    "\n",
    "def get_count3(name):\n",
    "    id = get_currency_id(name)\n",
    "    count = 0\n",
    "    with open('mbank_short.csv', 'r') as fid:\n",
    "          data = reader(fid)\n",
    "          for i in data:\n",
    "               if get_currency_name(i[4]) == name:\n",
    "                    count += 1\n",
    "    return count\n",
    "\n",
    "print(get_count3('EUROPEAN EURO99'))"
   ]
  },
  {
   "cell_type": "code",
   "execution_count": 135,
   "metadata": {},
   "outputs": [
    {
     "name": "stdout",
     "output_type": "stream",
     "text": [
      "{'Mirbek Atabekov', 'Gulnur Satylganova', 'Bek Borbiev', 'Emil Bilgazyev', 'Ulan Mamatisaev'}\n",
      "defaultdict(<class 'int'>, {'Bek Borbiev': 40253, 'Emil Bilgazyev': 39542, 'Mirbek Atabekov': 40365, 'Ulan Mamatisaev': 40302, 'Gulnur Satylganova': 39732})\n"
     ]
    }
   ],
   "source": [
    "def get_senders_list(name):\n",
    "    with open('users.csv') as fid:\n",
    "         data = list(reader(fid))\n",
    "         name_to_id = {name:id for id, name in data}\n",
    "         id_to_name = {id:name for id, name in data}\n",
    "\n",
    "    id = name_to_id[name]    \n",
    "    counter = defaultdict(int)\n",
    "    s = set()\n",
    "    with open('mbank_short.csv', 'r') as fid:\n",
    "          data = reader(fid)\n",
    "          for _, sender_id, receiver_id, _, _ in data:\n",
    "               if receiver_id == id:\n",
    "                    counter[id_to_name[sender_id]] += 1\n",
    "                    s.add(id_to_name[sender_id])\n",
    "    return s, counter\n",
    "\n",
    "s, c = get_senders_list('Ulan Mamatisaev')\n",
    "print(s)\n",
    "print(c)\n"
   ]
  },
  {
   "cell_type": "code",
   "execution_count": 137,
   "metadata": {},
   "outputs": [
    {
     "name": "stdout",
     "output_type": "stream",
     "text": [
      "0\n",
      "20\n"
     ]
    }
   ],
   "source": [
    "d = defaultdict(int)\n",
    "print(d[10])\n",
    "d[10] = 20\n",
    "print(d[10])"
   ]
  },
  {
   "cell_type": "code",
   "execution_count": 140,
   "metadata": {},
   "outputs": [
    {
     "name": "stdout",
     "output_type": "stream",
     "text": [
      "defaultdict(<class 'list'>, {10: [20]})\n",
      "[]\n",
      "defaultdict(<class 'list'>, {10: [20], 20: []})\n"
     ]
    }
   ],
   "source": [
    "d = defaultdict(list)\n",
    "d[10].append(20)\n",
    "print(d)\n",
    "print(d[20])\n",
    "print(d)"
   ]
  },
  {
   "cell_type": "code",
   "execution_count": 142,
   "metadata": {},
   "outputs": [
    {
     "name": "stdout",
     "output_type": "stream",
     "text": [
      "\n",
      "defaultdict(<class 'str'>, {10: ''})\n"
     ]
    }
   ],
   "source": [
    "d = defaultdict(str)\n",
    "print(d[10])\n",
    "print(d)"
   ]
  },
  {
   "cell_type": "code",
   "execution_count": 148,
   "metadata": {},
   "outputs": [
    {
     "name": "stdout",
     "output_type": "stream",
     "text": [
      "defaultdict(<class 'dict'>, {30: {'emil': 50}})\n",
      "50\n"
     ]
    }
   ],
   "source": [
    "d = defaultdict(dict)\n",
    "\n",
    "d[30]['emil'] = 50\n",
    "\n",
    "print(d)\n",
    "print(d[30]['emil'])\n"
   ]
  },
  {
   "cell_type": "code",
   "execution_count": 14,
   "metadata": {},
   "outputs": [],
   "source": [
    "import pandas as pd\n",
    "import random\n",
    "import faker\n",
    "from datetime import datetime, timedelta\n",
    "\n",
    "fake = faker.Faker()\n",
    "\n",
    "# Helper function to generate random dates\n",
    "def generate_random_date(start_date, end_date):\n",
    "    return start_date + timedelta(days=random.randint(0, (end_date - start_date).days))\n",
    "\n",
    "# Generate distributor.csv\n",
    "distributors = {\n",
    "    'distributor_id': range(1, 31),\n",
    "    'distributor_name': [fake.company() for _ in range(30)],\n",
    "    'tel_number': [fake.phone_number() for _ in range(30)]\n",
    "}\n",
    "distributor_df = pd.DataFrame(distributors)\n",
    "\n",
    "# Generate products.csv\n",
    "products = {\n",
    "    'product_id': range(1, 101),\n",
    "    'product_name': [fake.word() for _ in range(100)],\n",
    "    'product_weight': [round(random.uniform(0.5, 10), 2) for _ in range(100)]  # weight between 0.5kg and 10kg\n",
    "}\n",
    "products_df = pd.DataFrame(products)\n",
    "\n",
    "# Generate clients.csv\n",
    "clients = {\n",
    "    'client_id': range(1, 101),\n",
    "    'client_name': [fake.name() for _ in range(100)],\n",
    "    'client_phone': [fake.phone_number() for _ in range(100)],\n",
    "    'client_address': [fake.address() for _ in range(100)]\n",
    "}\n",
    "clients_df = pd.DataFrame(clients)\n",
    "\n",
    "count = [random.randint(1, 100) for _ in range(500)]\n",
    "price_per_item=  [random.randint(10, 500) for _ in range(500)]\n",
    "purchase = {\n",
    "    'date': [generate_random_date(datetime(2023, 1, 1), datetime(2023, 12, 31)) for _ in range(500)],\n",
    "    'distributor_id': [random.randint(1, 30) for _ in range(500)],\n",
    "    'count': count,\n",
    "    'price_per_item': price_per_item,\n",
    "    'total_cost': [i*j for i, j in zip(count, price_per_item)]\n",
    "}\n",
    "\n",
    "purchase_df = pd.DataFrame(purchase)\n",
    "\n",
    "count = [random.randint(1, 100) for _ in range(10000)]\n",
    "price_per_item = [random.randint(10, 500) for _ in range(10000)]\n",
    "sales = {\n",
    "    'date': [generate_random_date(datetime(2023, 1, 1), datetime(2023, 12, 31)) for _ in range(10000)],\n",
    "    'client_id': [random.randint(1, 100) for _ in range(10000)],\n",
    "    'count': count,\n",
    "    'price_per_item': price_per_item,\n",
    "    'total_cost': [i*j for i,j in zip(count, price_per_item)]\n",
    "}\n",
    "sales_df = pd.DataFrame(sales)\n",
    "\n",
    "pth = 'C:\\\\Users\\\\User\\\\Downloads\\\\data'\n",
    "distributor_df.to_csv(pth + '\\\\distributor.csv', index=False)\n",
    "products_df.to_csv(pth + '\\\\products.csv', index=False)\n",
    "clients_df.to_csv(pth + '\\\\clients.csv', index=False)\n",
    "purchase_df.to_csv(pth + '\\\\purchase.csv', index=False)\n",
    "sales_df.to_csv(pth + '\\\\sales.csv', index=False)\n",
    "\n",
    "#import ace_tools as tools; tools.display_dataframe_to_user(name=\"Distributors\", dataframe=distributor_df)\n"
   ]
  },
  {
   "cell_type": "code",
   "execution_count": 12,
   "metadata": {},
   "outputs": [],
   "source": [
    "count = [random.randint(1, 100) for _ in range(10000)]\n",
    "price_per_item = [random.randint(10, 500) for _ in range(10000)]"
   ]
  },
  {
   "cell_type": "code",
   "execution_count": 13,
   "metadata": {},
   "outputs": [
    {
     "data": {
      "text/plain": [
       "10000"
      ]
     },
     "execution_count": 13,
     "metadata": {},
     "output_type": "execute_result"
    }
   ],
   "source": [
    "len(count)"
   ]
  },
  {
   "cell_type": "code",
   "execution_count": 31,
   "metadata": {},
   "outputs": [
    {
     "name": "stdout",
     "output_type": "stream",
     "text": [
      "1 Aziz Kalmatov\n",
      "2 Nurjigit Nurgaliev\n",
      "3 Kutman Melisov\n",
      "4 Atai Mambetov\n",
      "5 Bekbolsun Ysmanov\n",
      "6 Elina Baktigulova\n",
      "7 Kutman Duishenov\n",
      "8 Erbol Ruslanov\n",
      "9 Jumabek Kalybaev\n",
      "10 Talant Mataev\n",
      "11 Nurdin Ismailov\n",
      "12 Alienora Kurbanbekova\n",
      "13 Akbar Sharipov\n",
      "14 Baystan Jyldyzbekov\n",
      "15 Dair Ainakulov\n",
      "16 Janishbek Tynybekov\n",
      "17 Gulnura Onolbekova\n",
      "18 Muhammed Kadirkulov\n",
      "19 Alaman Rysbekov\n",
      "20 Nurmuhammed Kalmamatov\n",
      "21 Zarylbek Attokurov\n",
      "22 Yntymak Almazbek uulu\n",
      "23 Bekbolsun Kerimov\n",
      "24 \n",
      "25 Altynbek Tashtanov\n",
      "26 Nazima Dildebeka\n",
      "27 Kubanich Kaparov\n",
      "28 Sumaya Nasiridinova\n",
      "29 Tynchtykbek Rahmatulin\n",
      "30 Bermet Arstanalieva\n",
      "31 Daniial Va-Ahunov\n",
      "32 Salma Aydralieva\n",
      "33 Nasipa Abdiraimova\n",
      "34 Adina Tagaeva\n",
      "35 Nurtilek Abibillaev\n",
      "36 Omurbek Seitbekov\n",
      "37 Aknazar Beishaliev\n",
      "38 Aman Anarbekov\n",
      "39 Daniar Karimov\n",
      "40 Jainagul Joodonbek kizi\n",
      "41 Ismailbek Nurjanov\n",
      "42 \n",
      "43 Erlan Balabekov\n",
      "44 Azamjan Umarov\n",
      "45 Almaz Abdimanapov\n",
      "46 Almaz Tutashbaev\n",
      "47 Eleonora Asanova\n",
      "48 Alymbek Mamatjanov\n",
      "49 Alimhan Seydakmatov\n",
      "50 Aktanbek Keneshov\n",
      "51 Shergazi Eraliev\n",
      "52 Atabek Aitiev\n",
      "53 Diaz Kenjetaev\n",
      "54 Barsbek Umetbaev\n",
      "55 Aktan Asanaliev\n",
      "56 Aiatulla Turatbaev\n",
      "57 Aiana Cherikova\n",
      "58 Aktan Mamatjanova\n",
      "59 Umar Isakov\n",
      "60 Azim Ishenbaev\n",
      "61 Tolonbek Abdibekov\n",
      "62 Aiana Tologonova\n"
     ]
    }
   ],
   "source": [
    "s = '''\n",
    "Barsbek Umetbaev\n",
    "Jainagul Joodonbek kizi\n",
    "Baystan Jyldyzbekov\n",
    "Alienora Kurbanbekova\n",
    "Tynchtykbek Rahmatulin\n",
    "Bekbolsun Ysmanov\n",
    "Daniial Va-Ahunov\n",
    "Aman Anarbekov\n",
    "Alimhan Seydakmatov\n",
    "Salma Aydralieva\n",
    "Erlan Balabekov\n",
    "Aiatulla Turatbaev\n",
    "Alymbek Mamatjanov\n",
    "Tolonbek Abdibekov\n",
    "Nazima Dildebeka\n",
    "Almaz Tutashbaev\n",
    "Azim Ishenbaev\n",
    "Atai Mambetov\n",
    "Diaz Kenjetaev\n",
    "Elina Baktigulova\n",
    "Kubanich Kaparov\n",
    "Kutman Melisov\n",
    "Sumaya Nasiridinova\n",
    "Aktan Asanaliev\n",
    "Nurjigit Nurgaliev\n",
    "Shergazi Eraliev\n",
    "Adina Tagaeva\n",
    "Nurdin Ismailov\n",
    "Eleonora Asanova\n",
    "Aktanbek Keneshov\n",
    "Azamjan Umarov\n",
    "Gulnura Onolbekova\n",
    "Aiana Cherikova\n",
    "Aiana Tologonova\n",
    "Nurtilek Abibillaev\n",
    "Alaman Rysbekov\n",
    "Nasipa Abdiraimova\n",
    "Aktan Mamatjanova\n",
    "Altynbek Tashtanov\n",
    "Kutman Duishenov\n",
    "Dair Ainakulov\n",
    "Talant Mataev\n",
    "Umar Isakov\n",
    "Janishbek Tynybekov\n",
    "Zarylbek Attokurov\n",
    "Atabek Aitiev\n",
    "Daniar Karimov\n",
    "Erbol Ruslanov\n",
    "Omurbek Seitbekov\n",
    "Almaz Abdimanapov\n",
    "Akbar Sharipov\n",
    "Yntymak Almazbek uulu\n",
    "Jumabek Kalybaev\n",
    "Nurmuhammed Kalmamatov\n",
    "Bekbolsun Kerimov\n",
    "Bermet Arstanalieva\n",
    "Ismailbek Nurjanov\n",
    "Muhammed Kadirkulov\n",
    "Aziz Kalmatov\n",
    "Aknazar Beishaliev\n",
    "'''\n",
    "\n",
    "s = s.split('\\n')\n",
    "from random import shuffle\n",
    "shuffle(s)\n",
    "for i, student in enumerate(s):\n",
    "    print(i+1, student)"
   ]
  },
  {
   "cell_type": "code",
   "execution_count": 18,
   "metadata": {},
   "outputs": [],
   "source": [
    "s = '''1.\n",
    "Напишите программу на Python, которая рассчитает общее количество каждого товара, купленного у дистрибьюторов, используя данные из файлов items.csv и purchase.csv.\n",
    "2.\n",
    "Объедините файлы sales.csv и items.csv, чтобы рассчитать общий доход, полученный от продажи каждого товара в магазине.\n",
    "3.\n",
    "Используя данные из purchase.csv, distributor.csv и items.csv, рассчитайте общую сумму, потраченную каждым дистрибьютором на каждый товар, и определите, какой дистрибьютор поставил самый дорогой товар.\n",
    "4.\n",
    "Объедините sales.csv и clients.csv, чтобы выяснить, какой клиент совершил наибольшую сумму покупок в магазине.\n",
    "5.\n",
    "Используя файлы sales.csv, clients.csv и items.csv, найдите топ-5 клиентов по количеству разных товаров, которые они приобрели.\n",
    "6.\n",
    "Объедините purchase.csv, items.csv и distributor.csv, чтобы рассчитать среднюю цену, заплаченную за каждый товар магазином у разных дистрибьюторов.\n",
    "7.\n",
    "Напишите программу на Python, чтобы определить, какой товар приносит наибольшую прибыль, сравнив стоимость покупки (из purchase.csv) и цену продажи (из sales.csv).\n",
    "8.\n",
    "Объедините purchase.csv и sales.csv, чтобы проанализировать, продал ли магазин больше товаров, чем приобрел, за определенный период времени.\n",
    "9.\n",
    "Используя clients.csv, sales.csv и items.csv, напишите программу, чтобы определить клиента, который купил наибольшее количество определенного товара.\n",
    "10.\n",
    "Напишите программу на Python, которая использует данные из distributor.csv и purchase.csv, чтобы узнать, какой дистрибьютор поставил больше всего разных товаров в магазин.\n",
    "11.\n",
    "Объедините sales.csv и items.csv, чтобы рассчитать среднюю цену продажи каждого товара в магазине.\n",
    "12.\n",
    "Напишите программу на Python, чтобы рассчитать общий доход от клиентов, которые купили товары у определенного дистрибьютора, используя данные из sales.csv, clients.csv и distributor.csv.\n",
    "13.\n",
    "Используя items.csv, purchase.csv и sales.csv, выясните, какой товар имеет наибольший товарооборот (т.е. наиболее часто покупаемый и продаваемый).\n",
    "14.\n",
    "Объедините purchase.csv, distributor.csv и sales.csv, чтобы узнать, какой доход от продаж был получен от товаров, поставляемых каждым дистрибьютором.\n",
    "15.\n",
    "Используя clients.csv, sales.csv и items.csv, определите, какой товар чаще всего покупают постоянные клиенты.\n",
    "16.\n",
    "Напишите программу на Python, чтобы рассчитать среднюю стоимость товаров, купленных у каждого дистрибьютора, и сравнить её со средней ценой продажи клиентам, используя данные из purchase.csv, distributor.csv и sales.csv.\n",
    "17.\n",
    "Объедините sales.csv и purchase.csv, чтобы проанализировать общее количество товаров, купленных у дистрибьюторов, по сравнению с общим количеством проданных товаров клиентам для каждого товара.\n",
    "18.\n",
    "Напишите программу на Python, которая использует данные из distributor.csv, purchase.csv и sales.csv, чтобы сгенерировать отчет о том, какие товары дистрибьютора приносят наибольший доход от продаж.\n",
    "19.\n",
    "Используя данные clients.csv и sales.csv, напишите программу, чтобы определить, какие клиенты принесли наибольший доход в магазин за определенный период времени.\n",
    "20.\n",
    "Объедините sales.csv, items.csv и purchase.csv, чтобы выяснить, есть ли товары, которые магазин продал в большем количестве, чем купил у дистрибьюторов.\n",
    "21.\n",
    "Используя clients.csv, sales.csv и items.csv, рассчитайте среднее количество каждого товара, приобретенного клиентами при оптовых заказах (более определенного количества).\n",
    "22.\n",
    "Напишите программу на Python, которая использует данные из purchase.csv, items.csv и sales.csv, чтобы определить товары, которые часто покупаются у дистрибьюторов, но редко продаются клиентам.\n",
    "23.\n",
    "Объедините distributor.csv, purchase.csv и sales.csv, чтобы сгенерировать отчет, показывающий среднее время между покупкой товара у дистрибьютора и его продажей клиенту.\n",
    "24.\n",
    "Используя clients.csv, sales.csv и items.csv, найдите самые популярные товары среди клиентов, которые сделали покупки на сумму выше определенного порога.\n",
    "25.\n",
    "Напишите программу на Python, чтобы проанализировать, какую долю от общего дохода приносят товары, купленные у топ-3 дистрибьюторов, используя данные из distributor.csv, purchase.csv и sales.csv.\n",
    "26.\n",
    "Объедините items.csv и sales.csv, чтобы рассчитать общее количество проданных товаров и сравнить его с общим количеством товаров, имеющихся на складе.\n",
    "27.\n",
    "Используя данные из distributor.csv, purchase.csv и sales.csv, выясните, товары какого дистрибьютора приносят наибольшую среднюю цену при продаже клиентам.\n",
    "28.\n",
    "Объедините clients.csv, sales.csv и items.csv, чтобы определить клиентов, которые купили все товары из определенной категории или группы товаров.\n",
    "29.\n",
    "Напишите программу на Python, которая объединяет данные из purchase.csv и sales.csv, чтобы проанализировать маржу прибыли для каждого дистрибьютора, сравнивая стоимость покупки товаров с доходом от их продажи.\n",
    "30.\n",
    "Используя clients.csv, sales.csv, purchase.csv и items.csv, создайте отчет, который покажет клиента, купившего наибольшее разнообразие товаров в магазине.\n",
    "s = s.split('\\n')\n",
    "id = s[::2]\n",
    "questions = s[]"
   ]
  },
  {
   "cell_type": "code",
   "execution_count": 21,
   "metadata": {},
   "outputs": [
    {
     "name": "stdout",
     "output_type": "stream",
     "text": [
      "Напишите программу на Python, которая использует данные из purchase.csv, items.csv и sales.csv, чтобы определить товары, которые часто покупаются у дистрибьюторов, но редко продаются клиентам.\n",
      "Используя clients.csv, sales.csv, purchase.csv и items.csv, создайте отчет, который покажет клиента, купившего наибольшее разнообразие товаров в магазине.\n",
      "Напишите программу на Python, которая объединяет данные из purchase.csv и sales.csv, чтобы проанализировать маржу прибыли для каждого дистрибьютора, сравнивая стоимость покупки товаров с доходом от их продажи.\n"
     ]
    }
   ],
   "source": [
    "shuffle(questions)\n",
    "\n",
    "for i in [5, 8, 9]:\n",
    "    print(questions[i])\n",
    "\n"
   ]
  },
  {
   "cell_type": "code",
   "execution_count": 24,
   "metadata": {},
   "outputs": [
    {
     "data": {
      "text/plain": [
       "{1, 2, 3}"
      ]
     },
     "execution_count": 24,
     "metadata": {},
     "output_type": "execute_result"
    }
   ],
   "source": [
    "d1 = {1:2, 2:3}\n",
    "d2 = {2: 3, 3:4}\n",
    "\n",
    "d1.keys() | d2.keys()"
   ]
  },
  {
   "cell_type": "code",
   "execution_count": 36,
   "metadata": {},
   "outputs": [
    {
     "name": "stdout",
     "output_type": "stream",
     "text": [
      "0 0\n",
      "1 0\n",
      "2 0\n",
      "3 0\n",
      "4 0\n",
      "5 0\n",
      "6 0\n",
      "7 0\n",
      "8 0\n",
      "9 0\n",
      "10 0\n",
      "11 0\n",
      "12 0\n",
      "13 0\n",
      "14 0\n",
      "15 0\n",
      "16 0\n",
      "17 0\n",
      "18 0\n",
      "19 0\n",
      "20 0\n",
      "21 0\n",
      "22 0\n",
      "23 0\n",
      "24 0\n",
      "25 0\n",
      "26 0\n",
      "27 0\n",
      "28 0\n",
      "29 0\n",
      "30 0\n",
      "31 0\n",
      "32 0\n",
      "33 0\n",
      "34 0\n",
      "35 0\n",
      "36 0\n",
      "37 0\n",
      "38 0\n",
      "39 0\n",
      "40 32540\n",
      "41 32216\n",
      "42 32431\n",
      "43 32258\n",
      "44 32295\n",
      "45 31914\n",
      "46 15949\n",
      "47 15980\n",
      "48 15999\n",
      "49 16295\n",
      "50 15932\n",
      "51 16288\n",
      "52 16266\n",
      "53 16146\n",
      "54 16287\n",
      "55 16014\n",
      "56 16037\n",
      "57 16064\n",
      "58 16171\n",
      "59 16157\n",
      "60 16390\n",
      "61 16050\n",
      "62 16045\n",
      "63 16077\n",
      "64 16389\n",
      "65 16022\n",
      "66 16048\n",
      "67 16210\n",
      "68 16272\n",
      "69 15876\n",
      "70 16015\n",
      "71 16067\n",
      "72 16176\n",
      "73 16160\n",
      "74 16191\n",
      "75 16196\n",
      "76 16269\n",
      "77 16051\n",
      "78 16183\n",
      "79 15922\n",
      "80 16002\n",
      "81 15934\n",
      "82 16108\n",
      "83 16089\n",
      "84 16160\n",
      "85 16409\n",
      "86 16023\n",
      "87 15966\n",
      "88 16229\n",
      "89 15941\n",
      "90 16045\n",
      "91 8129\n",
      "92 7995\n",
      "93 8165\n",
      "94 8122\n",
      "95 8174\n",
      "96 8180\n",
      "97 8096\n",
      "98 8142\n",
      "99 8058\n",
      "100 8185\n"
     ]
    }
   ],
   "source": [
    "from math import log2\n",
    "from random import randint\n",
    "arr = []\n",
    "for i in range(40, 101):\n",
    "    arr += [i] * (2**round(10-log2(i)))\n",
    "\n",
    "\n",
    "\n",
    "result = [0] * 101\n",
    "for i in range(1000000):\n",
    "    index = randint(0, len(arr)-1)\n",
    "    result[arr[index]] += 1\n",
    "\n",
    "for i, v in enumerate(result):\n",
    "    print(i, v)\n"
   ]
  },
  {
   "cell_type": "code",
   "execution_count": 56,
   "metadata": {},
   "outputs": [
    {
     "ename": "FileNotFoundError",
     "evalue": "[Errno 2] No such file or directory: 'purchase.csv'",
     "output_type": "error",
     "traceback": [
      "\u001b[1;31m---------------------------------------------------------------------------\u001b[0m",
      "\u001b[1;31mFileNotFoundError\u001b[0m                         Traceback (most recent call last)",
      "Cell \u001b[1;32mIn[56], line 5\u001b[0m\n\u001b[0;32m      2\u001b[0m purchase \u001b[38;5;241m=\u001b[39m defaultdict(\u001b[38;5;28mint\u001b[39m)\n\u001b[0;32m      3\u001b[0m sales \u001b[38;5;241m=\u001b[39m defaultdict(\u001b[38;5;28mint\u001b[39m)\n\u001b[1;32m----> 5\u001b[0m \u001b[38;5;28;01mwith\u001b[39;00m \u001b[38;5;28;43mopen\u001b[39;49m\u001b[43m(\u001b[49m\u001b[38;5;124;43m'\u001b[39;49m\u001b[38;5;124;43mpurchase.csv\u001b[39;49m\u001b[38;5;124;43m'\u001b[39;49m\u001b[43m)\u001b[49m \u001b[38;5;28;01mas\u001b[39;00m fid:\n\u001b[0;32m      6\u001b[0m     r \u001b[38;5;241m=\u001b[39m reader(fid)\n\u001b[0;32m      7\u001b[0m     \u001b[38;5;28mnext\u001b[39m(r)\n",
      "File \u001b[1;32m~\\AppData\\Local\\Packages\\PythonSoftwareFoundation.Python.3.11_qbz5n2kfra8p0\\LocalCache\\local-packages\\Python311\\site-packages\\IPython\\core\\interactiveshell.py:324\u001b[0m, in \u001b[0;36m_modified_open\u001b[1;34m(file, *args, **kwargs)\u001b[0m\n\u001b[0;32m    317\u001b[0m \u001b[38;5;28;01mif\u001b[39;00m file \u001b[38;5;129;01min\u001b[39;00m {\u001b[38;5;241m0\u001b[39m, \u001b[38;5;241m1\u001b[39m, \u001b[38;5;241m2\u001b[39m}:\n\u001b[0;32m    318\u001b[0m     \u001b[38;5;28;01mraise\u001b[39;00m \u001b[38;5;167;01mValueError\u001b[39;00m(\n\u001b[0;32m    319\u001b[0m         \u001b[38;5;124mf\u001b[39m\u001b[38;5;124m\"\u001b[39m\u001b[38;5;124mIPython won\u001b[39m\u001b[38;5;124m'\u001b[39m\u001b[38;5;124mt let you open fd=\u001b[39m\u001b[38;5;132;01m{\u001b[39;00mfile\u001b[38;5;132;01m}\u001b[39;00m\u001b[38;5;124m by default \u001b[39m\u001b[38;5;124m\"\u001b[39m\n\u001b[0;32m    320\u001b[0m         \u001b[38;5;124m\"\u001b[39m\u001b[38;5;124mas it is likely to crash IPython. If you know what you are doing, \u001b[39m\u001b[38;5;124m\"\u001b[39m\n\u001b[0;32m    321\u001b[0m         \u001b[38;5;124m\"\u001b[39m\u001b[38;5;124myou can use builtins\u001b[39m\u001b[38;5;124m'\u001b[39m\u001b[38;5;124m open.\u001b[39m\u001b[38;5;124m\"\u001b[39m\n\u001b[0;32m    322\u001b[0m     )\n\u001b[1;32m--> 324\u001b[0m \u001b[38;5;28;01mreturn\u001b[39;00m \u001b[43mio_open\u001b[49m\u001b[43m(\u001b[49m\u001b[43mfile\u001b[49m\u001b[43m,\u001b[49m\u001b[43m \u001b[49m\u001b[38;5;241;43m*\u001b[39;49m\u001b[43margs\u001b[49m\u001b[43m,\u001b[49m\u001b[43m \u001b[49m\u001b[38;5;241;43m*\u001b[39;49m\u001b[38;5;241;43m*\u001b[39;49m\u001b[43mkwargs\u001b[49m\u001b[43m)\u001b[49m\n",
      "\u001b[1;31mFileNotFoundError\u001b[0m: [Errno 2] No such file or directory: 'purchase.csv'"
     ]
    }
   ],
   "source": [
    "from collections import defaultdict\n",
    "purchase = defaultdict(int)\n",
    "sales = defaultdict(int)\n",
    "\n",
    "with open('purchase.csv') as fid:\n",
    "    r = reader(fid)\n",
    "    next(r)\n",
    "    for i in r:\n",
    "        iid, count, price, total, cid, did = i\n",
    "        purchase[iid] += count\n",
    "\n",
    "with open('sales.csv') as fid:\n",
    "    r = reader(fid)\n",
    "    next(r)\n",
    "    for i in r:\n",
    "        iid, count, price, total, cid, did = i\n",
    "        sales[iid] += count\n",
    "\n",
    "## version \n",
    "arr = []\n",
    "for key in purchase.keys() | sales.keys():\n",
    "    arr.appeend( (sales[key], purchase[key]) )\n",
    "\n",
    "print(sorted(arr, reversed=True))\n",
    "\n",
    "\n",
    "## other version\n",
    "for key, value in sales.items():\n",
    "    if purchase[key] - value > 100:\n",
    "        print(key) \n",
    "\n"
   ]
  },
  {
   "cell_type": "code",
   "execution_count": 52,
   "metadata": {},
   "outputs": [
    {
     "ename": "TypeError",
     "evalue": "first argument must be callable or None",
     "output_type": "error",
     "traceback": [
      "\u001b[1;31m---------------------------------------------------------------------------\u001b[0m",
      "\u001b[1;31mTypeError\u001b[0m                                 Traceback (most recent call last)",
      "Cell \u001b[1;32mIn[52], line 1\u001b[0m\n\u001b[1;32m----> 1\u001b[0m purchase \u001b[38;5;241m=\u001b[39m \u001b[43mdefaultdict\u001b[49m\u001b[43m(\u001b[49m\u001b[43m{\u001b[49m\u001b[38;5;124;43m'\u001b[39;49m\u001b[38;5;124;43mchocolate\u001b[39;49m\u001b[38;5;124;43m'\u001b[39;49m\u001b[43m:\u001b[49m\u001b[43m \u001b[49m\u001b[38;5;241;43m10\u001b[39;49m\u001b[43m,\u001b[49m\u001b[43m \u001b[49m\u001b[38;5;124;43m'\u001b[39;49m\u001b[38;5;124;43mtoothpaste\u001b[39;49m\u001b[38;5;124;43m'\u001b[39;49m\u001b[43m:\u001b[49m\u001b[43m \u001b[49m\u001b[38;5;241;43m20\u001b[39;49m\u001b[43m,\u001b[49m\u001b[43m \u001b[49m\u001b[38;5;124;43m'\u001b[39;49m\u001b[38;5;124;43mcola\u001b[39;49m\u001b[38;5;124;43m'\u001b[39;49m\u001b[43m:\u001b[49m\u001b[43m \u001b[49m\u001b[38;5;241;43m30\u001b[39;49m\u001b[43m,\u001b[49m\u001b[43m \u001b[49m\u001b[38;5;124;43m'\u001b[39;49m\u001b[38;5;124;43mlipbalm\u001b[39;49m\u001b[38;5;124;43m'\u001b[39;49m\u001b[43m:\u001b[49m\u001b[43m \u001b[49m\u001b[38;5;241;43m15\u001b[39;49m\u001b[43m}\u001b[49m\u001b[43m)\u001b[49m\n\u001b[0;32m      2\u001b[0m sales \u001b[38;5;241m=\u001b[39m defaultdict({\u001b[38;5;124m'\u001b[39m\u001b[38;5;124mchocolate\u001b[39m\u001b[38;5;124m'\u001b[39m: \u001b[38;5;241m5\u001b[39m, \u001b[38;5;124m'\u001b[39m\u001b[38;5;124mcola\u001b[39m\u001b[38;5;124m'\u001b[39m:\u001b[38;5;241m3\u001b[39m, \u001b[38;5;124m'\u001b[39m\u001b[38;5;124mlipbalm\u001b[39m\u001b[38;5;124m'\u001b[39m: \u001b[38;5;241m8\u001b[39m, \u001b[38;5;124m'\u001b[39m\u001b[38;5;124mmelon\u001b[39m\u001b[38;5;124m'\u001b[39m: \u001b[38;5;241m3\u001b[39m})\n",
      "\u001b[1;31mTypeError\u001b[0m: first argument must be callable or None"
     ]
    }
   ],
   "source": [
    "purchase = {'chocolate': 10, 'toothpaste': 20, 'cola': 30, 'lipbalm': 15}\n",
    "sales = {'chocolate': 5, 'cola':3, 'lipbalm': 8, 'melon': 3}"
   ]
  },
  {
   "cell_type": "code",
   "execution_count": 43,
   "metadata": {},
   "outputs": [
    {
     "data": {
      "text/plain": [
       "{'chocolate', 'cola', 'lipbalm', 'melon', 'toothpaste'}"
      ]
     },
     "execution_count": 43,
     "metadata": {},
     "output_type": "execute_result"
    }
   ],
   "source": [
    "sales.keys() | purchase.keys()"
   ]
  },
  {
   "cell_type": "code",
   "execution_count": 53,
   "metadata": {},
   "outputs": [
    {
     "name": "stdout",
     "output_type": "stream",
     "text": [
      "defaultdict(<class 'int'>, {})\n",
      "defaultdict(<class 'int'>, {'cola': 20, 'test': 30})\n"
     ]
    }
   ],
   "source": [
    "sales = defaultdict(int)\n",
    "print(sales)\n",
    "sales['cola'] = 20 \n",
    "sales['test'] = 30\n",
    "print(sales)"
   ]
  },
  {
   "cell_type": "code",
   "execution_count": 54,
   "metadata": {},
   "outputs": [
    {
     "name": "stdout",
     "output_type": "stream",
     "text": [
      "30 0\n"
     ]
    }
   ],
   "source": [
    "print(sales['test'], sales['arman'])"
   ]
  },
  {
   "cell_type": "code",
   "execution_count": 55,
   "metadata": {},
   "outputs": [
    {
     "name": "stdout",
     "output_type": "stream",
     "text": [
      "defaultdict(<class 'int'>, {'cola': 20, 'test': 30, 'arman': 0})\n"
     ]
    }
   ],
   "source": [
    "print(sales)"
   ]
  },
  {
   "cell_type": "code",
   "execution_count": 70,
   "metadata": {},
   "outputs": [
    {
     "name": "stdout",
     "output_type": "stream",
     "text": [
      "['78', '88', '99', '35', '5', '97', '68', '93', '59', '80', '24', '18', '97', '24', '3', '37', '66', '70', '2', '78', '86', '5', '14', '68', '82', '48', '75', '37', '66', '86', '57', '84', '17', '92', '41', '3', '48', '30', '31', '8', '67', '82', '13', '22', '2', '95', '34', '66', '69', '11', '50', '57', '14', '55', '32', '61', '97', '70', '14', '45', '39', '37', '7', '65', '39', '78', '87', '46', '74', '45', '1', '4', '90', '13', '87', '13', '39', '8', '34', '56', '40', '40', '8', '82', '51', '65', '17', '96', '68', '61', '59', '45', '26', '12', '56', '63', '49', '9', '57', '38', '89', '38', '21', '3', '69', '86', '79', '47', '73', '38', '62', '56', '26', '89', '85', '82', '99', '42', '40', '29', '11', '22', '35', '71', '29', '55', '53', '21', '48', '100', '98', '83', '54', '82', '99', '60', '83', '45', '98', '12', '60', '88', '27', '83', '48', '39', '14', '52', '45', '99', '21', '77', '97', '21', '47', '26', '74', '72', '45', '44', '75', '10', '95', '42', '81', '9', '83', '90', '89', '28', '10', '80', '37', '55', '15', '98', '69', '55', '45', '65', '50', '33', '20', '8', '57', '88', '64', '43', '40', '85', '26', '97', '19', '97', '86', '26', '66', '76', '22', '15', '34', '24', '44', '74', '77', '16', '4', '89', '7', '77', '72', '72', '8', '48', '99', '80', '33', '54', '16', '33', '52', '91', '50', '24', '42', '92', '80', '39', '15', '75', '4', '83', '4', '25', '99', '90', '50', '28', '67', '18', '83', '18', '48', '49', '88', '40', '7', '15', '84', '85', '7', '43', '17', '53', '81', '38', '31', '39', '80', '32', '52', '39', '68', '4', '51', '10', '48', '45', '51', '96', '22', '63', '58', '71', '33', '35', '13', '75', '37', '29', '56', '82', '92', '42', '4', '94', '75', '81', '38', '5', '28', '99', '19', '73', '61', '100', '33', '16', '57', '9', '8', '46', '90', '76', '5', '7', '69', '57', '1', '64', '94', '37', '65', '32', '84', '89', '72', '75', '90', '98', '9', '62', '39', '100', '23', '25', '58', '62', '67', '77', '56', '7', '15', '36', '92', '10', '14', '12', '89', '10', '43', '51', '19', '89', '80', '18', '19', '88', '77', '66', '3', '26', '39', '12', '22', '54', '1', '97', '11', '65', '34', '68', '19', '94', '28', '54', '72', '70', '84', '38', '6', '7', '32', '99', '53', '88', '84', '44', '83', '4', '99', '34', '29', '84', '84', '89', '11', '37', '37', '86', '32', '23', '6', '19', '53', '57', '58', '35', '43', '32', '57', '72', '69', '93', '95', '26', '88', '84', '46', '11', '44', '29', '70', '99', '60', '22', '70', '62', '99', '31', '11', '67', '38', '42', '49', '47', '22', '95', '82', '39', '81', '60', '47', '91', '80', '79', '71', '36', '57', '100', '90', '27', '16', '12', '97', '95', '61', '16', '54', '5', '86', '77', '1', '14', '85', '95', '28', '33', '32', '48', '91', '22', '12', '78', '38', '83', '66', '87', '96', '44', '67', '8', '92', '77', '77', '54', '46', '72', '17', '24', '4', '56', '10', '40', '93', '9', '93', '47', '3', '34', '72', '81', '74', '69', '88', '43', '10', '58', '25', '72', '39', '30', '8', '62', '16', '74', '66', '34', '29', '53', '13', '46', '96', '47', '35', '47', '52', '64', '75', '3', '24', '49', '40', '49', '37', '95', '98', '24', '4', '16', '46', '13', '48', '23', '54', '23', '72', '37', '66', '57', '11', '40', '17', '76', '67', '7', '85', '51', '54', '3', '18', '75', '26', '40', '97', '75', '92', '6', '44', '67', '74', '94', '57', '38', '68', '60', '76', '54', '95', '81', '69', '11', '100', '42', '55', '21', '9', '1', '10', '81', '48', '36', '73', '15', '93', '30', '2', '87', '88', '73', '32', '31', '46', '100', '92', '89', '73', '86', '5', '77', '46', '91', '62', '59', '29', '99', '21', '7', '12', '96', '53', '66', '21', '50', '19', '12', '30', '10', '50', '90', '44', '93', '66', '2', '97', '71', '8', '54', '13', '26', '83', '52', '28', '57', '83', '70', '48', '26', '55', '41', '58', '49', '69', '90', '47', '17', '24', '56', '12', '23', '81', '38', '45', '23', '57', '32', '36', '4', '61', '57', '15', '28', '37', '99', '48', '1', '73', '40', '15', '19', '66', '8', '10', '57', '14', '68', '25', '1', '44', '63', '54', '65', '36', '20', '21', '56', '78', '59', '95', '91', '96', '49', '77', '97', '17', '93', '17', '53', '18', '48', '66', '43', '60', '64', '41', '28', '76', '77', '88', '51', '58', '21', '48', '34', '89', '62', '77', '20', '18', '17', '100', '46', '49', '78', '96', '15', '2', '26', '1', '44', '4', '90', '18', '80', '10', '9', '57', '67', '69', '19', '61', '17', '40', '28', '59', '19', '10', '94', '87', '39', '31', '96', '5', '63', '85', '26', '58', '40', '17', '40', '46', '63', '5', '96', '19', '44', '53', '62', '46', '82', '100', '35', '98', '85', '19', '53', '77', '20', '38', '100', '97', '100', '83', '81', '76', '78', '41', '20', '43', '54', '3', '31', '98', '32', '94', '67', '99', '91', '94', '15', '50', '71', '56', '26', '19', '50', '77', '11', '49', '84', '2', '63', '18', '67', '92', '60', '63', '31', '77', '30', '97', '99', '81', '89', '70', '8', '63', '71', '36', '62', '38', '17', '98', '36', '91', '85', '61', '34', '39', '17', '56', '36', '21', '51', '60', '12', '83', '54', '65', '4', '84', '86', '53', '65', '92', '27', '49', '93', '43', '19', '87', '35', '66', '23', '15', '45', '45', '55', '72', '85', '49', '6', '74', '39', '27', '50', '26', '37', '31', '24', '95', '65', '61', '9', '43', '84', '11', '13', '37', '23', '88', '53', '3', '96', '55', '52', '18', '19', '62', '80', '63', '96', '15', '30', '87', '100', '85', '68', '7', '64', '18', '44', '77', '36', '68', '22', '61', '33', '6', '44', '33', '68', '72', '78', '77', '74', '7', '90', '71', '61', '2', '73', '67', '20', '70', '79', '14', '85', '73', '60', '86', '54', '76', '57', '31', '92', '89', '53', '34', '88', '36', '68', '8', '40', '36', '65', '64', '23', '97', '13', '98', '64', '19', '18', '24', '76', '76', '83', '39', '48', '22', '85', '73', '88', '37', '73', '62', '58', '49', '98', '1', '75', '71', '78', '42', '48', '34', '26', '89', '71', '60', '92', '95', '85', '45', '97', '46', '87', '30', '65', '61', '51', '97', '28', '49', '33', '2', '85', '36', '34', '4', '27', '10', '10', '86', '45', '84', '65', '69', '20', '37', '94', '16', '42', '25', '40', '89', '83', '14', '74', '1', '50', '19', '37', '19', '13', '19', '66', '86', '92', '18', '62', '2', '51', '81', '46', '33', '66', '88', '31', '39', '8', '79', '44', '44', '80', '44', '80', '35', '78', '34', '93', '91', '86', '37', '55', '55', '14', '65', '14', '89', '14', '23', '80', '34', '52', '95', '41', '91', '9', '10', '29', '99', '24', '99', '3', '9', '35', '66', '49', '3', '22', '85', '2', '96', '56', '54', '90', '6', '16', '14', '21', '100', '72', '44', '78', '58', '35', '5', '92', '31', '77', '46', '29', '6', '35', '71', '98', '63', '38', '57', '42', '27', '53', '90', '35', '81', '40', '16', '87', '35', '24', '73', '42', '36', '38', '97', '87', '64', '67', '57', '10', '56', '43', '88', '45', '84', '74', '46', '91', '86', '30', '14', '11', '71', '33', '34', '87', '63', '19', '34', '38', '98', '44', '52', '70', '91', '6', '65', '15', '50', '90', '94', '24', '19', '75', '1', '50', '14', '95', '11', '20', '48', '65', '37', '49', '70', '98', '40', '14', '61', '24', '34', '62', '43', '1', '70', '60', '63', '34', '58', '32', '65', '86', '67', '83', '84', '54', '45', '97', '89', '98', '48', '4', '71', '52', '98', '27', '22', '65', '72', '37', '45', '84', '73', '68', '24', '88', '41', '15', '39', '26', '76', '24', '78', '49', '4', '87', '48', '56', '78', '77', '90', '13', '61', '75', '17', '26', '46', '53', '37', '88', '82', '7', '64', '85', '61', '42', '67', '64', '24', '51', '7', '29', '15', '95', '45', '36', '52', '37', '29', '8', '71', '28', '77', '83', '65', '18', '26', '74', '42', '63', '81', '54', '35', '13', '50', '63', '35', '46', '97', '76', '20', '31', '53', '92', '31', '99', '47', '40', '94', '34', '55', '13', '32', '48', '93', '48', '100', '7', '97', '85', '85', '30', '76', '54', '36', '68', '31', '73', '43', '37', '70', '14', '35', '8', '100', '84', '17', '74', '20', '45', '32', '41', '28', '68', '7', '3', '13', '85', '15', '96', '8', '58', '25', '24', '6', '50', '61', '46', '73', '78', '82', '21', '32', '30', '96', '89', '3', '86', '39', '99', '75', '48', '60', '70', '58', '63', '33', '1', '47', '45', '70', '92', '7', '69', '31', '78', '40', '90', '73', '69', '67', '38', '70', '20', '43', '35', '95', '84', '64', '14', '57', '70', '34', '61', '67', '43', '65', '41', '29', '71', '26', '4', '12', '32', '48', '8', '30', '61', '97', '80', '46', '29', '58', '2', '41', '51', '38', '23', '4', '6', '48', '40', '92', '82', '94', '99', '39', '74', '64', '38', '4', '81', '25', '66', '35', '69', '69', '41', '86', '92', '31', '78', '75', '12', '46', '4', '84', '49', '74', '46', '87', '95', '38', '66', '17', '98', '87', '80', '48', '53', '53', '39', '8', '79', '96', '38', '97', '6', '94', '27', '67', '12', '33', '18', '17', '23', '96', '32', '68', '100', '95', '60', '5', '21', '43', '21', '25', '11', '25', '60', '40', '60', '44', '55', '1', '26', '50', '59', '3', '25', '84', '15', '53', '70', '6', '87', '57', '75', '100', '40', '66', '55', '3', '27', '11', '70', '32', '53', '68', '14', '53', '87', '30', '19', '89', '80', '11', '38', '50', '90', '85', '10', '37', '75', '70', '2', '80', '84', '21', '35', '3', '84', '68', '48', '97', '52', '88', '35', '76', '5', '79', '77', '6', '99', '32', '39', '70', '15', '60', '74', '45', '1', '80', '42', '20', '96', '45', '20', '45', '72', '12', '64', '1', '31', '54', '93', '13', '86', '67', '65', '29', '82', '68', '22', '76', '91', '84', '45', '79', '49', '46', '16', '81', '45', '71', '11', '78', '48', '77', '26', '86', '8', '92', '46', '51', '95', '91', '74', '100', '38', '65', '23', '49', '39', '2', '18', '86', '30', '92', '10', '10', '100', '61', '75', '99', '36', '98', '58', '89', '94', '94', '60', '14', '54', '94', '86', '50', '99', '90', '57', '84', '17', '1', '83', '29', '95', '70', '82', '28', '63', '93', '77', '10', '76', '45', '5', '87', '98', '59', '35', '78', '97', '10', '32', '94', '71', '34', '5', '52', '3', '71', '53', '96', '55', '67', '40', '49', '82', '65', '44', '82', '49', '58', '90', '97', '59', '91', '86', '82', '88', '86', '94', '4', '79', '9', '32', '83', '60', '31', '43', '92', '33', '43', '84', '94', '85', '16', '15', '21', '65', '5', '37', '83', '59', '40', '30', '64', '33', '23', '48', '74', '80', '16', '91', '82', '44', '20', '5', '50', '65', '22', '39', '36', '37', '99', '35', '19', '35', '78', '12', '10', '73', '56', '98', '77', '9', '90', '83', '33', '16', '42', '10', '99', '91', '96', '10', '16', '34', '71', '69', '85', '50', '7', '62', '51', '76', '79', '65', '30', '56', '53', '15', '51', '67', '16', '100', '84', '85', '38', '63', '50', '89', '62', '27', '18', '37', '19', '74', '36', '77', '91', '8', '76', '58', '15', '24', '36', '62', '18', '87', '77', '7', '31', '22', '72', '4', '80', '93', '78', '85', '60', '91', '11', '99', '42', '77', '63', '57', '69', '98', '99', '26', '58', '66', '55', '92', '43', '65', '4', '37', '23', '19', '82', '90', '49', '99', '8', '90', '49', '31', '41', '65', '60', '93', '94', '55', '4', '62', '87', '2', '92', '19', '84', '62', '100', '80', '14', '38', '77', '13', '18', '82', '37', '60', '13', '65', '3', '90', '34', '78', '43', '100', '84', '14', '5', '13', '54', '7', '20', '89', '22', '62', '64', '62', '16', '2', '75', '13', '78', '91', '88', '59', '52', '19', '41', '58', '13', '57', '82', '73', '29', '22', '85', '33', '42', '57', '5', '16', '88', '52', '42', '69', '48', '80', '24', '32', '65', '34', '22', '60', '45', '53', '51', '64', '4', '33', '71', '67', '13', '98', '26', '79', '74', '99', '54', '17', '29', '45', '26', '4', '48', '91', '48', '22', '47', '74', '61', '11', '54', '10', '2', '14', '19', '76', '98', '53', '30', '96', '55', '78', '95', '60', '81', '54', '29', '29', '27', '81', '25', '86', '72', '39', '33', '100', '100', '24', '89', '73', '49', '16', '86', '74', '26', '17', '76', '88', '91', '25', '74', '1', '87', '24', '61', '86', '83', '76', '89', '26', '36', '17', '16', '80', '95', '77', '18', '83', '73', '71', '32', '94', '50', '40', '50', '17', '72', '78', '69', '37', '58', '52', '73', '67', '34', '82', '97', '23', '19', '78', '88', '9', '66', '46', '80', '54', '99', '91', '85', '42', '16', '35', '84', '31', '1', '17', '25', '20', '58', '14', '8', '30', '20', '20', '81', '57', '43', '24', '83', '94', '66', '39', '81', '98', '26', '1', '37', '4', '47', '63', '91', '80', '52', '42', '60', '96', '8', '71', '6', '90', '11', '41', '69', '89', '79', '83', '18', '12', '41', '65', '49', '14', '15', '100', '54', '86', '59', '40', '75', '78', '99', '77', '70', '86', '75', '69', '94', '58', '59', '45', '22', '98', '48', '47', '28', '59', '5', '26', '72', '14', '29', '55', '55', '14', '65', '84', '38', '18', '74', '89', '52', '26', '7', '66', '41', '15', '93', '3', '46', '8', '73', '69', '90', '23', '78', '58', '89', '31', '70', '39', '84', '32', '96', '78', '76', '3', '55', '15', '9', '42', '73', '48', '88', '32', '73', '90', '62', '51', '46', '40', '51', '63', '41', '99', '88', '38', '24', '92', '78', '61', '78', '97', '36', '32', '91', '25', '54', '86', '30', '12', '82', '17', '67', '81', '95', '78', '49', '60', '78', '79', '31', '5', '21', '7', '1', '16', '92', '90', '91', '94', '22', '79', '99', '75', '25', '70', '94', '50', '41', '74', '43', '33', '93', '62', '61', '38', '67', '42', '19', '67', '86', '21', '46', '83', '42', '2', '50', '94', '72', '39', '92', '28', '15', '20', '24', '42', '84', '4', '49', '97', '80', '35', '42', '31', '49', '31', '54', '31', '83', '33', '44', '7', '44', '87', '87', '87', '74', '62', '39', '74', '32', '40', '47', '51', '47', '85', '91', '85', '4', '26', '69', '32', '20', '52', '7', '91', '90', '25', '18', '8', '94', '5', '34', '11', '64', '93', '73', '92', '43', '54', '92', '72', '72', '8', '41', '26', '49', '71', '39', '23', '57', '52', '19', '100', '28', '70', '46', '9', '14', '83', '20', '51', '29', '55', '67', '2', '76', '100', '31', '67', '87', '74', '25', '61', '97', '53', '59', '33', '37', '14', '87', '52', '62', '87', '29', '91', '52', '97', '54', '51', '47', '51', '51', '53', '98', '41', '83', '58', '26', '26', '4', '55', '93', '59', '95', '61', '65', '15', '38', '62', '41', '45', '81', '43', '28', '14', '82', '42', '18', '59', '66', '36', '16', '52', '31', '28', '26', '6', '22', '57', '39', '93', '16', '33', '82', '71', '12', '71', '61', '57', '39', '53', '18', '6', '35', '20', '85', '25', '82', '25', '12', '12', '67', '49', '75', '98', '81', '80', '17', '9', '36', '10', '93', '39', '92', '75', '61', '54', '23', '12', '82', '37', '36', '9', '74', '47', '14', '65', '77', '35', '78', '84', '86', '10', '94', '12', '49', '57', '23', '21', '54', '69', '96', '28', '19', '16', '3', '53', '28', '52', '51', '89', '21', '82', '21', '87', '87', '89', '61', '68', '89', '19', '83', '78', '15', '94', '86', '97', '43', '58', '86', '38', '75', '1', '23', '12', '34', '95', '83', '65', '29', '44', '83', '89', '99', '20', '43', '71', '39', '16', '11', '41', '62', '36', '27', '78', '76', '81', '60', '100', '7', '88', '13', '69', '2', '77', '76', '92', '44', '83', '29', '94', '78', '97', '52', '19', '15', '76', '66', '78', '56', '94', '90', '54', '19', '80', '85', '95', '76', '7', '7', '90', '69', '21', '97', '1', '53', '22', '86', '73', '71', '21', '41', '88', '45', '88', '16', '39', '9', '48', '68', '48', '57', '10', '52', '57', '27', '75', '89', '1', '36', '52', '84', '12', '47', '69', '85', '78', '84', '67', '67', '82', '88', '56', '89', '30', '35', '10', '2', '54', '91', '94', '92', '96', '12', '94', '5', '79', '42', '76', '56', '74', '83', '94', '39', '4', '53', '93', '71', '98', '25', '29', '85', '77', '83', '55', '95', '77', '32', '93', '97', '69', '84', '20', '36', '44', '82', '14', '37', '35', '88', '26', '64', '65', '78', '59', '64', '68', '44', '30', '78', '6', '41', '80', '66', '12', '6', '16', '74', '70', '80', '13', '80', '35', '87', '73', '68', '37', '17', '52', '6', '9', '4', '25', '21', '89', '12', '19', '65', '44', '87', '56', '98', '84', '27', '44', '51', '3', '7', '71', '66', '28', '7', '90', '59', '24', '39', '53', '22', '7', '94', '9', '32', '27', '45', '64', '100', '37', '8', '40', '76', '62', '91', '87', '28', '13', '46', '86', '70', '28', '49', '93', '68', '4', '67', '95', '29', '94', '28', '3', '45', '95', '90', '13', '84', '20', '81', '24', '59', '35', '82', '47', '15', '20', '27', '99', '98', '14', '73', '58', '9', '50', '36', '98', '45', '27', '81', '58', '69', '31', '33', '13', '40', '77', '76', '19', '100', '45', '50', '33', '68', '75', '21', '55', '97', '7', '22', '47', '98', '69', '63', '9', '61', '34', '93', '29', '20', '71', '14', '53', '39', '8', '3', '39', '76', '43', '46', '10', '91', '72', '50', '4', '35', '51', '76', '75', '53', '43', '40', '93', '12', '18', '79', '2', '100', '3', '25', '83', '97', '3', '61', '29', '15', '81', '47', '39', '59', '13', '63', '5', '100', '96', '47', '14', '22', '20', '47', '60', '89', '16', '91', '92', '91', '14', '39', '87', '51', '9', '75', '33', '14', '64', '84', '61', '19', '86', '62', '77', '21', '55', '8', '34', '70', '68', '99', '63', '38', '39', '32', '29', '53', '34', '51', '38', '76', '55', '86', '13', '54', '22', '88', '24', '1', '86', '40', '6', '4', '26', '34', '85', '6', '88', '19', '82', '64', '89', '47', '49', '73', '3', '87', '93', '15', '91', '35', '98', '59', '90', '25', '67', '75', '17', '49', '97', '56', '97', '82', '86', '8', '6', '95', '75', '23', '85', '91', '6', '31', '58', '7', '5', '98', '93', '73', '40', '63', '98', '63', '76', '28', '85', '51', '52', '87', '75', '8', '2', '88', '64', '98', '98', '49', '35', '33', '48', '37', '2', '93', '55', '29', '17', '71', '91', '72', '8', '82', '62', '81', '86', '32', '84', '53', '74', '27', '81', '31', '17', '77', '37', '34', '30', '97', '93', '67', '8', '64', '58', '74', '41', '93', '9', '17', '75', '6', '57', '85', '42', '11', '83', '57', '96', '8', '22', '63', '44', '79', '53', '9', '22', '44', '32', '43', '11', '64', '25', '20', '67', '49', '33', '70', '37', '68', '16', '90', '21', '17', '92', '14', '47', '39', '56', '42', '88', '49', '61', '41', '82', '66', '37', '28', '58', '97', '39', '37', '97', '41', '36', '57', '99', '3', '42', '36', '86', '5', '56', '32', '23', '13', '34', '33', '25', '25', '33', '64', '96', '94', '58', '43', '42', '35', '57', '78', '63', '17', '8', '18', '97', '75', '49', '7', '57', '88', '55', '27', '79', '28', '64', '65', '60', '16', '33', '98', '95', '44', '51', '52', '65', '40', '17', '8', '53', '42', '19', '53', '28', '69', '88', '72', '41', '71', '46', '61', '80', '39', '22', '84', '4', '22', '6', '8', '89', '16', '63', '47', '35', '77', '82', '27', '49', '63', '60', '99', '74', '87', '63', '36', '12', '70', '90', '42', '35', '57', '19', '47', '98', '95', '13', '6', '30', '16', '73', '71', '1', '48', '15', '39', '25', '11', '20', '43', '19', '86', '31', '28', '46', '27', '22', '85', '15', '13', '35', '36', '16', '63', '40', '90', '60', '14', '28', '30', '49', '33', '22', '2', '4', '57', '4', '85', '5', '42', '98', '43', '82', '34', '93', '18', '80', '64', '25', '81', '74', '74', '61', '1', '8', '80', '29', '77', '14', '81', '99', '53', '57', '85', '21', '37', '65', '28', '93', '21', '32', '18', '4', '79', '55', '94', '44', '59', '23', '56', '86', '96', '44', '13', '8', '76', '33', '71', '34', '9', '11', '13', '76', '75', '20', '32', '8', '34', '23', '14', '26', '36', '52', '5', '48', '10', '75', '84', '91', '95', '89', '84', '17', '27', '52', '23', '37', '5', '80', '79', '72', '96', '27', '85', '67', '16', '92', '73', '100', '71', '62', '94', '2', '77', '24', '73', '1', '91', '15', '82', '9', '16', '1', '58', '57', '66', '28', '22', '58', '28', '4', '63', '92', '81', '70', '83', '79', '74', '5', '2', '33', '98', '15', '96', '13', '35', '35', '39', '90', '29', '43', '14', '40', '2', '38', '86', '37', '59', '96', '28', '6', '100', '43', '100', '37', '46', '15', '96', '86', '96', '40', '30', '30', '48', '89', '8', '94', '43', '59', '78', '15', '78', '78', '61', '69', '3', '93', '83', '48', '59', '5', '92', '46', '30', '11', '47', '86', '41', '87', '9', '61', '53', '45', '24', '48', '21', '22', '27', '4', '17', '33', '59', '97', '90', '83', '75', '9', '87', '76', '50', '57', '82', '95', '32', '34', '65', '14', '9', '30', '76', '44', '20', '26', '10', '64', '63', '37', '32', '89', '77', '28', '34', '48', '2', '96', '63', '83', '57', '65', '25', '14', '77', '58', '2', '64', '68', '89', '49', '46', '49', '39', '60', '40', '91', '64', '16', '86', '98', '41', '11', '12', '78', '34', '75', '16', '43', '34', '54', '83', '45', '48', '79', '97', '1', '73', '86', '63', '48', '11', '16', '6', '57', '83', '91', '4', '6', '62', '91', '96', '28', '10', '72', '72', '68', '43', '20', '78', '73', '11', '71', '64', '78', '86', '59', '58', '72', '26', '16', '58', '99', '96', '38', '73', '90', '68', '75', '69', '77', '30', '92', '68', '66', '31', '56', '98', '14', '86', '9', '47', '85', '8', '23', '21', '11', '64', '96', '13', '29', '54', '90', '89', '57', '82', '29', '14', '14', '46', '11', '97', '98', '73', '29', '28', '64', '61', '79', '52', '71', '86', '94', '52', '63', '65', '91', '79', '64', '37', '67', '29', '83', '32', '78', '58', '95', '35', '77', '98', '17', '11', '55', '19', '97', '100', '52', '44', '59', '24', '49', '53', '44', '4', '84', '80', '49', '99', '40', '100', '15', '24', '8', '11', '89', '30', '32', '60', '61', '40', '47', '73', '80', '99', '17', '5', '74', '53', '88', '65', '51', '67', '65', '88', '11', '48', '80', '54', '60', '47', '99', '72', '25', '40', '83', '9', '88', '78', '87', '58', '44', '28', '52', '45', '68', '69', '28', '52', '84', '74', '88', '33', '41', '31', '65', '57', '75', '42', '7', '49', '39', '2', '49', '78', '56', '21', '6', '85', '81', '37', '69', '60', '62', '29', '85', '94', '8', '62', '44', '77', '58', '12', '60', '100', '33', '43', '46', '30', '67', '43', '52', '38', '13', '50', '7', '3', '87', '3', '35', '65', '14', '44', '64', '47', '94', '11', '41', '26', '92', '95', '93', '2', '22', '44', '44', '81', '11', '57', '62', '23', '67', '4', '84', '8', '92', '59', '25', '56', '92', '34', '55', '2', '5', '53', '77', '3', '78', '54', '81', '62', '64', '20', '82', '20', '57', '20', '44', '24', '76', '63', '3', '51', '32', '64', '67', '70', '35', '92', '56', '65', '48', '91', '80', '77', '63', '14', '100', '86', '26', '10', '85', '46', '53', '9', '77', '82', '65', '30', '26', '7', '32', '96', '79', '25', '31', '88', '44', '13', '88', '34', '49', '55', '81', '66', '75', '85', '48', '21', '37', '49', '32', '39', '19', '99', '90', '62', '84', '47', '74', '22', '57', '79', '32', '97', '32', '7', '48', '94', '99', '58', '45', '56', '2', '51', '31', '83', '22', '54', '49', '97', '56', '39', '76', '87', '90', '54', '42', '2', '93', '5', '55', '53', '66', '49', '75', '76', '43', '20', '48', '77', '73', '3', '62', '36', '51', '45', '39', '69', '92', '35', '3', '54', '92', '93', '85', '3', '100', '17', '16', '75', '42', '21', '72', '17', '24', '75', '55', '70', '58', '63', '23', '76', '66', '68', '86', '22', '21', '9', '50', '89', '13', '1', '38', '66', '95', '29', '21', '55', '66', '22', '5', '49', '100', '87', '37', '56', '70', '96', '39', '67', '15', '98', '75', '85', '8', '81', '49', '47', '69', '15', '77', '81', '93', '14', '8', '87', '6', '60', '33', '38', '20', '91', '20', '76', '12', '81', '65', '3', '46', '56', '7', '80', '42', '32', '12', '22', '42', '59', '73', '97', '49', '69', '85', '63', '65', '27', '1', '52', '44', '69', '13', '79', '5', '33', '74', '16', '58', '56', '10', '40', '88', '75', '24', '68', '75', '81', '22', '11', '51', '52', '35', '7', '84', '39', '76', '57', '15', '30', '100', '64', '27', '24', '54', '55', '39', '59', '63', '86', '79', '61', '70', '72', '89', '83', '58', '76', '6', '26', '100', '74', '4', '89', '70', '39', '97', '42', '63', '94', '59', '21', '67', '8', '21', '44', '96', '9', '58', '14', '14', '97', '81', '24', '96', '85', '87', '88', '66', '34', '21', '59', '66', '15', '11', '1', '11', '82', '58', '13', '71', '8', '3', '81', '85', '79', '18', '60', '65', '64', '35', '73', '82', '23', '75', '18', '21', '45', '98', '69', '38', '16', '85', '77', '91', '88', '38', '58', '100', '28', '98', '73', '43', '84', '22', '36', '69', '72', '83', '2', '53', '73', '91', '47', '18', '71', '52', '73', '75', '61', '90', '75', '58', '43', '2', '73', '77', '81', '46', '75', '56', '45', '80', '2', '82', '87', '52', '52', '4', '9', '98', '75', '6', '7', '23', '86', '94', '63', '51', '84', '43', '55', '53', '75', '74', '40', '76', '2', '15', '65', '55', '17', '67', '7', '68', '35', '11', '85', '31', '7', '81', '77', '47', '85', '87', '7', '31', '55', '7', '100', '29', '37', '73', '33', '64', '82', '43', '26', '1', '16', '66', '37', '69', '97', '91', '13', '79', '23', '80', '25', '80', '56', '81', '89', '92', '90', '55', '56', '22', '16', '69', '84', '77', '66', '18', '34', '28', '80', '89', '86', '32', '52', '16', '26', '19', '24', '98', '77', '19', '68', '46', '41', '87', '97', '42', '74', '33', '52', '73', '84', '33', '47', '64', '74', '75', '80', '64', '15', '93', '6', '26', '60', '37', '38', '28', '42', '7', '13', '28', '99', '35', '62', '36', '73', '14', '98', '95', '13', '40', '49', '18', '59', '30', '48', '24', '98', '83', '16', '3', '50', '31', '70', '84', '66', '19', '18', '62', '52', '58', '89', '47', '47', '41', '61', '7', '83', '30', '41', '72', '90', '5', '51', '23', '94', '57', '34', '61', '17', '91', '94', '17', '60', '27', '22', '81', '31', '61', '10', '91', '32', '23', '50', '12', '60', '99', '9', '53', '14', '57', '23', '76', '84', '99', '32', '93', '23', '64', '34', '9', '99', '86', '24', '11', '43', '62', '68', '90', '89', '69', '95', '45', '12', '6', '30', '10', '44', '51', '31', '19', '90', '58', '57', '29', '95', '76', '29', '42', '10', '92', '26', '68', '72', '100', '43', '6', '53', '79', '91', '98', '9', '40', '74', '74', '54', '96', '72', '69', '18', '42', '32', '4', '25', '43', '9', '32', '61', '30', '61', '61', '68', '30', '71', '65', '14', '98', '32', '59', '23', '21', '75', '60', '43', '89', '53', '39', '21', '93', '19', '16', '42', '7', '55', '29', '69', '88', '3', '93', '67', '80', '53', '51', '35', '74', '87', '86', '60', '2', '17', '58', '65', '21', '19', '40', '33', '41', '80', '77', '73', '88', '53', '39', '63', '98', '85', '77', '11', '91', '16', '16', '27', '45', '60', '34', '9', '15', '21', '86', '32', '36', '84', '19', '90', '33', '72', '36', '72', '96', '55', '61', '69', '40', '100', '38', '74', '16', '83', '45', '32', '89', '19', '97', '96', '11', '20', '42', '27', '38', '68', '25', '83', '81', '49', '20', '40', '9', '27', '1', '11', '60', '7', '19', '5', '40', '92', '2', '25', '45', '54', '20', '10', '5', '83', '81', '92', '41', '85', '42', '15', '88', '96', '2', '21', '63', '59', '7', '60', '95', '28', '5', '65', '73', '30', '85', '82', '71', '3', '11', '25', '7', '23', '4', '72', '97', '2', '68', '31', '89', '57', '20', '72', '70', '1', '38', '82', '46', '69', '87', '24', '75', '20', '50', '87', '91', '4', '5', '60', '52', '10', '20', '21', '41', '71', '88', '77', '74', '5', '54', '52', '82', '57', '5', '7', '25', '57', '30', '22', '98', '16', '13', '30', '54', '8', '90', '18', '98', '26', '9', '84', '86', '30', '82', '57', '37', '46', '78', '2', '17', '25', '50', '89', '22', '67', '87', '82', '89', '32', '56', '32', '12', '84', '22', '51', '31', '74', '27', '21', '27', '48', '75', '90', '90', '24', '48', '46', '35', '78', '9', '61', '26', '60', '24', '11', '57', '95', '27', '54', '12', '56', '85', '47', '95', '6', '67', '46', '70', '95', '56', '30', '13', '27', '85', '74', '29', '36', '78', '12', '59', '30', '88', '22', '73', '32', '69', '52', '71', '26', '87', '43', '70', '91', '81', '69', '65', '45', '43', '32', '15', '69', '80', '43', '32', '70', '82', '24', '9', '50', '32', '30', '84', '54', '39', '56', '78', '96', '95', '4', '97', '75', '79', '70', '85', '32', '47', '56', '51', '33', '75', '55', '42', '62', '31', '86', '4', '28', '24', '92', '28', '29', '48', '55', '31', '96', '63', '49', '81', '87', '71', '35', '30', '3', '92', '42', '73', '31', '12', '2', '24', '17', '97', '34', '73', '81', '45', '27', '59', '48', '89', '6', '85', '96', '96', '98', '23', '5', '8', '78', '82', '79', '38', '83', '83', '42', '61', '71', '18', '68', '98', '69', '48', '87', '59', '96', '1', '11', '5', '8', '45', '53', '43', '26', '36', '49', '27', '34', '53', '50', '21', '92', '31', '36', '3', '10', '26', '57', '87', '83', '45', '26', '8', '19', '15', '13', '19', '26', '32', '2', '41', '94', '56', '10', '38', '47', '13', '11', '81', '92', '8', '42', '56', '64', '70', '79', '99', '5', '21', '68', '18', '50', '97', '68', '4', '50', '73', '30', '78', '89', '27', '37', '20', '36', '59', '80', '24', '74', '77', '73', '27', '52', '68', '48', '56', '39', '33', '18', '47', '17', '77', '56', '48', '64', '5', '19', '28', '83', '77', '8', '42', '6', '24', '30', '6', '47', '34', '95', '59', '39', '26', '46', '46', '19', '69', '75', '95', '95', '68', '65', '14', '24', '70', '60', '51', '96', '14', '31', '75', '33', '17', '82', '5', '21', '80', '31', '57', '35', '24', '1', '60', '24', '78', '14', '79', '61', '71', '10', '29', '68', '40', '99', '64', '99', '49', '36', '99', '44', '13', '45', '94', '67', '28', '22', '40', '19', '59', '64', '59', '17', '16', '90', '32', '2', '25', '50', '98', '87', '99', '55', '10', '42', '98', '51', '40', '83', '15', '93', '35', '5', '4', '61', '36', '66', '16', '86', '51', '51', '6', '46', '50', '12', '71', '83', '78', '13', '50', '53', '56', '11', '3', '59', '47', '86', '72', '73', '73', '70', '85', '77', '97', '7', '62', '60', '71', '59', '45', '18', '88', '38', '33', '51', '39', '87', '90', '72', '67', '24', '58', '17', '25', '43', '15', '84', '34', '89', '38', '82', '79', '26', '2', '83', '44', '11', '50', '65', '10', '42', '52', '10', '38', '57', '14', '91', '44', '58', '85', '14', '12', '75', '80', '44', '22', '57', '6', '35', '5', '51', '35', '35', '33', '61', '89', '52', '39', '26', '97', '59', '8', '23', '90', '6', '2', '37', '44', '35', '15', '93', '10', '63', '99', '30', '32', '63', '71', '99', '15', '31', '70', '53', '5', '75', '8', '64', '48', '41', '81', '11', '4', '5', '14', '6', '85', '8', '94', '10', '62', '93', '69', '68', '76', '68', '95', '57', '79', '24', '28', '33', '43', '81', '25', '22', '29', '17', '48', '27', '89', '69', '14', '59', '13', '100', '86', '68', '85', '10', '45', '90', '3', '81', '8', '91', '24', '87', '3', '27', '41', '68', '31', '37', '70', '71', '21', '28', '39', '72', '59', '99', '45', '79', '79', '14', '99', '22', '66', '49', '45', '59', '46', '72', '11', '54', '47', '70', '54', '39', '53', '83', '66', '67', '91', '20', '53', '54', '99', '100', '97', '74', '9', '77', '40', '76', '91', '77', '30', '73', '58', '76', '78', '64', '35', '71', '72', '17', '100', '52', '93', '73', '37', '31', '56', '82', '55', '65', '59', '49', '100', '100', '2', '82', '19', '94', '53', '47', '73', '17', '1', '40', '68', '84', '61', '23', '100', '41', '56', '42', '49', '57', '11', '32', '98', '17', '89', '14', '73', '26', '38', '44', '99', '57', '35', '40', '8', '88', '9', '93', '57', '78', '81', '79', '33', '15', '61', '26', '47', '15', '55', '8', '22', '15', '31', '90', '30', '24', '76', '45', '86', '10', '43', '7', '19', '50', '44', '25', '24', '54', '38', '57', '68', '16', '97', '36', '78', '48', '83', '55', '66', '31', '78', '58', '68', '33', '7', '53', '56', '13', '47', '8', '50', '44', '96', '22', '38', '73', '89', '76', '19', '93', '53', '3', '36', '75', '35', '94', '33', '3', '85', '77', '21', '52', '18', '67', '80', '1', '60', '29', '17', '84', '3', '99', '66', '28', '87', '90', '68', '66', '41', '51', '13', '26', '27', '18', '44', '53', '50', '81', '20', '91', '31', '36', '38', '15', '36', '64', '32', '44', '52', '82', '22', '27', '78', '95', '23', '97', '50', '87', '12', '41', '22', '55', '68', '15', '64', '74', '57', '88', '56', '10', '36', '47', '17', '57', '1', '74', '53', '53', '27', '63', '100', '55', '34', '79', '97', '55', '12', '77', '77', '24', '94', '56', '1', '52', '26', '25', '25', '34', '7', '34', '66', '14', '18', '83', '53', '90', '10', '43', '47', '91', '37', '21', '30', '61', '91', '58', '43', '33', '58', '93', '93', '17', '13', '45', '39', '18', '70', '71', '25', '21', '22', '35', '15', '34', '10', '80', '66', '26', '54', '87', '38', '64', '13', '19', '24', '40', '91', '74', '74', '88', '1', '85', '28', '48', '48', '80', '26', '46', '6', '56', '34', '24', '1', '64', '88', '40', '67', '84', '25', '33', '70', '23', '69', '54', '40', '75', '41', '8', '39', '80', '93', '42', '71', '17', '59', '93', '27', '64', '100', '71', '89', '30', '22', '84', '69', '96', '19', '7', '86', '76', '99', '97', '56', '75', '60', '23', '8', '69', '29', '55', '40', '97', '85', '69', '61', '69', '11', '91', '3', '92', '68', '36', '93', '18', '24', '30', '6', '70', '10', '55', '85', '45', '61', '74', '28', '69', '26', '7', '12', '57', '30', '49', '68', '22', '74', '20', '81', '91', '32', '43', '82', '45', '78', '73', '66', '28', '16', '12', '82', '74', '56', '78', '100', '82', '86', '30', '15', '8', '80', '83', '77', '17', '3', '88', '14', '35', '80', '71', '43', '48', '98', '64', '29', '75', '89', '67', '58', '32', '53', '100', '27', '11', '46', '13', '46', '14', '57', '68', '59', '46', '2', '40', '17', '32', '63', '14', '57', '95', '16', '86', '29', '45', '30', '57', '38', '15', '53', '36', '95', '98', '14', '100', '29', '24', '95', '46', '70', '51', '96', '30', '6', '5', '77', '34', '31', '6', '65', '26', '4', '39', '86', '51', '21', '30', '33', '89', '45', '28', '8', '86', '13', '70', '60', '43', '23', '47', '52', '97', '75', '5', '70', '100', '77', '69', '19', '75', '92', '24', '12', '84', '33', '96', '72', '77', '74', '68', '18', '8', '88', '16', '18', '26', '91', '55', '27', '35', '3', '9', '55', '36', '71', '99', '73', '98', '34', '16', '86', '38', '62', '93', '26', '43', '14', '87', '75', '26', '46', '82', '86', '66', '76', '82', '68', '2', '72', '79', '51', '49', '61', '35', '27', '26', '90', '30', '82', '89', '30', '52', '89', '84', '77', '21', '60', '81', '76', '64', '8', '93', '94', '27', '10', '56', '63', '90', '25', '98', '82', '69', '25', '23', '5', '11', '55', '53', '91', '20', '90', '13', '63', '29', '51', '49', '14', '76', '96', '100', '33', '65', '34', '88', '85', '99', '53', '46', '36', '90', '16', '18', '3', '10', '12', '92', '11', '90', '53', '61', '69', '7', '79', '58', '32', '72', '85', '53', '84', '84', '16', '36', '9', '44', '7', '1', '38', '31', '52', '46', '60', '54', '100', '11', '83', '33', '64', '95', '27', '7', '53', '99', '41', '36', '90', '99', '19', '8', '67', '2', '9', '30', '3', '74', '90', '88', '49', '98', '57', '1', '71', '91', '69', '62', '38', '98', '26', '2', '64', '99', '90', '34', '97', '59', '88', '36', '48', '19', '82', '53', '58', '85', '48', '51', '21', '97', '78', '70', '52', '74', '42', '31', '58', '49', '31', '54', '32', '5', '1', '1', '99', '30', '87', '42', '74', '86', '6', '20', '36', '67', '36', '68', '55', '41', '63', '87', '17', '90', '12', '50', '6', '30', '96', '91', '68', '89', '33', '78', '2', '84', '6', '71', '76', '9', '83', '18', '76', '46', '85', '66', '9', '35', '98', '6', '84', '95', '61', '77', '83', '98', '96', '26', '27', '20', '20', '89', '15', '24', '7', '75', '51', '8', '87', '67', '11', '13', '85', '61', '84', '81', '82', '82', '99', '100', '25', '78', '29', '9', '69', '63', '41', '41', '50', '57', '24', '76', '72', '62', '10', '31', '92', '88', '7', '10', '31', '93', '22', '27', '31', '38', '8', '17', '20', '75', '5', '85', '93', '60', '11', '37', '30', '33', '89', '52', '14', '7', '40', '19', '39', '74', '23', '69', '6', '91', '20', '71', '99', '22', '92', '35', '39', '74', '91', '3', '37', '49', '49', '56', '100', '83', '15', '5', '89', '11', '19', '75', '20', '29', '8', '31', '1', '57', '51', '56', '31', '85', '92', '48', '6', '28', '22', '69', '76', '16', '15', '80', '29', '33', '20', '38', '80', '68', '47', '37', '81', '40', '38', '96', '80', '62', '54', '56', '24', '82', '43', '55', '1', '63', '43', '63', '92', '21', '79', '84', '65', '74', '35', '6', '8', '76', '51', '67', '3', '77', '32', '93', '53', '67', '27', '57', '15', '44', '64', '96', '33', '22', '31', '39', '8', '27', '41', '12', '30', '81', '12', '62', '53', '90', '18', '98', '35', '79', '76', '16', '23', '2', '100', '82', '22', '87', '97', '96', '61', '75', '18', '84', '17', '50', '26', '58', '24', '83', '3', '95', '35', '41', '46', '67', '57', '8', '93', '6', '11', '92', '4', '81', '9', '35', '54', '89', '34', '83', '33', '39', '6', '73', '23', '68', '49', '80', '71', '9', '20', '15', '59', '85', '100', '43', '96', '52', '74', '96', '15', '81', '100', '66', '77', '41', '33', '100', '67', '77', '57', '89', '20', '25', '36', '70', '29', '78', '33', '32', '28', '30', '36', '21', '58', '16', '7', '11', '25', '32', '28', '67', '48', '17', '88', '8', '15', '29', '13', '15', '60', '30', '75', '49', '1', '39', '69', '6', '64', '39', '97', '29', '20', '5', '62', '45', '69', '1', '85', '87', '34', '51', '93', '56', '79', '64', '74', '57', '70', '85', '48', '69', '30', '51', '37', '63', '12', '84', '99', '12', '29', '32', '75', '22', '52', '75', '1', '56', '47', '83', '79', '6', '75', '54', '89', '10', '38', '70', '3', '16', '17', '25', '92', '90', '84', '49', '24', '75', '31', '75', '37', '98', '28', '70', '87', '64', '35', '58', '7', '82', '11', '9', '12', '63', '59', '63', '29', '15', '37', '77', '79', '87', '59', '2', '48', '50', '61', '47', '41', '99', '25', '93', '30', '6', '87', '97', '20', '95', '16', '65', '98', '2', '31', '58', '49', '49', '51', '31', '77', '58', '58', '68', '91', '87', '99', '69', '48', '69', '71', '83', '71', '25', '65', '66', '88', '13', '80', '52', '8', '82', '29', '47', '2', '24', '11', '58', '37', '3', '49', '13', '69', '100', '94', '80', '37', '79', '72', '12', '55', '88', '63', '28', '96', '72', '12', '33', '33', '55', '87', '55', '54', '87', '79', '29', '37', '11', '71', '91', '75', '76', '17', '32', '76', '36', '5', '22', '74', '38', '14', '86', '83', '47', '54', '69', '28', '26', '67', '79', '26', '68', '42', '30', '20', '70', '11', '85', '47', '17', '92', '97', '68', '97', '8', '47', '22', '63', '19', '90', '10', '12', '77', '36', '66', '52', '91', '100', '20', '63', '77', '67', '31', '13', '48', '3', '22', '48', '51', '76', '21', '72', '11', '2', '66', '97', '34', '48', '44', '37', '16', '5', '48', '93', '3', '86', '36', '72', '44', '10', '77', '37', '8', '69', '7', '81', '60', '9', '83', '44', '97', '27', '89', '45', '56', '7', '4', '19', '90', '92', '53', '10', '39', '92', '57', '26', '84', '11', '61', '52', '17', '61', '64', '95', '47', '29', '19', '35', '77', '25', '68', '48', '43', '25', '93', '83', '82', '97', '7', '22', '65', '23', '91', '20', '64', '82', '55', '47', '65', '87', '26', '99', '31', '65', '75', '32', '25', '78', '28', '12', '10', '47', '16', '84', '83', '93', '95', '20', '72', '1', '29', '53', '68', '92', '3', '19', '94', '55', '58', '52', '9', '20', '66', '93', '25', '75', '14', '84', '52', '98', '76', '69', '80', '42', '78', '43', '30', '3', '39', '23', '67', '81', '42', '22', '34', '68', '55', '19', '49', '37', '3', '60', '47', '91', '86', '19', '39', '97', '71', '30', '68', '95', '23', '20', '21', '91', '97', '68', '15', '86', '82', '12', '33', '70', '21', '54', '99', '6', '77', '67', '12', '27', '38', '55', '1', '43', '70', '57', '66', '67', '74', '36', '41', '82', '58', '1', '31', '36', '31', '67', '2', '27', '45', '89', '4', '5', '86', '13', '72', '30', '21', '32', '52', '84', '41', '37', '38', '86', '32', '13', '52', '72', '57', '38', '100', '88', '84', '10', '12', '31', '64', '55', '2', '86', '20', '34', '55', '95', '84', '58', '65', '94', '22', '17', '21', '53', '25', '64', '9', '16', '50', '64', '50', '77', '46', '22', '71', '78', '23', '7', '23', '61', '43', '22', '12', '12', '15', '35', '88', '1', '44', '34', '82', '44', '56', '14', '38', '43', '98', '27', '15', '98', '10', '26', '57', '49', '48', '77', '62', '96', '29', '49', '27', '86', '27', '62', '7', '32', '94', '64', '77', '3', '22', '73', '54', '56', '23', '99', '82', '43', '36', '30', '73', '86', '60', '75', '73', '15', '14', '47', '83', '97', '100', '11', '53', '100', '83', '85', '73', '71', '73', '77', '39', '21', '39', '62', '43', '74', '56', '63', '14', '59', '34', '12', '88', '15', '13', '27', '84', '90', '65', '16', '44', '99', '6', '30', '94', '28', '51', '96', '100', '55', '8', '13', '3', '58', '68', '64', '96', '60', '19', '66', '33', '100', '50', '3', '75', '57', '34', '31', '28', '79', '15', '94', '89', '83', '6', '76', '9', '70', '86', '62', '99', '9', '46', '35', '1', '79', '42', '16', '18', '87', '25', '30', '81', '23', '57', '64', '86', '89', '20', '29', '70', '26', '43', '41', '91', '82', '87', '77', '33', '24', '45', '41', '55', '32', '54', '100', '15', '11', '20', '44', '64', '12', '25', '72', '28', '32', '2', '77', '38', '34', '24', '20', '37', '54', '83', '42', '23', '64', '59', '67', '39', '66', '32', '16', '85', '30', '16', '90', '66', '91', '75', '66', '35', '21', '95', '24', '24', '84', '16', '91', '60', '100', '34', '8', '52', '20', '21', '4', '1', '57', '60', '5', '14', '65', '78', '67', '34', '91', '59', '90', '7', '86', '59', '75', '28', '25', '44', '58', '30', '40', '44', '5', '61', '22', '39', '2', '80', '19', '63', '63', '100', '80', '23', '97', '64', '39', '81', '41', '11', '86', '88', '60', '68', '98', '56', '61', '21', '46', '24', '48', '71', '83', '94', '67', '57', '67', '26', '37', '29', '54', '80', '50', '73', '57', '93', '19', '31', '94', '88', '66', '80', '70', '91', '100', '43', '95', '45', '78', '99', '25', '67', '92', '29', '16', '57', '81', '34', '46', '8', '73', '76', '70', '75', '22', '60', '84', '60', '51', '21', '66', '72', '47', '48', '31', '74', '1', '69', '35', '44', '23', '7', '18', '23', '20', '87', '94', '96', '72', '65', '70', '95', '75', '5', '86', '35', '64', '63', '68', '39', '17', '10', '87', '75', '100', '32', '94', '52', '5', '94', '37', '2', '39', '13', '17', '92', '94', '51', '50', '76', '99', '44', '27', '97', '83', '61', '18', '53', '31', '25', '75', '34', '44', '84', '19', '45', '51', '13', '88', '21', '45', '91', '42', '48', '44', '15', '92', '33', '54', '57', '17', '51', '43', '77', '90', '51', '8', '48', '62', '81', '27', '74', '19', '64', '35', '53', '92', '46', '42', '96', '90', '28', '58', '46', '35', '60', '6', '19', '13', '86', '44', '40', '32', '75', '61', '47', '75', '25', '80', '64', '76', '61', '86', '18', '90', '20', '34', '32', '39', '56', '72', '37', '74', '53', '100', '77', '3', '62', '100', '43', '94', '53', '84', '81', '26', '63', '48', '65', '17', '39', '72', '61', '59', '8', '7', '15', '79', '27', '31', '10', '91', '65', '73', '50', '87', '6', '100', '41', '49', '4', '36', '46', '2', '5', '68', '96', '55', '71', '6', '57', '34', '86', '53', '55', '95', '41', '8', '16', '3', '2', '74', '93', '55', '37', '64', '77', '67', '94', '39', '13', '6', '24', '51', '86', '21', '58', '94', '61', '22', '71', '69', '3', '32', '52', '73', '99', '26', '37', '79', '31', '68', '28', '22', '33', '63', '79', '85', '9', '74', '53', '64', '84', '47', '8', '27', '45', '88', '10', '47', '75', '99', '70', '59', '100', '88', '18', '45', '18', '100', '71', '56', '55', '10', '82', '52', '48', '26', '85', '13', '28', '18', '63', '22', '84', '28', '9', '20', '31', '67', '49', '4', '84', '10', '10', '38', '79', '73', '96', '85', '13', '88', '94', '32', '79', '46', '51', '36', '36', '60', '96', '78', '10', '88', '84', '74', '53', '40', '23', '51', '80', '71', '18', '21', '87', '69', '66', '90', '75', '86', '93', '88', '71', '48', '42', '52', '52', '81', '27', '98', '57', '21', '55', '76', '44', '63', '72', '34', '52', '26', '9', '60', '88', '76', '38', '54', '47', '57', '39', '57', '7', '61', '18', '64', '58', '1', '56', '15', '52', '85', '7', '28', '96', '75', '12', '90', '4', '78', '88', '71', '45', '24', '77', '75', '8', '37', '31', '25', '6', '89', '89', '9', '68', '66', '75', '30', '81', '89', '57', '57', '32', '76', '48', '91', '43', '26', '26', '97', '100', '92', '51', '34', '5', '75', '51', '39', '63', '1', '54', '95', '53', '99', '1', '87', '71', '43', '23', '62', '24', '3', '98', '98', '74', '89', '44', '24', '66', '25', '85', '70', '82', '79', '54', '32', '35', '94', '6', '55', '16', '64', '99', '31', '29', '65', '59', '13', '5', '56', '61', '28', '26', '8', '94', '7', '3', '87', '92', '26', '49', '98', '42', '86', '63', '75', '38', '80', '100', '37', '37', '30', '43', '30', '74', '32', '25', '79', '55', '27', '76', '66', '22', '68', '6', '62', '80', '37', '4', '66', '55', '52', '91', '96', '4', '92', '77', '19', '20', '70', '26', '80', '68', '60', '41', '9', '84', '44', '94', '13', '27', '7', '73', '77', '100', '40', '45', '1', '91', '55', '21', '51', '60', '40', '27', '77', '76', '44', '28', '17', '88', '12', '32', '8', '70', '38', '14', '57', '83', '15', '89', '23', '29', '32', '21', '76', '58', '30', '48', '92', '13', '57', '21', '8', '87', '80', '45', '47', '12', '67', '88', '90', '8', '55', '45', '66', '9', '66', '16', '53', '67', '87', '14', '57', '49', '29', '15', '33', '80', '1', '92', '32', '19', '53', '81', '86', '91', '71', '93', '87', '61', '99', '22', '41', '98', '78', '36', '29', '6', '39', '15', '39', '25', '3', '64', '57', '16', '87', '42', '75', '4', '79', '47', '17', '5', '58', '52', '17', '99', '92', '55', '89', '36', '86', '9', '1', '49', '10', '33', '24', '4', '27', '39', '52', '55', '35', '39', '18', '50', '72', '75', '34', '20', '4', '11', '26', '91', '29', '28', '43', '47', '54', '38', '23', '47', '36', '31', '99', '14', '54', '23', '18', '34', '7', '19', '86', '17', '3', '43', '57', '1', '28', '19', '84', '86', '58', '5', '44', '62', '60', '39', '11', '68', '29', '17', '56', '55', '38', '81', '59', '86', '73', '64', '88', '82', '44', '94', '10', '63', '12', '94', '41', '8', '84', '25', '92', '15', '40', '16', '31', '36', '31', '95', '18', '32', '26', '13', '41', '80', '30', '24', '33', '71', '6', '61', '71', '83', '94', '1', '33', '11', '14', '42', '90', '12', '94', '51', '22', '96', '63', '31', '30', '69', '43', '67', '30', '99', '99', '42', '67', '30', '62', '61', '57', '65', '68', '58', '92', '36', '39', '23', '37', '69', '62', '18', '34', '86', '54', '73', '2', '14', '92', '81', '90', '2', '5', '56', '94', '4', '52', '59', '77', '42', '38', '85', '94', '76', '26', '41', '35', '45', '69', '88', '22', '85', '72', '5', '54', '53', '27', '25', '57', '80', '47', '32', '27', '69', '38', '25', '27', '57', '45', '51', '36', '73', '21', '59', '3', '77', '87', '1', '50', '50', '86', '86', '40', '37', '53', '58', '42', '59', '78', '15', '85', '33', '23', '33', '99', '59', '85', '63', '96', '88', '15', '78', '4', '84', '35', '64', '23', '73', '22', '24', '88', '42', '59', '13', '91', '36', '44', '25', '84', '86', '14', '25', '82', '23', '62', '89', '64', '56', '33', '7', '23', '63', '84', '77', '20', '99', '72', '51', '15', '56', '28', '16', '41', '83', '52', '10', '69', '46', '93', '78', '41', '98', '66', '86', '61', '2', '89', '25', '46', '81', '46', '77', '91', '48', '35', '18', '74', '32', '36', '69', '96', '22', '64', '53', '82', '65', '81', '65', '32', '76', '34', '99', '13', '74', '4', '45', '88', '78', '14', '39', '93', '9', '71', '24', '80', '82', '56', '48', '91', '74', '46', '90', '68', '7', '29', '56', '10', '67', '71', '64', '92', '34', '27', '23', '93', '41', '76', '82', '29', '50', '47', '12', '25', '18', '61', '71', '43', '91', '46', '13', '17', '39', '4', '53', '81', '49', '99', '4', '46', '18', '24', '71', '12', '94', '40', '96', '18', '16', '28', '52', '47', '16', '81', '10', '100', '52', '30', '25', '78', '18', '15', '43', '64', '10', '91', '57', '28', '11', '87', '75', '14', '8', '91', '3', '49', '79', '33', '49', '47', '49', '32', '13', '44', '31', '94', '96', '49', '82', '20', '59', '30', '3', '59', '100', '91', '18', '62', '26', '66', '97', '30', '85', '40', '82', '71', '43', '62', '100', '33', '80', '26', '12', '10', '52', '96', '18', '54', '85', '83', '21', '67', '10', '57', '26', '2', '4', '20', '75', '63', '83', '80', '99', '92', '52', '38', '23', '84', '37', '14', '49', '30', '82', '21', '85', '79', '70', '52', '31', '25', '6', '80', '19', '93', '43', '84', '20', '49', '38', '61', '98', '92', '37', '78', '11', '81', '76', '80', '8', '45', '69', '77', '32', '2', '36', '26', '25', '67', '5', '20', '58', '19', '26', '38', '90', '3', '98', '26', '4', '61', '17', '38', '7', '17', '86', '45', '79', '21', '71', '11', '27', '61', '49', '50', '87', '77', '97', '81', '34', '78', '2', '33', '46', '90', '4', '44', '45', '21', '97', '42', '19', '58', '19', '37', '71', '45', '40', '81', '29', '29', '97', '26', '79', '20', '2', '15', '47', '20', '93', '100', '8', '83', '56', '69', '97', '75', '56', '66', '60', '73', '46', '85', '58', '49', '61', '83', '2', '27', '97', '23', '53', '41', '22', '70', '7', '27', '56', '81', '6', '89', '51', '98', '100', '77', '86', '43', '21', '57', '76', '62', '40', '64', '59', '52', '16', '72', '17', '62', '100', '37', '4', '1', '14', '38', '72', '27', '85', '95', '100', '53', '92', '46', '19', '44', '1', '38', '100', '52', '46', '85', '39', '20', '46', '25', '74', '67', '28', '90', '42', '74', '71', '94', '40', '59', '80', '30', '45', '93', '74', '84', '32', '69', '92', '89', '64', '6', '3', '67', '24', '13', '15', '13', '38', '81', '1', '41', '30', '26', '45', '98', '87', '52', '39', '24', '98', '3', '92', '53', '7', '98', '70', '31', '88', '51', '87', '87', '36', '71', '38', '60', '15', '93', '6', '92', '11', '76', '91', '64', '20', '53', '64', '96', '90', '62', '65', '96', '3', '36', '43', '21', '7', '68', '66', '4', '66', '33', '45', '50', '20', '94', '11', '52', '89', '24', '77', '77', '18', '50', '47', '40', '100', '39', '7', '40', '66', '77', '93', '12', '5', '15', '81', '41', '55', '32', '86', '32', '56', '38', '6', '64', '18', '90', '96', '24', '47', '84', '12', '25', '59', '60', '30', '76', '68', '83', '20', '66', '57', '73', '56', '73', '18', '28', '28', '85', '45', '8', '39', '96', '61', '30', '85', '100', '51', '81', '16', '27', '4', '99', '92', '33', '47', '31', '38', '38', '90', '94', '57', '63', '96', '62', '89', '93', '12', '6', '25', '27', '19', '81', '64', '7', '42', '27', '81', '77', '36', '58', '69', '72', '17', '7', '73', '18', '1', '17', '44', '71', '45', '57', '93', '29', '36', '90', '77', '87', '70', '98', '45', '20', '64', '62', '100', '18', '35', '67', '39', '42', '88', '68', '19', '54', '55', '11', '40', '92', '51', '18', '86', '41', '39', '94', '97', '69', '18', '44', '34', '10', '62', '78', '47', '45', '33', '40', '1', '67', '92', '86', '44', '39', '76', '24', '12', '53', '37', '79', '69', '39', '15', '92', '75', '78', '31', '70', '23', '68', '15', '23', '51', '84', '65', '81', '52', '81', '80', '82', '45', '15', '83', '19', '81', '39', '57', '90', '83', '36', '62', '1', '86', '27', '96', '18', '32', '70', '19', '24', '70', '80', '24', '13', '100', '76', '28', '34', '24', '46', '16', '78', '36', '50', '84', '3', '79', '15', '76', '93', '46', '43', '21', '99', '75', '70', '33', '46', '52', '8', '67', '30', '92', '14', '64', '93', '96', '72', '43', '36', '16', '62', '71', '7', '56', '100', '68', '98', '10', '40', '76', '71', '30', '19', '13', '5', '100', '51', '19', '70', '56', '32', '82', '55', '28', '33', '4', '53', '87', '52', '78', '43', '34', '2', '60', '19', '52', '66', '32', '81', '27', '9', '64', '41', '86', '1', '33', '57', '83', '54', '36', '29', '64', '68', '32', '95', '15', '58', '1', '99', '93', '63', '35', '32', '46', '72', '30', '43', '68', '7', '66', '20', '25', '7', '25', '11', '43', '20', '46', '3', '63', '15', '87', '59', '62', '82', '32', '70', '74', '2', '56', '24', '87', '19', '29', '34', '19', '10', '68', '54', '27', '15', '22', '23', '51', '23', '85', '54', '74', '6', '83', '39', '3', '31', '7', '32', '96', '85', '42', '50', '79', '5', '4', '69', '86', '81', '26', '4', '49', '96', '80', '63', '42', '67', '71', '84', '76', '62', '53', '15', '9', '57', '1', '41', '90', '76', '43', '39', '86', '74', '65', '85', '86', '33', '51', '21', '11', '7', '93', '27', '12', '21', '15', '34', '93', '78', '62', '67', '11', '60', '65', '42', '23', '4', '49', '88', '37', '85', '12', '93', '95', '43', '31', '81', '46', '24', '92', '52', '35', '50', '33', '77', '78', '3', '65', '16', '85', '53', '54', '59', '72', '99', '36', '21', '18', '57', '65', '67', '81', '29', '92', '70', '47', '41', '78', '22', '51', '26', '6', '61', '100', '4', '85', '48', '93', '70', '66', '72', '39', '66', '33', '37', '70', '58', '91', '4', '7', '4', '38', '94', '64', '8', '82', '1', '79', '20', '58', '72', '58', '19', '34', '48', '75', '77', '36', '67', '71', '53', '57', '87', '27', '26', '34', '86', '13', '83', '94', '61', '51', '41', '81', '56', '32', '73', '81', '55', '34', '69', '54', '34', '62', '71', '99', '80', '73', '9', '55', '60', '21', '73', '11', '83', '24', '53', '23', '1', '74', '80', '49', '73', '44', '64', '13', '79', '91', '8', '74', '21', '95', '40', '40', '1', '37', '34', '63', '83', '78', '65', '96', '6', '6', '55', '52', '58', '5', '5', '88', '67', '44', '63', '14', '35', '8', '15', '45', '22', '51', '12', '36', '56', '83', '6', '34', '56', '59', '92', '81', '40', '100', '22', '8', '30', '59', '13', '93', '84', '29', '36', '73', '75', '94', '60', '37', '40', '81', '61', '8', '30', '65', '61', '10', '59', '67', '66', '44', '77', '45', '69', '76', '18', '35', '85', '73', '91', '45', '76', '68', '65', '6', '95', '28', '94', '82', '53', '65', '13', '71', '70', '54', '91', '73', '48', '29', '96', '31', '80', '68', '22', '36', '43', '94', '31', '13', '76', '66', '74', '11', '29', '50', '11', '97', '31', '51', '44', '65', '36', '90', '86', '17', '100', '22', '98', '6', '31', '53', '19', '72', '49', '85', '84', '86', '33', '20', '89', '8', '34', '81', '50', '83', '65', '98', '15', '73', '82', '42', '41', '41', '23', '43', '48', '92', '47', '10', '4', '92', '98', '90', '77', '28', '35', '47', '53', '83', '65', '59', '20', '86', '78', '56', '83', '80', '80', '61', '85', '11', '20', '90', '87', '8', '63', '52', '3', '17', '32', '61', '69', '56', '73', '7', '32', '12', '83', '70', '15', '59', '44', '46', '31', '6', '42', '31', '2', '44', '54', '11', '44', '22', '69', '95', '49', '80', '91', '24', '10', '25', '68', '88', '84', '45', '40', '2', '30', '23', '25', '21', '29', '13', '36', '61', '86', '3', '80', '95', '21', '95', '12', '72', '100', '67', '73', '48', '85', '23', '28', '62', '12', '12', '13', '55', '56', '26', '90', '40', '3', '38', '78', '31', '17', '70', '23', '22', '76', '38', '83', '43', '48', '78', '49', '31', '11', '85', '30', '28', '80', '74', '57', '88', '69', '19', '39', '77', '36', '5', '87', '35', '21', '64', '11', '99', '26', '14', '5', '44', '96', '62', '87', '47', '78', '84', '59', '35', '45', '57', '20', '75', '34', '66', '10', '71', '16', '27', '63', '38', '61', '18', '16', '12', '55', '2', '35', '59', '33', '8', '79', '13', '36', '47', '77', '70', '41', '35', '85', '19', '10', '100', '53', '65', '16', '47', '99', '75', '86', '15', '26', '94', '43', '43', '53', '90', '48', '7', '17', '87', '20', '50', '25', '20', '13', '65', '49', '81', '100', '38', '38', '72', '1', '23', '66', '79', '83', '9', '24', '47', '81', '25', '78', '27', '31', '11', '93', '49', '60', '65', '50', '99', '18', '22', '74', '24', '59', '34', '4', '83', '68', '44', '69', '66', '82', '35', '7', '10', '88', '5', '74', '79', '69', '39', '57', '55', '89', '33', '88', '21', '7', '40', '49', '68', '41', '35', '71', '22', '30', '77', '89', '30', '81', '49', '50', '9', '46', '19', '30', '91', '41', '4', '40', '77', '54', '46', '51', '69', '19', '68', '5', '41', '34', '82', '54', '12', '29', '10', '92', '95', '70', '10', '61', '42', '41', '1', '62', '65', '13', '26', '71', '9', '17', '97', '76', '44', '49', '37', '68', '28', '31', '61', '95', '94', '85', '24', '74', '88', '39', '75', '12', '20', '49', '42', '40', '35', '8', '79', '100', '95', '88', '5', '40', '61', '63', '95', '74', '23', '97', '42', '59', '23', '65', '71', '86', '71', '37', '13', '97', '31', '95', '95', '4', '20', '21', '19', '18', '31', '6', '99', '16', '10', '75', '71', '23', '11', '34', '67', '55', '93', '25', '62', '49', '31', '32', '48', '88', '35', '39', '22', '13', '75', '1', '35', '100', '32', '57', '52', '65', '59', '53', '96', '47', '1', '20', '53', '32', '66', '7', '11', '99', '94', '20', '8', '42', '83', '16', '61', '14', '14', '86', '39', '5', '93', '100', '20', '49', '96', '34', '26', '6', '60', '61', '19', '46', '25', '67', '83', '35', '55', '23', '66', '55', '11', '60', '44', '86', '19', '98', '32', '90', '72', '24', '98', '17', '77', '17', '73', '69', '44', '89', '74', '64', '30', '16', '70', '22', '67', '37', '27', '81', '71', '81', '15', '79', '7', '72', '27', '78', '24', '81', '81', '96', '60', '52', '86', '80', '11', '99', '88', '4', '12', '75', '20', '75', '62', '57', '52', '73', '36', '93', '80', '74', '97', '9', '12', '52', '36', '87', '66', '15', '95', '17', '51', '79', '92', '76', '17', '96', '75', '57', '16', '31', '100', '66', '93', '17', '12', '43', '48', '17', '10', '21', '81', '80', '84', '47', '46', '12', '10', '30', '89', '51', '53', '34', '4', '100', '80', '26', '82', '37', '77', '2', '17', '17', '33', '47', '37', '10', '84', '95', '92', '92', '100', '31', '30', '23', '67', '57', '86', '18', '42', '9', '70', '18', '38', '62', '77', '76', '10', '5', '10', '77', '7', '39', '66', '92', '82', '46', '11', '74', '5', '34', '30', '1', '67', '57', '17', '83', '62', '85', '89', '92', '98', '42', '18', '9', '11', '88', '11', '12', '51', '81', '80', '86', '41', '66', '49', '27', '42', '41', '90', '71', '61', '12', '16', '3', '81', '58', '19', '18', '71', '28', '48', '64', '60', '35', '6', '11', '75', '35', '8', '24', '55', '44', '50', '89', '25', '36', '88', '62', '76', '69', '49', '74', '33', '26', '90', '61', '90', '91', '95', '88', '69', '49', '13', '16', '79', '28', '81', '24', '97', '46', '94', '83', '75', '48', '16', '44', '51', '3', '13', '99', '67', '6', '67', '14', '22', '25', '11', '41', '85', '20', '6', '96', '55', '92', '81', '48', '100', '16', '30', '4', '6', '38', '70', '26', '36', '62', '81', '15', '16', '47', '26', '86', '60', '7', '75', '65', '50', '66', '34', '11', '85', '3', '48', '12', '42', '26', '99', '56', '90', '58', '56', '76', '55', '8', '98', '69', '78', '46', '25', '31', '77', '69', '79', '100', '35', '82', '90', '99', '87', '55', '10', '63', '7', '41', '93', '7', '43', '95', '75', '71', '29', '82', '2', '67', '61', '8', '43', '71', '96', '35', '65', '75', '98', '49', '16', '72', '23', '54', '8', '97', '6', '28', '86', '78', '38', '79', '86', '67', '41', '87', '42', '16', '19', '57', '32', '23', '72', '33', '45', '48', '86', '21', '52', '43', '19', '24', '56', '91', '57', '16', '27', '72', '17', '74', '32', '35', '99', '99', '67', '77', '64', '42', '49', '73', '29', '66', '88', '15', '6', '93', '31', '57', '4', '6', '9', '56', '64', '25', '67', '76', '61', '9', '33', '52', '76', '60', '61', '96', '16', '35', '1', '74', '11', '81', '43', '76', '24', '2', '20', '11', '80', '97', '13', '100', '90', '87', '14', '77', '66', '37', '9', '76', '77', '70', '62', '85', '72', '12', '76', '88', '18', '15', '52', '73', '46', '56', '12', '44', '75', '84', '21', '68', '91', '96', '79', '1', '72', '12', '8', '45', '69', '58', '61', '30', '56', '40', '28', '19', '30', '96', '31', '16', '50', '93', '98', '30', '80', '38', '95', '16', '67', '74', '40', '100', '96', '8', '88', '97', '85', '84', '70', '21', '32', '57', '11', '52', '6', '41', '16', '13', '47', '82', '72', '85', '63', '1', '63', '56', '76', '12', '12', '59', '96', '88', '20', '56', '39', '88', '26', '16', '27', '60', '62', '84', '66', '51', '37', '38', '41', '90', '63', '74', '17', '76', '90', '5']\n",
      "Traditional long way\n",
      "[(128, '86'), (128, '57'), (124, '77'), (122, '75'), (119, '32'), (117, '85'), (116, '100'), (115, '39'), (114, '81'), (113, '8'), (113, '26'), (112, '30'), (111, '53'), (111, '31'), (111, '19'), (110, '99'), (110, '84'), (110, '49'), (109, '15'), (108, '83'), (108, '16'), (107, '20'), (106, '69'), (106, '52'), (106, '35'), (105, '90'), (105, '76'), (105, '74'), (105, '64'), (105, '11'), (104, '91'), (104, '88'), (104, '87'), (104, '67'), (103, '96'), (103, '71'), (103, '61'), (103, '43'), (103, '34'), (103, '24'), (102, '7'), (101, '82'), (101, '78'), (101, '48'), (100, '92'), (100, '80'), (100, '44'), (100, '22'), (100, '13'), (99, '98'), (99, '97'), (99, '68'), (99, '37'), (99, '36'), (99, '33'), (99, '17'), (98, '65'), (98, '55'), (98, '21'), (98, '12'), (98, '10'), (97, '73'), (96, '89'), (96, '66'), (96, '6'), (96, '56'), (96, '38'), (95, '45'), (95, '25'), (95, '14'), (94, '94'), (94, '93'), (94, '70'), (94, '47'), (93, '46'), (92, '51'), (92, '4'), (92, '28'), (92, '27'), (91, '58'), (91, '42'), (91, '40'), (91, '3'), (91, '23'), (90, '63'), (90, '18'), (89, '41'), (89, '29'), (89, '1'), (87, '60'), (87, '59'), (87, '54'), (86, '62'), (86, '5'), (85, '95'), (84, '72'), (82, '2'), (81, '9'), (79, '79'), (74, '50')]\n",
      "Short way\n",
      " 101\n",
      " 104\n",
      " 110\n",
      " 106\n",
      "('Drake, Miller and Parsons', '787-232-9636x233') 86\n",
      " 99\n",
      " 99\n",
      " 94\n",
      " 87\n",
      " 100\n",
      "('Sparks-Cameron', '(647)637-0634x67092') 103\n",
      "('Kennedy PLC', '2574383556') 90\n",
      "('Nielsen Ltd', '7857639090') 91\n",
      " 99\n",
      " 96\n",
      " 94\n",
      "('Greene-Donaldson', '536.490.7472') 82\n",
      " 128\n",
      "('Patel, Harper and Meyers', '302.691.5757x8479') 95\n",
      " 101\n",
      " 101\n",
      " 122\n",
      " 128\n",
      " 110\n",
      "('Baker-Ward', '476-920-3816x812') 99\n",
      " 100\n",
      " 89\n",
      "('Floyd-Mercado', '845.957.7512x62090') 112\n",
      " 111\n",
      "('Tucker-Rocha', '(941)290-5879') 113\n",
      " 104\n",
      "('Howard, Davila and White', '767-647-1140') 100\n",
      "('Smith, King and Dudley', '+1-798-480-5696x64862') 100\n",
      " 85\n",
      " 103\n",
      " 106\n",
      "('Jones and Sons', '(522)245-1288x6837') 105\n",
      " 74\n",
      " 98\n",
      " 119\n",
      " 103\n",
      " 95\n",
      " 115\n",
      "('Wood, Farley and White', '660-623-7031') 102\n",
      " 98\n",
      " 104\n",
      " 93\n",
      " 105\n",
      "('Martin-White', '(764)476-4142x58578') 89\n",
      "('Owens, Curtis and Moore', '+1-491-872-3802') 92\n",
      " 105\n",
      " 96\n",
      " 91\n",
      " 92\n",
      " 103\n",
      "('Mccoy-Aguilar', '+1-271-717-5282x328') 113\n",
      "('Ali, Nixon and Skinner', '201.645.8446x61866') 98\n",
      " 90\n",
      " 110\n",
      "('Warren Group', '(748)828-4622') 81\n",
      " 96\n",
      " 96\n",
      "('Carr-Miller', '(233)710-2390') 98\n",
      " 79\n",
      " 94\n",
      " 97\n",
      " 86\n",
      " 117\n",
      " 91\n",
      "('Castro LLC', '+1-653-620-7230x07686') 89\n",
      " 103\n",
      " 111\n",
      " 116\n",
      " 99\n",
      " 108\n",
      " 87\n",
      " 87\n",
      "('Martin, Cantrell and Jones', '001-921-883-3888x476') 92\n",
      " 106\n",
      " 124\n",
      " 84\n",
      " 100\n",
      "('Daniels-Moore', '580.322.6401') 98\n",
      " 114\n",
      "('Lowe, Perez and Maldonado', '286.561.2395') 92\n",
      "('Hall and Sons', '+1-283-225-4891') 109\n",
      " 99\n",
      "('Scott and Sons', '(821)401-8290') 107\n",
      " 105\n",
      " 103\n",
      "('French-Kelley', '240-553-4083x304') 111\n",
      " 105\n",
      "('Raymond Group', '2096077125') 108\n",
      " 104\n",
      "('Collins-Carter', '+1-951-868-7117x077') 95\n",
      " 91\n",
      " 94\n",
      "('Lucero-Riggs', '+1-814-683-9265') 91\n",
      " 99\n",
      "('Collins and Sons', '814.992.1249') 96\n"
     ]
    }
   ],
   "source": [
    "from csv import reader\n",
    "with open('sales.csv') as fid:\n",
    "    r = reader(fid)\n",
    "    next(r)\n",
    "    arr = []\n",
    "    for i in r:\n",
    "        date,distributor_id,item_id,count,price_per_item,total_cost = i\n",
    "        arr.append(distributor_id)\n",
    "\n",
    "print(arr)\n",
    "\n",
    "d = {}\n",
    "for id in arr:\n",
    "    d[id] = d.get(id, 0) + 1\n",
    "result = []\n",
    "for key, value in d.items():\n",
    "    result.append((value, key))\n",
    "result = sorted(result, reverse = True)\n",
    "print('Traditional long way')\n",
    "print(result)\n",
    "\n",
    "\n",
    "dist = {}\n",
    "with open('distributor.csv') as fid:\n",
    "    r = reader(fid)\n",
    "    next(r)\n",
    "    for i in r:\n",
    "        id, name, tel = i\n",
    "        dist[id] = (name, tel)\n",
    "\n",
    "from collections import Counter\n",
    "c = Counter(arr)\n",
    "print('Short way')\n",
    "\n",
    "for id in c:\n",
    "    print(dist.get(id, ''), c[id])\n",
    "\n"
   ]
  },
  {
   "cell_type": "code",
   "execution_count": 91,
   "metadata": {},
   "outputs": [],
   "source": [
    "import faker\n",
    "f = faker.Faker()\n",
    "from csv import reader, writer\n",
    "from random import randint\n",
    "\n",
    "def fake(r, id_index, name_index):\n",
    "    res = []\n",
    "    for inx, i in enumerate(r):\n",
    "        if len(i) == 0:\n",
    "            res.append(i)\n",
    "        elif inx == name_index:\n",
    "            res.append(f.name())\n",
    "        elif inx == id_index:\n",
    "            res.append(randint(0, 100))\n",
    "        else:\n",
    "            try:\n",
    "                v = int(i)\n",
    "                res.append(randint(0,100))\n",
    "            except:\n",
    "                res.append(i)\n",
    "    return res\n",
    "\n",
    "fin = open('exam4.csv')\n",
    "fout = open('exam_final.csv', 'w', newline='')\n",
    "w = writer(fout)\n",
    "r = reader(fin)\n",
    "header = next(r)\n",
    "id_index = header.index(\"id\")\n",
    "name_index = header.index(\"names\")\n",
    "\n",
    "w.writerow(header)\n",
    "out = []\n",
    "for i in r:\n",
    "    out.append(fake(i, id_index, name_index))\n",
    "w.writerows(out)\n",
    "fin.close()\n",
    "fout.close()\n",
    "    \n"
   ]
  },
  {
   "cell_type": "code",
   "execution_count": 116,
   "metadata": {},
   "outputs": [
    {
     "name": "stdout",
     "output_type": "stream",
     "text": [
      "CompletedProcess(args=['python ', 'test.py'], returncode=2)\n",
      "CompletedProcess(args=['python ', 'test2.py'], returncode=0)\n"
     ]
    }
   ],
   "source": [
    "import os\n",
    "import subprocess\n",
    "\n",
    "files = os.listdir('avg_codes')\n",
    "for file in files:\n",
    "    res = subprocess.run(['python ', file])\n",
    "    print(res)\n"
   ]
  },
  {
   "cell_type": "code",
   "execution_count": 114,
   "metadata": {},
   "outputs": [],
   "source": [
    "my_name = 'Emil Bilgazyev'\n",
    "from csv import reader\n",
    "def get_average_score(filename):\n",
    "    with open(filename) as fid:\n",
    "        r = reader(fid)\n",
    "        '''YOUR CODE HERE'''\n",
    "        ###return [(None, None)]\n",
    "\n",
    "from csv import reader, writer\n",
    "scores = get_average_score(\"exam4.csv\")\n",
    "d = {name:score for name, score in scores}\n",
    "out = []\n",
    "with open('result.csv') as fid:\n",
    "    r = reader(fid)\n",
    "    out.append(list(next(r)) + [my_name])\n",
    "    for i in r:\n",
    "        res = i + [d.get(i[0],'')]\n",
    "        out.append(res)\n",
    "with open('result.csv', 'w', newline='') as fid:\n",
    "    w = writer(fid)\n",
    "    w.writerows(out)"
   ]
  },
  {
   "cell_type": "code",
   "execution_count": 123,
   "metadata": {},
   "outputs": [],
   "source": [
    "out = [['names']]\n",
    "with open('exam4.csv') as fid:\n",
    "    r = reader(fid)\n",
    "    h = list(next(r))\n",
    "    name_index = h.index('names')\n",
    "    for i in r:\n",
    "        name = i[name_index]\n",
    "        if len(name) > 0:\n",
    "            out.append([name])\n",
    "\n",
    "with open('result.csv', 'w', newline='') as fid:\n",
    "    w = writer(fid)\n",
    "    w.writerows(out)\n",
    "\n"
   ]
  },
  {
   "cell_type": "code",
   "execution_count": 2,
   "metadata": {},
   "outputs": [
    {
     "name": "stdout",
     "output_type": "stream",
     "text": [
      "finished\n"
     ]
    }
   ],
   "source": [
    "my_name = 'Emil Bilgazyev'\n",
    "from csv import reader\n",
    "def get_average_score(filename):\n",
    "    result = []\n",
    "    with open(filename) as fid:\n",
    "        r = reader(fid)\n",
    "        header = next(r)\n",
    "        id_index = header.index('id')\n",
    "        name_index = header.index('names')\n",
    "        midterm_index = header.index('10/14/2024') \n",
    "        taken = [id_index, name_index, midterm_index]\n",
    "        for i in r:\n",
    "            try:\n",
    "                midterm = int(i[midterm_index])\n",
    "            except:\n",
    "                midterm = 0\n",
    "            id = i[id_index]\n",
    "            name = i[name_index]\n",
    "            quizzes = []\n",
    "            for inx, j in enumerate(i):\n",
    "                if inx not in taken:\n",
    "                    quizzes.append(j)\n",
    "            quiz_scores = []\n",
    "            for j in quizzes:\n",
    "                try:\n",
    "                    score = int(j)\n",
    "                    quiz_scores.append(score) \n",
    "                except:\n",
    "                    quiz_scores.append(0)\n",
    "            quiz_sorted = sorted(quiz_scores, reverse=True)\n",
    "            avg_quiz = sum(quiz_sorted[:7])/7\n",
    "            avg = round((0.7 * avg_quiz + 0.075*midterm ) / 0.775)\n",
    "            result.append((name, avg))\n",
    "    return result\n",
    "\n",
    "\n",
    "from csv import reader, writer\n",
    "scores = get_average_score(\"exam4.csv\")\n",
    "d = {name:score for name, score in scores}\n",
    "out = []\n",
    "with open('result.csv') as fid:\n",
    "    r = reader(fid)\n",
    "    out.append(list(next(r)) + [my_name])\n",
    "    for i in r:\n",
    "        res = i + [d.get(i[0],'')]\n",
    "        out.append(res)\n",
    "with open('result.csv', 'w', newline='') as fid:\n",
    "    w = writer(fid)\n",
    "    w.writerows(out)\n",
    "\n",
    "print('finished')"
   ]
  },
  {
   "cell_type": "code",
   "execution_count": 9,
   "metadata": {},
   "outputs": [
    {
     "name": "stdout",
     "output_type": "stream",
     "text": [
      "mentor:  bekbolsun\n",
      "Kubanich Kaparov\n",
      "Jainagul Joodonbek kizi\n",
      "\n",
      "mentor:  alimhan\n",
      "yntymak\n",
      "Bayastan\n",
      "\n",
      "mentor:  akbar\n",
      "adina\n",
      "\n",
      "mentor:  daniyar\n",
      "Nurjigit Nurgaliev\n",
      "Shergazi Eraliev\n",
      "\n",
      "mentor:  talant\n",
      "\n",
      "\n",
      "mentor:  tolon\n",
      "omurbek\n",
      "Almaz Abdimanapov\n",
      "\n",
      "mentor:  aktan\n",
      "Diaz Kenjetaev\n",
      "daniyal\n",
      "\n",
      "mentor:  atabek\n",
      "Muhammed Kadirkulov\n",
      "\n",
      "\n",
      "mentor:  alianora\n",
      "bermet\n",
      "\n",
      "mentor:  salma\n",
      "Elina Baktigulova\n",
      "Bekbolsun Kerimov\n",
      "\n",
      "mentor:  ayatullah\n",
      "tynchtykbek\n",
      "aman\n",
      "\n",
      "mentor:  ismailbek\n",
      "ayana\n",
      "Aknazar Beishaliev\n",
      "\n",
      "mentor:  azam\n",
      "Nazima Dildebeka\n",
      "\n",
      "mentor:  alymbek\n",
      "sumaya\n"
     ]
    },
    {
     "ename": "IndexError",
     "evalue": "pop from empty list",
     "output_type": "error",
     "traceback": [
      "\u001b[1;31m---------------------------------------------------------------------------\u001b[0m",
      "\u001b[1;31mIndexError\u001b[0m                                Traceback (most recent call last)",
      "Cell \u001b[1;32mIn[9], line 38\u001b[0m\n\u001b[0;32m     36\u001b[0m n \u001b[38;5;241m=\u001b[39m randint(\u001b[38;5;241m1\u001b[39m, \u001b[38;5;241m2\u001b[39m)\n\u001b[0;32m     37\u001b[0m \u001b[38;5;28;01mfor\u001b[39;00m i \u001b[38;5;129;01min\u001b[39;00m \u001b[38;5;28mrange\u001b[39m(n):\n\u001b[1;32m---> 38\u001b[0m     \u001b[38;5;28mprint\u001b[39m(students\u001b[38;5;241m.\u001b[39mpop())\n\u001b[0;32m     39\u001b[0m \u001b[38;5;28mprint\u001b[39m()\n\u001b[0;32m     40\u001b[0m sleep(\u001b[38;5;241m5\u001b[39m)\n",
      "\u001b[1;31mIndexError\u001b[0m: pop from empty list"
     ]
    }
   ],
   "source": [
    "mentors = ['akbar', 'atabek', 'talant', 'alaman', 'daniyar', 'salma', 'gulnur', \n",
    "           'bekbolsun', 'alimhan', 'azam', 'aktan', 'ismailbek', 'umar', 'alymbek',\n",
    "           'tolon', 'alianora', 'jumabek', 'ayatullah', 'zarylbek']\n",
    "\n",
    "students = '''\n",
    "Elina Baktigulova\n",
    "Diaz Kenjetaev\n",
    "Nazima Dildebeka\n",
    "Kubanich Kaparov\n",
    "Almaz Abdimanapov\n",
    "Jainagul Joodonbek kizi\n",
    "Bekbolsun Kerimov\n",
    "Nurjigit Nurgaliev\n",
    "Shergazi Eraliev\n",
    "Muhammed Kadirkulov\n",
    "Aknazar Beishaliev\n",
    "Bayastan\n",
    "adina\n",
    "sumaya\n",
    "bermet\n",
    "omurbek\n",
    "aman\n",
    "yntymak\n",
    "ayana\n",
    "tynchtykbek\n",
    "daniyal\n",
    "'''.split('\\n')\n",
    "\n",
    "from random import shuffle, randint\n",
    "shuffle(students)\n",
    "shuffle(mentors)\n",
    "\n",
    "from time import sleep\n",
    "for mentor in mentors:\n",
    "    print('mentor: ', mentor)\n",
    "    n = randint(1, 2)\n",
    "    for i in range(n):\n",
    "        print(students.pop())\n",
    "    print()\n",
    "    sleep(5)\n"
   ]
  },
  {
   "cell_type": "code",
   "execution_count": 5,
   "metadata": {},
   "outputs": [
    {
     "data": {
      "text/plain": [
       "(26, 19)"
      ]
     },
     "execution_count": 5,
     "metadata": {},
     "output_type": "execute_result"
    }
   ],
   "source": [
    "len(students), len(mentors)"
   ]
  },
  {
   "cell_type": "code",
   "execution_count": 29,
   "metadata": {},
   "outputs": [
    {
     "name": "stdout",
     "output_type": "stream",
     "text": [
      "Barsbek Umetbaev -> 97\n",
      "Jainagul Joodonbek kizi -> 36\n",
      "Baystan Jyldyzbekov -> 77\n",
      "Alienora Kurbanbekova -> 65\n",
      "Tynchtykbek Rahmatulin -> 54\n",
      "Bekbolsun Ysmanov -> 95\n",
      "Daniial Va-Ahunov -> 55\n",
      "Aman Anarbekov -> 77\n",
      "Alimhan Seydakmatov -> 88\n",
      "Salma Aydralieva -> 94\n",
      "Erlan Balabekov -> 59\n",
      "Aiatulla Turatbaev -> 98\n",
      "Alymbek Mamatjanov -> 95\n",
      "Tolonbek Abdibekov -> 83\n",
      "Nazima Dildebeka -> 42\n",
      "Almaz Tutashbaev -> 69\n",
      "Azim Ishenbaev -> 80\n",
      "Atai Mambetov -> 55\n",
      "Diaz Kenjetaev -> 45\n",
      "Elina Baktigulova -> 46\n",
      "Kubanich Kaparov -> 41\n",
      "Kutman Melisov -> 84\n",
      "Sumaya Nasiridinova -> 61\n",
      "Aktan Asanaliev -> 99\n",
      "Nurjigit Nurgaliev -> 25\n",
      "Shergazi Eraliev -> 22\n",
      "Adina Tagaeva -> 58\n",
      "Nurdin Ismailov -> 64\n",
      "Eleonora Asanova -> 80\n",
      "Aktanbek Keneshov -> 60\n",
      "Azamjan Umarov -> 95\n",
      "Gulnura Onolbekova -> 94\n",
      "Aiana Cherikova -> 59\n",
      "Aiana Tologonova -> 25\n",
      "Nurtilek Abibillaev -> 68\n",
      "Alaman Rysbekov -> 95\n",
      "Nasipa Abdiraimova -> 78\n",
      "Aktan Mamatjanova -> 29\n",
      "Altynbek Tashtanov -> 71\n",
      "Kutman Duishenov -> 65\n",
      "Dair Ainakulov -> 95\n",
      "Talant Mataev -> 105\n",
      "Umar Isakov -> 90\n",
      "Janishbek Tynybekov -> 75\n",
      "Zarylbek Attokurov -> 92\n",
      "Atabek Aitiev -> 82\n",
      "Daniar Karimov -> 84\n",
      "Erbol Ruslanov -> 97\n",
      "Omurbek Seitbekov -> 53\n",
      "Almaz Abdimanapov -> 37\n",
      "Akbar Sharipov -> 100\n",
      "Yntymak Almazbek uulu -> 76\n",
      "Jumabek Kalybaev -> 100\n",
      "Nurmuhammed Kalmamatov -> 95\n",
      "Bekbolsun Kerimov -> 33\n",
      "Bermet Arstanalieva -> 62\n",
      "Ismailbek Nurjanov -> 79\n",
      "Muhammed Kadirkulov -> 20\n",
      "Aziz Kalmatov -> 60\n",
      "Aknazar Beishaliev -> 10\n",
      "68.8\n"
     ]
    }
   ],
   "source": [
    "import csv\n",
    "with open('result.csv') as peremenniy:\n",
    "    p = csv.reader(peremenniy)\n",
    "    pustoy_massive = []\n",
    "    header = next(p)\n",
    "    index = header.index('Emil Bilgazyev')\n",
    "    for i in p:\n",
    "        try:\n",
    "            grade = int(i[index])\n",
    "        except:\n",
    "            grade = 0\n",
    "        name = i[0]\n",
    "        s = f'{name} -> {grade}'\n",
    "        pustoy_massive.append(grade)\n",
    "        print(s)\n",
    "\n",
    "    print(sum(pustoy_massive) / len(pustoy_massive))"
   ]
  },
  {
   "cell_type": "code",
   "execution_count": 37,
   "metadata": {},
   "outputs": [
    {
     "name": "stdout",
     "output_type": "stream",
     "text": [
      "result  0 1\n",
      "result  2 9\n",
      "result  4 25\n",
      "result  6 49\n",
      "result  8 81\n"
     ]
    }
   ],
   "source": [
    "def calculate(n):\n",
    "    x = n ** 2 + 2*n + 1\n",
    "    print('result ', n, x)\n",
    "\n",
    "\n",
    "\n",
    "def func(x, T):\n",
    "    if x % 2 == 0:\n",
    "        T(x)\n",
    "\n",
    "f = calculate\n",
    "for i in range(10):\n",
    "    func(i, f)"
   ]
  },
  {
   "cell_type": "code",
   "execution_count": 33,
   "metadata": {},
   "outputs": [
    {
     "data": {
      "text/plain": [
       "['1', '2', '4', '5', '8']"
      ]
     },
     "execution_count": 33,
     "metadata": {},
     "output_type": "execute_result"
    }
   ],
   "source": [
    "out = []\n",
    "for i in s.split(','):\n",
    "    if len(i) > 0:\n",
    "        out.append(i)\n",
    "out"
   ]
  },
  {
   "cell_type": "code",
   "execution_count": 41,
   "metadata": {},
   "outputs": [
    {
     "name": "stdout",
     "output_type": "stream",
     "text": [
      "[(75.0, 'Emir'), (65.0, 'Emil'), (60.0, 'aziz'), (49.0, 'sultan'), (46.666666666666664, 'azam'), (42.333333333333336, 'nurtilek')]\n",
      "['Emir', 'Emil', 'aziz']\n"
     ]
    }
   ],
   "source": [
    "arr  = [['Emil', 20, 55, 120], ['nurtilek', 30, 22, 75], ['azam', 16, 34, 90],\n",
    "        ['Emir', 20, 85, 120], ['sultan', 50, 22, 75], ['aziz', 56, 34, 90]]\n",
    "out = []\n",
    "for i in arr:\n",
    "    s = i[1:]\n",
    "    avg = sum(s) / len(s) \n",
    "    out.append((avg, i[0]))\n",
    "s = sorted(out, reverse=True)\n",
    "print(s)\n",
    "result = []\n",
    "for i in range(3):\n",
    "    result.append(s[i][1])\n",
    "print(result)"
   ]
  },
  {
   "cell_type": "code",
   "execution_count": 42,
   "metadata": {},
   "outputs": [],
   "source": [
    "arr  = [['Emil', 20, 55, 120], ['nurtilek', 30, 22, 75], ['azam', 16, 34, 90],\n",
    "        ['Emir', 20, 85, 120], ['sultan', 50, 22, 75], ['aziz', 56, 34, 90]]"
   ]
  },
  {
   "cell_type": "code",
   "execution_count": 47,
   "metadata": {},
   "outputs": [
    {
     "ename": "SyntaxError",
     "evalue": "invalid syntax (3639354914.py, line 1)",
     "output_type": "error",
     "traceback": [
      "\u001b[1;36m  Cell \u001b[1;32mIn[47], line 1\u001b[1;36m\u001b[0m\n\u001b[1;33m    [i[0] for i in sorted(arr, key = lambda [i1, i2, i3, i4]: sum(i2+i3+i4)/3, reverse=True)[:3]]\u001b[0m\n\u001b[1;37m                                            ^\u001b[0m\n\u001b[1;31mSyntaxError\u001b[0m\u001b[1;31m:\u001b[0m invalid syntax\n"
     ]
    }
   ],
   "source": [
    "[i[0] for i in sorted(arr, key = lambda i: sum(i2+i3+i4)/3, reverse=True)[:3]]"
   ]
  },
  {
   "cell_type": "code",
   "execution_count": 2,
   "metadata": {},
   "outputs": [
    {
     "name": "stdout",
     "output_type": "stream",
     "text": [
      "ODD #1 :  (103, 'maksat')\n",
      "ODD #2 :  (9, 'alamanbek')\n",
      "EVEN #1 :  87.625\n",
      "EVEN #2 :  (4, 'alamanbek')\n"
     ]
    }
   ],
   "source": [
    "from csv import reader\n",
    "\n",
    "def countVowels(name):\n",
    "    count = 0\n",
    "    for i in name:\n",
    "        if i in 'aeiyou':\n",
    "            count += 1\n",
    "    return count\n",
    "with open(\"grades.csv\") as fid:\n",
    "    read = reader(fid)\n",
    "    arr1 = []\n",
    "    arr2= []\n",
    "    arr3= []\n",
    "    arr4 = []\n",
    "    for name, score in read:\n",
    "        arr1.append( (int(score), name) )\n",
    "        arr2.append( (len(name), name))\n",
    "        arr3.append( int(score))\n",
    "        arr4.append( (countVowels(name), name))\n",
    "\n",
    "print('ODD #1 : ', max(arr1))\n",
    "print('ODD #2 : ', max(arr2))\n",
    "print('EVEN #1 : ', sum(arr3) / len(arr3))\n",
    "print('EVEN #2 : ', max(arr4))"
   ]
  },
  {
   "cell_type": "code",
   "execution_count": 62,
   "metadata": {},
   "outputs": [],
   "source": [
    "class KyrgyzPassport:\n",
    "    def __init__(self, x, y):\n",
    "        self.name = x\n",
    "        self.lastname = y\n",
    "        self.latin_to_cyrillic = {\n",
    "            'A': 'А', 'a': 'а',\n",
    "            'B': 'Б', 'b': 'б',\n",
    "            'V': 'В', 'v': 'в',\n",
    "            'G': 'Г', 'g': 'г',\n",
    "            'D': 'Д', 'd': 'д',\n",
    "            'E': 'Е', 'e': 'е',\n",
    "            'J': 'Ж', 'j': 'ж',\n",
    "            'Z': 'З', 'z': 'з',\n",
    "            'I': 'И', 'i': 'и',\n",
    "            'Y': 'Й', 'y': 'й',\n",
    "            'K': 'К', 'k': 'к',\n",
    "            'L': 'Л', 'l': 'л',\n",
    "            'M': 'М', 'm': 'м',\n",
    "            'N': 'Н', 'n': 'н',\n",
    "            'O': 'О', 'o': 'о',\n",
    "            'P': 'П', 'p': 'п',\n",
    "            'R': 'Р', 'r': 'р',\n",
    "            'S': 'С', 's': 'с',\n",
    "            'T': 'Т', 't': 'т',\n",
    "            'U': 'У', 'u': 'у',\n",
    "            'F': 'Ф', 'f': 'ф',\n",
    "            'H': 'Х', 'h': 'х',\n",
    "            'S': 'Ц', 's': 'ц',\n",
    "            'Y': 'Ы', 'y': 'ы',\n",
    "            'E': 'Э', 'e': 'э'\n",
    "        }\n",
    "\n",
    "    def korsot(self):\n",
    "        print(f'Passport holder name: {self.name}, lastname : {self.lastname}')\n",
    "    \n",
    "    def convert(self, name):\n",
    "        result = ''\n",
    "        for i in name:\n",
    "            result += self.latin_to_cyrillic.get(i, i)\n",
    "        return result\n",
    "\n",
    "    def kyrgyz(self):\n",
    "        name = self.convert(self.name)\n",
    "        lastname = self.convert(self.lastname)\n",
    "        print(f'Пассроттун ээсинин аты : {name}, фамилиясы : {lastname}')\n",
    "\n",
    "    def russian(self):\n",
    "        name = self.convert(self.name)\n",
    "        lastname = self.convert(self.lastname)\n",
    "        print(f'Владельца пасспорта имя : {name}, фамилия : {lastname}')\n",
    "    \n",
    "    def kazakcha(self):\n",
    "        print('emne kilasin eyy')\n",
    "        \n",
    "emil = KyrgyzPassport('Emil', 'Bilgazyev')\n",
    "\n"
   ]
  },
  {
   "cell_type": "code",
   "execution_count": 63,
   "metadata": {},
   "outputs": [
    {
     "name": "stdout",
     "output_type": "stream",
     "text": [
      "Passport holder name: Emil, lastname : Bilgazyev\n",
      "Пассроттун ээсинин аты : Эмил, фамилиясы : Билгазыэв\n",
      "Владельца пасспорта имя : Эмил, фамилия : Билгазыэв\n"
     ]
    }
   ],
   "source": [
    "emil.korsot()\n",
    "emil.kyrgyz()\n",
    "emil.russian()"
   ]
  },
  {
   "cell_type": "code",
   "execution_count": null,
   "metadata": {},
   "outputs": [],
   "source": [
    "class KZPassport(KyrgyzPassport):\n",
    "    def __init__(self, x, y, z):\n",
    "        super().__init__(x, y)\n",
    "        self.ochestvo = z\n",
    "        pass\n",
    "    \n",
    "    def kazakcha(self):\n",
    "        name = self.convert(self.name)\n",
    "        lastname = self.convert(self.lastname)\n",
    "        print(f'Пассрот ээсинин ашы : {name}, атасыны ашы : {lastname}, akesi : {self.ochestvo}')\n",
    "    \n",
    "    def kyrgyz(self):\n",
    "        name = self.convert(self.name)\n",
    "        lastname = self.convert(self.lastname)\n",
    "        print(f'Пассрот ээсинин ашы : {name}, атасыны ашы : {lastname}, akesi : {self.ochestvo}')\n",
    "        super().kyrgyz()\n"
   ]
  },
  {
   "cell_type": "code",
   "execution_count": 65,
   "metadata": {},
   "outputs": [],
   "source": [
    "dovlet = KZPassport('Daulet', 'Sultan uulu', 'Abdylda')\n"
   ]
  },
  {
   "cell_type": "code",
   "execution_count": 68,
   "metadata": {},
   "outputs": [
    {
     "name": "stdout",
     "output_type": "stream",
     "text": [
      "Пассрот ээсинин ашы : Даулэт, атасыны ашы : Цултан уулу, akesi : Abdylda\n"
     ]
    }
   ],
   "source": [
    "dovlet.kazakcha()"
   ]
  },
  {
   "cell_type": "code",
   "execution_count": 69,
   "metadata": {},
   "outputs": [
    {
     "name": "stdout",
     "output_type": "stream",
     "text": [
      "emne kilasin eyy\n"
     ]
    }
   ],
   "source": [
    "emil.kazakcha()"
   ]
  },
  {
   "cell_type": "code",
   "execution_count": 44,
   "metadata": {},
   "outputs": [],
   "source": [
    "class Auto:\n",
    "    def __init__(self, brand, tiresize, enginesize, color):\n",
    "        self.brand = brand\n",
    "        self.tiresize = tiresize\n",
    "        self.enginesize = enginesize\n",
    "        self.color = color\n",
    "    \n",
    "    def korsot(self):\n",
    "        print(self.brand, self.enginesize, self.color)\n",
    "\n",
    "class Car(Auto):\n",
    "    def __init__(self, brand, tiresize, enginesize, color, wheeldrive):\n",
    "        super().__init__(brand, tiresize, enginesize, color)\n",
    "        self.wheeldrive = wheeldrive\n",
    "\n",
    "\n",
    "class Truck(Auto):\n",
    "    def __init__(self, brand, tiresize, enginesize, color, trailer):\n",
    "        super().__init__(brand, tiresize, enginesize, color)\n",
    "        self.trailer = trailer\n",
    "\n",
    "\n",
    "class BMW(Car):\n",
    "    def __init__(self, brand, tiresize, enginesize, color, wheeldrive, handfree):\n",
    "        super().__init__(brand, tiresize, enginesize, color, wheeldrive)\n",
    "        self.handfree = handfree\n",
    "\n",
    "\n",
    "class Audi(Auto):\n",
    "    def __init__(self, brand, tiresize, enginesize, color, wheeldrive):\n",
    "        super().__init__(brand, tiresize, enginesize, color, wheeldrive)\n",
    "\n",
    "\n",
    "class Toyota(Truck):\n",
    "    def __init__(self, brand, tiresize, enginesize, color, trailer):\n",
    "        super().__init__(brand, tiresize, enginesize, color, trailer)\n",
    "\n",
    "class Volvo(Truck):\n",
    "    def __init__(self, brand, tiresize, enginesize, color, trailer):\n",
    "        super().__init__(brand, tiresize, enginesize, color, trailer)\n",
    "\n",
    "\n",
    "\n",
    "\n"
   ]
  },
  {
   "cell_type": "code",
   "execution_count": 55,
   "metadata": {},
   "outputs": [],
   "source": [
    "arr = [dovlet, emil]\n",
    "\n",
    "\n",
    "def showAll(arr):\n",
    "    for i in arr:\n",
    "        i.korsot()\n",
    "        i.kyrgyz()\n",
    "        i.russian()\n",
    "        print()\n",
    "    \n",
    "    print(emil.convert('Gulnur Satylganova'))"
   ]
  },
  {
   "cell_type": "code",
   "execution_count": 56,
   "metadata": {},
   "outputs": [
    {
     "name": "stdout",
     "output_type": "stream",
     "text": [
      "Passport holder name: Daulet, lastname : Sultan uulu\n",
      "Пассрот ээсинин ашы : Даулэт, атасыны ашы : Цултан уулу, akesi : Abdylda\n",
      "Пассроттун ээсинин аты : Даулэт, фамилиясы : Цултан уулу\n",
      "Владельца пасспорта имя : Даулэт, фамилия : Цултан уулу\n",
      "\n",
      "Passport holder name: Emil, lastname : Bilgazyev\n",
      "Пассроттун ээсинин аты : Эмил, фамилиясы : Билгазыэв\n",
      "Владельца пасспорта имя : Эмил, фамилия : Билгазыэв\n",
      "\n",
      "Гулнур Цатылганова\n"
     ]
    }
   ],
   "source": [
    "showAll(arr)"
   ]
  },
  {
   "cell_type": "code",
   "execution_count": null,
   "metadata": {},
   "outputs": [
    {
     "ename": "TypeError",
     "evalue": "KyrgyzPassport.__init__() missing 2 required positional arguments: 'x' and 'y'",
     "output_type": "error",
     "traceback": [
      "\u001b[1;31m---------------------------------------------------------------------------\u001b[0m",
      "\u001b[1;31mTypeError\u001b[0m                                 Traceback (most recent call last)",
      "Cell \u001b[1;32mIn[58], line 1\u001b[0m\n\u001b[1;32m----> 1\u001b[0m \u001b[43mKyrgyzPassport\u001b[49m\u001b[43m(\u001b[49m\u001b[43m)\u001b[49m\u001b[38;5;241m.\u001b[39mconvert(\u001b[38;5;124m'\u001b[39m\u001b[38;5;124mGulnur Satylganova\u001b[39m\u001b[38;5;124m'\u001b[39m)\n",
      "\u001b[1;31mTypeError\u001b[0m: KyrgyzPassport.__init__() missing 2 required positional arguments: 'x' and 'y'"
     ]
    }
   ],
   "source": [
    "KyrgyzPassport.convert('Gulnur Satylganova')"
   ]
  },
  {
   "cell_type": "code",
   "execution_count": null,
   "metadata": {},
   "outputs": [],
   "source": [
    "class Car:\n",
    "    def __init__(self):\n",
    "        self.brand = None\n",
    "        self.fullinfo = None\n",
    "    \n",
    "    def set_brand(self, brand):\n",
    "        self.brand = brand\n",
    "        self.fullinfo = brand.upper()\n",
    "    \n",
    "    def get_brand(self):\n",
    "        return self.brand\n",
    "    "
   ]
  },
  {
   "cell_type": "code",
   "execution_count": 82,
   "metadata": {},
   "outputs": [
    {
     "name": "stdout",
     "output_type": "stream",
     "text": [
      "audi a6\n",
      "None\n"
     ]
    }
   ],
   "source": [
    "audi = Car()\n",
    "audi.brand = 'audi a6'\n",
    "print(audi.brand)\n",
    "print(audi.fullinfo)"
   ]
  },
  {
   "cell_type": "code",
   "execution_count": 83,
   "metadata": {},
   "outputs": [
    {
     "name": "stdout",
     "output_type": "stream",
     "text": [
      "bmw m6\n",
      "BMW M6\n"
     ]
    }
   ],
   "source": [
    "audi.set_brand('bmw m6')\n",
    "print(audi.brand)\n",
    "print(audi.fullinfo)"
   ]
  },
  {
   "cell_type": "code",
   "execution_count": 15,
   "metadata": {},
   "outputs": [],
   "source": [
    "from salma import Salma\n",
    "\n",
    "shop = Salma()\n",
    "shop.changePersonal('Gulnur')\n"
   ]
  },
  {
   "cell_type": "code",
   "execution_count": 16,
   "metadata": {},
   "outputs": [],
   "source": [
    "shop.addItem('cola', 20, 100)\n",
    "shop.addItem('tort', 10, 250)\n",
    "shop.addItem('coffee', 100, 100)\n",
    "shop.addItem('macaron', 10, 190)\n"
   ]
  },
  {
   "cell_type": "code",
   "execution_count": 17,
   "metadata": {},
   "outputs": [],
   "source": [
    "shop.sellItems('cola')\n",
    "shop.sellItems('macaron')"
   ]
  },
  {
   "cell_type": "code",
   "execution_count": 18,
   "metadata": {},
   "outputs": [
    {
     "data": {
      "text/plain": [
       "362.5"
      ]
     },
     "execution_count": 18,
     "metadata": {},
     "output_type": "execute_result"
    }
   ],
   "source": [
    "shop.getKassa()"
   ]
  },
  {
   "cell_type": "code",
   "execution_count": 19,
   "metadata": {},
   "outputs": [
    {
     "data": {
      "text/plain": [
       "72.5"
      ]
     },
     "execution_count": 19,
     "metadata": {},
     "output_type": "execute_result"
    }
   ],
   "source": [
    "shop.getProfit()"
   ]
  },
  {
   "cell_type": "code",
   "execution_count": 20,
   "metadata": {},
   "outputs": [
    {
     "name": "stdout",
     "output_type": "stream",
     "text": [
      "cola : 19\n",
      "tort : 10\n",
      "coffee : 100\n",
      "macaron : 9\n"
     ]
    }
   ],
   "source": [
    "print(shop.getItems())"
   ]
  },
  {
   "cell_type": "code",
   "execution_count": 21,
   "metadata": {},
   "outputs": [
    {
     "name": "stdout",
     "output_type": "stream",
     "text": [
      "cola : 125.0 : Gulnur\n",
      "macaron : 237.5 : Gulnur\n"
     ]
    }
   ],
   "source": [
    "print(shop.getHistory())"
   ]
  },
  {
   "cell_type": "code",
   "execution_count": 22,
   "metadata": {},
   "outputs": [
    {
     "name": "stdout",
     "output_type": "stream",
     "text": [
      "cola : 100 : 20 : Gulnur\n",
      "tort : 250 : 10 : Gulnur\n",
      "coffee : 100 : 100 : Gulnur\n",
      "macaron : 190 : 10 : Gulnur\n"
     ]
    }
   ],
   "source": [
    "print(shop.getPurchaseHistory())"
   ]
  },
  {
   "cell_type": "code",
   "execution_count": 23,
   "metadata": {},
   "outputs": [],
   "source": [
    "shop.changePersonal('Atai')"
   ]
  },
  {
   "cell_type": "code",
   "execution_count": 24,
   "metadata": {},
   "outputs": [],
   "source": [
    "shop.addItem('cola', 5, 120)\n",
    "shop.addItem('samsy', 5, 50)"
   ]
  },
  {
   "cell_type": "code",
   "execution_count": 25,
   "metadata": {},
   "outputs": [
    {
     "name": "stdout",
     "output_type": "stream",
     "text": [
      "cola : 100 : 20 : Gulnur\n",
      "tort : 250 : 10 : Gulnur\n",
      "coffee : 100 : 100 : Gulnur\n",
      "macaron : 190 : 10 : Gulnur\n",
      "cola : 120 : 5 : Atai\n",
      "samsy : 50 : 5 : Atai\n"
     ]
    }
   ],
   "source": [
    "print(shop.getPurchaseHistory())"
   ]
  },
  {
   "cell_type": "code",
   "execution_count": 26,
   "metadata": {},
   "outputs": [
    {
     "name": "stdout",
     "output_type": "stream",
     "text": [
      "cola : 125.0 : Gulnur\n",
      "macaron : 237.5 : Gulnur\n",
      "cola : 150.0 : Atai\n",
      "samsy : 62.5 : Atai\n"
     ]
    }
   ],
   "source": [
    "shop.sellItems('cola')\n",
    "shop.sellItems('samsy')\n",
    "print(shop.getHistory())"
   ]
  },
  {
   "cell_type": "code",
   "execution_count": 29,
   "metadata": {},
   "outputs": [
    {
     "name": "stdout",
     "output_type": "stream",
     "text": [
      "Atai SOLD ITEMS \n",
      "cola: 150.0\n",
      "samsy: 62.5\n"
     ]
    }
   ],
   "source": [
    "print(shop.getPersonalSales('Atai'))"
   ]
  },
  {
   "cell_type": "code",
   "execution_count": 57,
   "metadata": {},
   "outputs": [
    {
     "name": "stdout",
     "output_type": "stream",
     "text": [
      "defaultdict(<class 'int'>, {'1': 0, '2': -7500, '3': -10000})\n",
      "defaultdict(<class 'list'>, {'1': ['1-24', '2-24', '6-24', '7-24', '8-24', '9-24', '10-24', '11-24'], '2': ['1-24', '2-24', '3-24', '4-24', '5-24', '6-24', '7-24', '9-24', '10-24', '11-24'], '3': ['1-24', '2-24', '3-24', '4-24', '5-24', '6-24', '7-24', '8-24', '9-24', '10-24', '11-24', '12-24']})\n",
      "defaultdict(<class 'int'>, {'11-23': -31000, '12-23': -7300, '3-24': 2000, '4-24': 3000, '5-24': 9800, '8-24': 6000})\n",
      "['1']\n"
     ]
    }
   ],
   "source": [
    "from csv import reader\n",
    "from collections import defaultdict\n",
    "\n",
    "doljen = defaultdict(int)\n",
    "neplatil = defaultdict(list)\n",
    "monthkassa = defaultdict(int)\n",
    "\n",
    "def getmonths(month, year):\n",
    "    arr = []\n",
    "    for i in range(12):\n",
    "        m = ( month + i ) % 12 + 1\n",
    "        y = year + (month + i) // 12\n",
    "        arr.append(f'{m}-{y}')\n",
    "    return arr\n",
    "\n",
    "with open('kassa.csv') as fid:\n",
    "    r = list(reader(fid))\n",
    "    for date, summa, id, description in r:\n",
    "        doljen[id] += int(summa)\n",
    "        day, month, year = date.split('-')\n",
    "        month_year = month + '-' + year\n",
    "        if int(summa) < 0:\n",
    "            neplatil[id] = getmonths(int(month), int(year))\n",
    "        else:\n",
    "            neplatil[id].remove(month_year)\n",
    "        monthkassa[month_year] += int(summa)\n",
    "\n",
    "print(doljen)\n",
    "print(neplatil)\n",
    "print(monthkassa)\n",
    "print([id for id in doljen if doljen[id] == 0])\n",
    "        "
   ]
  },
  {
   "cell_type": "code",
   "execution_count": 56,
   "metadata": {},
   "outputs": [
    {
     "data": {
      "text/plain": [
       "['9-24',\n",
       " '10-24',\n",
       " '11-24',\n",
       " '12-24',\n",
       " '1-25',\n",
       " '2-25',\n",
       " '3-25',\n",
       " '4-25',\n",
       " '5-25',\n",
       " '6-25',\n",
       " '7-25',\n",
       " '8-25']"
      ]
     },
     "execution_count": 56,
     "metadata": {},
     "output_type": "execute_result"
    }
   ],
   "source": [
    "getmonths(8,24)"
   ]
  },
  {
   "cell_type": "code",
   "execution_count": 59,
   "metadata": {},
   "outputs": [
    {
     "name": "stdout",
     "output_type": "stream",
     "text": [
      "0215474659137464410471499834858745803612151156151360157238014282020311010475845168230807584042687111\n"
     ]
    }
   ],
   "source": [
    "from random import randint\n",
    "a = ''.join([str(randint(0,9)) for i in range(100)])\n",
    "print(a)"
   ]
  },
  {
   "cell_type": "code",
   "execution_count": 60,
   "metadata": {},
   "outputs": [
    {
     "data": {
      "text/plain": [
       "215474659137464410471499834858745803612151156151360157238014282020311010475845168230807584042687111"
      ]
     },
     "execution_count": 60,
     "metadata": {},
     "output_type": "execute_result"
    }
   ],
   "source": [
    "int(a)\n"
   ]
  },
  {
   "cell_type": "code",
   "execution_count": 2,
   "metadata": {},
   "outputs": [
    {
     "name": "stdout",
     "output_type": "stream",
     "text": [
      "56\n",
      "17\n",
      "54\n"
     ]
    }
   ],
   "source": [
    "from random import randint\n",
    "\n",
    "for i in range(3):\n",
    "    print(randint(1,60))"
   ]
  },
  {
   "cell_type": "code",
   "execution_count": 25,
   "metadata": {},
   "outputs": [
    {
     "name": "stdout",
     "output_type": "stream",
     "text": [
      "-99.9+9.999\n"
     ]
    },
    {
     "data": {
      "text/plain": [
       "-89.90100000000001"
      ]
     },
     "execution_count": 25,
     "metadata": {},
     "output_type": "execute_result"
    }
   ],
   "source": [
    "def add1(a, b):\n",
    "    x = a + '+' + b\n",
    "    print(x)\n",
    "    return eval(x)\n",
    "\n",
    "add1('-99.9', '9.999')\n"
   ]
  },
  {
   "cell_type": "code",
   "execution_count": null,
   "metadata": {},
   "outputs": [
    {
     "name": "stdout",
     "output_type": "stream",
     "text": [
      "754879473945864965943649386455999+1990958403764073640376403409752476\n",
      "2745837877709938606320052796208475\n",
      "2745837877709938606320052796208475\n"
     ]
    }
   ],
   "source": [
    "num = {str(i): i for i in range(10)}\n",
    "\n",
    "def add2(a, b):\n",
    "    if len(a) > len(b):\n",
    "        diff = len(a) - len(b)\n",
    "        b = '0' * diff + b\n",
    "    else:\n",
    "        diff = len(b) - len(a) \n",
    "        a = '0' * diff + a\n",
    "    a, b = a[::-1], b[::-1]\n",
    "    sum = ''\n",
    "    c = '0'\n",
    "    for i in range(len(a)):\n",
    "        s = num[a[i]] + num[b[i]] + num[c]\n",
    "        sum += str(s % 10)\n",
    "        c =  str(s // 10)\n",
    "    \n",
    "    if num[c] > 0:\n",
    "        sum += '1'\n",
    "    return sum[::-1]\n",
    "\n",
    "a = '754879473945864965943649386455999'\n",
    "b = '1990958403764073640376403409752476'\n",
    "print(add1(a, b))\n",
    "print(add2(a, b))"
   ]
  },
  {
   "cell_type": "code",
   "execution_count": 29,
   "metadata": {},
   "outputs": [
    {
     "data": {
      "text/plain": [
       "0.6666666666666666"
      ]
     },
     "execution_count": 29,
     "metadata": {},
     "output_type": "execute_result"
    }
   ],
   "source": [
    "2/3"
   ]
  },
  {
   "cell_type": "markdown",
   "metadata": {},
   "source": [
    "biblioteka\n",
    "parkovka\n",
    "kinoteatr\n",
    "optima\n",
    "aviabilety\n",
    "magazin\n",
    "barbershop"
   ]
  },
  {
   "cell_type": "code",
   "execution_count": 1,
   "metadata": {},
   "outputs": [],
   "source": [
    "from optima import Optima\n",
    "bank = Optima()"
   ]
  },
  {
   "cell_type": "code",
   "execution_count": 2,
   "metadata": {},
   "outputs": [
    {
     "name": "stdout",
     "output_type": "stream",
     "text": [
      "1111: Emil : 0\n",
      "2222: Atai : 0\n",
      "3333: Ulan : 0\n"
     ]
    }
   ],
   "source": [
    "bank.addNewClient('Emil', 1111)\n",
    "bank.addNewClient('Atai', 2222)\n",
    "bank.addNewClient('Ulan', 3333)\n",
    "print(bank.getClients())"
   ]
  },
  {
   "cell_type": "code",
   "execution_count": 3,
   "metadata": {},
   "outputs": [
    {
     "name": "stdout",
     "output_type": "stream",
     "text": [
      "1111: Emil : 0\n",
      "2222: Atai : 0\n",
      "3333: Ulan : 5000\n"
     ]
    }
   ],
   "source": [
    "bank.addBalance(3333, 5000)\n",
    "print(bank.getClients())"
   ]
  },
  {
   "cell_type": "code",
   "execution_count": 4,
   "metadata": {},
   "outputs": [
    {
     "name": "stdout",
     "output_type": "stream",
     "text": [
      "1111: Emil : 10000\n",
      "2222: Atai : 0\n",
      "3333: Ulan : 5000\n"
     ]
    }
   ],
   "source": [
    "bank.addBalance(1111, 10000)\n",
    "print(bank.getClients())"
   ]
  },
  {
   "cell_type": "code",
   "execution_count": 5,
   "metadata": {},
   "outputs": [
    {
     "name": "stdout",
     "output_type": "stream",
     "text": [
      "Added new client Emil, 1111\n",
      "Added new client Atai, 2222\n",
      "Added new client Ulan, 3333\n",
      "Added balance to Ulan amount of 5000\n",
      "Added balance to Emil amount of 10000\n"
     ]
    }
   ],
   "source": [
    "print(bank.getHistory())"
   ]
  },
  {
   "cell_type": "code",
   "execution_count": 6,
   "metadata": {},
   "outputs": [],
   "source": [
    "bank.transfer(1111, 2222, 5000)"
   ]
  },
  {
   "cell_type": "code",
   "execution_count": 7,
   "metadata": {},
   "outputs": [
    {
     "name": "stdout",
     "output_type": "stream",
     "text": [
      "Added new client Emil, 1111\n",
      "Added new client Atai, 2222\n",
      "Added new client Ulan, 3333\n",
      "Added balance to Ulan amount of 5000\n",
      "Added balance to Emil amount of 10000\n",
      "Transfer Emil to Atai amount of 5000\n"
     ]
    }
   ],
   "source": [
    "print(bank.getHistory())"
   ]
  },
  {
   "cell_type": "code",
   "execution_count": 8,
   "metadata": {},
   "outputs": [
    {
     "data": {
      "text/plain": [
       "5.0"
      ]
     },
     "execution_count": 8,
     "metadata": {},
     "output_type": "execute_result"
    }
   ],
   "source": [
    "bank.getPribl()"
   ]
  },
  {
   "cell_type": "code",
   "execution_count": 9,
   "metadata": {},
   "outputs": [
    {
     "name": "stdout",
     "output_type": "stream",
     "text": [
      "1111: Emil : 4995.0\n",
      "2222: Atai : 5000\n",
      "3333: Ulan : 5000\n"
     ]
    }
   ],
   "source": [
    "print(bank.getClients())"
   ]
  },
  {
   "cell_type": "code",
   "execution_count": 10,
   "metadata": {},
   "outputs": [
    {
     "name": "stdout",
     "output_type": "stream",
     "text": [
      "15000\n"
     ]
    }
   ],
   "source": [
    "print(bank.obshiyBalansBanka())"
   ]
  },
  {
   "cell_type": "markdown",
   "metadata": {},
   "source": [
    "bank.clients[1111].setAge(40)"
   ]
  },
  {
   "cell_type": "code",
   "execution_count": 13,
   "metadata": {},
   "outputs": [],
   "source": [
    "bank.clients[1111].setAge(40)"
   ]
  },
  {
   "cell_type": "code",
   "execution_count": 17,
   "metadata": {},
   "outputs": [
    {
     "data": {
      "text/plain": [
       "40"
      ]
     },
     "execution_count": 17,
     "metadata": {},
     "output_type": "execute_result"
    }
   ],
   "source": [
    "client = bank.clients[1111]\n",
    "client.getAge()"
   ]
  },
  {
   "cell_type": "code",
   "execution_count": 11,
   "metadata": {},
   "outputs": [],
   "source": [
    "bank.transfer(2222, 1111, 4000)"
   ]
  },
  {
   "cell_type": "code",
   "execution_count": 12,
   "metadata": {},
   "outputs": [
    {
     "data": {
      "text/plain": [
       "15000"
      ]
     },
     "execution_count": 12,
     "metadata": {},
     "output_type": "execute_result"
    }
   ],
   "source": [
    "bank.obshiyBalansBanka()"
   ]
  },
  {
   "cell_type": "code",
   "execution_count": 13,
   "metadata": {},
   "outputs": [
    {
     "data": {
      "text/plain": [
       "9.0"
      ]
     },
     "execution_count": 13,
     "metadata": {},
     "output_type": "execute_result"
    }
   ],
   "source": [
    "bank.getPribl()"
   ]
  },
  {
   "cell_type": "code",
   "execution_count": 15,
   "metadata": {},
   "outputs": [
    {
     "name": "stdout",
     "output_type": "stream",
     "text": [
      "1111: Emil : 8995.0\n",
      "2222: Atai : 996.0\n",
      "3333: Ulan : 5000\n"
     ]
    }
   ],
   "source": [
    "print(bank.getClients())"
   ]
  },
  {
   "cell_type": "code",
   "execution_count": 17,
   "metadata": {},
   "outputs": [
    {
     "name": "stdout",
     "output_type": "stream",
     "text": [
      "optima\n",
      "0\n",
      "\n"
     ]
    }
   ],
   "source": [
    "from random import randint\n",
    "arr = ['biblioteka', \n",
    "'parkovka',\n",
    "'kinoteatr',\n",
    "'optima',\n",
    "'aviabilety',\n",
    "'magazin',\n",
    "'barbershop']\n",
    "\n",
    "print(arr[randint(0, len(arr)-1)])\n",
    "\n",
    "N = randint(0, 5)\n",
    "print(N)\n",
    "print()\n",
    "for i in range(N):\n",
    "    print(randint(0, 62))\n"
   ]
  },
  {
   "cell_type": "code",
   "execution_count": null,
   "metadata": {},
   "outputs": [],
   "source": [
    "arr = [0, 100]\n",
    "print(arr[randint(0,1)])"
   ]
  },
  {
   "cell_type": "code",
   "execution_count": 13,
   "metadata": {},
   "outputs": [
    {
     "name": "stdout",
     "output_type": "stream",
     "text": [
      "46131\n",
      "22131\n",
      "48\n"
     ]
    }
   ],
   "source": [
    "from parkovka import Parkovka\n",
    "parking = Parkovka(50, 200)\n",
    "parking.addCar('01kg901ghi', '10-11-2024')\n",
    "parking.addCar('02kg085hfc', '15-11-2024')\n",
    "print(parking.getTotalCost('01kg901ghi'))\n",
    "print(parking.getTotalCost('02kg085hfc'))\n",
    "print(parking.getAvailableParkingCount())"
   ]
  },
  {
   "cell_type": "code",
   "execution_count": 12,
   "metadata": {},
   "outputs": [
    {
     "name": "stdout",
     "output_type": "stream",
     "text": [
      "[(1731175200, 1732005557.879285, '01kg901ghi', 46113)]\n",
      "[(1731175200, 1732005557.879285, '01kg901ghi', 46113), (1731607200, 1732005557.880725, '02kg085hfc', 22130)]\n",
      "200\n"
     ]
    },
    {
     "data": {
      "text/plain": [
       "50"
      ]
     },
     "execution_count": 12,
     "metadata": {},
     "output_type": "execute_result"
    }
   ],
   "source": [
    "\n",
    "parking.removeCar('01kg901ghi', 46113)\n",
    "print(parking.getHistory_parking('01-01-2024', '01-01-2025'))\n",
    "\n",
    "parking.addBalance('02kg085hfc', 10000)\n",
    "parking.removeCar('02kg085hfc')\n",
    "# parking.history_id(id, start_date, end_date)\n",
    "# parking.history_parking(start_date, end_date)\n",
    "print(parking.getHistory_parking('01-01-2024', '01-01-2025'))\n",
    "print(parking.getCostPerHour())\n",
    "parking.getAverage()\n",
    "# parking.getCarsCount()\n",
    "parking.getAvailableParkingCount()\n"
   ]
  },
  {
   "cell_type": "code",
   "execution_count": 19,
   "metadata": {},
   "outputs": [],
   "source": [
    "def f(a, b):\n",
    "    return a + b\n",
    "\n",
    "def f(a, b, c):\n",
    "    return a + b + c\n"
   ]
  },
  {
   "cell_type": "code",
   "execution_count": 21,
   "metadata": {},
   "outputs": [],
   "source": [
    "arr = [1, 2, 3, 6, 9, 22, 45, 77, 89, 123, 345, 2346]"
   ]
  },
  {
   "cell_type": "code",
   "execution_count": 23,
   "metadata": {},
   "outputs": [],
   "source": [
    "import bisect\n",
    "def getRange(start, end):\n",
    "    start_index =bisect.bisect_left(arr, start)\n",
    "    end_index = bisect.bisect_left(arr, end)\n",
    "    return arr[start_index:end_index]"
   ]
  },
  {
   "cell_type": "code",
   "execution_count": 24,
   "metadata": {},
   "outputs": [
    {
     "name": "stdout",
     "output_type": "stream",
     "text": [
      "[9, 22, 45, 77]\n"
     ]
    }
   ],
   "source": [
    "print(getRange(8, 80))"
   ]
  },
  {
   "cell_type": "code",
   "execution_count": 26,
   "metadata": {},
   "outputs": [],
   "source": [
    "from time import time"
   ]
  },
  {
   "cell_type": "code",
   "execution_count": 27,
   "metadata": {},
   "outputs": [
    {
     "name": "stdout",
     "output_type": "stream",
     "text": [
      "1731928932.8778536\n"
     ]
    }
   ],
   "source": [
    "print(time())"
   ]
  },
  {
   "cell_type": "code",
   "execution_count": 5,
   "metadata": {},
   "outputs": [
    {
     "name": "stdout",
     "output_type": "stream",
     "text": [
      "1731952800\n",
      "1732004908.598435\n"
     ]
    }
   ],
   "source": [
    "from time import time\n",
    "from parkovka import Parkovka\n",
    "parking = Parkovka(50)\n",
    "print(parking.getTimestamp('19-11-2024'))\n",
    "print(time())"
   ]
  },
  {
   "cell_type": "code",
   "execution_count": 6,
   "metadata": {},
   "outputs": [
    {
     "name": "stdout",
     "output_type": "stream",
     "text": [
      "Total time:  1.015930414199829\n"
     ]
    }
   ],
   "source": [
    "def add(a, b):\n",
    "    #print(f'first value is {a}, second value is  {b}')\n",
    "    return a + b\n",
    "\n",
    "from time import time\n",
    "from random import randint\n",
    "start = time()\n",
    "for i in range(1000000):\n",
    "    a, b = randint(0, 1000), randint(0, 1000)\n",
    "    add(a, b)\n",
    "end = time()\n",
    "print('Total time: ', end - start)"
   ]
  },
  {
   "cell_type": "code",
   "execution_count": 2,
   "metadata": {},
   "outputs": [],
   "source": [
    "class Student:\n",
    "    def __init__(self, dob, name):\n",
    "        self.name = name\n",
    "        self.dob = dob\n",
    "\n",
    "\n",
    "arr = [Student('12-12-2000', 'Kutman'), \n",
    "       Student('28-08-2001', 'Aziz'),\n",
    "       Student('20-05-1998', 'Atai'),\n",
    "       Student('28-12-1999', 'Tolon'),\n",
    "       Student('01-08-1995', 'Salma')]\n"
   ]
  },
  {
   "cell_type": "code",
   "execution_count": null,
   "metadata": {},
   "outputs": [],
   "source": [
    "def reverseDob(daniel):\n",
    "    dob = daniel.dob\n",
    "    return dob[6:]+dob[3:5]+dob[:2]\n",
    "\n",
    "def youngest(arr):\n",
    "    return max(arr, key=reverseDob).name\n",
    "\n",
    "def oldest(arr):\n",
    "    return min(arr, key=reverseDob).name"
   ]
  },
  {
   "cell_type": "code",
   "execution_count": 11,
   "metadata": {},
   "outputs": [
    {
     "name": "stdout",
     "output_type": "stream",
     "text": [
      "Oldest Salma\n",
      "Youngest Aziz\n"
     ]
    }
   ],
   "source": [
    "print('Oldest', oldest(arr))\n",
    "print('Youngest', youngest(arr))"
   ]
  },
  {
   "cell_type": "code",
   "execution_count": 17,
   "metadata": {},
   "outputs": [],
   "source": [
    "def avg(arr):\n",
    "    cy, cm, cd = 2024, 11, 25\n",
    "    arr1 = []\n",
    "    for student in arr:\n",
    "        dob_d, dob_m, dob_y = map(int, student.dob.split(\"-\"))\n",
    "        age = cy - dob_y\n",
    "        if (cm, cd) < (dob_m, dob_d):\n",
    "            age -= 1\n",
    "        arr1.append(age)\n",
    "        print(student.name, student.dob, age)\n",
    "    return sum(arr1) / len(arr1)\n",
    "\n"
   ]
  },
  {
   "cell_type": "code",
   "execution_count": 18,
   "metadata": {},
   "outputs": [
    {
     "name": "stdout",
     "output_type": "stream",
     "text": [
      "Kutman 12-12-2000 23\n",
      "Aziz 28-08-2001 23\n",
      "Atai 20-05-1998 26\n",
      "Tolon 28-12-1999 24\n",
      "Salma 01-08-1995 29\n",
      "avg 25.0\n"
     ]
    }
   ],
   "source": [
    "print('avg', avg(arr))"
   ]
  },
  {
   "cell_type": "code",
   "execution_count": null,
   "metadata": {},
   "outputs": [],
   "source": [
    "class Cinema:\n",
    "    def __init__(self, price):\n",
    "        self.price = price\n",
    "\n",
    "    def add_movie(self, name, schedule, quantity):\n",
    "        pass\n",
    "\n",
    "    def remove_movie(self, name):\n",
    "        pass\n",
    "\n",
    "    def update_schedule(self, name, new_schedule):\n",
    "        pass\n",
    "\n",
    "    def book_ticket(self, name, date):\n",
    "        pass\n",
    "\n",
    "    def refund_ticket(self, booking_id):\n",
    "        pass\n",
    "\n",
    "    def earnings(self, name):\n",
    "        pass\n"
   ]
  },
  {
   "cell_type": "code",
   "execution_count": 20,
   "metadata": {},
   "outputs": [],
   "source": [
    "class Client:\n",
    "    pass\n",
    "\n",
    "class Room:\n",
    "    pass\n",
    "\n",
    "\n",
    "class Hotel:\n",
    "    def __init__(self):\n",
    "        pass\n",
    "\n",
    "    def book(self, client, room_id):\n",
    "        pass\n",
    "\n",
    "    def cancel(self, client):\n",
    "        pass\n",
    "\n",
    "    def available_rooms(self):\n",
    "        pass\n",
    "\n",
    "    def profit(self):\n",
    "        pass\n",
    "\n",
    "    def history(self):\n",
    "        pass\n",
    "\n",
    "    def add_room(self, room):\n",
    "        pass\n",
    "\n",
    "    def remove_room(self, room):\n",
    "        pass\n",
    "    \n",
    "\n"
   ]
  },
  {
   "cell_type": "code",
   "execution_count": null,
   "metadata": {},
   "outputs": [],
   "source": [
    "class Flight:\n",
    "    def __init__(self, date, origin, destination):\n",
    "        pass\n",
    "\n",
    "class Passenger:\n",
    "    def __init__(self):\n",
    "        pass\n",
    "\n",
    "class Aviasales:\n",
    "    def __init__(self):\n",
    "        pass\n",
    "\n",
    "    def add_flight(self, flight):\n",
    "        pass\n",
    "    \n",
    "    def remove_flight(self, flight):\n",
    "        pass\n",
    "\n",
    "    def book_flight(self, passenger, flight):\n",
    "        pass\n",
    "\n",
    "    def cancel_booking(self, passenger, flight):\n",
    "        pass\n",
    "\n",
    "    def change_flight(self, flight, new_flight):\n",
    "        pass\n",
    "    \n",
    "    def get_flight_schedule(self, range):\n",
    "        pass\n",
    "\n",
    "    def get_available_seats(self, flight):\n",
    "        pass"
   ]
  },
  {
   "cell_type": "code",
   "execution_count": 23,
   "metadata": {},
   "outputs": [],
   "source": [
    "class Student:\n",
    "    pass\n",
    "\n",
    "class Sabak:\n",
    "    pass\n",
    "\n",
    "class Ebilim:\n",
    "    def __init__(self):\n",
    "        pass\n",
    "\n",
    "    def add_student(self, student):\n",
    "        pass\n",
    "\n",
    "    def remove_student(self, student):\n",
    "        pass\n",
    "\n",
    "    def add_grade(self, student, sabak, grade):\n",
    "        pass\n",
    "    \n",
    "    def update_grade(self, student, sabak, grade):\n",
    "        pass\n",
    "\n",
    "    def add_class(self, sabak):\n",
    "        pass\n",
    "\n",
    "    def remove_class(self, sabak):\n",
    "        pass\n",
    "    \n",
    "    def register_to_class(self, student, sabak):\n",
    "        pass\n",
    "\n",
    "    def unregister_from_class(self, student, sabak):\n",
    "        pass"
   ]
  },
  {
   "cell_type": "code",
   "execution_count": 24,
   "metadata": {},
   "outputs": [
    {
     "data": {
      "text/plain": [
       "[49, 61, 36, 31]"
      ]
     },
     "execution_count": 24,
     "metadata": {},
     "output_type": "execute_result"
    }
   ],
   "source": [
    "from random import shuffle\n",
    "arr = list(range(1,63))\n",
    "shuffle(arr)\n",
    "arr[:4]"
   ]
  },
  {
   "cell_type": "code",
   "execution_count": null,
   "metadata": {},
   "outputs": [],
   "source": [
    "'''Movie Class\n",
    "get_available_seats\n",
    "book_seat\n",
    "\n",
    "Client Class\n",
    "book_ticket\n",
    "get_booked_movies\n",
    "\n",
    "Cinema Class\n",
    "add_movie ## movies.append( (movie, schedule) )\n",
    "remove_movie ## 1. find, 2. remove\n",
    "list_movies ## \n",
    "book_ticket ## book_id =  \n",
    "cancel_ticket ## remove by book_id\n",
    "get_seating_plan \n",
    "get_total_cost\n",
    "get_total_profit\n",
    "get_customers_who_watched_multiple_films'''\n",
    "\n"
   ]
  },
  {
   "cell_type": "code",
   "execution_count": 8,
   "metadata": {},
   "outputs": [
    {
     "name": "stdout",
     "output_type": "stream",
     "text": [
      "['Gulnur', 'Atai']\n",
      "['Atai']\n"
     ]
    },
    {
     "data": {
      "text/plain": [
       "'Atai\\nGulnur'"
      ]
     },
     "execution_count": 8,
     "metadata": {},
     "output_type": "execute_result"
    }
   ],
   "source": [
    "from cinema import Movie, Client, Cinema\n",
    "\n",
    "m1 = Movie(\"Chaplin\", \"20241125\")\n",
    "m2 = Movie(\"Chaplin\", \"20241126\")\n",
    "m3 = Movie(\"Gladiator 2\", \"20241125\")\n",
    "\n",
    "c1 = Client(\"Gulnur\")\n",
    "c2 = Client(\"Atai\")\n",
    "c3 = Client(\"Bars\")\n",
    "\n",
    "cinema = Cinema()\n",
    "cinema.add_movie(m1)\n",
    "cinema.add_movie(m2)\n",
    "cinema.add_movie(m3)\n",
    "\n",
    "b1 = cinema.book_ticket(m1, c1)\n",
    "b2 = cinema.book_ticket(m2, c1)\n",
    "b3 = cinema.book_ticket(m1, c2)\n",
    "b4 = cinema.book_ticket(m3, c2)\n",
    "\n",
    "print([c.name for c in m1.clients])\n",
    "cinema.cancel_ticket(b1)\n",
    "print([c.name for c in m1.clients])\n",
    "cinema.book_ticket(m1, c1)\n",
    "cinema.get_total_cost(m1)\n",
    "\n",
    "cinema.get_customers_who_watched_multiple_films()\n",
    "\n",
    "\n",
    "\n"
   ]
  },
  {
   "cell_type": "markdown",
   "metadata": {},
   "source": []
  },
  {
   "cell_type": "code",
   "execution_count": 3,
   "metadata": {},
   "outputs": [
    {
     "name": "stdout",
     "output_type": "stream",
     "text": [
      "Chaplin 20241125 50\n",
      "Chaplin 20241126 50\n",
      "Gladiator 2 20241125 50\n"
     ]
    }
   ],
   "source": [
    "for i in movies:\n",
    "    print(i.name, i.schedule, i.getavailabe_seats())"
   ]
  },
  {
   "cell_type": "code",
   "execution_count": null,
   "metadata": {},
   "outputs": [],
   "source": []
  }
 ],
 "metadata": {
  "kernelspec": {
   "display_name": "Python 3",
   "language": "python",
   "name": "python3"
  },
  "language_info": {
   "codemirror_mode": {
    "name": "ipython",
    "version": 3
   },
   "file_extension": ".py",
   "mimetype": "text/x-python",
   "name": "python",
   "nbconvert_exporter": "python",
   "pygments_lexer": "ipython3",
   "version": "3.11.9"
  }
 },
 "nbformat": 4,
 "nbformat_minor": 4
}
