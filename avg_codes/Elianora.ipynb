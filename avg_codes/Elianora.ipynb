{
 "cells": [
  {
   "cell_type": "code",
   "execution_count": null,
   "metadata": {},
   "outputs": [],
   "source": [
    "import csv\n",
    "\n",
    "def calculate_average_and_top_students(file_path):\n",
    "    students = []\n",
    "    \n",
    "    with open(file_path, mode='r') as file:\n",
    "        reader = csv.reader(file)\n",
    "        header = next(reader)\n",
    "        \n",
    "        names_index = len(header) // 2  # Индекс имен\n",
    "        midterm_index = header.index('midterm') if 'midterm' in header else None  # Индекс midterm\n",
    "        \n",
    "        for row in reader:\n",
    "            if row:\n",
    "                name = row[names_index]\n",
    "                scores = []\n",
    "                \n",
    "                for i, score in enumerate(row):\n",
    "                    if i != names_index and (midterm_index is None or i != midterm_index):\n",
    "                        if score.lower() == 'absent':\n",
    "                            scores.append(0)\n",
    "                        else:\n",
    "                            scores.append(float(score))\n",
    "                \n",
    "                if scores:  # Если есть оценки для расчета среднего\n",
    "                    average = sum(scores) / len(scores)\n",
    "                    students.append((name, average))\n",
    "\n",
    "    top_students = sorted(students, key=lambda x: x[1], reverse=True)[:7]\n",
    "\n",
    "    return top_students\n",
    "\n",
    "file_path = 'exam_final.csv'\n",
    "top_students = calculate_average_and_top_students(file_path)\n",
    "\n",
    "if top_students:\n",
    "    print(\"Топ 7 лучших студентов:\")\n",
    "    for student, average in top_students:\n",
    "        print(f\"{student}: {average:.2f}\")\n",
    "else:\n",
    "    print(\"Файл пустой или не содержит данных.\")"
   ]
  }
 ],
 "metadata": {
  "language_info": {
   "name": "python"
  }
 },
 "nbformat": 4,
 "nbformat_minor": 2
}
